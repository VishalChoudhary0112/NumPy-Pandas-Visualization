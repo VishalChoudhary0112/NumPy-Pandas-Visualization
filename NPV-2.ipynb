{
 "cells": [
  {
   "cell_type": "markdown",
   "metadata": {
    "id": "0GPW4NHh2g8E"
   },
   "source": [
    "## Table of Content\n",
    "\n",
    "1. **[Pandas](#pandas)**\n",
    "\n",
    "2. **[Data Structures](#structures)**\n",
    "    \n",
    "3. **[Pandas Series](#series)**\n",
    "    - 3.1 - [Creating a Series](#creatingS)\n",
    "    - 3.2 - [Manipulating Series](#manipulatingS)\n",
    "\n",
    "4. **[Pandas DataFrames](#dataframes)**\n",
    "    - 4.1 - [Creating DataFrames](#creatingDF)\n",
    "    - 4.2 - [Manipulating DataFrames](#manipulatingDF)\n",
    "\n",
    "5. **[Reading Data from Different Sources](#reading_data)**\n"
   ]
  },
  {
   "cell_type": "markdown",
   "metadata": {
    "id": "m3phBETY2g8F"
   },
   "source": [
    "<a id=\"pandas\"> </a>\n",
    "# 1. Pandas"
   ]
  },
  {
   "cell_type": "markdown",
   "metadata": {
    "id": "MG5NNZEB2g8G"
   },
   "source": [
    "Pandas contain data structures and data manipulation tools designed for data cleaning and analysis.\n",
    "<br><br>\n",
    "                        While pandas adopt much code from NumPy, the difference is that Pandas is designed for tabular, heterogeneous data. NumPy, by difference, is best suited for working with homogeneous numerical array data.<br><br>\n",
    "                         The name Pandas is derived from the term 'panel data' (an econometrics term for multidimensional structured data sets).\n",
    "                "
   ]
  },
  {
   "cell_type": "markdown",
   "metadata": {
    "id": "lg3hWAk12g8G"
   },
   "source": [
    "**How to install pandas?**<br>\n",
    "1. You can use-<br>\n",
    "`!pip install pandas`<br>\n",
    "2. You can import it as 'pd'<br>\n",
    "import pandas as pd"
   ]
  },
  {
   "cell_type": "markdown",
   "metadata": {
    "id": "lcXpY0Jo2g8G"
   },
   "source": [
    " Import the pandas library; the following convention is used"
   ]
  },
  {
   "cell_type": "code",
   "execution_count": 2,
   "metadata": {
    "id": "bFA0hDZU2g8H"
   },
   "outputs": [],
   "source": [
    "import pandas as pd\n",
    "import numpy as np"
   ]
  },
  {
   "cell_type": "markdown",
   "metadata": {
    "id": "LFY5kU-O2g8I"
   },
   "source": [
    "So from now on, we will use `pd` instead of pandas. "
   ]
  },
  {
   "cell_type": "markdown",
   "metadata": {
    "id": "7N1hFr0S2g8I"
   },
   "source": [
    "<a id=\"structures\"> </a>\n",
    "# 2. Data Structures"
   ]
  },
  {
   "cell_type": "markdown",
   "metadata": {
    "id": "8L1s5p4n2g8J"
   },
   "source": [
    "Pandas has two data structures as follows:<br>\n",
    "1. A Series is a 1-dimensional labelled array that can hold data of any type (such as integer, string, boolean, float, python objects). Its axis labels are collectively called an index.<br>\n",
    "2. A DataFrame is a 2-dimensional labelled data structure with columns. It supports multiple data types."
   ]
  },
  {
   "cell_type": "markdown",
   "metadata": {
    "id": "EG8D4-Dl2g8K"
   },
   "source": [
    "<a id=\"series\"> </a>\n",
    "# 3. Pandas Series"
   ]
  },
  {
   "cell_type": "markdown",
   "metadata": {
    "id": "wZ_T24cL2g8L"
   },
   "source": [
    "Pandas Series is a one-dimensional labelled array capable of holding any data type. However, a series is a sequence of similar data types, similar to an array, list, or column in a table. <br><Br>It will assign a labelled index to each item in the pd.Series. By default, each item will receive an index label from 0 to N, where N is the length of the Series minus one."
   ]
  },
  {
   "cell_type": "markdown",
   "metadata": {
    "id": "vFJb41Yi2g8M"
   },
   "source": [
    "<a id=\"creatingS\"> </a>\n",
    "## 3.1 Creating a Series"
   ]
  },
  {
   "cell_type": "markdown",
   "metadata": {
    "id": "HLXSiOjp2g8M"
   },
   "source": [
    "**1. To create a numeric series** "
   ]
  },
  {
   "cell_type": "code",
   "execution_count": 4,
   "metadata": {
    "id": "ZQ12ih4C2g8M",
    "outputId": "2f7eb0b8-e9b9-435b-b3e1-eb186b60f3ad"
   },
   "outputs": [
    {
     "data": {
      "text/plain": [
       "0      1\n",
       "1      6\n",
       "2     11\n",
       "3     16\n",
       "4     21\n",
       "5     26\n",
       "6     31\n",
       "7     36\n",
       "8     41\n",
       "9     46\n",
       "10    51\n",
       "11    56\n",
       "12    61\n",
       "13    66\n",
       "14    71\n",
       "15    76\n",
       "16    81\n",
       "17    86\n",
       "18    91\n",
       "19    96\n",
       "dtype: int64"
      ]
     },
     "execution_count": 4,
     "metadata": {},
     "output_type": "execute_result"
    }
   ],
   "source": [
    "# create a numeric series\n",
    "numbers = range(1,100,5)\n",
    "\n",
    "# covert it to series\n",
    "pd.Series(numbers)"
   ]
  },
  {
   "cell_type": "markdown",
   "metadata": {
    "id": "m1C_PGW52g8N"
   },
   "source": [
    "The output also gives the data type of the series as `int64`\n",
    "\n",
    "Furthermore,  note that by default, each item will receive an index label from 0 to N, where N is the length of the Series minus one."
   ]
  },
  {
   "cell_type": "markdown",
   "metadata": {
    "id": "ZkSKzV5c2g8N"
   },
   "source": [
    "<b>In python, the row names are called index.</b>"
   ]
  },
  {
   "cell_type": "markdown",
   "metadata": {
    "id": "_w3i62so2g8O"
   },
   "source": [
    "**2. To create an object series** "
   ]
  },
  {
   "cell_type": "code",
   "execution_count": 3,
   "metadata": {
    "id": "gf0BhjJD2g8O",
    "outputId": "84b3df83-2244-4293-8064-b0029e35eb89"
   },
   "outputs": [
    {
     "data": {
      "text/plain": [
       "0     Hi\n",
       "1    How\n",
       "2    are\n",
       "3    you\n",
       "4      ?\n",
       "dtype: object"
      ]
     },
     "execution_count": 3,
     "metadata": {},
     "output_type": "execute_result"
    }
   ],
   "source": [
    "# create an object series\n",
    "string = \"Hi\" , \"How\" ,\"are\", \"you\", \"?\"\n",
    "\n",
    "\n",
    "# create a series from the above list\n",
    "pd.Series(string)"
   ]
  },
  {
   "cell_type": "markdown",
   "metadata": {
    "id": "6qEs4jPU2g8O"
   },
   "source": [
    "The output gives the data type of the series as `object`"
   ]
  },
  {
   "cell_type": "markdown",
   "metadata": {
    "id": "cMGh3ppr2g8O"
   },
   "source": [
    "**3. To create a series by giving both numeric and string values** "
   ]
  },
  {
   "cell_type": "code",
   "execution_count": 4,
   "metadata": {
    "id": "FZOyTmag2g8P",
    "outputId": "b83847b8-72e5-4551-d81f-545d16fff027"
   },
   "outputs": [
    {
     "data": {
      "text/plain": [
       "0               345\n",
       "1            London\n",
       "2              34.5\n",
       "3            -34.45\n",
       "4    Happy Birthday\n",
       "dtype: object"
      ]
     },
     "execution_count": 4,
     "metadata": {},
     "output_type": "execute_result"
    }
   ],
   "source": [
    "# create a Series with an arbitrary list\n",
    "pd.Series([345, 'London', 34.5, -34.45, 'Happy Birthday'])"
   ]
  },
  {
   "cell_type": "markdown",
   "metadata": {
    "id": "Ya3vokmX2g8P"
   },
   "source": [
    "Here the numeric values are treated as object."
   ]
  },
  {
   "cell_type": "markdown",
   "metadata": {
    "id": "R7QxvQxv2g8P"
   },
   "source": [
    "**4. To set index values for a series**"
   ]
  },
  {
   "cell_type": "code",
   "execution_count": 5,
   "metadata": {
    "id": "Db8mWigD2g8P",
    "outputId": "1ebb3245-a4c1-4c28-a731-dddd276bb873"
   },
   "outputs": [
    {
     "data": {
      "text/plain": [
       "Maths             60\n",
       "Science           89\n",
       "English           74\n",
       "Social Science    86\n",
       "dtype: int64"
      ]
     },
     "execution_count": 5,
     "metadata": {},
     "output_type": "execute_result"
    }
   ],
   "source": [
    "# declare a list of marks\n",
    "marks = [60, 89, 74, 86]\n",
    "\n",
    "# declare a list of subjects\n",
    "subject = [\"Maths\", \"Science\", \"English\" , \"Social Science\"]\n",
    "\n",
    "# create a series from the above list of marks with subjects as its index names\n",
    "# index: adds the index \n",
    "marks_series = pd.Series(marks, index = subject) \n",
    "marks_series"
   ]
  },
  {
   "cell_type": "markdown",
   "metadata": {
    "id": "2fqVWmDO2g8P"
   },
   "source": [
    "The index is added using the argument `index=`. The data type of the series continues to be numeric."
   ]
  },
  {
   "cell_type": "markdown",
   "metadata": {
    "id": "XzunGJT12g8P"
   },
   "source": [
    "**5. To print the values and index of the Series**"
   ]
  },
  {
   "cell_type": "code",
   "execution_count": 6,
   "metadata": {
    "id": "GRL83kJB2g8Q",
    "outputId": "648dc50a-c8b9-49fc-b123-4a0bd3910354"
   },
   "outputs": [
    {
     "data": {
      "text/plain": [
       "Index(['Maths', 'Science', 'English', 'Social Science'], dtype='object')"
      ]
     },
     "execution_count": 6,
     "metadata": {},
     "output_type": "execute_result"
    }
   ],
   "source": [
    "# print the index of the series\n",
    "marks_series.index"
   ]
  },
  {
   "cell_type": "code",
   "execution_count": 7,
   "metadata": {
    "id": "4cmgRKV-2g8Q",
    "outputId": "4e9873b2-be13-44f7-c3b7-bdac76cacf64"
   },
   "outputs": [
    {
     "data": {
      "text/plain": [
       "array([60, 89, 74, 86])"
      ]
     },
     "execution_count": 7,
     "metadata": {},
     "output_type": "execute_result"
    }
   ],
   "source": [
    "# prints the values of the series\n",
    "marks_series.values"
   ]
  },
  {
   "cell_type": "markdown",
   "metadata": {
    "id": "EprBCAzz2g8Q"
   },
   "source": [
    "**6. To create a series from a dictionary**"
   ]
  },
  {
   "cell_type": "code",
   "execution_count": 8,
   "metadata": {
    "id": "4XJ7SNSP2g8Q",
    "outputId": "cac9c237-b2ad-43f4-e25e-f5c21e5b796a"
   },
   "outputs": [
    {
     "data": {
      "text/plain": [
       "Maths             60\n",
       "Science           89\n",
       "English           76\n",
       "Social Science    86\n",
       "dtype: int64"
      ]
     },
     "execution_count": 8,
     "metadata": {},
     "output_type": "execute_result"
    }
   ],
   "source": [
    "# declare a dictionary\n",
    "data = {'Maths': 60, 'Science': 89, 'English': 76, 'Social Science': 86}\n",
    "\n",
    "# create a series from the dictionary\n",
    "# the dictionary keys are the index names\n",
    "# the dictionary values are the series values\n",
    "pd.Series(data)"
   ]
  },
  {
   "cell_type": "markdown",
   "metadata": {
    "id": "-J3co0C72g8Q"
   },
   "source": [
    "On passing a `dict`, the index in the resulting Series will have the dict’s keys in given order."
   ]
  },
  {
   "cell_type": "markdown",
   "metadata": {
    "id": "XfjcLqWJ2g8Q"
   },
   "source": [
    "**7. To create a series using library `numpy`**"
   ]
  },
  {
   "cell_type": "code",
   "execution_count": 9,
   "metadata": {
    "id": "ssMb-3ZV2g8R",
    "outputId": "3c8043aa-d9de-4b3d-f6c0-f414b3c8cb53"
   },
   "outputs": [
    {
     "data": {
      "text/plain": [
       "array([ 0. ,  2.5,  5. ,  7.5, 10. ])"
      ]
     },
     "execution_count": 9,
     "metadata": {},
     "output_type": "execute_result"
    }
   ],
   "source": [
    "# import the numpy library\n",
    "import numpy as np\n",
    "\n",
    "# declare the variable 'sequence' using linspace()\n",
    "sequence = np.linspace(0,10, 5)\n",
    "\n",
    "# print the array 'sequence'\n",
    "sequence"
   ]
  },
  {
   "cell_type": "markdown",
   "metadata": {
    "id": "yZ5dWBJj2g8R"
   },
   "source": [
    "We see that we obtain an array. We can now convert it to a Series."
   ]
  },
  {
   "cell_type": "code",
   "execution_count": 10,
   "metadata": {
    "id": "zT6dbVoj2g8R",
    "outputId": "ea0194c1-7c22-4d05-e015-226b6e5ff48d"
   },
   "outputs": [
    {
     "data": {
      "text/plain": [
       "0     0.0\n",
       "1     2.5\n",
       "2     5.0\n",
       "3     7.5\n",
       "4    10.0\n",
       "dtype: float64"
      ]
     },
     "execution_count": 10,
     "metadata": {},
     "output_type": "execute_result"
    }
   ],
   "source": [
    "# create a series from the above sequence\n",
    "pd.Series(sequence)"
   ]
  },
  {
   "cell_type": "markdown",
   "metadata": {},
   "source": [
    "# -------------------------------------------------------------------------------------------\n",
    "# Creating a series"
   ]
  },
  {
   "cell_type": "code",
   "execution_count": 11,
   "metadata": {},
   "outputs": [
    {
     "data": {
      "text/plain": [
       "a    1\n",
       "b    2\n",
       "c    3\n",
       "dtype: int64"
      ]
     },
     "execution_count": 11,
     "metadata": {},
     "output_type": "execute_result"
    }
   ],
   "source": [
    "list1=[80,90,100,110]\n",
    "arr1=np.array([10,11,12,13])\n",
    "dict1={'a':1,'b':2,'c':3}\n",
    "\n",
    "s1=pd.Series(list1)\n",
    "s2=pd.Series(list1,index=['row1','row2','row3','row4'])\n",
    "s3=pd.Series(arr1,index=['row1','row2','row3','row4'])\n",
    "s4=pd.Series(dict1)                                    # key becomes row lable\n",
    "s4"
   ]
  },
  {
   "cell_type": "code",
   "execution_count": 12,
   "metadata": {},
   "outputs": [
    {
     "name": "stdout",
     "output_type": "stream",
     "text": [
      "Index(['row1', 'row2', 'row3', 'row4'], dtype='object')\n",
      "[ 80  90 100 110]\n"
     ]
    }
   ],
   "source": [
    "# Get index :\n",
    "\n",
    "print(s2.index)\n",
    "print(s2.values)"
   ]
  },
  {
   "cell_type": "code",
   "execution_count": 13,
   "metadata": {},
   "outputs": [
    {
     "name": "stdout",
     "output_type": "stream",
     "text": [
      "80\n",
      "11\n",
      "80\n",
      "10\n"
     ]
    }
   ],
   "source": [
    "# Indexing :\n",
    "print(s2[0])\n",
    "print(s3[1])\n",
    "print(s2['row1'])\n",
    "print(s3['row1'])"
   ]
  },
  {
   "cell_type": "code",
   "execution_count": 14,
   "metadata": {
    "scrolled": true
   },
   "outputs": [
    {
     "name": "stdout",
     "output_type": "stream",
     "text": [
      "row1    80\n",
      "row2    90\n",
      "dtype: int64 \n",
      "\n",
      "row1     80\n",
      "row2     90\n",
      "row3    100\n",
      "dtype: int64\n"
     ]
    }
   ],
   "source": [
    "# Slicing : \n",
    "print(s2[0:2],'\\n')     # gives only at index position 0 & 1\n",
    "print(s2['row1':'row3'])# gives all the values"
   ]
  },
  {
   "cell_type": "code",
   "execution_count": 15,
   "metadata": {},
   "outputs": [
    {
     "name": "stdout",
     "output_type": "stream",
     "text": [
      "row1     80\n",
      "row3    100\n",
      "dtype: int64 \n",
      "\n",
      "row1    10\n",
      "row3    12\n",
      "dtype: int64\n"
     ]
    }
   ],
   "source": [
    "# Vector :\n",
    "print(s2[[0,2]],'\\n')\n",
    "print(s3[['row1','row3']])"
   ]
  },
  {
   "cell_type": "code",
   "execution_count": null,
   "metadata": {},
   "outputs": [],
   "source": []
  },
  {
   "cell_type": "code",
   "execution_count": null,
   "metadata": {},
   "outputs": [],
   "source": []
  },
  {
   "cell_type": "markdown",
   "metadata": {
    "id": "Iknla2Ya2g8S"
   },
   "source": [
    "<a id=\"manipulatingS\"> </a>\n",
    "### 3.2 Manipulating Series "
   ]
  },
  {
   "cell_type": "markdown",
   "metadata": {
    "id": "18KYC19J2g8S"
   },
   "source": [
    "**1. To know the subjects in which marks score is more than 75**"
   ]
  },
  {
   "cell_type": "code",
   "execution_count": 16,
   "metadata": {
    "id": "D1wqHHB82g8S",
    "outputId": "f4fbe141-f9e7-42dc-da29-537a610c442b"
   },
   "outputs": [
    {
     "data": {
      "text/plain": [
       "Science           89\n",
       "Social Science    86\n",
       "dtype: int64"
      ]
     },
     "execution_count": 16,
     "metadata": {},
     "output_type": "execute_result"
    }
   ],
   "source": [
    "# check for marks more than 75\n",
    "marks_series[marks_series > 75]"
   ]
  },
  {
   "cell_type": "markdown",
   "metadata": {
    "id": "VkHWyvGN2g8S"
   },
   "source": [
    "**2. To assign 68 marks to 'Art and Craft'**"
   ]
  },
  {
   "cell_type": "code",
   "execution_count": 17,
   "metadata": {
    "id": "TPKdOZgI2g8S"
   },
   "outputs": [],
   "source": [
    "# assign 68 marks to 'Art and Craft'\n",
    "marks_series[\"Art and Craft\"] = 68"
   ]
  },
  {
   "cell_type": "code",
   "execution_count": 18,
   "metadata": {
    "id": "vRIcDpDO2g8S",
    "outputId": "81e6aff6-33d4-4ed5-bf77-b6220419437d"
   },
   "outputs": [
    {
     "data": {
      "text/plain": [
       "Maths             60\n",
       "Science           89\n",
       "English           74\n",
       "Social Science    86\n",
       "Art and Craft     68\n",
       "dtype: int64"
      ]
     },
     "execution_count": 18,
     "metadata": {},
     "output_type": "execute_result"
    }
   ],
   "source": [
    "# print the series\n",
    "marks_series"
   ]
  },
  {
   "cell_type": "markdown",
   "metadata": {
    "id": "QGijXEcK2g8T"
   },
   "source": [
    "**3. To check whether Maths marks are 73**"
   ]
  },
  {
   "cell_type": "code",
   "execution_count": 19,
   "metadata": {
    "id": "RI5D1e2b2g8T",
    "outputId": "78f1a6a1-7ef9-4bad-e1f1-582597af2ed0"
   },
   "outputs": [
    {
     "data": {
      "text/plain": [
       "False"
      ]
     },
     "execution_count": 19,
     "metadata": {},
     "output_type": "execute_result"
    }
   ],
   "source": [
    "# check whether Maths marks are 73\n",
    "marks_series.Maths == 73"
   ]
  },
  {
   "cell_type": "code",
   "execution_count": 20,
   "metadata": {
    "id": "PCCIkSz32g8T",
    "outputId": "67ae4501-9ebc-4255-ac0a-90be6355cb65"
   },
   "outputs": [
    {
     "data": {
      "text/plain": [
       "False"
      ]
     },
     "execution_count": 20,
     "metadata": {},
     "output_type": "execute_result"
    }
   ],
   "source": [
    "# or you may use\n",
    "marks_series[\"Maths\"] == 73"
   ]
  },
  {
   "cell_type": "markdown",
   "metadata": {
    "id": "gLn1YBbo2g8T"
   },
   "source": [
    "**4. To create a series by generating numpy random numbers**"
   ]
  },
  {
   "cell_type": "code",
   "execution_count": 6,
   "metadata": {
    "id": "Q7_f2ec_2g8T"
   },
   "outputs": [
    {
     "data": {
      "text/plain": [
       "0      2.0\n",
       "1      9.0\n",
       "2      9.0\n",
       "3      9.0\n",
       "4      0.0\n",
       "5     10.0\n",
       "6      3.0\n",
       "7      3.0\n",
       "8      5.0\n",
       "9      8.0\n",
       "10    10.0\n",
       "11     7.0\n",
       "12     8.0\n",
       "13     8.0\n",
       "14     0.0\n",
       "dtype: float64"
      ]
     },
     "execution_count": 6,
     "metadata": {},
     "output_type": "execute_result"
    }
   ],
   "source": [
    "# create the numbers series \n",
    "# generate a sequence of 15 random numbers using random()\n",
    "# round(): rounds off the number to nearest integer\n",
    "num = pd.Series(np.random.random(15)*10).round()\n",
    "num"
   ]
  },
  {
   "cell_type": "markdown",
   "metadata": {
    "id": "e6Qqz0r52g8T"
   },
   "source": [
    "**5. To find the square of the numbers series**"
   ]
  },
  {
   "cell_type": "code",
   "execution_count": 22,
   "metadata": {
    "id": "NE8OXSsk2g8T",
    "outputId": "223ab33e-d3d8-492d-be1a-71d8787ba710"
   },
   "outputs": [
    {
     "data": {
      "text/plain": [
       "6.0      36.0\n",
       "8.0      64.0\n",
       "9.0      81.0\n",
       "6.0      36.0\n",
       "10.0    100.0\n",
       "9.0      81.0\n",
       "7.0      49.0\n",
       "8.0      64.0\n",
       "3.0       9.0\n",
       "0.0       0.0\n",
       "4.0      16.0\n",
       "3.0       9.0\n",
       "4.0      16.0\n",
       "7.0      49.0\n",
       "9.0      81.0\n",
       "dtype: float64"
      ]
     },
     "execution_count": 22,
     "metadata": {},
     "output_type": "execute_result"
    }
   ],
   "source": [
    "# declare a variable square \n",
    "# variable 'square' contains the \n",
    "square = pd.Series(num*num)\n",
    "square.index = [num]\n",
    "square"
   ]
  },
  {
   "cell_type": "markdown",
   "metadata": {
    "id": "Q98Tbi1J2g8T"
   },
   "source": [
    "**6. To assign index name and object name**"
   ]
  },
  {
   "cell_type": "code",
   "execution_count": 23,
   "metadata": {
    "id": "qGgQ_eRf2g8U",
    "outputId": "f93389a4-e47e-4ef1-93fd-8521a4692384"
   },
   "outputs": [
    {
     "data": {
      "text/plain": [
       "6.0      36.0\n",
       "8.0      64.0\n",
       "9.0      81.0\n",
       "6.0      36.0\n",
       "10.0    100.0\n",
       "9.0      81.0\n",
       "7.0      49.0\n",
       "8.0      64.0\n",
       "3.0       9.0\n",
       "0.0       0.0\n",
       "4.0      16.0\n",
       "3.0       9.0\n",
       "4.0      16.0\n",
       "7.0      49.0\n",
       "9.0      81.0\n",
       "Name: Square, dtype: float64"
      ]
     },
     "execution_count": 23,
     "metadata": {},
     "output_type": "execute_result"
    }
   ],
   "source": [
    "# assign object name\n",
    "square.name = 'Square'\n",
    "\n",
    "# assign index name\n",
    "square.index.name = 'Number'\n",
    "\n",
    "# print the series\n",
    "square"
   ]
  },
  {
   "cell_type": "markdown",
   "metadata": {
    "id": "H8bqyvCN2g8U"
   },
   "source": [
    "**Note:** A Series’s index can be altered in-place by assignment\n",
    "\n",
    "From the output, it is not clear that the index column is labeled, to check whether it is labeled let us print it\n",
    "\n",
    "We use `Series.index` to print the index."
   ]
  },
  {
   "cell_type": "code",
   "execution_count": 24,
   "metadata": {
    "id": "okAH_i6m2g8U",
    "outputId": "2e870e85-99e6-47b7-822e-c223e0d75ecb"
   },
   "outputs": [
    {
     "data": {
      "text/plain": [
       "MultiIndex([( 6.0,),\n",
       "            ( 8.0,),\n",
       "            ( 9.0,),\n",
       "            ( 6.0,),\n",
       "            (10.0,),\n",
       "            ( 9.0,),\n",
       "            ( 7.0,),\n",
       "            ( 8.0,),\n",
       "            ( 3.0,),\n",
       "            ( 0.0,),\n",
       "            ( 4.0,),\n",
       "            ( 3.0,),\n",
       "            ( 4.0,),\n",
       "            ( 7.0,),\n",
       "            ( 9.0,)],\n",
       "           name='Number')"
      ]
     },
     "execution_count": 24,
     "metadata": {},
     "output_type": "execute_result"
    }
   ],
   "source": [
    "# print the index\n",
    "square.index"
   ]
  },
  {
   "cell_type": "markdown",
   "metadata": {
    "id": "6loXwhd32g8U"
   },
   "source": [
    "From `name='Number'`, it is seen that the column is labeled."
   ]
  },
  {
   "cell_type": "markdown",
   "metadata": {
    "id": "u5JRcSuh2g8U"
   },
   "source": [
    "**7. Add a number 5 to every element of the series**"
   ]
  },
  {
   "cell_type": "code",
   "execution_count": 25,
   "metadata": {
    "id": "7MVrojbG2g8U",
    "outputId": "2d558b05-75a9-41d3-cb48-72c8e484c57c"
   },
   "outputs": [
    {
     "data": {
      "text/plain": [
       "6.0      41.0\n",
       "8.0      69.0\n",
       "9.0      86.0\n",
       "6.0      41.0\n",
       "10.0    105.0\n",
       "9.0      86.0\n",
       "7.0      54.0\n",
       "8.0      69.0\n",
       "3.0      14.0\n",
       "0.0       5.0\n",
       "4.0      21.0\n",
       "3.0      14.0\n",
       "4.0      21.0\n",
       "7.0      54.0\n",
       "9.0      86.0\n",
       "Name: Square, dtype: float64"
      ]
     },
     "execution_count": 25,
     "metadata": {},
     "output_type": "execute_result"
    }
   ],
   "source": [
    "# add 5 to each element\n",
    "square + 5"
   ]
  },
  {
   "cell_type": "markdown",
   "metadata": {
    "id": "nnSAbvFr2g8U"
   },
   "source": [
    "The number 5 has been added to all the variables."
   ]
  },
  {
   "cell_type": "markdown",
   "metadata": {
    "id": "AqdnyOQy2g8U"
   },
   "source": [
    "**8. To extract a value specifying the index**"
   ]
  },
  {
   "cell_type": "code",
   "execution_count": 26,
   "metadata": {
    "id": "KU_Lq4Pv2g8V",
    "outputId": "bf282898-b587-4186-db00-bf673de89522",
    "scrolled": true
   },
   "outputs": [
    {
     "data": {
      "text/plain": [
       "7.0    49.0\n",
       "7.0    49.0\n",
       "Name: Square, dtype: float64"
      ]
     },
     "execution_count": 26,
     "metadata": {},
     "output_type": "execute_result"
    }
   ],
   "source": [
    "# obtain the value having index 7\n",
    "square[7]"
   ]
  },
  {
   "cell_type": "markdown",
   "metadata": {
    "id": "eLGE4Nwr2g8V"
   },
   "source": [
    "All values with index as '7' are obtained"
   ]
  },
  {
   "cell_type": "markdown",
   "metadata": {
    "id": "jU0dSRCn2g8V"
   },
   "source": [
    "**9. To extract a range of values specifying the location**"
   ]
  },
  {
   "cell_type": "code",
   "execution_count": 27,
   "metadata": {
    "id": "fqNJA_LM2g8V",
    "outputId": "ac18298e-7a33-4c2d-b99d-e7a5a45ae867"
   },
   "outputs": [
    {
     "data": {
      "text/plain": [
       "6.0      36.0\n",
       "10.0    100.0\n",
       "9.0      81.0\n",
       "7.0      49.0\n",
       "Name: Square, dtype: float64"
      ]
     },
     "execution_count": 27,
     "metadata": {},
     "output_type": "execute_result"
    }
   ],
   "source": [
    "# extract values having the location \n",
    "# obtain the values from the 3rd position till the 6th position\n",
    "# indexing starts from 0\n",
    "# the 7th position is not included\n",
    "square[3:7]"
   ]
  },
  {
   "cell_type": "markdown",
   "metadata": {
    "id": "ivJamoSy2g8V"
   },
   "source": [
    "**10. Usage of `.iloc`**"
   ]
  },
  {
   "cell_type": "markdown",
   "metadata": {
    "id": "ST-cTWrO2g8V"
   },
   "source": [
    "We use `.iloc` to get the values of the specified index of numbers "
   ]
  },
  {
   "cell_type": "code",
   "execution_count": 28,
   "metadata": {
    "id": "xp-mawzh2g8V",
    "outputId": "c12ee971-05a5-4a8d-fd0e-0ff210d5a76c"
   },
   "outputs": [
    {
     "data": {
      "text/plain": [
       "81.0"
      ]
     },
     "execution_count": 28,
     "metadata": {},
     "output_type": "execute_result"
    }
   ],
   "source": [
    "# obtain the value in the 5th position\n",
    "square.iloc[5]"
   ]
  },
  {
   "cell_type": "code",
   "execution_count": 29,
   "metadata": {
    "id": "cin4eVn52g8V",
    "outputId": "008bb5a2-06e9-4576-9929-b08ba01c4ad1"
   },
   "outputs": [
    {
     "data": {
      "text/plain": [
       "6.0      36.0\n",
       "10.0    100.0\n",
       "9.0      81.0\n",
       "7.0      49.0\n",
       "8.0      64.0\n",
       "3.0       9.0\n",
       "Name: Square, dtype: float64"
      ]
     },
     "execution_count": 29,
     "metadata": {},
     "output_type": "execute_result"
    }
   ],
   "source": [
    "# obtain the values from the 3rd till the 8th position\n",
    "# indexing starts from 0\n",
    "# the 7th position is not included\n",
    "square.iloc[3:9]"
   ]
  },
  {
   "cell_type": "markdown",
   "metadata": {
    "id": "j_4HH_sf2g8V"
   },
   "source": [
    "**11. Sorting a numeric series**"
   ]
  },
  {
   "cell_type": "code",
   "execution_count": 30,
   "metadata": {
    "id": "vgH2qsKC2g8V",
    "outputId": "b2c5883f-d521-4c0c-ff64-094789ab70ea"
   },
   "outputs": [
    {
     "data": {
      "text/plain": [
       "0    23.0\n",
       "1    45.0\n",
       "2     NaN\n",
       "3    41.0\n",
       "4    23.0\n",
       "5    34.0\n",
       "6    55.0\n",
       "7     NaN\n",
       "8    34.0\n",
       "9    20.0\n",
       "dtype: float64"
      ]
     },
     "execution_count": 30,
     "metadata": {},
     "output_type": "execute_result"
    }
   ],
   "source": [
    "# create a pandas series\n",
    "age = pd.Series([23, 45, np.nan, 41, 23, 34, 55, np.nan, 34, 20])\n",
    "\n",
    "# print values\n",
    "age"
   ]
  },
  {
   "cell_type": "code",
   "execution_count": 31,
   "metadata": {
    "id": "fkRjAfkd2g8W",
    "outputId": "8e7ba79e-99ba-48eb-adc0-0bec374751c3"
   },
   "outputs": [
    {
     "data": {
      "text/plain": [
       "9    20.0\n",
       "0    23.0\n",
       "4    23.0\n",
       "5    34.0\n",
       "8    34.0\n",
       "3    41.0\n",
       "1    45.0\n",
       "6    55.0\n",
       "2     NaN\n",
       "7     NaN\n",
       "dtype: float64"
      ]
     },
     "execution_count": 31,
     "metadata": {},
     "output_type": "execute_result"
    }
   ],
   "source": [
    "# ascending order\n",
    "# sort_values: sorts the values\n",
    "# ascending : if specified as True, it sorts values in ascending order (default value is True)\n",
    "age.sort_values(ascending = True)"
   ]
  },
  {
   "cell_type": "code",
   "execution_count": 32,
   "metadata": {
    "id": "GlVTig0M2g8W",
    "outputId": "e379f0dd-8812-431e-a40a-74ecafa8c6df"
   },
   "outputs": [
    {
     "data": {
      "text/plain": [
       "6    55.0\n",
       "1    45.0\n",
       "3    41.0\n",
       "5    34.0\n",
       "8    34.0\n",
       "0    23.0\n",
       "4    23.0\n",
       "9    20.0\n",
       "2     NaN\n",
       "7     NaN\n",
       "dtype: float64"
      ]
     },
     "execution_count": 32,
     "metadata": {},
     "output_type": "execute_result"
    }
   ],
   "source": [
    "# arrange in descending order\n",
    "# sort_values: sorts the values\n",
    "# ascending : if specified as True, it sorts values in ascending order (default value is True)\n",
    "# set ascending to False to sort the values in ascending order\n",
    "age.sort_values(ascending = False)"
   ]
  },
  {
   "cell_type": "markdown",
   "metadata": {
    "id": "aJWbS7cq2g8W"
   },
   "source": [
    "**12. Sorting a categorical series**"
   ]
  },
  {
   "cell_type": "code",
   "execution_count": 33,
   "metadata": {
    "id": "b8NbGxYX2g8W",
    "outputId": "abb21931-8093-422a-b7d7-201fbd56b37e"
   },
   "outputs": [
    {
     "data": {
      "text/plain": [
       "0    a\n",
       "1    j\n",
       "2    d\n",
       "3    f\n",
       "4    t\n",
       "5    a\n",
       "dtype: object"
      ]
     },
     "execution_count": 33,
     "metadata": {},
     "output_type": "execute_result"
    }
   ],
   "source": [
    "# create a pandas series\n",
    "string_values = pd.Series([\"a\", \"j\", \"d\", \"f\", \"t\", \"a\"])\n",
    "\n",
    "# print the values\n",
    "string_values"
   ]
  },
  {
   "cell_type": "code",
   "execution_count": 34,
   "metadata": {
    "id": "o72SvOrQ2g8W",
    "outputId": "7b4f3ba8-9215-470b-ee6d-36a5f03e80c6"
   },
   "outputs": [
    {
     "data": {
      "text/plain": [
       "0    a\n",
       "5    a\n",
       "2    d\n",
       "3    f\n",
       "1    j\n",
       "4    t\n",
       "dtype: object"
      ]
     },
     "execution_count": 34,
     "metadata": {},
     "output_type": "execute_result"
    }
   ],
   "source": [
    "# ascending order\n",
    "# sort_values: sorts the values\n",
    "# ascending : if specified as True, it sorts values in ascending order (default value is True)\n",
    "string_values.sort_values(ascending = True)"
   ]
  },
  {
   "cell_type": "code",
   "execution_count": 35,
   "metadata": {
    "id": "TLoarA912g8W",
    "outputId": "5db0e5e8-723c-47af-e04b-3aa58b78defc"
   },
   "outputs": [
    {
     "data": {
      "text/plain": [
       "4    t\n",
       "1    j\n",
       "3    f\n",
       "2    d\n",
       "0    a\n",
       "5    a\n",
       "dtype: object"
      ]
     },
     "execution_count": 35,
     "metadata": {},
     "output_type": "execute_result"
    }
   ],
   "source": [
    "# descending order\n",
    "# sort_values: sorts the values\n",
    "# ascending : if specified as True, it sorts values in ascending order (default value is True)\n",
    "# set ascending to False to sort the values in ascending order\n",
    "string_values.sort_values(ascending = False)"
   ]
  },
  {
   "cell_type": "markdown",
   "metadata": {
    "id": "26EKQNFG2g8W"
   },
   "source": [
    "**13. Sorting based on index**"
   ]
  },
  {
   "cell_type": "code",
   "execution_count": 36,
   "metadata": {
    "id": "yN-hl7o-2g8W",
    "outputId": "edda0286-e39d-47c3-ba31-bb58eed55a9a"
   },
   "outputs": [
    {
     "data": {
      "text/plain": [
       "6.0      36.0\n",
       "8.0      64.0\n",
       "9.0      81.0\n",
       "6.0      36.0\n",
       "10.0    100.0\n",
       "9.0      81.0\n",
       "7.0      49.0\n",
       "8.0      64.0\n",
       "3.0       9.0\n",
       "0.0       0.0\n",
       "4.0      16.0\n",
       "3.0       9.0\n",
       "4.0      16.0\n",
       "7.0      49.0\n",
       "9.0      81.0\n",
       "Name: Square, dtype: float64"
      ]
     },
     "execution_count": 36,
     "metadata": {},
     "output_type": "execute_result"
    }
   ],
   "source": [
    "# recall the series 'square'\n",
    "square"
   ]
  },
  {
   "cell_type": "code",
   "execution_count": 37,
   "metadata": {
    "id": "3Y4ERm_y2g8W",
    "outputId": "33bb5d85-0756-4da5-a639-0d01d8245dc5"
   },
   "outputs": [
    {
     "data": {
      "text/plain": [
       "0.0       0.0\n",
       "3.0       9.0\n",
       "3.0       9.0\n",
       "4.0      16.0\n",
       "4.0      16.0\n",
       "6.0      36.0\n",
       "6.0      36.0\n",
       "7.0      49.0\n",
       "7.0      49.0\n",
       "8.0      64.0\n",
       "8.0      64.0\n",
       "9.0      81.0\n",
       "9.0      81.0\n",
       "9.0      81.0\n",
       "10.0    100.0\n",
       "Name: Square, dtype: float64"
      ]
     },
     "execution_count": 37,
     "metadata": {},
     "output_type": "execute_result"
    }
   ],
   "source": [
    "# sort in ascending order based on index\n",
    "# sort_index: sorts the series based on the index\n",
    "# ascending : if specified as True, it sorts values in ascending order (default value is True)\n",
    "square.sort_index(ascending = True)"
   ]
  },
  {
   "cell_type": "code",
   "execution_count": 38,
   "metadata": {
    "id": "TxrUlm8B2g8X",
    "outputId": "4d330ea4-105d-42d4-9ef6-814bec663e98"
   },
   "outputs": [
    {
     "data": {
      "text/plain": [
       "10.0    100.0\n",
       "9.0      81.0\n",
       "9.0      81.0\n",
       "9.0      81.0\n",
       "8.0      64.0\n",
       "8.0      64.0\n",
       "7.0      49.0\n",
       "7.0      49.0\n",
       "6.0      36.0\n",
       "6.0      36.0\n",
       "4.0      16.0\n",
       "4.0      16.0\n",
       "3.0       9.0\n",
       "3.0       9.0\n",
       "0.0       0.0\n",
       "Name: Square, dtype: float64"
      ]
     },
     "execution_count": 38,
     "metadata": {},
     "output_type": "execute_result"
    }
   ],
   "source": [
    "# sort in descending order based on index\n",
    "# sort_index: sorts the series based on the index\n",
    "# ascending : if specified as True, it sorts values in ascending order (default value is True)\n",
    "# set ascending to False to sort the values in ascending order\n",
    "square.sort_index(ascending = False)"
   ]
  },
  {
   "cell_type": "markdown",
   "metadata": {
    "id": "b8_k0MAO2g8X"
   },
   "source": [
    "**14. Rank a Series**"
   ]
  },
  {
   "cell_type": "code",
   "execution_count": 39,
   "metadata": {
    "id": "uAOVYxYT2g8X",
    "outputId": "5a74bc26-4f2a-4cb7-84e1-deffb1f18744"
   },
   "outputs": [
    {
     "data": {
      "text/plain": [
       "Maths             60\n",
       "Science           89\n",
       "English           74\n",
       "Social Science    86\n",
       "Art and Craft     68\n",
       "dtype: int64"
      ]
     },
     "execution_count": 39,
     "metadata": {},
     "output_type": "execute_result"
    }
   ],
   "source": [
    "# recall the marks_series\n",
    "marks_series"
   ]
  },
  {
   "cell_type": "code",
   "execution_count": 40,
   "metadata": {
    "id": "m-oykbpb2g8X",
    "outputId": "aedf0f6f-11f5-4812-9901-d6e10b2e3a64",
    "scrolled": true
   },
   "outputs": [
    {
     "data": {
      "text/plain": [
       "Maths             1.0\n",
       "Science           5.0\n",
       "English           3.0\n",
       "Social Science    4.0\n",
       "Art and Craft     2.0\n",
       "dtype: float64"
      ]
     },
     "execution_count": 40,
     "metadata": {},
     "output_type": "execute_result"
    }
   ],
   "source": [
    "# rank the marks in ascending order\n",
    "# rank(): ranks the values of a series \n",
    "marks_series.rank()"
   ]
  },
  {
   "cell_type": "code",
   "execution_count": 41,
   "metadata": {
    "id": "eaUIMmuZ2g8X",
    "outputId": "975a90eb-4d81-4fe3-eca4-5fe73eb4cb08",
    "scrolled": true
   },
   "outputs": [
    {
     "data": {
      "text/plain": [
       "Maths             5.0\n",
       "Science           1.0\n",
       "English           3.0\n",
       "Social Science    2.0\n",
       "Art and Craft     4.0\n",
       "dtype: float64"
      ]
     },
     "execution_count": 41,
     "metadata": {},
     "output_type": "execute_result"
    }
   ],
   "source": [
    "# rank the marks in ascending order\n",
    "# rank(): ranks the values of a series \n",
    "# ascending : if specified as True, it sorts values in ascending order (default value is True)\n",
    "# set ascending to False to sort the values in ascending order\n",
    "marks_series.rank(ascending = False)"
   ]
  },
  {
   "cell_type": "code",
   "execution_count": 42,
   "metadata": {},
   "outputs": [],
   "source": [
    "# USER :\n",
    "\n",
    "\n",
    "list1=[20,30,10,30,40,50,40]\n",
    "name=['A','B','C','D','E','F','G']\n",
    "s1=pd.Series(list1,index=name)"
   ]
  },
  {
   "cell_type": "code",
   "execution_count": 43,
   "metadata": {},
   "outputs": [
    {
     "data": {
      "text/plain": [
       "A    2.0\n",
       "B    3.5\n",
       "C    1.0\n",
       "D    3.5\n",
       "E    5.5\n",
       "F    7.0\n",
       "G    5.5\n",
       "dtype: float64"
      ]
     },
     "execution_count": 43,
     "metadata": {},
     "output_type": "execute_result"
    }
   ],
   "source": [
    "s1.rank()                                 ## Bydefault is avg | Ranking is ascending"
   ]
  },
  {
   "cell_type": "code",
   "execution_count": 44,
   "metadata": {},
   "outputs": [
    {
     "data": {
      "text/plain": [
       "A    2.0\n",
       "B    3.0\n",
       "C    1.0\n",
       "D    3.0\n",
       "E    5.0\n",
       "F    7.0\n",
       "G    5.0\n",
       "dtype: float64"
      ]
     },
     "execution_count": 44,
     "metadata": {},
     "output_type": "execute_result"
    }
   ],
   "source": [
    "s1.rank(method='min',ascending=True)     ## Ranking is ascending | B and D gets 3 as rank as both have 30 as value\n",
    "                                         #  and rank 4 is skipped as method is 'min'."
   ]
  },
  {
   "cell_type": "code",
   "execution_count": 45,
   "metadata": {
    "scrolled": true
   },
   "outputs": [
    {
     "data": {
      "text/plain": [
       "A    6.0\n",
       "B    4.0\n",
       "C    7.0\n",
       "D    4.0\n",
       "E    2.0\n",
       "F    1.0\n",
       "G    2.0\n",
       "dtype: float64"
      ]
     },
     "execution_count": 45,
     "metadata": {},
     "output_type": "execute_result"
    }
   ],
   "source": [
    "s1.rank(method='min',ascending=False)   ## Ranking is descending "
   ]
  },
  {
   "cell_type": "code",
   "execution_count": 46,
   "metadata": {},
   "outputs": [
    {
     "data": {
      "text/plain": [
       "A    2.0\n",
       "B    4.0\n",
       "C    1.0\n",
       "D    4.0\n",
       "E    6.0\n",
       "F    7.0\n",
       "G    6.0\n",
       "dtype: float64"
      ]
     },
     "execution_count": 46,
     "metadata": {},
     "output_type": "execute_result"
    }
   ],
   "source": [
    "s1.rank(method='max')                   ## B and D gets 4 as rank as both have 30 as value and rank 3 is skipped as \n",
    "                                        # method is 'max'."
   ]
  },
  {
   "cell_type": "code",
   "execution_count": 47,
   "metadata": {},
   "outputs": [
    {
     "data": {
      "text/plain": [
       "A    2.0\n",
       "B    3.0\n",
       "C    1.0\n",
       "D    4.0\n",
       "E    5.0\n",
       "F    7.0\n",
       "G    6.0\n",
       "dtype: float64"
      ]
     },
     "execution_count": 47,
     "metadata": {},
     "output_type": "execute_result"
    }
   ],
   "source": [
    "s1.rank(method='first')                # Gives different rank even if value are same."
   ]
  },
  {
   "cell_type": "code",
   "execution_count": 48,
   "metadata": {},
   "outputs": [
    {
     "data": {
      "text/plain": [
       "A    2.0\n",
       "B    3.0\n",
       "C    1.0\n",
       "D    3.0\n",
       "E    4.0\n",
       "F    5.0\n",
       "G    4.0\n",
       "dtype: float64"
      ]
     },
     "execution_count": 48,
     "metadata": {},
     "output_type": "execute_result"
    }
   ],
   "source": [
    "s1.rank(method='dense')                 # Gives same rank if value are same for given index."
   ]
  },
  {
   "cell_type": "code",
   "execution_count": 49,
   "metadata": {
    "scrolled": true
   },
   "outputs": [
    {
     "data": {
      "text/plain": [
       "0    10.0\n",
       "1    20.0\n",
       "2     NaN\n",
       "3    30.0\n",
       "4     NaN\n",
       "dtype: float64"
      ]
     },
     "execution_count": 49,
     "metadata": {},
     "output_type": "execute_result"
    }
   ],
   "source": [
    "# Manipulating series:\n",
    "list1=[10,20,np.nan,30,np.nan]         # np.nan puts Nan value.\n",
    "s2=pd.Series(list1)\n",
    "s2"
   ]
  },
  {
   "cell_type": "code",
   "execution_count": 50,
   "metadata": {},
   "outputs": [
    {
     "name": "stdout",
     "output_type": "stream",
     "text": [
      "0    False\n",
      "1    False\n",
      "2     True\n",
      "3    False\n",
      "4     True\n",
      "dtype: bool \n",
      "\n",
      "0     True\n",
      "1     True\n",
      "2    False\n",
      "3     True\n",
      "4    False\n",
      "dtype: bool\n"
     ]
    }
   ],
   "source": [
    "# Checking is null or not :\n",
    "\n",
    "print(s2.isnull(),'\\n')        #True - Nan \n",
    "print(s2.notnull())            #False- Nan"
   ]
  },
  {
   "cell_type": "code",
   "execution_count": null,
   "metadata": {},
   "outputs": [],
   "source": []
  },
  {
   "cell_type": "code",
   "execution_count": null,
   "metadata": {},
   "outputs": [],
   "source": []
  },
  {
   "cell_type": "code",
   "execution_count": null,
   "metadata": {},
   "outputs": [],
   "source": []
  },
  {
   "cell_type": "code",
   "execution_count": null,
   "metadata": {},
   "outputs": [],
   "source": []
  },
  {
   "cell_type": "markdown",
   "metadata": {
    "id": "cLbYO4t-2g8a"
   },
   "source": [
    "<a id=\"dataframes\"> </a>\n",
    "## 4. Pandas DataFrames"
   ]
  },
  {
   "cell_type": "markdown",
   "metadata": {
    "id": "UFJGvkXm2g8b"
   },
   "source": [
    " A DataFrame is a tabular representation of data containing an ordered collection of columns, each of which can be a different type (such as numeric, string, boolean). <br><br>\n",
    "                        The DataFrame has both row and column index; it can be thought of as a dict of Series all sharing the same index. In a data frame, the data is stored as one or more two-dimensional blocks rather than a list, dict, or some other collection of one-dimensional arrays. <br><br>\n",
    "                        While a DataFrame is physically two-dimensional, it can be used to represent higher dimensional data in a tabular format using hierarchical indexing.\n",
    "                   "
   ]
  },
  {
   "cell_type": "markdown",
   "metadata": {
    "id": "YUBBYa372g8b"
   },
   "source": [
    "<a id=\"creatingDF\"> </a>\n",
    "### 4.1 Creating DataFrames"
   ]
  },
  {
   "cell_type": "markdown",
   "metadata": {
    "id": "HyrKoMa12g8b"
   },
   "source": [
    "**1. Creating a data frame a dictionary**"
   ]
  },
  {
   "cell_type": "code",
   "execution_count": 51,
   "metadata": {
    "id": "yPhWqU-62g8b",
    "outputId": "13365e5f-35c6-48ef-e6fb-915ea1340483"
   },
   "outputs": [
    {
     "name": "stdout",
     "output_type": "stream",
     "text": [
      "    Subject  Marks  GPA\n",
      "0     Maths     45  2.5\n",
      "1   History     65  3.0\n",
      "2   Science     78  3.5\n",
      "3   English     65  2.0\n",
      "4  Georaphy     80  4.0\n",
      "5       Art     78  4.0\n"
     ]
    }
   ],
   "source": [
    "# create a dictionary\n",
    "data = {'Subject': ['Maths', 'History', 'Science', 'English', 'Georaphy', 'Art'],\n",
    "        'Marks': (45, 65, 78, 65, 80, 78),\n",
    "        'GPA': [2.5, 3.0, 3.5, 2.0, 4.0, 4.0]}\n",
    "\n",
    "# create the dataframe using DataFrame()\n",
    "df_marks = pd.DataFrame(data)\n",
    "\n",
    "# print the dataframe\n",
    "print(df_marks)"
   ]
  },
  {
   "cell_type": "markdown",
   "metadata": {
    "id": "bp0na-jn2g8c"
   },
   "source": [
    "**Note:** Like Series, the resulting DataFrame is assigned index automatically. And the 'Marks' values are in a tuple. "
   ]
  },
  {
   "cell_type": "markdown",
   "metadata": {
    "id": "j2i0EwH22g8c"
   },
   "source": [
    "**2. Another way to create dataframe from dictionary**"
   ]
  },
  {
   "cell_type": "code",
   "execution_count": 52,
   "metadata": {
    "id": "EcGepMbS2g8c",
    "outputId": "90e7e376-7068-4786-f629-62aac7517571"
   },
   "outputs": [
    {
     "name": "stdout",
     "output_type": "stream",
     "text": [
      "    Subject  Marks  GPA\n",
      "0     Maths     45  2.5\n",
      "1   History     65  3.0\n",
      "2   Science     78  3.5\n",
      "3   English     65  2.0\n",
      "4  Georaphy     80  4.0\n",
      "5       Art     78  4.0\n"
     ]
    }
   ],
   "source": [
    "# creare the dictionary\n",
    "data = [{'Subject': 'Maths', 'Marks': 45, 'GPA':2.5},\n",
    "        {'Subject':'History', 'Marks':65, 'GPA':3.0},\n",
    "        {'Subject':'Science', 'Marks':78, 'GPA':3.5},\n",
    "        {'Subject':'English', 'Marks':65, 'GPA':2.0},\n",
    "        {'Subject':'Georaphy', 'Marks':80, 'GPA':4.0},\n",
    "        {'Subject':'Art', 'Marks':78, 'GPA':4.0}]\n",
    "\n",
    "# create the dataframe using DataFrame()\n",
    "df_marks = pd.DataFrame(data)\n",
    "\n",
    "# print the dataframe\n",
    "print(df_marks)"
   ]
  },
  {
   "cell_type": "markdown",
   "metadata": {
    "id": "cEnpF_ZU2g8c"
   },
   "source": [
    "**3. To create dataframe from lists**"
   ]
  },
  {
   "cell_type": "code",
   "execution_count": 53,
   "metadata": {
    "id": "hi4Z5Asx2g8c"
   },
   "outputs": [],
   "source": [
    "# declare the list 'Subject'\n",
    "Subject = ['Maths', 'History', 'Science', 'English', 'Georaphy', 'Art']\n",
    "\n",
    "# declare the list 'Marks'\n",
    "Marks = [45, 65, 78, 65, 80, 78]\n",
    "\n",
    "# declare the list 'CPA'\n",
    "GPA = [2.5, 3.0, 3.5, 2.0, 4.0, 4.0]"
   ]
  },
  {
   "cell_type": "code",
   "execution_count": 54,
   "metadata": {
    "id": "yv4WbXNo2g8d",
    "outputId": "74227176-79f3-491e-8fc6-bb2f418fce42"
   },
   "outputs": [
    {
     "data": {
      "text/html": [
       "<div>\n",
       "<style scoped>\n",
       "    .dataframe tbody tr th:only-of-type {\n",
       "        vertical-align: middle;\n",
       "    }\n",
       "\n",
       "    .dataframe tbody tr th {\n",
       "        vertical-align: top;\n",
       "    }\n",
       "\n",
       "    .dataframe thead th {\n",
       "        text-align: right;\n",
       "    }\n",
       "</style>\n",
       "<table border=\"1\" class=\"dataframe\">\n",
       "  <thead>\n",
       "    <tr style=\"text-align: right;\">\n",
       "      <th></th>\n",
       "      <th>0</th>\n",
       "      <th>1</th>\n",
       "      <th>2</th>\n",
       "      <th>3</th>\n",
       "      <th>4</th>\n",
       "      <th>5</th>\n",
       "    </tr>\n",
       "  </thead>\n",
       "  <tbody>\n",
       "    <tr>\n",
       "      <th>Subject</th>\n",
       "      <td>Maths</td>\n",
       "      <td>History</td>\n",
       "      <td>Science</td>\n",
       "      <td>English</td>\n",
       "      <td>Georaphy</td>\n",
       "      <td>Art</td>\n",
       "    </tr>\n",
       "    <tr>\n",
       "      <th>Marks</th>\n",
       "      <td>45</td>\n",
       "      <td>65</td>\n",
       "      <td>78</td>\n",
       "      <td>65</td>\n",
       "      <td>80</td>\n",
       "      <td>78</td>\n",
       "    </tr>\n",
       "    <tr>\n",
       "      <th>GPA</th>\n",
       "      <td>2.5</td>\n",
       "      <td>3.0</td>\n",
       "      <td>3.5</td>\n",
       "      <td>2.0</td>\n",
       "      <td>4.0</td>\n",
       "      <td>4.0</td>\n",
       "    </tr>\n",
       "  </tbody>\n",
       "</table>\n",
       "</div>"
      ],
      "text/plain": [
       "             0        1        2        3         4    5\n",
       "Subject  Maths  History  Science  English  Georaphy  Art\n",
       "Marks       45       65       78       65        80   78\n",
       "GPA        2.5      3.0      3.5      2.0       4.0  4.0"
      ]
     },
     "execution_count": 54,
     "metadata": {},
     "output_type": "execute_result"
    }
   ],
   "source": [
    "# create a DataFrame from the lists\n",
    "# index: specifies the index names\n",
    "df_marks = pd.DataFrame([Subject, Marks, GPA], index = ['Subject','Marks','GPA'])\n",
    "\n",
    "# print the DataFrame\n",
    "df_marks"
   ]
  },
  {
   "cell_type": "markdown",
   "metadata": {
    "id": "5AoOc2Hx2g8d"
   },
   "source": [
    "However to want a vertical dataframe so we use `.T`. The 'T' stands for transpose."
   ]
  },
  {
   "cell_type": "code",
   "execution_count": 55,
   "metadata": {
    "id": "COQLgogX2g8d",
    "outputId": "77b6c3ae-2296-4cc7-eaca-669558ef8cd8"
   },
   "outputs": [
    {
     "data": {
      "text/html": [
       "<div>\n",
       "<style scoped>\n",
       "    .dataframe tbody tr th:only-of-type {\n",
       "        vertical-align: middle;\n",
       "    }\n",
       "\n",
       "    .dataframe tbody tr th {\n",
       "        vertical-align: top;\n",
       "    }\n",
       "\n",
       "    .dataframe thead th {\n",
       "        text-align: right;\n",
       "    }\n",
       "</style>\n",
       "<table border=\"1\" class=\"dataframe\">\n",
       "  <thead>\n",
       "    <tr style=\"text-align: right;\">\n",
       "      <th></th>\n",
       "      <th>Subject</th>\n",
       "      <th>Marks</th>\n",
       "      <th>GPA</th>\n",
       "    </tr>\n",
       "  </thead>\n",
       "  <tbody>\n",
       "    <tr>\n",
       "      <th>0</th>\n",
       "      <td>Maths</td>\n",
       "      <td>45</td>\n",
       "      <td>2.5</td>\n",
       "    </tr>\n",
       "    <tr>\n",
       "      <th>1</th>\n",
       "      <td>History</td>\n",
       "      <td>65</td>\n",
       "      <td>3.0</td>\n",
       "    </tr>\n",
       "    <tr>\n",
       "      <th>2</th>\n",
       "      <td>Science</td>\n",
       "      <td>78</td>\n",
       "      <td>3.5</td>\n",
       "    </tr>\n",
       "    <tr>\n",
       "      <th>3</th>\n",
       "      <td>English</td>\n",
       "      <td>65</td>\n",
       "      <td>2.0</td>\n",
       "    </tr>\n",
       "    <tr>\n",
       "      <th>4</th>\n",
       "      <td>Georaphy</td>\n",
       "      <td>80</td>\n",
       "      <td>4.0</td>\n",
       "    </tr>\n",
       "    <tr>\n",
       "      <th>5</th>\n",
       "      <td>Art</td>\n",
       "      <td>78</td>\n",
       "      <td>4.0</td>\n",
       "    </tr>\n",
       "  </tbody>\n",
       "</table>\n",
       "</div>"
      ],
      "text/plain": [
       "    Subject Marks  GPA\n",
       "0     Maths    45  2.5\n",
       "1   History    65  3.0\n",
       "2   Science    78  3.5\n",
       "3   English    65  2.0\n",
       "4  Georaphy    80  4.0\n",
       "5       Art    78  4.0"
      ]
     },
     "execution_count": 55,
     "metadata": {},
     "output_type": "execute_result"
    }
   ],
   "source": [
    "# transpose the DataFrame\n",
    "df_marks.T"
   ]
  },
  {
   "cell_type": "markdown",
   "metadata": {
    "id": "fm0fIbld2g8d"
   },
   "source": [
    "**4. To create dataframe from series**"
   ]
  },
  {
   "cell_type": "code",
   "execution_count": 56,
   "metadata": {
    "id": "o7BFcsIU2g8d"
   },
   "outputs": [],
   "source": [
    "# declare the series 'Subject'\n",
    "Subject = pd.Series(['Maths', 'History', 'Science', 'English', 'Georaphy', 'Art'])\n",
    "\n",
    "# declare the series 'Marks'\n",
    "Marks = pd.Series([45, 65, 78, 65, 80, 78])\n",
    "\n",
    "# declare the series 'GPA'\n",
    "GPA = pd.Series([2.5, 3.0, 3.5, 2.0, 4.0, 4.0])"
   ]
  },
  {
   "cell_type": "code",
   "execution_count": 57,
   "metadata": {
    "id": "HrQqIfK52g8d",
    "outputId": "56fbf15b-a5aa-4952-dda3-1dd303f19c87"
   },
   "outputs": [
    {
     "data": {
      "text/html": [
       "<div>\n",
       "<style scoped>\n",
       "    .dataframe tbody tr th:only-of-type {\n",
       "        vertical-align: middle;\n",
       "    }\n",
       "\n",
       "    .dataframe tbody tr th {\n",
       "        vertical-align: top;\n",
       "    }\n",
       "\n",
       "    .dataframe thead th {\n",
       "        text-align: right;\n",
       "    }\n",
       "</style>\n",
       "<table border=\"1\" class=\"dataframe\">\n",
       "  <thead>\n",
       "    <tr style=\"text-align: right;\">\n",
       "      <th></th>\n",
       "      <th>0</th>\n",
       "      <th>1</th>\n",
       "      <th>2</th>\n",
       "      <th>3</th>\n",
       "      <th>4</th>\n",
       "      <th>5</th>\n",
       "    </tr>\n",
       "  </thead>\n",
       "  <tbody>\n",
       "    <tr>\n",
       "      <th>Subject</th>\n",
       "      <td>Maths</td>\n",
       "      <td>History</td>\n",
       "      <td>Science</td>\n",
       "      <td>English</td>\n",
       "      <td>Georaphy</td>\n",
       "      <td>Art</td>\n",
       "    </tr>\n",
       "    <tr>\n",
       "      <th>Marks</th>\n",
       "      <td>45</td>\n",
       "      <td>65</td>\n",
       "      <td>78</td>\n",
       "      <td>65</td>\n",
       "      <td>80</td>\n",
       "      <td>78</td>\n",
       "    </tr>\n",
       "    <tr>\n",
       "      <th>GPA</th>\n",
       "      <td>2.5</td>\n",
       "      <td>3.0</td>\n",
       "      <td>3.5</td>\n",
       "      <td>2.0</td>\n",
       "      <td>4.0</td>\n",
       "      <td>4.0</td>\n",
       "    </tr>\n",
       "  </tbody>\n",
       "</table>\n",
       "</div>"
      ],
      "text/plain": [
       "             0        1        2        3         4    5\n",
       "Subject  Maths  History  Science  English  Georaphy  Art\n",
       "Marks       45       65       78       65        80   78\n",
       "GPA        2.5      3.0      3.5      2.0       4.0  4.0"
      ]
     },
     "execution_count": 57,
     "metadata": {},
     "output_type": "execute_result"
    }
   ],
   "source": [
    "# create a DataFrame from the Series\n",
    "# index: specifies the index names\n",
    "df_marks = pd.DataFrame([Subject, Marks, GPA], index = ['Subject','Marks','GPA'])\n",
    "\n",
    "# print the DataFrame\n",
    "df_marks"
   ]
  },
  {
   "cell_type": "markdown",
   "metadata": {
    "id": "x4ScF7K72g8d"
   },
   "source": [
    "However to want a vertical dataframe so we use `.T`. The 'T' stands for transpose."
   ]
  },
  {
   "cell_type": "code",
   "execution_count": 58,
   "metadata": {
    "id": "qlEtFOJb2g8e",
    "outputId": "ad18d6bb-bb48-4cc3-e568-a812777d9511"
   },
   "outputs": [
    {
     "data": {
      "text/html": [
       "<div>\n",
       "<style scoped>\n",
       "    .dataframe tbody tr th:only-of-type {\n",
       "        vertical-align: middle;\n",
       "    }\n",
       "\n",
       "    .dataframe tbody tr th {\n",
       "        vertical-align: top;\n",
       "    }\n",
       "\n",
       "    .dataframe thead th {\n",
       "        text-align: right;\n",
       "    }\n",
       "</style>\n",
       "<table border=\"1\" class=\"dataframe\">\n",
       "  <thead>\n",
       "    <tr style=\"text-align: right;\">\n",
       "      <th></th>\n",
       "      <th>Subject</th>\n",
       "      <th>Marks</th>\n",
       "      <th>GPA</th>\n",
       "    </tr>\n",
       "  </thead>\n",
       "  <tbody>\n",
       "    <tr>\n",
       "      <th>0</th>\n",
       "      <td>Maths</td>\n",
       "      <td>45</td>\n",
       "      <td>2.5</td>\n",
       "    </tr>\n",
       "    <tr>\n",
       "      <th>1</th>\n",
       "      <td>History</td>\n",
       "      <td>65</td>\n",
       "      <td>3.0</td>\n",
       "    </tr>\n",
       "    <tr>\n",
       "      <th>2</th>\n",
       "      <td>Science</td>\n",
       "      <td>78</td>\n",
       "      <td>3.5</td>\n",
       "    </tr>\n",
       "    <tr>\n",
       "      <th>3</th>\n",
       "      <td>English</td>\n",
       "      <td>65</td>\n",
       "      <td>2.0</td>\n",
       "    </tr>\n",
       "    <tr>\n",
       "      <th>4</th>\n",
       "      <td>Georaphy</td>\n",
       "      <td>80</td>\n",
       "      <td>4.0</td>\n",
       "    </tr>\n",
       "    <tr>\n",
       "      <th>5</th>\n",
       "      <td>Art</td>\n",
       "      <td>78</td>\n",
       "      <td>4.0</td>\n",
       "    </tr>\n",
       "  </tbody>\n",
       "</table>\n",
       "</div>"
      ],
      "text/plain": [
       "    Subject Marks  GPA\n",
       "0     Maths    45  2.5\n",
       "1   History    65  3.0\n",
       "2   Science    78  3.5\n",
       "3   English    65  2.0\n",
       "4  Georaphy    80  4.0\n",
       "5       Art    78  4.0"
      ]
     },
     "execution_count": 58,
     "metadata": {},
     "output_type": "execute_result"
    }
   ],
   "source": [
    "# transpose the DataFrame\n",
    "df_marks.T"
   ]
  },
  {
   "cell_type": "markdown",
   "metadata": {
    "id": "B-Dk0azN2g8e"
   },
   "source": [
    "**Remark:** Assign a name to the data frame and then use `.T` to transpose it."
   ]
  },
  {
   "cell_type": "markdown",
   "metadata": {
    "id": "70VWeEsZ2g8e"
   },
   "source": [
    "**5. To read data from csv file**"
   ]
  },
  {
   "cell_type": "code",
   "execution_count": 59,
   "metadata": {
    "id": "RAFFH_TR2g8e"
   },
   "outputs": [],
   "source": [
    "df_basic_info = pd.read_csv(\"basic_info.csv\")"
   ]
  },
  {
   "cell_type": "code",
   "execution_count": 60,
   "metadata": {
    "id": "YE_7yoWz2g8e",
    "outputId": "3def5e53-1232-4502-d17c-4147132633c7"
   },
   "outputs": [
    {
     "data": {
      "text/plain": [
       "pandas.core.frame.DataFrame"
      ]
     },
     "execution_count": 60,
     "metadata": {},
     "output_type": "execute_result"
    }
   ],
   "source": [
    "type(df_basic_info)"
   ]
  },
  {
   "cell_type": "markdown",
   "metadata": {
    "id": "7hcIzzK_2g8e"
   },
   "source": [
    "On checking the data type, we notice it is read as pandas data frame."
   ]
  },
  {
   "cell_type": "code",
   "execution_count": 61,
   "metadata": {
    "id": "2c4V0rES2g8e",
    "outputId": "c2972330-7604-4fe1-8936-cbb247402fc1",
    "scrolled": false
   },
   "outputs": [
    {
     "name": "stdout",
     "output_type": "stream",
     "text": [
      "    Age  Weight (in kg)  Height (in m)\n",
      "0    45              60           1.35\n",
      "1    12              43           1.21\n",
      "2    54              78           1.50\n",
      "3    26              65           1.21\n",
      "4    68              50           1.32\n",
      "5    21              43           1.52\n",
      "6    10              32           1.65\n",
      "7    57              34           1.61\n",
      "8    75              23           1.24\n",
      "9    32              21           1.52\n",
      "10   23              53           1.50\n",
      "11   34              65           1.76\n",
      "12   55              89           1.65\n",
      "13   23              45           1.75\n",
      "14   56              76           1.69\n",
      "15   67              78           1.85\n",
      "16   26              65           1.21\n",
      "17   56              74           1.69\n",
      "18   67              78           1.85\n",
      "19   26              65           1.21\n",
      "20   68              50           1.32\n",
      "21   56              76           1.69\n",
      "22   67              78           1.85\n"
     ]
    }
   ],
   "source": [
    "print(df_basic_info)"
   ]
  },
  {
   "cell_type": "markdown",
   "metadata": {
    "id": "xJYcFzNn2g8f"
   },
   "source": [
    "**6. To print head of the data**"
   ]
  },
  {
   "cell_type": "code",
   "execution_count": 62,
   "metadata": {
    "id": "K2LPSZqz2g8f",
    "outputId": "5b1a22e8-0255-49e4-9eaf-051714a11312"
   },
   "outputs": [
    {
     "data": {
      "text/html": [
       "<div>\n",
       "<style scoped>\n",
       "    .dataframe tbody tr th:only-of-type {\n",
       "        vertical-align: middle;\n",
       "    }\n",
       "\n",
       "    .dataframe tbody tr th {\n",
       "        vertical-align: top;\n",
       "    }\n",
       "\n",
       "    .dataframe thead th {\n",
       "        text-align: right;\n",
       "    }\n",
       "</style>\n",
       "<table border=\"1\" class=\"dataframe\">\n",
       "  <thead>\n",
       "    <tr style=\"text-align: right;\">\n",
       "      <th></th>\n",
       "      <th>Age</th>\n",
       "      <th>Weight (in kg)</th>\n",
       "      <th>Height (in m)</th>\n",
       "    </tr>\n",
       "  </thead>\n",
       "  <tbody>\n",
       "    <tr>\n",
       "      <th>0</th>\n",
       "      <td>45</td>\n",
       "      <td>60</td>\n",
       "      <td>1.35</td>\n",
       "    </tr>\n",
       "    <tr>\n",
       "      <th>1</th>\n",
       "      <td>12</td>\n",
       "      <td>43</td>\n",
       "      <td>1.21</td>\n",
       "    </tr>\n",
       "    <tr>\n",
       "      <th>2</th>\n",
       "      <td>54</td>\n",
       "      <td>78</td>\n",
       "      <td>1.50</td>\n",
       "    </tr>\n",
       "    <tr>\n",
       "      <th>3</th>\n",
       "      <td>26</td>\n",
       "      <td>65</td>\n",
       "      <td>1.21</td>\n",
       "    </tr>\n",
       "    <tr>\n",
       "      <th>4</th>\n",
       "      <td>68</td>\n",
       "      <td>50</td>\n",
       "      <td>1.32</td>\n",
       "    </tr>\n",
       "  </tbody>\n",
       "</table>\n",
       "</div>"
      ],
      "text/plain": [
       "   Age  Weight (in kg)  Height (in m)\n",
       "0   45              60           1.35\n",
       "1   12              43           1.21\n",
       "2   54              78           1.50\n",
       "3   26              65           1.21\n",
       "4   68              50           1.32"
      ]
     },
     "execution_count": 62,
     "metadata": {},
     "output_type": "execute_result"
    }
   ],
   "source": [
    "# display the first 5 rows of the DataFrame\n",
    "# head(): displays the first 5 rows\n",
    "# to display more rows, for example 15, use head(15)\n",
    "# the default value is 5\n",
    "df_basic_info.head()"
   ]
  },
  {
   "cell_type": "markdown",
   "metadata": {
    "id": "i9gYxwiV2g8f"
   },
   "source": [
    "By default, the `.head()` will display **first** five rows. However, we can set the desired number of rows to be displayed.\n",
    "\n",
    "Say we want to see the first 9 rows, we write the number 9 in the parentheses."
   ]
  },
  {
   "cell_type": "code",
   "execution_count": 63,
   "metadata": {
    "id": "fUNZbb0B2g8f",
    "outputId": "01651121-e7ea-4cd1-a9c9-70d211a98002"
   },
   "outputs": [
    {
     "data": {
      "text/html": [
       "<div>\n",
       "<style scoped>\n",
       "    .dataframe tbody tr th:only-of-type {\n",
       "        vertical-align: middle;\n",
       "    }\n",
       "\n",
       "    .dataframe tbody tr th {\n",
       "        vertical-align: top;\n",
       "    }\n",
       "\n",
       "    .dataframe thead th {\n",
       "        text-align: right;\n",
       "    }\n",
       "</style>\n",
       "<table border=\"1\" class=\"dataframe\">\n",
       "  <thead>\n",
       "    <tr style=\"text-align: right;\">\n",
       "      <th></th>\n",
       "      <th>Age</th>\n",
       "      <th>Weight (in kg)</th>\n",
       "      <th>Height (in m)</th>\n",
       "    </tr>\n",
       "  </thead>\n",
       "  <tbody>\n",
       "    <tr>\n",
       "      <th>0</th>\n",
       "      <td>45</td>\n",
       "      <td>60</td>\n",
       "      <td>1.35</td>\n",
       "    </tr>\n",
       "    <tr>\n",
       "      <th>1</th>\n",
       "      <td>12</td>\n",
       "      <td>43</td>\n",
       "      <td>1.21</td>\n",
       "    </tr>\n",
       "    <tr>\n",
       "      <th>2</th>\n",
       "      <td>54</td>\n",
       "      <td>78</td>\n",
       "      <td>1.50</td>\n",
       "    </tr>\n",
       "    <tr>\n",
       "      <th>3</th>\n",
       "      <td>26</td>\n",
       "      <td>65</td>\n",
       "      <td>1.21</td>\n",
       "    </tr>\n",
       "    <tr>\n",
       "      <th>4</th>\n",
       "      <td>68</td>\n",
       "      <td>50</td>\n",
       "      <td>1.32</td>\n",
       "    </tr>\n",
       "    <tr>\n",
       "      <th>5</th>\n",
       "      <td>21</td>\n",
       "      <td>43</td>\n",
       "      <td>1.52</td>\n",
       "    </tr>\n",
       "    <tr>\n",
       "      <th>6</th>\n",
       "      <td>10</td>\n",
       "      <td>32</td>\n",
       "      <td>1.65</td>\n",
       "    </tr>\n",
       "    <tr>\n",
       "      <th>7</th>\n",
       "      <td>57</td>\n",
       "      <td>34</td>\n",
       "      <td>1.61</td>\n",
       "    </tr>\n",
       "    <tr>\n",
       "      <th>8</th>\n",
       "      <td>75</td>\n",
       "      <td>23</td>\n",
       "      <td>1.24</td>\n",
       "    </tr>\n",
       "  </tbody>\n",
       "</table>\n",
       "</div>"
      ],
      "text/plain": [
       "   Age  Weight (in kg)  Height (in m)\n",
       "0   45              60           1.35\n",
       "1   12              43           1.21\n",
       "2   54              78           1.50\n",
       "3   26              65           1.21\n",
       "4   68              50           1.32\n",
       "5   21              43           1.52\n",
       "6   10              32           1.65\n",
       "7   57              34           1.61\n",
       "8   75              23           1.24"
      ]
     },
     "execution_count": 63,
     "metadata": {},
     "output_type": "execute_result"
    }
   ],
   "source": [
    "# display 9 rows\n",
    "df_basic_info.head(9)"
   ]
  },
  {
   "cell_type": "markdown",
   "metadata": {
    "id": "MUVbGZzM2g8f"
   },
   "source": [
    "**7. To print tail of the data**"
   ]
  },
  {
   "cell_type": "code",
   "execution_count": 64,
   "metadata": {
    "id": "ucZWqFbS2g8f",
    "outputId": "4a471e64-bcb0-40e0-b12b-90326e377afd"
   },
   "outputs": [
    {
     "data": {
      "text/html": [
       "<div>\n",
       "<style scoped>\n",
       "    .dataframe tbody tr th:only-of-type {\n",
       "        vertical-align: middle;\n",
       "    }\n",
       "\n",
       "    .dataframe tbody tr th {\n",
       "        vertical-align: top;\n",
       "    }\n",
       "\n",
       "    .dataframe thead th {\n",
       "        text-align: right;\n",
       "    }\n",
       "</style>\n",
       "<table border=\"1\" class=\"dataframe\">\n",
       "  <thead>\n",
       "    <tr style=\"text-align: right;\">\n",
       "      <th></th>\n",
       "      <th>Age</th>\n",
       "      <th>Weight (in kg)</th>\n",
       "      <th>Height (in m)</th>\n",
       "    </tr>\n",
       "  </thead>\n",
       "  <tbody>\n",
       "    <tr>\n",
       "      <th>18</th>\n",
       "      <td>67</td>\n",
       "      <td>78</td>\n",
       "      <td>1.85</td>\n",
       "    </tr>\n",
       "    <tr>\n",
       "      <th>19</th>\n",
       "      <td>26</td>\n",
       "      <td>65</td>\n",
       "      <td>1.21</td>\n",
       "    </tr>\n",
       "    <tr>\n",
       "      <th>20</th>\n",
       "      <td>68</td>\n",
       "      <td>50</td>\n",
       "      <td>1.32</td>\n",
       "    </tr>\n",
       "    <tr>\n",
       "      <th>21</th>\n",
       "      <td>56</td>\n",
       "      <td>76</td>\n",
       "      <td>1.69</td>\n",
       "    </tr>\n",
       "    <tr>\n",
       "      <th>22</th>\n",
       "      <td>67</td>\n",
       "      <td>78</td>\n",
       "      <td>1.85</td>\n",
       "    </tr>\n",
       "  </tbody>\n",
       "</table>\n",
       "</div>"
      ],
      "text/plain": [
       "    Age  Weight (in kg)  Height (in m)\n",
       "18   67              78           1.85\n",
       "19   26              65           1.21\n",
       "20   68              50           1.32\n",
       "21   56              76           1.69\n",
       "22   67              78           1.85"
      ]
     },
     "execution_count": 64,
     "metadata": {},
     "output_type": "execute_result"
    }
   ],
   "source": [
    "# to display the last 5 rows\n",
    "df_basic_info.tail()"
   ]
  },
  {
   "cell_type": "markdown",
   "metadata": {
    "id": "ZQu5v4xO2g8f"
   },
   "source": [
    "By default, the `.tail()` will display **last** five rows. However, we can set the desired number of rows to be displayed.\n",
    "\n",
    "Say we want to see the last 14 rows, we write the number 14 in the parentheses."
   ]
  },
  {
   "cell_type": "code",
   "execution_count": 65,
   "metadata": {
    "id": "L4SrmaU-2g8f",
    "outputId": "fd8b9429-a934-4188-d388-8ab03370a06e"
   },
   "outputs": [
    {
     "data": {
      "text/html": [
       "<div>\n",
       "<style scoped>\n",
       "    .dataframe tbody tr th:only-of-type {\n",
       "        vertical-align: middle;\n",
       "    }\n",
       "\n",
       "    .dataframe tbody tr th {\n",
       "        vertical-align: top;\n",
       "    }\n",
       "\n",
       "    .dataframe thead th {\n",
       "        text-align: right;\n",
       "    }\n",
       "</style>\n",
       "<table border=\"1\" class=\"dataframe\">\n",
       "  <thead>\n",
       "    <tr style=\"text-align: right;\">\n",
       "      <th></th>\n",
       "      <th>Age</th>\n",
       "      <th>Weight (in kg)</th>\n",
       "      <th>Height (in m)</th>\n",
       "    </tr>\n",
       "  </thead>\n",
       "  <tbody>\n",
       "    <tr>\n",
       "      <th>9</th>\n",
       "      <td>32</td>\n",
       "      <td>21</td>\n",
       "      <td>1.52</td>\n",
       "    </tr>\n",
       "    <tr>\n",
       "      <th>10</th>\n",
       "      <td>23</td>\n",
       "      <td>53</td>\n",
       "      <td>1.50</td>\n",
       "    </tr>\n",
       "    <tr>\n",
       "      <th>11</th>\n",
       "      <td>34</td>\n",
       "      <td>65</td>\n",
       "      <td>1.76</td>\n",
       "    </tr>\n",
       "    <tr>\n",
       "      <th>12</th>\n",
       "      <td>55</td>\n",
       "      <td>89</td>\n",
       "      <td>1.65</td>\n",
       "    </tr>\n",
       "    <tr>\n",
       "      <th>13</th>\n",
       "      <td>23</td>\n",
       "      <td>45</td>\n",
       "      <td>1.75</td>\n",
       "    </tr>\n",
       "    <tr>\n",
       "      <th>14</th>\n",
       "      <td>56</td>\n",
       "      <td>76</td>\n",
       "      <td>1.69</td>\n",
       "    </tr>\n",
       "    <tr>\n",
       "      <th>15</th>\n",
       "      <td>67</td>\n",
       "      <td>78</td>\n",
       "      <td>1.85</td>\n",
       "    </tr>\n",
       "    <tr>\n",
       "      <th>16</th>\n",
       "      <td>26</td>\n",
       "      <td>65</td>\n",
       "      <td>1.21</td>\n",
       "    </tr>\n",
       "    <tr>\n",
       "      <th>17</th>\n",
       "      <td>56</td>\n",
       "      <td>74</td>\n",
       "      <td>1.69</td>\n",
       "    </tr>\n",
       "    <tr>\n",
       "      <th>18</th>\n",
       "      <td>67</td>\n",
       "      <td>78</td>\n",
       "      <td>1.85</td>\n",
       "    </tr>\n",
       "    <tr>\n",
       "      <th>19</th>\n",
       "      <td>26</td>\n",
       "      <td>65</td>\n",
       "      <td>1.21</td>\n",
       "    </tr>\n",
       "    <tr>\n",
       "      <th>20</th>\n",
       "      <td>68</td>\n",
       "      <td>50</td>\n",
       "      <td>1.32</td>\n",
       "    </tr>\n",
       "    <tr>\n",
       "      <th>21</th>\n",
       "      <td>56</td>\n",
       "      <td>76</td>\n",
       "      <td>1.69</td>\n",
       "    </tr>\n",
       "    <tr>\n",
       "      <th>22</th>\n",
       "      <td>67</td>\n",
       "      <td>78</td>\n",
       "      <td>1.85</td>\n",
       "    </tr>\n",
       "  </tbody>\n",
       "</table>\n",
       "</div>"
      ],
      "text/plain": [
       "    Age  Weight (in kg)  Height (in m)\n",
       "9    32              21           1.52\n",
       "10   23              53           1.50\n",
       "11   34              65           1.76\n",
       "12   55              89           1.65\n",
       "13   23              45           1.75\n",
       "14   56              76           1.69\n",
       "15   67              78           1.85\n",
       "16   26              65           1.21\n",
       "17   56              74           1.69\n",
       "18   67              78           1.85\n",
       "19   26              65           1.21\n",
       "20   68              50           1.32\n",
       "21   56              76           1.69\n",
       "22   67              78           1.85"
      ]
     },
     "execution_count": 65,
     "metadata": {},
     "output_type": "execute_result"
    }
   ],
   "source": [
    "# to display the last 14 rows\n",
    "df_basic_info.tail(14)"
   ]
  },
  {
   "cell_type": "markdown",
   "metadata": {
    "id": "zDFHJB4x2g8g"
   },
   "source": [
    "**8. To obtain the dimension of the data**"
   ]
  },
  {
   "cell_type": "code",
   "execution_count": 66,
   "metadata": {
    "id": "D7pTvsRA2g8g",
    "outputId": "ce358f6a-24e8-4b5d-85f7-d2413d38e578"
   },
   "outputs": [
    {
     "data": {
      "text/plain": [
       "(23, 3)"
      ]
     },
     "execution_count": 66,
     "metadata": {},
     "output_type": "execute_result"
    }
   ],
   "source": [
    "# to display the shape of the data\n",
    "df_basic_info.shape"
   ]
  },
  {
   "cell_type": "markdown",
   "metadata": {
    "id": "1cZoJ57j2g8g"
   },
   "source": [
    "**9. To know the data types of a data frame**"
   ]
  },
  {
   "cell_type": "code",
   "execution_count": 67,
   "metadata": {
    "id": "viJZ0RZD2g8g",
    "outputId": "9cc68337-a459-4a12-ff20-c63ba4e3c80f"
   },
   "outputs": [
    {
     "data": {
      "text/plain": [
       "Age                 int64\n",
       "Weight (in kg)      int64\n",
       "Height (in m)     float64\n",
       "dtype: object"
      ]
     },
     "execution_count": 67,
     "metadata": {},
     "output_type": "execute_result"
    }
   ],
   "source": [
    "# to know the type of each variable\n",
    "df_basic_info.dtypes"
   ]
  },
  {
   "cell_type": "markdown",
   "metadata": {
    "id": "HC6mmtda2g8g"
   },
   "source": [
    "We see the data type of each variable."
   ]
  },
  {
   "cell_type": "markdown",
   "metadata": {
    "id": "ZtMOtKJl2g8g"
   },
   "source": [
    "**10. To know some information of the data**"
   ]
  },
  {
   "cell_type": "code",
   "execution_count": 68,
   "metadata": {
    "id": "JQt-E8dl2g8g",
    "outputId": "be2a7164-d636-480d-c913-4db289aea159"
   },
   "outputs": [
    {
     "name": "stdout",
     "output_type": "stream",
     "text": [
      "<class 'pandas.core.frame.DataFrame'>\n",
      "RangeIndex: 23 entries, 0 to 22\n",
      "Data columns (total 3 columns):\n",
      " #   Column          Non-Null Count  Dtype  \n",
      "---  ------          --------------  -----  \n",
      " 0   Age             23 non-null     int64  \n",
      " 1   Weight (in kg)  23 non-null     int64  \n",
      " 2   Height (in m)   23 non-null     float64\n",
      "dtypes: float64(1), int64(2)\n",
      "memory usage: 680.0 bytes\n"
     ]
    }
   ],
   "source": [
    "# to know information on the variables in the data\n",
    "df_basic_info.info()"
   ]
  },
  {
   "cell_type": "markdown",
   "metadata": {
    "id": "Ao5zfQpS2g8g"
   },
   "source": [
    "We see this output gives the number of rows present in the data `RangeIndex: 23 entries, 0 to 22` There are 23 rows numbered from 0 to 22. And there are a total of three columns - `Data columns (total 3 columns)`. \n",
    "\n",
    "Consider `Age 23 non-null int64` indicates that the column named 'Age' has 23 non-null observations having the data type 'int64'\n",
    "\n",
    "And finally the memory used to save this dataframe is 680 bytes."
   ]
  },
  {
   "cell_type": "markdown",
   "metadata": {
    "id": "-awdByiC2g8g"
   },
   "source": [
    "**11. To check the data type of column in the data frame**"
   ]
  },
  {
   "cell_type": "code",
   "execution_count": 69,
   "metadata": {
    "id": "vnFgBWBB2g8h",
    "outputId": "cc4b1c63-304b-4cdc-d26d-efd244d82a8e"
   },
   "outputs": [
    {
     "data": {
      "text/plain": [
       "pandas.core.series.Series"
      ]
     },
     "execution_count": 69,
     "metadata": {},
     "output_type": "execute_result"
    }
   ],
   "source": [
    "# check the type of each variable\n",
    "type(df_basic_info.Age)"
   ]
  },
  {
   "cell_type": "code",
   "execution_count": 70,
   "metadata": {
    "id": "e28tCrbC2g8h",
    "outputId": "d2801f5a-7a89-4bcf-ea18-b81a331b0224"
   },
   "outputs": [
    {
     "data": {
      "text/plain": [
       "pandas.core.series.Series"
      ]
     },
     "execution_count": 70,
     "metadata": {},
     "output_type": "execute_result"
    }
   ],
   "source": [
    "# check the type of each variable\n",
    "type(df_basic_info[\"Weight (in kg)\"])"
   ]
  },
  {
   "cell_type": "code",
   "execution_count": 71,
   "metadata": {
    "id": "IkkU-Wew2g8h",
    "outputId": "62230ae3-57c0-4100-d0ad-007cc3111b23"
   },
   "outputs": [
    {
     "data": {
      "text/plain": [
       "pandas.core.series.Series"
      ]
     },
     "execution_count": 71,
     "metadata": {},
     "output_type": "execute_result"
    }
   ],
   "source": [
    "# check the type of each variable\n",
    "type(df_basic_info[\"Height (in m)\"])"
   ]
  },
  {
   "cell_type": "code",
   "execution_count": 72,
   "metadata": {
    "scrolled": true
   },
   "outputs": [
    {
     "ename": "NameError",
     "evalue": "name 'df1' is not defined",
     "output_type": "error",
     "traceback": [
      "\u001b[0;31m---------------------------------------------------------------------------\u001b[0m",
      "\u001b[0;31mNameError\u001b[0m                                 Traceback (most recent call last)",
      "Input \u001b[0;32mIn [72]\u001b[0m, in \u001b[0;36m<cell line: 2>\u001b[0;34m()\u001b[0m\n\u001b[1;32m      1\u001b[0m \u001b[38;5;66;03m# Describe :\u001b[39;00m\n\u001b[0;32m----> 2\u001b[0m \u001b[43mdf1\u001b[49m\u001b[38;5;241m.\u001b[39mdescribe()\n",
      "\u001b[0;31mNameError\u001b[0m: name 'df1' is not defined"
     ]
    }
   ],
   "source": [
    "# Describe :\n",
    "df1.describe()"
   ]
  },
  {
   "cell_type": "code",
   "execution_count": null,
   "metadata": {},
   "outputs": [],
   "source": [
    "df1.describe(include='all')"
   ]
  },
  {
   "cell_type": "markdown",
   "metadata": {},
   "source": [
    "# -------------------------------------------------------------------------------------------\n",
    "# USER :"
   ]
  },
  {
   "cell_type": "code",
   "execution_count": null,
   "metadata": {},
   "outputs": [],
   "source": [
    "# DataFrame from list in list :\n",
    "\n",
    "list1=[[\"S1\",20],[\"S2\",80],[\"S3\",70]]\n",
    "data1=pd.DataFrame(list1,columns=[\"Name\",\"Marks\"])\n",
    "data1"
   ]
  },
  {
   "cell_type": "code",
   "execution_count": null,
   "metadata": {},
   "outputs": [],
   "source": [
    "list1=[[\"S1\",20],[\"S2\",80],[\"S3\",70]]\n",
    "data1=pd.DataFrame(list1,columns=[\"Name\",\"Marks\"],index=[\"row1\",'row2','row3'])\n",
    "data1"
   ]
  },
  {
   "cell_type": "code",
   "execution_count": null,
   "metadata": {},
   "outputs": [],
   "source": [
    "Subject=['ABC','DEF','GHI']\n",
    "Marks=[10,23,20]\n",
    "CGPA=[3,5,4]\n",
    "data1=pd.DataFrame([Subject,Marks,CGPA],index=['Subject','Marks','CGPA'])\n",
    "print(data1,'\\n')\n",
    "print(data1.T)"
   ]
  },
  {
   "cell_type": "code",
   "execution_count": null,
   "metadata": {},
   "outputs": [],
   "source": [
    "# DataFrame from dictionary :\n",
    "\n",
    "dict1={\"Name\":(\"S4\",\"S5\",\"S6\"),\n",
    "       \"Marks\":(45,56,44),\n",
    "       \"CGPA\":(3,4,3)}\n",
    "data2=pd.DataFrame(dict1)\n",
    "data2"
   ]
  },
  {
   "cell_type": "code",
   "execution_count": null,
   "metadata": {},
   "outputs": [],
   "source": [
    "dict2=[{\"Subject\":\"A\",\"Marks\":50,\"CGPA\":4},\n",
    "       {\"Subject\":\"B\",\"Marks\":60,\"CGPA\":3},\n",
    "       {\"Subject\":\"C\",\"Marks\":40,\"CGPA\":4},\n",
    "       {\"Subject\":\"D\",\"Marks\":55,\"CGPA\":5},\n",
    "       {\"Subject\":\"E\",\"Marks\":65,\"CGPA\":7}]\n",
    "data3=pd.DataFrame(dict2)\n",
    "print(data3)"
   ]
  },
  {
   "cell_type": "code",
   "execution_count": null,
   "metadata": {},
   "outputs": [],
   "source": [
    "#                                              Reading FILES :"
   ]
  },
  {
   "cell_type": "code",
   "execution_count": null,
   "metadata": {},
   "outputs": [],
   "source": [
    "#pd.read_csv('file')\n",
    "df1=pd.read_csv('basic_info.csv')\n",
    "df1"
   ]
  },
  {
   "cell_type": "code",
   "execution_count": null,
   "metadata": {},
   "outputs": [],
   "source": [
    "#html:\n",
    "df2=pd.read_html('employee.html',header=1,index_col=0)\n",
    "df2"
   ]
  },
  {
   "cell_type": "code",
   "execution_count": null,
   "metadata": {
    "scrolled": true
   },
   "outputs": [],
   "source": [
    "#text file:\n",
    "df3=pd.read_csv('demography.txt',delimiter='\\t')\n",
    "df3"
   ]
  },
  {
   "cell_type": "code",
   "execution_count": null,
   "metadata": {},
   "outputs": [],
   "source": [
    "# excel file:\n",
    "dict4=pd.read_excel('employee_info.xlsx',sheet_name=0)         # 0 - reads the first sheet or \"sheet1\"\n",
    "dict4"
   ]
  },
  {
   "cell_type": "code",
   "execution_count": null,
   "metadata": {},
   "outputs": [],
   "source": [
    "# xml file:\n",
    "dict5=pd.read_xml('student_data.xml')\n",
    "dict5"
   ]
  },
  {
   "cell_type": "code",
   "execution_count": null,
   "metadata": {},
   "outputs": [],
   "source": [
    "df11=pd.read_csv('basic_info.csv')\n",
    "df11.to_json('jnew.json')\n",
    "df11.to_html('hnew.html')\n",
    "df11.to_excel('enew.xlsx')"
   ]
  },
  {
   "cell_type": "code",
   "execution_count": null,
   "metadata": {},
   "outputs": [],
   "source": [
    "# Seaborn Library : preinstalled datasets available for practice\n",
    "import seaborn as sns\n",
    "sns.get_dataset_names()"
   ]
  },
  {
   "cell_type": "code",
   "execution_count": null,
   "metadata": {},
   "outputs": [],
   "source": [
    "# get \"flight\" dataset\n",
    "fly=sns.load_dataset('flights')\n",
    "print(fly)"
   ]
  },
  {
   "cell_type": "code",
   "execution_count": null,
   "metadata": {},
   "outputs": [],
   "source": []
  },
  {
   "cell_type": "code",
   "execution_count": null,
   "metadata": {},
   "outputs": [],
   "source": []
  },
  {
   "cell_type": "code",
   "execution_count": null,
   "metadata": {},
   "outputs": [],
   "source": []
  },
  {
   "cell_type": "markdown",
   "metadata": {
    "id": "bC7EBPm42g8h"
   },
   "source": [
    "**Note that every column of the data frame is a pandas Series.**"
   ]
  },
  {
   "cell_type": "markdown",
   "metadata": {
    "id": "Q7VLXpT52g8h"
   },
   "source": [
    "<a id=\"manipulatingDF\"> </a>\n",
    "### 4.2  Manipulating DataFrames "
   ]
  },
  {
   "cell_type": "markdown",
   "metadata": {
    "id": "Np5FDc6V2g8h"
   },
   "source": [
    "### Add new column and rows"
   ]
  },
  {
   "cell_type": "markdown",
   "metadata": {
    "id": "_hTpvZ-j2g8i"
   },
   "source": [
    " **Remark:**   \n",
    " 1. DataFrame[column] works for any column name, but DataFrame.column only works when the column name is a valid Python variable name.<br>\n",
    " 2. New columns cannot be created with the ` df_basic_info.BMI ` syntax.\n",
    "                   "
   ]
  },
  {
   "cell_type": "markdown",
   "metadata": {
    "id": "GU15E7dK2g8i"
   },
   "source": [
    "**1. Adding a new column to the data set**"
   ]
  },
  {
   "cell_type": "code",
   "execution_count": null,
   "metadata": {
    "id": "9Aw2CKI32g8i"
   },
   "outputs": [],
   "source": [
    "# create a new variable BMI\n",
    "df_basic_info[\"BMI\"] = df_basic_info[\"Weight (in kg)\"] / df_basic_info[\"Height (in m)\"]**2"
   ]
  },
  {
   "cell_type": "code",
   "execution_count": null,
   "metadata": {
    "id": "ShwxJRbU2g8i",
    "outputId": "1562ad20-9244-44d6-ce87-859b14f7a085"
   },
   "outputs": [],
   "source": [
    "# print the DataFrame\n",
    "df_basic_info.head()"
   ]
  },
  {
   "cell_type": "code",
   "execution_count": null,
   "metadata": {
    "id": "Oiaf3F3I2g8i",
    "outputId": "296d3252-8556-447a-b64f-72d14969a3e2"
   },
   "outputs": [],
   "source": [
    "# check the shape of the DataFrame\n",
    "df_basic_info.shape"
   ]
  },
  {
   "cell_type": "markdown",
   "metadata": {
    "id": "Qr_KOLz12g8i"
   },
   "source": [
    "**2. Adding a new row to the data set**"
   ]
  },
  {
   "cell_type": "markdown",
   "metadata": {
    "id": "82GwzFpP2g8i"
   },
   "source": [
    "A new row can be added using the `loc`"
   ]
  },
  {
   "cell_type": "code",
   "execution_count": null,
   "metadata": {
    "id": "RryNA2Jy2g8i"
   },
   "outputs": [],
   "source": [
    "# add a new row at the end of the DataFrame\n",
    "df_basic_info.loc[24] = [45, 85, 1.8, 26.3]"
   ]
  },
  {
   "cell_type": "code",
   "execution_count": null,
   "metadata": {
    "id": "jGtsgIvA2g8j",
    "outputId": "394abfae-d95a-4386-b048-461cef52e857"
   },
   "outputs": [],
   "source": [
    "# display the DataFrame\n",
    "df_basic_info"
   ]
  },
  {
   "cell_type": "markdown",
   "metadata": {
    "id": "jD347bLt2g8j"
   },
   "source": [
    "We see that a new column number 23 has be added to the data."
   ]
  },
  {
   "cell_type": "markdown",
   "metadata": {
    "id": "k33pSpxe2g8j"
   },
   "source": [
    "**3. Indexing a dataframe using `.iloc`**\n",
    "\n",
    "`DataFrame.iloc[]` method is used when the index label of a data frame is something other than numeric series of 0, 1, 2, 3….n or in case the user doesn’t know the index label. "
   ]
  },
  {
   "cell_type": "markdown",
   "metadata": {
    "id": "gj3Phn9b2g8j"
   },
   "source": [
    "We shall work on the BMI data set.\n",
    "\n",
    "#### Select the 2nd row"
   ]
  },
  {
   "cell_type": "code",
   "execution_count": null,
   "metadata": {
    "id": "pw-J_Db_2g8j",
    "outputId": "cc6f2b22-96a4-4afe-8bcc-3d8c6d494958"
   },
   "outputs": [],
   "source": [
    "# select the second row\n",
    "df_basic_info.iloc[2]"
   ]
  },
  {
   "cell_type": "code",
   "execution_count": null,
   "metadata": {},
   "outputs": [],
   "source": [
    "df_basic_info.iloc[0]"
   ]
  },
  {
   "cell_type": "code",
   "execution_count": null,
   "metadata": {},
   "outputs": [],
   "source": []
  },
  {
   "cell_type": "code",
   "execution_count": null,
   "metadata": {},
   "outputs": [],
   "source": []
  },
  {
   "cell_type": "markdown",
   "metadata": {
    "id": "loK9lTxm2g8j"
   },
   "source": [
    "#### Select fourth, seventh and tenth rows"
   ]
  },
  {
   "cell_type": "code",
   "execution_count": null,
   "metadata": {
    "id": "3BCnV-_C2g8j",
    "outputId": "7b8aff4e-fbc4-48ec-f560-8b3df019d6ac"
   },
   "outputs": [],
   "source": [
    "# select the 4th, 7th and the 10th row\n",
    "df_basic_info.iloc[[4,7,10]]"
   ]
  },
  {
   "cell_type": "markdown",
   "metadata": {
    "id": "Vbz2GD4_2g8k"
   },
   "source": [
    "We use two square brackets since we are passing a list of row numbers to be accessed."
   ]
  },
  {
   "cell_type": "markdown",
   "metadata": {
    "id": "5kwZ3yNs2g8k"
   },
   "source": [
    "#### Select 12th to 17th rows"
   ]
  },
  {
   "cell_type": "code",
   "execution_count": null,
   "metadata": {
    "id": "D1HZb_qW2g8k",
    "outputId": "0f7c657c-0137-4f57-e113-ffe32f37cecd"
   },
   "outputs": [],
   "source": [
    "# select rows \n",
    "df_basic_info.iloc[12:18]"
   ]
  },
  {
   "cell_type": "markdown",
   "metadata": {
    "id": "2Y1UZQZT2g8k"
   },
   "source": [
    "#### Select the 1st column"
   ]
  },
  {
   "cell_type": "code",
   "execution_count": null,
   "metadata": {
    "id": "7pftUhWI2g8k",
    "outputId": "9fe87914-df22-4bad-961f-39cbf3824cd8"
   },
   "outputs": [],
   "source": [
    "# select the 1st column\n",
    "df_basic_info.iloc[:, 1]"
   ]
  },
  {
   "cell_type": "markdown",
   "metadata": {
    "id": "MfPGrrAu2g8k"
   },
   "source": [
    "#### Select the last column"
   ]
  },
  {
   "cell_type": "code",
   "execution_count": null,
   "metadata": {
    "id": "lI8RznVJ2g8k",
    "outputId": "eea6b7a6-cae1-4e93-e938-eeb1b8a66da1"
   },
   "outputs": [],
   "source": [
    "# select the last column\n",
    "# the colon indicates that all the rows are selected\n",
    "# -1 indicated that the last column is selected\n",
    "df_basic_info.iloc[:,-1]"
   ]
  },
  {
   "cell_type": "markdown",
   "metadata": {
    "id": "FKuBy23z2g8k"
   },
   "source": [
    "To select the last column we use -1, to select the second last column we use -2"
   ]
  },
  {
   "cell_type": "markdown",
   "metadata": {
    "id": "LQ04Xoa42g8k"
   },
   "source": [
    "#### Select the first two columns"
   ]
  },
  {
   "cell_type": "code",
   "execution_count": null,
   "metadata": {
    "id": "EQ4GGRu62g8l",
    "outputId": "869fe2b0-c726-4637-9ff6-c02d8bd3a765"
   },
   "outputs": [],
   "source": [
    "# select the 1st and 2nd columns\n",
    "# the colon indicates that all the rows are selected\n",
    "# 0:2 indicates that the 1st and 2nd columns are selected\n",
    "df_basic_info.iloc[:,0:2]"
   ]
  },
  {
   "cell_type": "markdown",
   "metadata": {
    "id": "fTq3r0LC2g8l"
   },
   "source": [
    "#### Select the first two columns and 5 to 10 rows"
   ]
  },
  {
   "cell_type": "code",
   "execution_count": null,
   "metadata": {
    "id": "cG4tKbqm2g8l",
    "outputId": "55405b34-9f68-46fa-b4cd-6cc64e707835"
   },
   "outputs": [],
   "source": [
    "# 5:11 indicates that the 5th to 10th rows will be selected\n",
    "# 0:2 indicates that the 1st and 2nd columns be selected\n",
    "df_basic_info.iloc[5:11, 0:2]"
   ]
  },
  {
   "cell_type": "markdown",
   "metadata": {
    "id": "ixQMjiPz2g8l"
   },
   "source": [
    "**4. Indexing a dataframe using `.loc`**\n",
    "\n",
    "`DataFrame.loc[]` method is a method that takes only index labels and returns row or dataframe if the index label exists in the caller data frame. <br>\n",
    "`DataFrame.loc[Row_names, column_names]` is used to select or index rows or columns based on their name."
   ]
  },
  {
   "cell_type": "markdown",
   "metadata": {
    "id": "rB0gDiOp2g8l"
   },
   "source": [
    "#### Select 1 to 5 rows and 2nd and 4th columns"
   ]
  },
  {
   "cell_type": "code",
   "execution_count": null,
   "metadata": {
    "id": "hrkpKZ5w2g8l",
    "outputId": "d9184cb9-f7b9-40b1-f887-9a1db17224f5"
   },
   "outputs": [],
   "source": [
    "# 1:5 indicates that rows with indices 1, 2, 3, 4 and 5 are selected\n",
    "# [\"Weight (in kg)\",\"BMI\"] indicates that the specified columns be selected\n",
    "df_basic_info.loc[1:5,[\"Weight (in kg)\",\"BMI\"]]"
   ]
  },
  {
   "cell_type": "markdown",
   "metadata": {
    "id": "Ygh6tgrS2g8l"
   },
   "source": [
    "**Note:** the row names are numbers "
   ]
  },
  {
   "cell_type": "markdown",
   "metadata": {
    "id": "s37RaE8t2g8m"
   },
   "source": [
    "**5. Selecting columns by specifying column names**"
   ]
  },
  {
   "cell_type": "markdown",
   "metadata": {
    "id": "6yyfpzob2g8m"
   },
   "source": [
    "#### Select the column 'Age'"
   ]
  },
  {
   "cell_type": "code",
   "execution_count": null,
   "metadata": {
    "id": "ccODRkof2g8m",
    "outputId": "e8cc6712-8bb2-4929-ea57-2253a93c6c5c"
   },
   "outputs": [],
   "source": [
    "# select the coumn 'Age'\n",
    "df_basic_info.Age"
   ]
  },
  {
   "cell_type": "markdown",
   "metadata": {
    "id": "gPGaxQVp2g8m"
   },
   "source": [
    "**Remark:** Using this method we can select only one column."
   ]
  },
  {
   "cell_type": "code",
   "execution_count": null,
   "metadata": {
    "id": "s0mOAlbS2g8m",
    "outputId": "50938e72-d6f3-40ee-f163-dbc7a45d8d69"
   },
   "outputs": [],
   "source": [
    "# OR\n",
    "df_basic_info[\"Age\"]"
   ]
  },
  {
   "cell_type": "markdown",
   "metadata": {
    "id": "SCJOdTHO2g8m"
   },
   "source": [
    "#### Select the column 'Age' and 'BMI'"
   ]
  },
  {
   "cell_type": "code",
   "execution_count": null,
   "metadata": {
    "id": "_gt_hde52g8m",
    "outputId": "c64309ef-a9fe-4b1a-e650-a4eb16735557"
   },
   "outputs": [],
   "source": [
    "# select two columns\n",
    "# the column names are passed in a list\n",
    "df_basic_info[[\"Age\",\"BMI\"]]"
   ]
  },
  {
   "cell_type": "markdown",
   "metadata": {
    "id": "beurfkvB2g8n"
   },
   "source": [
    "**6. Conditional subsetting**"
   ]
  },
  {
   "cell_type": "markdown",
   "metadata": {
    "id": "2ZOfz3Mp2g8n"
   },
   "source": [
    "Selecting rows where the value of `Age` is greater than 47 "
   ]
  },
  {
   "cell_type": "code",
   "execution_count": null,
   "metadata": {
    "id": "bYj-i1eg2g8n",
    "outputId": "f0fe1d5f-f300-449a-f94d-cd6fc104c4e3"
   },
   "outputs": [],
   "source": [
    "# to selct rows where the Age is greater than 47\n",
    "df_basic_info[df_basic_info['Age'] > 47]"
   ]
  },
  {
   "cell_type": "markdown",
   "metadata": {
    "id": "JEQhpUdc2g8n"
   },
   "source": [
    "Subsetting the age more than 40 *or* weight column value more than 65"
   ]
  },
  {
   "cell_type": "code",
   "execution_count": null,
   "metadata": {
    "id": "t-6P6LV62g8n",
    "outputId": "fe21ceba-30c5-49f9-c745-c0f53d6c040d"
   },
   "outputs": [],
   "source": [
    "# to select rows where either age is greater than 40 or weight is more than 65\n",
    "df_basic_info[ (df_basic_info[\"Age\"] > 40) | (df_basic_info['Weight (in kg)'] > 65)]"
   ]
  },
  {
   "cell_type": "markdown",
   "metadata": {
    "id": "OU8Lz5XR2g8n"
   },
   "source": [
    "Subsetting the age *and* weight column value more than 65"
   ]
  },
  {
   "cell_type": "code",
   "execution_count": null,
   "metadata": {
    "id": "TBkYmopb2g8n",
    "outputId": "4030d27f-d124-45a7-cb87-0414c2b941f6"
   },
   "outputs": [],
   "source": [
    "# select rows where both age and weight are more than 65\n",
    "df_basic_info[(df_basic_info[\"Age\"] > 65) & (df_basic_info['Weight (in kg)'] > 65)]"
   ]
  },
  {
   "cell_type": "markdown",
   "metadata": {
    "id": "O7NhwAYG2g8n"
   },
   "source": [
    "**7. Sort the data frame on the basis of values in a column**"
   ]
  },
  {
   "cell_type": "markdown",
   "metadata": {
    "id": "eWszfO4S2g8o"
   },
   "source": [
    "Each column of a pandas DataFrame is treated as a pandas Series. The `.sort_values()` in DataFrames works similar to the `pandas.Series`.\n"
   ]
  },
  {
   "cell_type": "code",
   "execution_count": null,
   "metadata": {
    "id": "yASuXvOY2g8o",
    "outputId": "5a398fb8-33a4-4c46-8215-1daac37f5cc2",
    "scrolled": true
   },
   "outputs": [],
   "source": [
    "# sort the data frame on basis of 'Age' values\n",
    "# by default the values will get sorted in ascending order\n",
    "df_basic_info.sort_values('Age')\n",
    "# Note: 'ascending = False' will sort the data frame in descending order"
   ]
  },
  {
   "cell_type": "code",
   "execution_count": null,
   "metadata": {},
   "outputs": [],
   "source": [
    "df_basic_info.sort_values(by=['Age','Weight (in kg)'],ascending=[True,False])\n",
    "# Age in ascending and Weight is in descending."
   ]
  },
  {
   "cell_type": "code",
   "execution_count": null,
   "metadata": {},
   "outputs": [],
   "source": [
    "df_basic_info.sort_index()"
   ]
  },
  {
   "cell_type": "markdown",
   "metadata": {
    "id": "vgwHpbW22g8o"
   },
   "source": [
    "**8. Rank the dataframe**"
   ]
  },
  {
   "cell_type": "code",
   "execution_count": null,
   "metadata": {
    "id": "Z1_-htn82g8o",
    "outputId": "fe852985-3c03-47bc-9225-61ef5e1d5279"
   },
   "outputs": [],
   "source": [
    "# rank the data frame 'data' in descending order based on 'BMI'\n",
    "# 'method = min' assigns the minimum rank to highest equal value of 'BMI' \n",
    "df_basic_info['Rank_min'] = df_basic_info['BMI'].rank(ascending = 0, method  = 'min')\n",
    "\n",
    "# print the data\n",
    "df_basic_info"
   ]
  },
  {
   "cell_type": "code",
   "execution_count": null,
   "metadata": {},
   "outputs": [],
   "source": [
    "df_basic_info[\"Rank on age\"]=df_basic_info[\"Age\"].rank(method='min')\n",
    "df_basic_info"
   ]
  },
  {
   "cell_type": "markdown",
   "metadata": {
    "id": "sCRTrtO72g8o"
   },
   "source": [
    "From the above data frame, we can see that 'BMI = 44.395875' is repeating thrice; thus the method = 'min' will assign the minimum rank (=1) to all the three values of BMI. The rank '4' will be assigned to the second largest value of BMI and so on. Thus, there is no rank equal to 2 and 3."
   ]
  },
  {
   "cell_type": "code",
   "execution_count": null,
   "metadata": {
    "id": "lm3-rPEn2g8o",
    "outputId": "d2b73c11-f4d8-4eef-aaa8-7c5c046f67bf"
   },
   "outputs": [],
   "source": [
    "# method = 'dense' assigns same rank to all the same BMI values\n",
    "df_basic_info['Rank_densed'] = df_basic_info['BMI'].rank(method = 'dense')\n",
    "\n",
    "# print the data\n",
    "df_basic_info"
   ]
  },
  {
   "cell_type": "markdown",
   "metadata": {
    "id": "14ag9oCc2g8o"
   },
   "source": [
    "Here, the dense method assigns minimum rank (=1) to the minimum value (=9.089335) of the BMI. Rank 2 will be assigned to next smallest value and so on. The value 44.395875 which repeats thrice has the same rank - 18 to the three observations."
   ]
  },
  {
   "cell_type": "markdown",
   "metadata": {
    "id": "pjZ6qEAq2g8p"
   },
   "source": [
    "<a id=\"reading_data\"> </a>\n",
    "## 5.  Reading Data from Different Sources"
   ]
  },
  {
   "cell_type": "markdown",
   "metadata": {
    "id": "8lK8X7yF2g8p"
   },
   "source": [
    "**1. Read a `.xlsx` file**"
   ]
  },
  {
   "cell_type": "code",
   "execution_count": null,
   "metadata": {
    "id": "s5QeUkkn2g8p",
    "outputId": "efabdf3e-ff8c-433b-ee79-e6c6ad6feb8f",
    "scrolled": true
   },
   "outputs": [],
   "source": [
    "# to read a xlsx file\n",
    "pd.read_excel('employee_info.xlsx')"
   ]
  },
  {
   "cell_type": "markdown",
   "metadata": {
    "id": "f1mZ1Oo32g8p"
   },
   "source": [
    "**2. Read a `.zip` file**\n",
    "\n",
    "The zipped file contain a .csv file"
   ]
  },
  {
   "cell_type": "code",
   "execution_count": null,
   "metadata": {
    "id": "F_NSYlCs2g8p",
    "outputId": "0e8551ea-d444-48e0-e091-3b96196b326e"
   },
   "outputs": [],
   "source": [
    "# import the library zipfile\n",
    "import zipfile\n",
    "\n",
    "# Zipfile reads the zipped file\n",
    "# from the zipped file open the csv as f\n",
    "# read the csv file\n",
    "with zipfile.ZipFile('data.zip') as z:\n",
    "    with z.open('example.csv') as f:\n",
    "        file = pd.read_csv(f)\n",
    "        print(file.head())"
   ]
  },
  {
   "cell_type": "markdown",
   "metadata": {
    "id": "LmuQegqF2g8p"
   },
   "source": [
    "**3. Read a `.html` file**"
   ]
  },
  {
   "cell_type": "code",
   "execution_count": null,
   "metadata": {
    "id": "0ZF6bNTT2g8p",
    "outputId": "2d7149a6-11d4-4a24-d69a-c548951bdd32"
   },
   "outputs": [],
   "source": [
    "# read the html using read_html()\n",
    "# header = 1 indicates that the first row contains the headings\n",
    "# index_col = 0 indicates that the first column contains the index\n",
    "df_emp = pd.read_html('employee.html', header=1, index_col=0)\n",
    "\n",
    "# print the data\n",
    "df_emp"
   ]
  },
  {
   "cell_type": "markdown",
   "metadata": {
    "id": "Wm9su8sq2g8p"
   },
   "source": [
    "**4. Read a `.txt` file**"
   ]
  },
  {
   "cell_type": "code",
   "execution_count": null,
   "metadata": {
    "id": "kfWzpRCe2g8p",
    "outputId": "26618015-649e-407a-b6db-5d71c56581c3"
   },
   "outputs": [],
   "source": [
    "# read the text file\n",
    "# sep is the delimiter use\n",
    "df_demography = pd.read_csv('demography.txt', sep=\"\\t\")\n",
    "\n",
    "# print the head of the data\n",
    "df_demography.head()"
   ]
  },
  {
   "cell_type": "markdown",
   "metadata": {
    "id": "GS6CIUry2g8q"
   },
   "source": [
    "**5. Read a `.json` file**"
   ]
  },
  {
   "cell_type": "code",
   "execution_count": null,
   "metadata": {
    "id": "q7KgpwCm2g8q",
    "outputId": "80f42f1c-b524-40c9-ecb0-7a4dae286f52"
   },
   "outputs": [],
   "source": [
    "# read the file\n",
    "pd.read_json('iris.json')"
   ]
  },
  {
   "cell_type": "markdown",
   "metadata": {
    "id": "ssAs5JkK2g8q"
   },
   "source": [
    "**6. Read a `.xml` file**"
   ]
  },
  {
   "cell_type": "code",
   "execution_count": null,
   "metadata": {
    "id": "FCImEynb2g8q",
    "outputId": "eace611e-283f-4a4f-95f1-561c4c46e0e9"
   },
   "outputs": [],
   "source": [
    "# import the library to xml file\n",
    "import xml.etree.ElementTree as ET \n",
    "\n",
    "# extract the xml file\n",
    "tree = ET.parse(\"student_data.xml\")\n",
    "root = tree.getroot() \n",
    "\n",
    "# assign column names of the output DataFrame\n",
    "df_col = [\"Name\", \"Gender\", \"Marks\"]\n",
    "\n",
    "# create an empty list \n",
    "rows = []\n",
    "\n",
    "for node in root: \n",
    "    name = node.attrib.get(\"name\")\n",
    "    gender = node.find(\"gender\").text if node is not None else None\n",
    "    marks = node.find(\"marks\").text if node is not None else None\n",
    "    \n",
    "    # append each observation in the data to ‘rows’\n",
    "    rows.append({\"Name\": name, \"Gender\": gender, \n",
    "                 \"Marks\": marks})\n",
    "\n",
    "# create a DataFrame    \n",
    "df_student = pd.DataFrame(rows, columns = df_col)\n",
    "\n",
    "# print the DataFrame\n",
    "df_student"
   ]
  },
  {
   "cell_type": "markdown",
   "metadata": {},
   "source": [
    "# Direct Acess:\n",
    "    df1[col_label_only]    or df1.col_label\n",
    "    df1[[list of col_label_only]]\n",
    "    df1[row_labels_slice_only]"
   ]
  },
  {
   "cell_type": "code",
   "execution_count": null,
   "metadata": {},
   "outputs": [],
   "source": [
    "######. df1[row_labels_slice_only]\n",
    "# df[0]---- will show error\n",
    "# df[0:8]--- will display with index 0 to 7"
   ]
  },
  {
   "cell_type": "code",
   "execution_count": null,
   "metadata": {},
   "outputs": [],
   "source": []
  },
  {
   "cell_type": "markdown",
   "metadata": {},
   "source": [
    "# .iloc: \n",
    "integer based excess."
   ]
  },
  {
   "cell_type": "code",
   "execution_count": null,
   "metadata": {},
   "outputs": [],
   "source": []
  },
  {
   "cell_type": "code",
   "execution_count": null,
   "metadata": {},
   "outputs": [],
   "source": [
    "#To Check the dataset :\n",
    "df23=pd.read_csv(\"basic_info_missingdata.csv\")\n",
    "df23"
   ]
  },
  {
   "cell_type": "code",
   "execution_count": null,
   "metadata": {},
   "outputs": [],
   "source": [
    "df23.isnull().sum()      ## tell how many null value are present in each columns"
   ]
  },
  {
   "cell_type": "code",
   "execution_count": null,
   "metadata": {},
   "outputs": [],
   "source": [
    "df23.fillna(value=10)   ## Filled all the Nan value with 10"
   ]
  },
  {
   "cell_type": "code",
   "execution_count": null,
   "metadata": {},
   "outputs": [],
   "source": [
    "df23.fillna(method='ffill')   # next value before Nan value get filled in Nan"
   ]
  },
  {
   "cell_type": "code",
   "execution_count": null,
   "metadata": {},
   "outputs": [],
   "source": [
    "df23.fillna(method='bfill') # Next value after Nan get filled in Nan"
   ]
  },
  {
   "cell_type": "code",
   "execution_count": null,
   "metadata": {},
   "outputs": [],
   "source": [
    "# Put mean value of Age in Nan :\n",
    "meann=df23[\"Age\"].mean()\n",
    "df23.fillna(value=meann)\n"
   ]
  },
  {
   "cell_type": "code",
   "execution_count": null,
   "metadata": {},
   "outputs": [],
   "source": [
    "# Drop Nan value :\n",
    "df23.dropna()"
   ]
  },
  {
   "cell_type": "code",
   "execution_count": null,
   "metadata": {},
   "outputs": [],
   "source": [
    "\n",
    "df23.dropna(how=\"any\")"
   ]
  },
  {
   "cell_type": "code",
   "execution_count": null,
   "metadata": {},
   "outputs": [],
   "source": [
    "df23.dropna(how=\"all\")"
   ]
  },
  {
   "cell_type": "code",
   "execution_count": null,
   "metadata": {},
   "outputs": [],
   "source": []
  }
 ],
 "metadata": {
  "colab": {
   "collapsed_sections": [
    "Iknla2Ya2g8S",
    "YUBBYa372g8b",
    "Q7VLXpT52g8h",
    "Np5FDc6V2g8h",
    "gj3Phn9b2g8j",
    "loK9lTxm2g8j",
    "5kwZ3yNs2g8k",
    "2Y1UZQZT2g8k",
    "MfPGrrAu2g8k",
    "LQ04Xoa42g8k",
    "fTq3r0LC2g8l",
    "rB0gDiOp2g8l",
    "6yyfpzob2g8m",
    "SCJOdTHO2g8m"
   ],
   "name": "NPV - Faculty Notebook Day 2.ipynb",
   "provenance": []
  },
  "kernelspec": {
   "display_name": "Python 3 (ipykernel)",
   "language": "python",
   "name": "python3"
  },
  "language_info": {
   "codemirror_mode": {
    "name": "ipython",
    "version": 3
   },
   "file_extension": ".py",
   "mimetype": "text/x-python",
   "name": "python",
   "nbconvert_exporter": "python",
   "pygments_lexer": "ipython3",
   "version": "3.9.12"
  }
 },
 "nbformat": 4,
 "nbformat_minor": 1
}
