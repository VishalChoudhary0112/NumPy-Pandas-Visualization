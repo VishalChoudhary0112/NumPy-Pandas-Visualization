{
 "cells": [
  {
   "cell_type": "markdown",
   "metadata": {
    "id": "EJvfv1KJ2FPu"
   },
   "source": [
    "# Table of Content\n",
    "\n",
    "1. **[What is Python Numpy](#python_numpy)**\n",
    "2. **[Functions to Create Array](#functions)**\n",
    "3. **[Attributes and Functions on Array](#operations)**\n",
    "4. **[Indexing Array](#Indexing)**\n",
    "5. **[Slicing Array](#Slicing)**\n",
    "6. **[Operations on a 1D Array](#operations_1d)**\n",
    "7. **[Operations on a 2D Array](#operations_2d)**\n",
    "8. **[Arithmetic Functions in Numpy](#arithmetic_functions)**\n",
    "9. **[Concatenation of Array](#concatenation)**\n",
    "10. **[Stacking of Array](#stacking)**\n",
    "11. **[Splitting of Array](#splitting)**\n",
    "12. **[Iterating Numpy Array](#Iterating)**"
   ]
  },
  {
   "cell_type": "markdown",
   "metadata": {
    "id": "CFnVwwf22FPu"
   },
   "source": [
    "<a id=\"python_numpy\"> </a>\n",
    "# 1. What is Python Numpy\n",
    "\n",
    "The NumPy is a python package that stands for ‘Numerical Python’.<br>\n",
    "                    Numpy is the core library for scientific computing, which contains a powerful n-dimensional array object, provides tools for integrating C, C++, etc.<br>\n",
    "                    It contains a powerful N-dimensional array object.<br>\n",
    "                  "
   ]
  },
  {
   "cell_type": "markdown",
   "metadata": {
    "collapsed": true,
    "id": "xIwXbrtY2FPv"
   },
   "source": [
    "**How to install numpy?**<br>\n",
    "1. You can use-<br>\n",
    "`!pip install numpy`<br>\n",
    "2. You can import it as-<br>\n",
    "import numpy as np"
   ]
  },
  {
   "cell_type": "code",
   "execution_count": 4,
   "metadata": {
    "id": "ljdDfn5e2FPw"
   },
   "outputs": [],
   "source": [
    "# import the numpy package as np\n",
    "import numpy as np"
   ]
  },
  {
   "cell_type": "markdown",
   "metadata": {
    "id": "GM5Q4RFK2FPy"
   },
   "source": [
    "## Python NumPy Array v/s List\n",
    "We use python numpy array instead of a list because of the below three reasons:\n",
    "1. Arrays occupy less memory<br>\n",
    "2. work faster<br>\n",
    "3. are convenient to use"
   ]
  },
  {
   "cell_type": "markdown",
   "metadata": {
    "id": "_YYVdGkm2FPy"
   },
   "source": [
    "**The N-dimensional array**<br>\n",
    "An easy way to create an array from structures such as a list is to use the array() function."
   ]
  },
  {
   "cell_type": "markdown",
   "metadata": {
    "id": "U8GJ52682FPz"
   },
   "source": [
    "In the example below, first, create two python lists. Then, create numpy arrays out of the created lists."
   ]
  },
  {
   "cell_type": "code",
   "execution_count": null,
   "metadata": {
    "id": "BT66HNT72FPz"
   },
   "outputs": [],
   "source": [
    "# create 2 new lists height and weight of 6 people\n",
    "person_height = [5.2,  5.4, 4.4, 4.5, 5.6, 6]\n",
    "person_weight = [81, 55, 65, 70, 45, 44]\n",
    "\n",
    "# create 2 numpy arrays from height and weight from the above lists\n",
    "person_height = np.array(person_height)\n",
    "person_weight = np.array(person_weight)"
   ]
  },
  {
   "cell_type": "code",
   "execution_count": null,
   "metadata": {
    "id": "Pspd4uHh2FP0",
    "outputId": "4ca77310-58bb-4c30-c2d2-cae2680a38f0"
   },
   "outputs": [
    {
     "data": {
      "text/plain": [
       "array([5.2, 5.4, 4.4, 4.5, 5.6, 6. ])"
      ]
     },
     "execution_count": 3,
     "metadata": {},
     "output_type": "execute_result"
    }
   ],
   "source": [
    "# print 'person_height' array\n",
    "person_height"
   ]
  },
  {
   "cell_type": "code",
   "execution_count": null,
   "metadata": {
    "id": "Mm3k_B4x2FP1",
    "outputId": "4aed9d6f-dfea-4915-d486-4d962248b96d"
   },
   "outputs": [
    {
     "data": {
      "text/plain": [
       "array([81, 55, 65, 70, 45, 44])"
      ]
     },
     "execution_count": 4,
     "metadata": {},
     "output_type": "execute_result"
    }
   ],
   "source": [
    "# print 'person_weight' array\n",
    "person_weight"
   ]
  },
  {
   "cell_type": "markdown",
   "metadata": {
    "id": "9Cxc-jMF2FP2"
   },
   "source": [
    "**Print type of 'person_weight'**"
   ]
  },
  {
   "cell_type": "code",
   "execution_count": null,
   "metadata": {
    "id": "7_M5NMti2FP2",
    "outputId": "1911fa85-6e55-494a-9da9-65c95f0d48ec"
   },
   "outputs": [
    {
     "name": "stdout",
     "output_type": "stream",
     "text": [
      "<class 'numpy.ndarray'>\n"
     ]
    }
   ],
   "source": [
    "# print the type of variable person_weight\n",
    "print(type(person_weight))"
   ]
  },
  {
   "cell_type": "markdown",
   "metadata": {
    "id": "mbxi8d7N2FP2"
   },
   "source": [
    "## Advantages of numpy arrays over lists\n",
    "\n",
    "Python numpy arrays are more compact as compared to lists."
   ]
  },
  {
   "cell_type": "code",
   "execution_count": 5,
   "metadata": {
    "id": "fRl3HfTY2FP3",
    "outputId": "6b79ae79-cdd8-48f4-e5e1-24246996d956"
   },
   "outputs": [
    {
     "data": {
      "text/plain": [
       "[5, 6, 7, 2, 3, 4]"
      ]
     },
     "execution_count": 5,
     "metadata": {},
     "output_type": "execute_result"
    }
   ],
   "source": [
    "# consider a list of numbers\n",
    "num_list = [4,5,6,1,2,3]\n",
    "\n",
    "# add 1 to each element\n",
    "num_modified_list = [i + 1 for i in num_list]\n",
    "\n",
    "# print the list\n",
    "num_modified_list"
   ]
  },
  {
   "cell_type": "code",
   "execution_count": 6,
   "metadata": {
    "id": "8Nu34URG2FP3",
    "outputId": "b6d8225e-21fb-491d-edf1-f8d54ce7dc0b"
   },
   "outputs": [
    {
     "data": {
      "text/plain": [
       "array([5, 6, 7, 2, 3, 4])"
      ]
     },
     "execution_count": 6,
     "metadata": {},
     "output_type": "execute_result"
    }
   ],
   "source": [
    "# create an array from a list\n",
    "num_array = np.array([4,5,6,1,2,3])\n",
    "\n",
    "# add 1 to each element\n",
    "num_modified_array = num_array + 1\n",
    "\n",
    "# print the array\n",
    "num_modified_array\n"
   ]
  },
  {
   "cell_type": "markdown",
   "metadata": {
    "id": "-eKiMMKc2FP3"
   },
   "source": [
    "Python numpy array are fast as compared to lists"
   ]
  },
  {
   "cell_type": "code",
   "execution_count": 8,
   "metadata": {
    "id": "a_XDUqu02FP4"
   },
   "outputs": [],
   "source": [
    "# create a Numpy array using arange of size 1000000\n",
    "my_array = np.arange(1000000)\n",
    "\n",
    "# create a python list using range of size 1000000\n",
    "my_list = list(range(1000000))"
   ]
  },
  {
   "cell_type": "code",
   "execution_count": 9,
   "metadata": {
    "id": "T7UUcnN92FP4",
    "outputId": "80e1c140-0eda-4913-da50-943f0e61e071"
   },
   "outputs": [
    {
     "name": "stdout",
     "output_type": "stream",
     "text": [
      "CPU times: user 23.9 ms, sys: 11.4 ms, total: 35.3 ms\n",
      "Wall time: 32.8 ms\n",
      "CPU times: user 3.6 s, sys: 212 ms, total: 3.82 s\n",
      "Wall time: 3.89 s\n"
     ]
    }
   ],
   "source": [
    "# print out execution time for the following\n",
    "\n",
    "# time required for computations in an array\n",
    "%time for x in range(10): my_modified_array = my_array ** 2\n",
    "\n",
    "# time required for computation in an array    \n",
    "%time for x in range(10): my_modified_list = [x ** 2 for x in my_list]"
   ]
  },
  {
   "cell_type": "markdown",
   "metadata": {
    "id": "pi_cvpxh2FP4"
   },
   "source": [
    "From the above result, you can observe that the numpy arrays are faster than python lists."
   ]
  },
  {
   "cell_type": "markdown",
   "metadata": {
    "id": "hGB08mRO2FP4"
   },
   "source": [
    "Here Wall time, also called wall-clock time, measures the total time to execute a program in a computer."
   ]
  },
  {
   "cell_type": "markdown",
   "metadata": {
    "id": "0TtJHyIh2FP5"
   },
   "source": [
    "<a id=\"functions\"> </a>\n",
    "# 2. Functions to Create Array"
   ]
  },
  {
   "cell_type": "markdown",
   "metadata": {
    "id": "HkG9n9Am2FP5"
   },
   "source": [
    "**1. An array of Zeros**<br>\n",
    "The `zeros()` will create a new array of the specified size with the contents filled with zero values. "
   ]
  },
  {
   "cell_type": "code",
   "execution_count": 12,
   "metadata": {
    "id": "SBCiQxK52FP5",
    "outputId": "6c9ab0d4-4e16-44f6-c837-32f1cfd5180e"
   },
   "outputs": [
    {
     "name": "stdout",
     "output_type": "stream",
     "text": [
      "[[0. 0.]\n",
      " [0. 0.]\n",
      " [0. 0.]]\n"
     ]
    }
   ],
   "source": [
    "# to create array of zeros\n",
    "# import the zeros module from library numpy\n",
    "from numpy import zeros\n",
    "\n",
    "# create a numpy ray with 3 rows and 2 columns\n",
    "my_array = zeros([3,2])\n",
    "\n",
    "# print the array\n",
    "print(my_array)"
   ]
  },
  {
   "cell_type": "markdown",
   "metadata": {
    "id": "dLk71fJ82FP5"
   },
   "source": [
    "**2. An array of Ones**<br>\n",
    "The `ones()` will create a new array of the specified size with its elements as unity."
   ]
  },
  {
   "cell_type": "code",
   "execution_count": null,
   "metadata": {
    "id": "YQtpcYmz2FP5",
    "outputId": "eca952d0-3b6a-4f5e-d070-7e1107396a58"
   },
   "outputs": [
    {
     "name": "stdout",
     "output_type": "stream",
     "text": [
      "[1. 1. 1. 1. 1.]\n"
     ]
    }
   ],
   "source": [
    "# to create an array of ones\n",
    "# import the ones module from library numpy\n",
    "from numpy import ones\n",
    "\n",
    "# create a numpy ray with 5 elements\n",
    "my_array = ones([5])\n",
    "\n",
    "# print the array\n",
    "print(my_array)"
   ]
  },
  {
   "cell_type": "markdown",
   "metadata": {
    "id": "SPgLRN3E2FP6"
   },
   "source": [
    "**3. An array of random numbers**<br>\n",
    "The `random()` function returns random numbers in the half-open interval [0.0, 1.0). The half-open interval includes 0 but excludes 1. The required number of random numbers is passed through the ‘size’ parameter.\n"
   ]
  },
  {
   "cell_type": "code",
   "execution_count": null,
   "metadata": {
    "id": "yLpWSZkG2FP6",
    "outputId": "e0d129f3-905f-4116-bb91-7ae7b0a67cad"
   },
   "outputs": [
    {
     "data": {
      "text/plain": [
       "array([[0.57217205, 0.41309076],\n",
       "       [0.76767539, 0.25948637],\n",
       "       [0.26818487, 0.43001352]])"
      ]
     },
     "execution_count": 12,
     "metadata": {},
     "output_type": "execute_result"
    }
   ],
   "source": [
    "# create 2D array of 3 rows and 2 columns of random numbers\n",
    "my_array = np.random.random(size = (3,2))\n",
    "\n",
    "# print the array\n",
    "my_array"
   ]
  },
  {
   "cell_type": "markdown",
   "metadata": {
    "id": "NPeNkDej2FP6"
   },
   "source": [
    "The `randn()` creates an array of the given shape with random variables from a uniform distribution between (0, 1)"
   ]
  },
  {
   "cell_type": "code",
   "execution_count": null,
   "metadata": {
    "id": "KBO3lDc82FP6",
    "outputId": "b953324b-a5f7-460f-b513-75f4b394b4de"
   },
   "outputs": [
    {
     "data": {
      "text/plain": [
       "array([[-0.64728969, -1.2222134 ],\n",
       "       [-0.64793344,  1.25576563],\n",
       "       [-0.17502278,  0.08968551],\n",
       "       [-0.5508807 , -1.05708355]])"
      ]
     },
     "execution_count": 13,
     "metadata": {},
     "output_type": "execute_result"
    }
   ],
   "source": [
    "# create 2D array of 4 rows and 2 columns of random numbers\n",
    "my_array = np.random.randn(4,2)\n",
    "\n",
    "# print the array\n",
    "my_array"
   ]
  },
  {
   "cell_type": "markdown",
   "metadata": {
    "id": "qcNndYoe2FP6"
   },
   "source": [
    "The `randint()` returns random integers from low (inclusive) to high (exclusive)"
   ]
  },
  {
   "cell_type": "code",
   "execution_count": null,
   "metadata": {
    "id": "A6c0xzdB2FP6",
    "outputId": "6e4dd74a-51a3-4919-bbcf-d3ae19a674fb"
   },
   "outputs": [
    {
     "data": {
      "text/plain": [
       "array([2, 8, 8])"
      ]
     },
     "execution_count": 14,
     "metadata": {},
     "output_type": "execute_result"
    }
   ],
   "source": [
    "# create an array of 3 of random numbers between 2 and 9\n",
    "# the randint() will not include 10, the numbers will be generated between 2 and 9 (both inclusive)\n",
    "my_array = np.random.randint(2,10,3)\n",
    "\n",
    "# print the array\n",
    "my_array"
   ]
  },
  {
   "cell_type": "markdown",
   "metadata": {
    "id": "CwmqpWdl2FP7"
   },
   "source": [
    "**4. Create an array using `arange()`**<br>\n",
    "arange() function creates an array of numbers between the given range"
   ]
  },
  {
   "cell_type": "code",
   "execution_count": null,
   "metadata": {
    "id": "V13kTLPr2FP7",
    "outputId": "71c5e3b2-f210-47d6-dfa2-54a5e1081a21"
   },
   "outputs": [
    {
     "data": {
      "text/plain": [
       "array([0, 1, 2, 3, 4, 5, 6, 7, 8, 9])"
      ]
     },
     "execution_count": 15,
     "metadata": {},
     "output_type": "execute_result"
    }
   ],
   "source": [
    "# create an array of integers between 0 to 10  \n",
    "# start: start value of interval (inclusive). 0 is the default value\n",
    "# stop: stop value of interval (exclusive)\n",
    "# step: returns numbers with given step_size\n",
    "sequence = np.arange(start = 0, stop = 10, step = 1)\n",
    "\n",
    "# print the sequence\n",
    "sequence"
   ]
  },
  {
   "cell_type": "markdown",
   "metadata": {
    "id": "3I_PUBp12FP7"
   },
   "source": [
    "<a id=\"operations\"> </a>\n",
    "# 3. Attributes and Functions on Array"
   ]
  },
  {
   "cell_type": "markdown",
   "metadata": {
    "id": "W2RMfuR22FP7"
   },
   "source": [
    "## 3.1. Attributes: \n",
    "\n",
    "It is defined as a specification that defines a property of an object. Attributes of the numpy array do not have parentheses following them"
   ]
  },
  {
   "cell_type": "markdown",
   "metadata": {
    "id": "iz4NgY7y2FP7"
   },
   "source": [
    "**ndim:**<br>\n",
    "Prints the dimension (number of axes) of the numpy array"
   ]
  },
  {
   "cell_type": "code",
   "execution_count": null,
   "metadata": {
    "id": "c0bTUJaT2FP7",
    "outputId": "b8c5c22a-ad31-4605-a63c-afe28055a703"
   },
   "outputs": [
    {
     "name": "stdout",
     "output_type": "stream",
     "text": [
      "2\n"
     ]
    }
   ],
   "source": [
    "quantity = np.array([(11,32,23),(34,55,46)])\n",
    "print(quantity.ndim)"
   ]
  },
  {
   "cell_type": "markdown",
   "metadata": {
    "id": "sLOLe1Ea2FP7"
   },
   "source": [
    "**itemsize:**<br>\n",
    "Prints the memory occupied by each element."
   ]
  },
  {
   "cell_type": "code",
   "execution_count": null,
   "metadata": {
    "id": "M3XldAbO2FP8",
    "outputId": "7c070216-2673-460d-eb37-fd4126f20945"
   },
   "outputs": [
    {
     "name": "stdout",
     "output_type": "stream",
     "text": [
      "8\n"
     ]
    }
   ],
   "source": [
    "quantity = np.array([(5,5,6,2,75,3)])\n",
    "print(quantity.itemsize)"
   ]
  },
  {
   "cell_type": "markdown",
   "metadata": {
    "id": "RX2yrU5a2FP8"
   },
   "source": [
    "In the above example, each element occupies 4 bytes."
   ]
  },
  {
   "cell_type": "markdown",
   "metadata": {
    "id": "z-SR3CKj2FP8"
   },
   "source": [
    "**dtype:**<br>\n",
    "Prints the data type along with the size in bytes."
   ]
  },
  {
   "cell_type": "code",
   "execution_count": null,
   "metadata": {
    "id": "NGDHU-ht2FP8",
    "outputId": "90e61592-b25e-4f95-d332-1197b522e400"
   },
   "outputs": [
    {
     "name": "stdout",
     "output_type": "stream",
     "text": [
      "int64\n"
     ]
    }
   ],
   "source": [
    "quantity = np.array([(1,2,3)])\n",
    "print(quantity.dtype)"
   ]
  },
  {
   "cell_type": "markdown",
   "metadata": {
    "id": "Nkinjwyt2FP8"
   },
   "source": [
    "**size:**<br>\n",
    "Prints the number of elements in the array.\n",
    "\n",
    "**shape**<br>\n",
    "Prints the number of rows and columns of the array."
   ]
  },
  {
   "cell_type": "code",
   "execution_count": null,
   "metadata": {
    "id": "gC_BZ0pt2FP8",
    "outputId": "5dd900f6-cefe-4cab-f76b-95cf722f5257"
   },
   "outputs": [
    {
     "name": "stdout",
     "output_type": "stream",
     "text": [
      "6\n",
      "(1, 6)\n"
     ]
    }
   ],
   "source": [
    "quantity = np.array([(1,2,3,4,5,6)])\n",
    "print(quantity.size)\n",
    "print(quantity.shape)"
   ]
  },
  {
   "cell_type": "markdown",
   "metadata": {
    "id": "OXOVrCjc2FP8"
   },
   "source": [
    "## 3.2. Functions/method: \n",
    "A method is a function that belongs to an object. It takes parameters in the parentheses and returns the modified array. "
   ]
  },
  {
   "cell_type": "markdown",
   "metadata": {
    "id": "yMb0MTOS2FP8"
   },
   "source": [
    "**reshape:**<br>\n",
    "The reshape() is used to change the number of rows and columns of an array without changing the data.<br>"
   ]
  },
  {
   "cell_type": "markdown",
   "metadata": {
    "id": "WIBR_qrc2FP8"
   },
   "source": [
    "<table align=\"center\">\n",
    "    <td height = '100', width = '400'>\n",
    "          <img src=\"reshape.png\">\n",
    "        </td>\n",
    "</table>"
   ]
  },
  {
   "cell_type": "code",
   "execution_count": 11,
   "metadata": {
    "id": "7TPo5jeh2FP8",
    "outputId": "93b4260d-df25-49a4-c111-ee82fdbbff99"
   },
   "outputs": [
    {
     "name": "stdout",
     "output_type": "stream",
     "text": [
      "The original array:\n",
      " [[ 8  9 10]\n",
      " [11 12 13]]\n",
      "The reshaped array:\n",
      " [[ 8  9]\n",
      " [10 11]\n",
      " [12 13]]\n"
     ]
    }
   ],
   "source": [
    "# create an array\n",
    "quantity_1 = np.array([[8,9,10],[11,12,13]])\n",
    "# print the array\n",
    "# \\n: print on a newline\n",
    "print(\"The original array:\\n\", quantity_1)\n",
    "\n",
    "# change the shape\n",
    "quantity_2 = quantity_1.reshape(3,2)\n",
    "# print the array\n",
    "# \\n: print on a newline\n",
    "print(\"The reshaped array:\\n\", quantity_2)"
   ]
  },
  {
   "cell_type": "markdown",
   "metadata": {
    "id": "BdYqFxwy2FP9"
   },
   "source": [
    "<a id=\"Indexing\"> </a>\n",
    "# 4. Indexing Array"
   ]
  },
  {
   "cell_type": "markdown",
   "metadata": {
    "id": "u7Ec7bSo2FP9"
   },
   "source": [
    "**Indexing in 1 dimension**"
   ]
  },
  {
   "cell_type": "code",
   "execution_count": null,
   "metadata": {
    "id": "QeUJmc7Y2FP9",
    "outputId": "515c5f86-baf1-4448-eda6-18f10ace642a"
   },
   "outputs": [
    {
     "name": "stdout",
     "output_type": "stream",
     "text": [
      "[ 11  22  33  24  57 473]\n"
     ]
    }
   ],
   "source": [
    "# declare an array\n",
    "quantity = np.array([11, 22, 33, 24, 57, 473])\n",
    "\n",
    "# print the array\n",
    "print(quantity)"
   ]
  },
  {
   "cell_type": "markdown",
   "metadata": {
    "id": "FNkBU6QQ2FP9"
   },
   "source": [
    "Each element in the array can be accessed by passing the positional index of the element."
   ]
  },
  {
   "cell_type": "code",
   "execution_count": null,
   "metadata": {
    "id": "l77p9uuC2FP9",
    "outputId": "f0e3105e-17ad-4ac2-e252-7dcdef113247"
   },
   "outputs": [
    {
     "name": "stdout",
     "output_type": "stream",
     "text": [
      "11\n",
      "33\n"
     ]
    }
   ],
   "source": [
    "# get the 1st element\n",
    "# indexing starts from '0'\n",
    "print(quantity[0]) \n",
    "\n",
    "# get the third element\n",
    "print(quantity[2]) "
   ]
  },
  {
   "cell_type": "markdown",
   "metadata": {
    "id": "sWzky9xY2FP9"
   },
   "source": [
    "**Indexing in 2 dimensions**"
   ]
  },
  {
   "cell_type": "code",
   "execution_count": null,
   "metadata": {
    "id": "_nXB_J3H2FP9",
    "outputId": "4ddf6fa1-af74-44fa-d867-9b2cb87488cb"
   },
   "outputs": [
    {
     "data": {
      "text/plain": [
       "array([[101, 231, 321],\n",
       "       [412, 512, 622],\n",
       "       [712, 821, 912]])"
      ]
     },
     "execution_count": 23,
     "metadata": {},
     "output_type": "execute_result"
    }
   ],
   "source": [
    "# declare a 2D array\n",
    "quantity = np.array([[101, 231, 321],\n",
    "              [412, 512, 622],\n",
    "              [712, 821, 912]])\n",
    "\n",
    "# print the array\n",
    "quantity"
   ]
  },
  {
   "cell_type": "markdown",
   "metadata": {
    "id": "3-7Fq3GT2FP9"
   },
   "source": [
    "We can retrieve an element of the 2D array using two indices i and j - i selects the row, and j selects the column:"
   ]
  },
  {
   "cell_type": "code",
   "execution_count": null,
   "metadata": {
    "id": "vaUKeFYd2FP-",
    "outputId": "94939770-1a20-4c18-ef8b-92078619546c"
   },
   "outputs": [
    {
     "name": "stdout",
     "output_type": "stream",
     "text": [
      "821\n"
     ]
    }
   ],
   "source": [
    "# get the element in 3rd row and 2nd column\n",
    "# indexing starts from '0' \n",
    "print(quantity[2, 1])"
   ]
  },
  {
   "cell_type": "code",
   "execution_count": null,
   "metadata": {
    "id": "d0rQOs922FP-",
    "outputId": "e898f082-e2aa-40a5-eae1-3baf9b6ca0ba"
   },
   "outputs": [
    {
     "name": "stdout",
     "output_type": "stream",
     "text": [
      "821\n"
     ]
    }
   ],
   "source": [
    "# we can pass ith row and jth column in separate brackets ([])\n",
    "# indexing starts from '0' \n",
    "print(quantity[2][1])"
   ]
  },
  {
   "cell_type": "markdown",
   "metadata": {
    "id": "ym72P9RJ2FP-"
   },
   "source": [
    "**Picking a row or column**        "
   ]
  },
  {
   "cell_type": "markdown",
   "metadata": {
    "id": "F350xvla2FP-"
   },
   "source": [
    "We can also select a single row or column "
   ]
  },
  {
   "cell_type": "code",
   "execution_count": null,
   "metadata": {
    "id": "mlxO7Lze2FP-",
    "outputId": "f31b6611-1fc9-496d-c8b2-4bcda30f370b"
   },
   "outputs": [
    {
     "name": "stdout",
     "output_type": "stream",
     "text": [
      "[712 821 912]\n"
     ]
    }
   ],
   "source": [
    "# pick the second row from the array\n",
    "# indexing starts from '0' \n",
    "print(quantity[2])"
   ]
  },
  {
   "cell_type": "code",
   "execution_count": null,
   "metadata": {
    "id": "PUd13EWf2FP-",
    "outputId": "8595e96f-51d3-4001-c580-10a5fb313a5f"
   },
   "outputs": [
    {
     "name": "stdout",
     "output_type": "stream",
     "text": [
      "[321 622 912]\n"
     ]
    }
   ],
   "source": [
    "# pick the second column from the array\n",
    "# indexing starts from '0' \n",
    "print(quantity[:,2])"
   ]
  },
  {
   "cell_type": "markdown",
   "metadata": {
    "id": "rVGH_OPO2FP-"
   },
   "source": [
    "<a id=\"Slicing\"> </a>\n",
    "# 5. Slicing Array"
   ]
  },
  {
   "cell_type": "markdown",
   "metadata": {
    "id": "SCynU5Rd2FP-"
   },
   "source": [
    "**Slicing a 1D array**"
   ]
  },
  {
   "cell_type": "code",
   "execution_count": null,
   "metadata": {
    "id": "3rrrmoD12FP-"
   },
   "outputs": [],
   "source": [
    "# declare an array\n",
    "price = [101, 121, 112, 123, 114]"
   ]
  },
  {
   "cell_type": "code",
   "execution_count": null,
   "metadata": {
    "id": "gjdXkuNP2FP-",
    "outputId": "8df051b6-210f-450f-8c1a-6ec725c66ef8"
   },
   "outputs": [
    {
     "data": {
      "text/plain": [
       "[121, 112, 123]"
      ]
     },
     "execution_count": 29,
     "metadata": {},
     "output_type": "execute_result"
    }
   ],
   "source": [
    "# pick the second, third, and fourth element from the array \n",
    "# indexing starts from '0' \n",
    "new_price = price[1:4]  \n",
    "\n",
    "# print the array\n",
    "new_price"
   ]
  },
  {
   "cell_type": "markdown",
   "metadata": {
    "id": "Wz7OxPik2FP_"
   },
   "source": [
    "The slice notation specifies a start and end value [start:end], where 'start' is inclusive but 'end' is exclusive."
   ]
  },
  {
   "cell_type": "code",
   "execution_count": null,
   "metadata": {
    "id": "9ZcYvxee2FP_",
    "outputId": "cb7cc7a0-f4a5-473e-dd49-fb59ac56cbaf"
   },
   "outputs": [
    {
     "data": {
      "text/plain": [
       "[101, 121, 112]"
      ]
     },
     "execution_count": 30,
     "metadata": {},
     "output_type": "execute_result"
    }
   ],
   "source": [
    "# first three elements\n",
    "price[:3]"
   ]
  },
  {
   "cell_type": "code",
   "execution_count": null,
   "metadata": {
    "id": "IddEG1ST2FP_",
    "outputId": "2fac4610-f93c-4143-82e7-2356e7060da9"
   },
   "outputs": [
    {
     "data": {
      "text/plain": [
       "[112, 123, 114]"
      ]
     },
     "execution_count": 31,
     "metadata": {},
     "output_type": "execute_result"
    }
   ],
   "source": [
    "# all the elements from 112\n",
    "price[2:]    "
   ]
  },
  {
   "cell_type": "code",
   "execution_count": null,
   "metadata": {
    "id": "rwjI0VKw2FP_",
    "outputId": "bcc5f154-97d4-4fb8-b76e-f75d252d6312"
   },
   "outputs": [
    {
     "data": {
      "text/plain": [
       "[101, 121, 112, 123, 114]"
      ]
     },
     "execution_count": 32,
     "metadata": {},
     "output_type": "execute_result"
    }
   ],
   "source": [
    "# get the complete array\n",
    "price[:]"
   ]
  },
  {
   "cell_type": "markdown",
   "metadata": {
    "id": "aTgofVrS2FP_"
   },
   "source": [
    "**Slicing a 2D array**"
   ]
  },
  {
   "cell_type": "code",
   "execution_count": null,
   "metadata": {
    "id": "b9PJe6c-2FP_",
    "outputId": "051b2aea-2733-4fee-f010-3705c04e03ef"
   },
   "outputs": [
    {
     "data": {
      "text/plain": [
       "array([[101, 131, 122, 113, 143],\n",
       "       [145, 165, 137, 318, 193],\n",
       "       [240, 241, 252, 253, 324],\n",
       "       [225, 126, 727, 928, 129]])"
      ]
     },
     "execution_count": 33,
     "metadata": {},
     "output_type": "execute_result"
    }
   ],
   "source": [
    "# declare a 2D array\n",
    "prices = np.array([[101, 131, 122, 113, 143],\n",
    "               [145, 165, 137, 318, 193],\n",
    "               [240, 241, 252, 253, 324],\n",
    "               [225, 126, 727, 928, 129]])\n",
    "\n",
    "# print the array\n",
    "prices"
   ]
  },
  {
   "cell_type": "code",
   "execution_count": null,
   "metadata": {
    "id": "TQVljGZ42FP_",
    "outputId": "34ac2903-2b2c-4999-a9f7-dda0c2bbda03"
   },
   "outputs": [
    {
     "data": {
      "text/plain": [
       "array([[137, 318],\n",
       "       [252, 253],\n",
       "       [727, 928]])"
      ]
     },
     "execution_count": 34,
     "metadata": {},
     "output_type": "execute_result"
    }
   ],
   "source": [
    "# select all rows except 1st\n",
    "# select 3rd and 4th column\n",
    "prices[1:,2:4]"
   ]
  },
  {
   "cell_type": "markdown",
   "metadata": {
    "id": "x2RGYARy2FQA"
   },
   "source": [
    "**Note:** The index returns an element of the array, the slice returns a list of elements."
   ]
  },
  {
   "cell_type": "markdown",
   "metadata": {
    "id": "xX16KwfR2FQA"
   },
   "source": [
    "<a id=\"operations_1d\"> </a>\n",
    "### 6. Operations on a 1D Array"
   ]
  },
  {
   "cell_type": "code",
   "execution_count": null,
   "metadata": {
    "id": "1Ro14ZvY2FQA",
    "outputId": "671c98dc-9837-4130-dae4-b6a6b0a3d876"
   },
   "outputs": [
    {
     "name": "stdout",
     "output_type": "stream",
     "text": [
      "The first array is [120 230 310 410 150] has length 5\n",
      "The second array is [0 1 2 3 4] has length 5\n"
     ]
    }
   ],
   "source": [
    "# declare two arrays\n",
    "# first array\n",
    "prices = np.array([120,230,310,410,150])\n",
    "\n",
    "# print the array\n",
    "print(\"The first array is\",prices,\"has length\",len(prices))\n",
    "\n",
    "# second array\n",
    "quantity = np.arange(5)\n",
    "\n",
    "# print the array\n",
    "print(\"The second array is\",quantity,\"has length\",len(quantity))"
   ]
  },
  {
   "cell_type": "markdown",
   "metadata": {
    "id": "xTML_z2n2FQA"
   },
   "source": [
    "Add the two arrays"
   ]
  },
  {
   "cell_type": "code",
   "execution_count": null,
   "metadata": {
    "id": "AQtpDzdw2FQA",
    "outputId": "4a708c11-27ac-48b0-a80f-69652999570a"
   },
   "outputs": [
    {
     "data": {
      "text/plain": [
       "array([120, 231, 312, 413, 154])"
      ]
     },
     "execution_count": 36,
     "metadata": {},
     "output_type": "execute_result"
    }
   ],
   "source": [
    "num_array = prices + quantity\n",
    "num_array"
   ]
  },
  {
   "cell_type": "code",
   "execution_count": null,
   "metadata": {
    "id": "0brwRsEB2FQA",
    "outputId": "a91de4a6-4c6b-44b7-de33-4e3ae571bb45"
   },
   "outputs": [
    {
     "name": "stdout",
     "output_type": "stream",
     "text": [
      "The new array is [1 2 3 5] has length 4\n"
     ]
    },
    {
     "ename": "ValueError",
     "evalue": "operands could not be broadcast together with shapes (4,) (5,) ",
     "output_type": "error",
     "traceback": [
      "\u001b[0;31m---------------------------------------------------------------------------\u001b[0m",
      "\u001b[0;31mValueError\u001b[0m                                Traceback (most recent call last)",
      "\u001b[0;32m<ipython-input-37-431c3b413cb9>\u001b[0m in \u001b[0;36m<module>\u001b[0;34m\u001b[0m\n\u001b[1;32m      5\u001b[0m \u001b[0mprint\u001b[0m\u001b[0;34m(\u001b[0m\u001b[0;34m\"The new array is\"\u001b[0m\u001b[0;34m,\u001b[0m\u001b[0mnum_array\u001b[0m\u001b[0;34m,\u001b[0m\u001b[0;34m\"has length\"\u001b[0m\u001b[0;34m,\u001b[0m\u001b[0mlen\u001b[0m\u001b[0;34m(\u001b[0m\u001b[0mnum_array\u001b[0m\u001b[0;34m)\u001b[0m\u001b[0;34m)\u001b[0m\u001b[0;34m\u001b[0m\u001b[0;34m\u001b[0m\u001b[0m\n\u001b[1;32m      6\u001b[0m \u001b[0;34m\u001b[0m\u001b[0m\n\u001b[0;32m----> 7\u001b[0;31m \u001b[0mnum_array\u001b[0m \u001b[0;34m+\u001b[0m \u001b[0mquantity\u001b[0m\u001b[0;34m\u001b[0m\u001b[0;34m\u001b[0m\u001b[0m\n\u001b[0m",
      "\u001b[0;31mValueError\u001b[0m: operands could not be broadcast together with shapes (4,) (5,) "
     ]
    }
   ],
   "source": [
    "# declare another array\n",
    "num_array = np.array([1,2,3,5])\n",
    "\n",
    "# print the array\n",
    "print(\"The new array is\",num_array,\"has length\",len(num_array))\n",
    "\n",
    "num_array + quantity"
   ]
  },
  {
   "cell_type": "markdown",
   "metadata": {
    "id": "-GLgLumy2FQA"
   },
   "source": [
    "**Remark:** If you try to add arrays with different dimensions, you get an error.              "
   ]
  },
  {
   "cell_type": "code",
   "execution_count": null,
   "metadata": {
    "id": "0IhILQBg2FQA",
    "outputId": "12c16c41-003d-4d06-aa1c-624730dd4706"
   },
   "outputs": [
    {
     "data": {
      "text/plain": [
       "array([ 0,  4,  8, 12, 16])"
      ]
     },
     "execution_count": 38,
     "metadata": {},
     "output_type": "execute_result"
    }
   ],
   "source": [
    "# multiply each element in the array by 4 \n",
    "quantity*4"
   ]
  },
  {
   "cell_type": "markdown",
   "metadata": {
    "id": "tg36J_BK2FQA"
   },
   "source": [
    "Use ' ** ' to compute power of the numbers."
   ]
  },
  {
   "cell_type": "code",
   "execution_count": null,
   "metadata": {
    "id": "dviYHYfa2FQB",
    "outputId": "dd63aa44-5f7c-4d02-a768-be3ec5221414"
   },
   "outputs": [
    {
     "data": {
      "text/plain": [
       "array([ 0,  1,  4,  9, 16])"
      ]
     },
     "execution_count": 39,
     "metadata": {},
     "output_type": "execute_result"
    }
   ],
   "source": [
    "# get square of each element\n",
    "quantity**2"
   ]
  },
  {
   "cell_type": "markdown",
   "metadata": {
    "id": "0iZlqsDt2FQB"
   },
   "source": [
    "**Using Numpy with Comparison Expressions**"
   ]
  },
  {
   "cell_type": "code",
   "execution_count": null,
   "metadata": {
    "id": "sz122-4v2FQB",
    "outputId": "15cc0572-f628-42fa-d54a-0d5b8fd4803b"
   },
   "outputs": [
    {
     "data": {
      "text/plain": [
       "array([False,  True,  True,  True, False])"
      ]
     },
     "execution_count": 40,
     "metadata": {},
     "output_type": "execute_result"
    }
   ],
   "source": [
    "price_pens = np.array([34, 45, 67, 45, 23])\n",
    "\n",
    "# check which elements are greater than or equal to 40\n",
    "# the comparison condition gives boolean output\n",
    "output_array = price_pens >= 40\n",
    "output_array"
   ]
  },
  {
   "cell_type": "markdown",
   "metadata": {
    "id": "nXau8yWp2FQB"
   },
   "source": [
    "Pass the above boolean array to the main array to fetch the values that satisfy the comparison condition."
   ]
  },
  {
   "cell_type": "code",
   "execution_count": null,
   "metadata": {
    "id": "xaEQ5c-52FQB",
    "outputId": "815b4a56-c59f-48dc-ebb4-4fa0dbf0ddab"
   },
   "outputs": [
    {
     "data": {
      "text/plain": [
       "array([45, 67, 45])"
      ]
     },
     "execution_count": 41,
     "metadata": {},
     "output_type": "execute_result"
    }
   ],
   "source": [
    "# elements greater than or equal to 40\n",
    "price_pens[output_array]"
   ]
  },
  {
   "cell_type": "markdown",
   "metadata": {
    "id": "wNNRxElf2FQB"
   },
   "source": [
    "Rather than creating a separate array of booleans, you can specify the comparison operation directly on the main array."
   ]
  },
  {
   "cell_type": "code",
   "execution_count": null,
   "metadata": {
    "id": "jFEEcrTl2FQB",
    "outputId": "c13920d0-85c7-4d33-b7fe-15c3e0c7cb20"
   },
   "outputs": [
    {
     "data": {
      "text/plain": [
       "array([34, 45, 67, 45, 23])"
      ]
     },
     "execution_count": 42,
     "metadata": {},
     "output_type": "execute_result"
    }
   ],
   "source": [
    "# print my_array\n",
    "price_pens"
   ]
  },
  {
   "cell_type": "code",
   "execution_count": null,
   "metadata": {
    "id": "8eUlzMvS2FQB",
    "outputId": "b8b342d1-67d9-41b5-f288-b4e43e95f9fe"
   },
   "outputs": [
    {
     "data": {
      "text/plain": [
       "array([45, 67, 45])"
      ]
     },
     "execution_count": 43,
     "metadata": {},
     "output_type": "execute_result"
    }
   ],
   "source": [
    "# print the elements greater than or equal to 40\n",
    "price_pens[price_pens >= 40]"
   ]
  },
  {
   "cell_type": "markdown",
   "metadata": {
    "id": "qHaIiI8i2FQC"
   },
   "source": [
    "<a id=\"operations_2d\"> </a>\n",
    "### 7. Operations on a 2D Array"
   ]
  },
  {
   "cell_type": "markdown",
   "metadata": {
    "id": "J_spLz5r2FQC"
   },
   "source": [
    "Let’s create 2 two-dimensional arrays, array_a and array_b."
   ]
  },
  {
   "cell_type": "code",
   "execution_count": null,
   "metadata": {
    "id": "D9mYdnAv2FQC",
    "outputId": "b48f976d-a608-452d-e0a2-5f66ccf8cf0b"
   },
   "outputs": [
    {
     "name": "stdout",
     "output_type": "stream",
     "text": [
      "The first array is \n",
      " [[33 12]\n",
      " [70 61]]\n",
      "The second array is \n",
      " [[43 51]\n",
      " [72 81]]\n"
     ]
    }
   ],
   "source": [
    "# declare two arrays\n",
    "# first array\n",
    "quanitity_A = np.array([[33,12],[70,61]])\n",
    "\n",
    "# print the array\n",
    "print(\"The first array is \\n\",quanitity_A)\n",
    "\n",
    "# second array\n",
    "quanitity_B  = np.array([[43,51],[72,81]])\n",
    "\n",
    "# print the array\n",
    "print(\"The second array is \\n\",quanitity_B)"
   ]
  },
  {
   "cell_type": "markdown",
   "metadata": {
    "id": "6lw1d2Sb2FQC"
   },
   "source": [
    "Add the two array"
   ]
  },
  {
   "cell_type": "code",
   "execution_count": null,
   "metadata": {
    "id": "_H6WyVqX2FQC",
    "outputId": "ac65b5cb-074b-462a-af88-eab6e19fd9d3"
   },
   "outputs": [
    {
     "data": {
      "text/plain": [
       "array([[ 76,  63],\n",
       "       [142, 142]])"
      ]
     },
     "execution_count": 45,
     "metadata": {},
     "output_type": "execute_result"
    }
   ],
   "source": [
    "# add the 2 arrays\n",
    "quanitity_A + quanitity_B"
   ]
  },
  {
   "cell_type": "markdown",
   "metadata": {
    "id": "-pIUgd402FQC"
   },
   "source": [
    "Perform multiplication on array_a and array_b."
   ]
  },
  {
   "cell_type": "code",
   "execution_count": null,
   "metadata": {
    "id": "JkW_hZzf2FQC",
    "outputId": "bc766691-7983-4aee-b70c-e54e3d8aa918"
   },
   "outputs": [
    {
     "data": {
      "text/plain": [
       "array([[1419,  612],\n",
       "       [5040, 4941]])"
      ]
     },
     "execution_count": 46,
     "metadata": {},
     "output_type": "execute_result"
    }
   ],
   "source": [
    "# multiply the 2 arrays\n",
    "quanitity_A * quanitity_B"
   ]
  },
  {
   "cell_type": "markdown",
   "metadata": {
    "id": "1BqfHJsI2FQC"
   },
   "source": [
    "'+=' operation on the `quanitity_A` is equivalent to adding a specified value to each element of the array. The original array gets modified using this operation."
   ]
  },
  {
   "cell_type": "code",
   "execution_count": null,
   "metadata": {
    "id": "4Rlhokdy2FQD",
    "outputId": "eb176340-c9ab-45bf-9e3d-62fb14d38ddc"
   },
   "outputs": [
    {
     "data": {
      "text/plain": [
       "array([[35, 14],\n",
       "       [72, 63]])"
      ]
     },
     "execution_count": 47,
     "metadata": {},
     "output_type": "execute_result"
    }
   ],
   "source": [
    "# add 2 to each element\n",
    "quanitity_A += 2\n",
    "quanitity_A "
   ]
  },
  {
   "cell_type": "markdown",
   "metadata": {
    "id": "nXAXroQe2FQD"
   },
   "source": [
    "Similarly, you can use other arithmetic operations like -= and *="
   ]
  },
  {
   "cell_type": "code",
   "execution_count": null,
   "metadata": {
    "id": "BrLCOaGe2FQD",
    "outputId": "055bd0c9-ef02-4985-8b42-a1a34c429b5d"
   },
   "outputs": [
    {
     "data": {
      "text/plain": [
       "array([[33, 12],\n",
       "       [70, 61]])"
      ]
     },
     "execution_count": 48,
     "metadata": {},
     "output_type": "execute_result"
    }
   ],
   "source": [
    "# subtract 2 from each element \n",
    "quanitity_A -= 2\n",
    "\n",
    "# print the array\n",
    "quanitity_A "
   ]
  },
  {
   "cell_type": "code",
   "execution_count": null,
   "metadata": {
    "id": "QcRymCbE2FQD",
    "outputId": "9db37a76-a687-4b0e-a353-756183ac120c"
   },
   "outputs": [
    {
     "data": {
      "text/plain": [
       "array([[ 66,  24],\n",
       "       [140, 122]])"
      ]
     },
     "execution_count": 49,
     "metadata": {},
     "output_type": "execute_result"
    }
   ],
   "source": [
    "# multiply 2 to each element \n",
    "quanitity_A *= 2\n",
    "\n",
    "# print the array\n",
    "quanitity_A "
   ]
  },
  {
   "cell_type": "markdown",
   "metadata": {
    "id": "OG6zqvVA2FQD"
   },
   "source": [
    "**Matrix Multiplication**<br>\n",
    "\n",
    "Use '@' operator to perform matrix multiplication (or matrix product)."
   ]
  },
  {
   "cell_type": "code",
   "execution_count": null,
   "metadata": {
    "id": "DZKlRe082FQD",
    "outputId": "9b5768dd-85b9-4988-8960-11d0eea13641"
   },
   "outputs": [
    {
     "data": {
      "text/plain": [
       "array([[ 4566,  5310],\n",
       "       [14804, 17022]])"
      ]
     },
     "execution_count": 50,
     "metadata": {},
     "output_type": "execute_result"
    }
   ],
   "source": [
    "quanitity_A @ quanitity_B"
   ]
  },
  {
   "cell_type": "markdown",
   "metadata": {
    "id": "FHrji0Ce2FQD"
   },
   "source": [
    "The same output can also be obtained by the dot()."
   ]
  },
  {
   "cell_type": "code",
   "execution_count": null,
   "metadata": {
    "id": "7ARQWfAr2FQD",
    "outputId": "521a2e89-9c08-46ca-d033-0172497cdff5"
   },
   "outputs": [
    {
     "data": {
      "text/plain": [
       "array([[ 4566,  5310],\n",
       "       [14804, 17022]])"
      ]
     },
     "execution_count": 51,
     "metadata": {},
     "output_type": "execute_result"
    }
   ],
   "source": [
    "quanitity_A.dot(quanitity_B)"
   ]
  },
  {
   "cell_type": "markdown",
   "metadata": {
    "id": "ccLUMxB02FQE"
   },
   "source": [
    "<a id=\"arithmetic_functions\"> </a>\n",
    "### 8. Arithmetic Functions in Numpy"
   ]
  },
  {
   "cell_type": "code",
   "execution_count": null,
   "metadata": {
    "id": "fj--OKms2FQE",
    "outputId": "056da81a-36f6-458b-c08e-d31ea1a22ea0",
    "scrolled": true
   },
   "outputs": [
    {
     "data": {
      "text/plain": [
       "array([5, 7, 8, 2, 4])"
      ]
     },
     "execution_count": 52,
     "metadata": {},
     "output_type": "execute_result"
    }
   ],
   "source": [
    "# given array\n",
    "performance_scores = np.array([5,7,8,2,4])\n",
    "\n",
    "# print the array\n",
    "performance_scores"
   ]
  },
  {
   "cell_type": "markdown",
   "metadata": {
    "id": "__iNfQ-02FQE"
   },
   "source": [
    "**sum():**<br>\n",
    "The sum() function adds all the values in the array and gives a scalar output."
   ]
  },
  {
   "cell_type": "code",
   "execution_count": null,
   "metadata": {
    "id": "qhjwahy62FQE",
    "outputId": "2e32ce82-75a8-4591-8b06-3aa99d539ada"
   },
   "outputs": [
    {
     "data": {
      "text/plain": [
       "26"
      ]
     },
     "execution_count": 53,
     "metadata": {},
     "output_type": "execute_result"
    }
   ],
   "source": [
    "# add all the elements of 'performance_scores'\n",
    "performance_scores.sum()"
   ]
  },
  {
   "cell_type": "markdown",
   "metadata": {
    "id": "g5ipMAbK2FQE"
   },
   "source": [
    "**min():**<br>\n",
    "The min function finds the lowest value in the array."
   ]
  },
  {
   "cell_type": "code",
   "execution_count": null,
   "metadata": {
    "id": "Kpv1qAmB2FQE",
    "outputId": "67ccc06c-83da-4a4c-8fdb-d2015606e1a3"
   },
   "outputs": [
    {
     "data": {
      "text/plain": [
       "2"
      ]
     },
     "execution_count": 54,
     "metadata": {},
     "output_type": "execute_result"
    }
   ],
   "source": [
    "# find minimum of 'performance_scores'\n",
    "performance_scores.min()"
   ]
  },
  {
   "cell_type": "markdown",
   "metadata": {
    "id": "-GAQkJXv2FQF"
   },
   "source": [
    "**power():**<br>\n",
    "The power function raises the numbers in the array to the given value."
   ]
  },
  {
   "cell_type": "code",
   "execution_count": null,
   "metadata": {
    "id": "DpjHPEz92FQF",
    "outputId": "7910da64-f584-411a-90c3-61c74986203f"
   },
   "outputs": [
    {
     "data": {
      "text/plain": [
       "array([125, 343, 512,   8,  64])"
      ]
     },
     "execution_count": 55,
     "metadata": {},
     "output_type": "execute_result"
    }
   ],
   "source": [
    "# get cube of elements of 'performance_scores'\n",
    "np.power(performance_scores,3)"
   ]
  },
  {
   "cell_type": "markdown",
   "metadata": {
    "id": "6v8PT8uV2FQF"
   },
   "source": [
    "**Using the axis parameter**<br>\n",
    "Use the axis parameter with value 0, to find the sum of all the values in a single column."
   ]
  },
  {
   "cell_type": "code",
   "execution_count": null,
   "metadata": {
    "id": "SunW5UUk2FQF",
    "outputId": "504b1393-3876-41ba-aaa9-8b102db0ff64"
   },
   "outputs": [
    {
     "data": {
      "text/plain": [
       "array([[3, 8, 6],\n",
       "       [9, 7, 1]])"
      ]
     },
     "execution_count": 56,
     "metadata": {},
     "output_type": "execute_result"
    }
   ],
   "source": [
    "# create a 2D array of random integers\n",
    "num_array = np.random.randint(1,10,(2,3))\n",
    "num_array"
   ]
  },
  {
   "cell_type": "code",
   "execution_count": null,
   "metadata": {
    "id": "cAf-oJ4T2FQF",
    "outputId": "88451c5b-21a2-4068-c685-4a09fe120ed0"
   },
   "outputs": [
    {
     "data": {
      "text/plain": [
       "array([12, 15,  7])"
      ]
     },
     "execution_count": 57,
     "metadata": {},
     "output_type": "execute_result"
    }
   ],
   "source": [
    "# obtain the sum over columns\n",
    "num_array.sum(axis=0)"
   ]
  },
  {
   "cell_type": "markdown",
   "metadata": {
    "id": "jeP2cKEG2FQF"
   },
   "source": [
    "Similarly, to find the lowest value across a particular row, use the axis parameter with a value ‘1'."
   ]
  },
  {
   "cell_type": "code",
   "execution_count": null,
   "metadata": {
    "id": "itlBB-nv2FQG",
    "outputId": "61a539f8-37c0-4480-b7a4-44864a1a8343"
   },
   "outputs": [
    {
     "data": {
      "text/plain": [
       "array([3, 1])"
      ]
     },
     "execution_count": 58,
     "metadata": {},
     "output_type": "execute_result"
    }
   ],
   "source": [
    "# obtain the sum over rows\n",
    "num_array.min(axis=1)"
   ]
  },
  {
   "cell_type": "markdown",
   "metadata": {
    "id": "mO8TF2Vb2FQG"
   },
   "source": [
    "<a id=\"concatenation\"> </a>\n",
    "### 9. Concatenation of Array"
   ]
  },
  {
   "cell_type": "markdown",
   "metadata": {
    "id": "T5mQB4QL2FQG"
   },
   "source": [
    "The arrays can be concatenated only if they have the same shape, except in the dimension corresponding to the axis of concatenation."
   ]
  },
  {
   "cell_type": "markdown",
   "metadata": {
    "id": "x6q_Nz3l2FQG"
   },
   "source": [
    "**Concatenate 1D array**"
   ]
  },
  {
   "cell_type": "code",
   "execution_count": null,
   "metadata": {
    "id": "qxkOw67y2FQG",
    "outputId": "78946117-ae04-4608-dea5-f76e286d46da"
   },
   "outputs": [
    {
     "data": {
      "text/plain": [
       "array([11, 22, 13, 23, 22, 12])"
      ]
     },
     "execution_count": 59,
     "metadata": {},
     "output_type": "execute_result"
    }
   ],
   "source": [
    "# concatenate two 1D arrays\n",
    "# production on day 1 \n",
    "production_day_1 = np.array([11, 22, 13])\n",
    "\n",
    "# production on day 2\n",
    "production_day_2 = np.array([23, 22, 12])\n",
    "\n",
    "# concatenate the two array giving the production for 2 days\n",
    "np.concatenate([production_day_1, production_day_2])"
   ]
  },
  {
   "cell_type": "markdown",
   "metadata": {
    "id": "V5f3hhpm2FQG"
   },
   "source": [
    "You can also concatenate more than two arrays at once."
   ]
  },
  {
   "cell_type": "code",
   "execution_count": null,
   "metadata": {
    "id": "3ei_WOhI2FQG",
    "outputId": "800d791b-cb98-4c0e-a062-5c3537d99810"
   },
   "outputs": [
    {
     "data": {
      "text/plain": [
       "array([11, 22, 13, 23, 22, 12, 23, 45])"
      ]
     },
     "execution_count": 60,
     "metadata": {},
     "output_type": "execute_result"
    }
   ],
   "source": [
    "# production on day 3\n",
    "production_day_3 = np.array([23,45])\n",
    "\n",
    "# concatenate the two array giving the production for 3 days\n",
    "total_produce = np.concatenate([production_day_1, production_day_2, production_day_3])\n",
    "\n",
    "# print total_produce\n",
    "total_produce"
   ]
  },
  {
   "cell_type": "markdown",
   "metadata": {
    "id": "LWubeDqt2FQH"
   },
   "source": [
    "**Concatenate 2D array**"
   ]
  },
  {
   "cell_type": "code",
   "execution_count": null,
   "metadata": {
    "id": "S5isFRCf2FQH",
    "outputId": "45a4126c-b9e8-405c-9a0f-595e6388874d"
   },
   "outputs": [
    {
     "data": {
      "text/plain": [
       "array([[1, 2, 3],\n",
       "       [4, 5, 6]])"
      ]
     },
     "execution_count": 61,
     "metadata": {},
     "output_type": "execute_result"
    }
   ],
   "source": [
    "# create a 2D array\n",
    "scores_player_1 = np.array([[1, 2, 3],\n",
    "                 [4, 5, 6]])\n",
    "scores_player_1"
   ]
  },
  {
   "cell_type": "code",
   "execution_count": null,
   "metadata": {
    "id": "fV6eyeeJ2FQH",
    "outputId": "c4f4fe8e-d06b-4f94-e573-360fe484f2d1"
   },
   "outputs": [
    {
     "data": {
      "text/plain": [
       "array([[5, 6, 3],\n",
       "       [4, 9, 6]])"
      ]
     },
     "execution_count": 62,
     "metadata": {},
     "output_type": "execute_result"
    }
   ],
   "source": [
    "# create a 2D array\n",
    "scores_player_2 = np.array([[5, 6, 3],\n",
    "                 [4, 9, 6]])\n",
    "scores_player_2"
   ]
  },
  {
   "cell_type": "markdown",
   "metadata": {
    "id": "mOQ5GmY22FQH"
   },
   "source": [
    "**concatenate along the first axis**"
   ]
  },
  {
   "cell_type": "code",
   "execution_count": null,
   "metadata": {
    "id": "fXfDTN7Q2FQH",
    "outputId": "6239735e-7052-474a-9b86-318109ef69c3"
   },
   "outputs": [
    {
     "data": {
      "text/plain": [
       "array([[1, 2, 3],\n",
       "       [4, 5, 6],\n",
       "       [5, 6, 3],\n",
       "       [4, 9, 6]])"
      ]
     },
     "execution_count": 63,
     "metadata": {},
     "output_type": "execute_result"
    }
   ],
   "source": [
    "# by default concatenate() is along 'axis = 0'\n",
    "np.concatenate([scores_player_1, scores_player_2])"
   ]
  },
  {
   "cell_type": "markdown",
   "metadata": {
    "id": "EL8-FDj12FQH"
   },
   "source": [
    "**concatenate along the second axis**"
   ]
  },
  {
   "cell_type": "code",
   "execution_count": null,
   "metadata": {
    "id": "XXEmtspT2FQH",
    "outputId": "27abdbbc-72bf-423a-b65c-ac0b155da2f1"
   },
   "outputs": [
    {
     "data": {
      "text/plain": [
       "array([[1, 2, 3, 1, 2, 3],\n",
       "       [4, 5, 6, 4, 5, 6]])"
      ]
     },
     "execution_count": 64,
     "metadata": {},
     "output_type": "execute_result"
    }
   ],
   "source": [
    "np.concatenate([scores_player_1, scores_player_1], axis=1)"
   ]
  },
  {
   "cell_type": "markdown",
   "metadata": {
    "id": "GKlrwSBA2FQI"
   },
   "source": [
    "**Concatenate 1D and 2D array**"
   ]
  },
  {
   "cell_type": "code",
   "execution_count": 14,
   "metadata": {
    "id": "aDz7qz4P2FQI",
    "outputId": "b210fd2c-f971-47ee-b7b1-c0fc6d2bac9c",
    "scrolled": true
   },
   "outputs": [
    {
     "ename": "ValueError",
     "evalue": "all the input arrays must have same number of dimensions, but the array at index 0 has 1 dimension(s) and the array at index 1 has 2 dimension(s)",
     "output_type": "error",
     "traceback": [
      "\u001b[0;31m---------------------------------------------------------------------------\u001b[0m",
      "\u001b[0;31mValueError\u001b[0m                                Traceback (most recent call last)",
      "Input \u001b[0;32mIn [14]\u001b[0m, in \u001b[0;36m<cell line: 9>\u001b[0;34m()\u001b[0m\n\u001b[1;32m      5\u001b[0m \u001b[38;5;66;03m# consider a 2D array -- 'num_array_2D'\u001b[39;00m\n\u001b[1;32m      6\u001b[0m num_array_2D \u001b[38;5;241m=\u001b[39m np\u001b[38;5;241m.\u001b[39marray([[\u001b[38;5;241m5\u001b[39m, \u001b[38;5;241m6\u001b[39m, \u001b[38;5;241m3\u001b[39m],\n\u001b[1;32m      7\u001b[0m                  [\u001b[38;5;241m4\u001b[39m, \u001b[38;5;241m9\u001b[39m, \u001b[38;5;241m6\u001b[39m]])\n\u001b[0;32m----> 9\u001b[0m \u001b[43mnp\u001b[49m\u001b[38;5;241;43m.\u001b[39;49m\u001b[43mconcatenate\u001b[49m\u001b[43m(\u001b[49m\u001b[43m[\u001b[49m\u001b[43mnum_array_1D\u001b[49m\u001b[43m,\u001b[49m\u001b[43m \u001b[49m\u001b[43mnum_array_2D\u001b[49m\u001b[43m]\u001b[49m\u001b[43m,\u001b[49m\u001b[43m \u001b[49m\u001b[43maxis\u001b[49m\u001b[43m \u001b[49m\u001b[38;5;241;43m=\u001b[39;49m\u001b[43m \u001b[49m\u001b[38;5;241;43m0\u001b[39;49m\u001b[43m)\u001b[49m\n",
      "File \u001b[0;32m<__array_function__ internals>:5\u001b[0m, in \u001b[0;36mconcatenate\u001b[0;34m(*args, **kwargs)\u001b[0m\n",
      "\u001b[0;31mValueError\u001b[0m: all the input arrays must have same number of dimensions, but the array at index 0 has 1 dimension(s) and the array at index 1 has 2 dimension(s)"
     ]
    }
   ],
   "source": [
    "# concatenate the 1D and 2D arrays\n",
    "# consider a 1D array -- 'num_array_1D'\n",
    "num_array_1D = np.array([23,45])\n",
    "\n",
    "# consider a 2D array -- 'num_array_2D'\n",
    "num_array_2D = np.array([[5, 6, 3],\n",
    "                 [4, 9, 6]])\n",
    "\n",
    "np.concatenate([num_array_1D, num_array_2D], axis = 0)"
   ]
  },
  {
   "cell_type": "markdown",
   "metadata": {
    "id": "SDGWrq_n2FQI"
   },
   "source": [
    "**Note:** One can not concatenate the arrays with different dimensions"
   ]
  },
  {
   "cell_type": "markdown",
   "metadata": {
    "id": "NehDCuIt2FQI"
   },
   "source": [
    "<a id=\"stacking\"> </a>\n",
    "### 10. Stacking of Array"
   ]
  },
  {
   "cell_type": "markdown",
   "metadata": {
    "id": "ROJpdItl2FQI"
   },
   "source": [
    "Stacking can be used to join 2 or more arrays along the different axes. This method can also be used to create higher-dimensional arrays using lower-dimensional arrays. \n",
    "Numpy vstack, Numpy hstack, and Numpy concatenate are all similar functions to join the arrays."
   ]
  },
  {
   "cell_type": "code",
   "execution_count": 14,
   "metadata": {
    "id": "vLf2zxX92FQI",
    "outputId": "eb24c00c-3283-4c32-f32a-d54357bbe88f"
   },
   "outputs": [
    {
     "name": "stdout",
     "output_type": "stream",
     "text": [
      "[[1 2 3]\n",
      " [4 5 6]]\n",
      "[[ 7  8  9]\n",
      " [10 11 12]]\n"
     ]
    }
   ],
   "source": [
    "# create two arrays\n",
    "num_array_1 = np.array([[1, 2, 3], [4, 5, 6]])\n",
    "num_array_2 = np.array([[7, 8, 9,10, 11, 12]]).reshape(2,3)\n",
    "print(num_array_1) \n",
    "print(num_array_2)"
   ]
  },
  {
   "cell_type": "markdown",
   "metadata": {
    "id": "bK91hqKa2FQJ"
   },
   "source": [
    "**NumPy stack** enables you to combine arrays along the specified axis. We can create a higher-dimensional array using stack()."
   ]
  },
  {
   "cell_type": "code",
   "execution_count": null,
   "metadata": {
    "id": "jiGV0D-x2FQJ",
    "outputId": "4a5e1a20-cf8b-4bc4-c00b-ccb55febc59e"
   },
   "outputs": [
    {
     "data": {
      "text/plain": [
       "array([[[ 1,  2,  3],\n",
       "        [ 7,  8,  9]],\n",
       "\n",
       "       [[ 4,  5,  6],\n",
       "        [10, 11, 12]]])"
      ]
     },
     "execution_count": 67,
     "metadata": {},
     "output_type": "execute_result"
    }
   ],
   "source": [
    "# stack arrays along the 1st axis\n",
    "array_stack = np.stack((num_array_1, num_array_2), axis=1)\n",
    "array_stack"
   ]
  },
  {
   "cell_type": "markdown",
   "metadata": {
    "id": "_jopYe3u2FQJ"
   },
   "source": [
    "**NumPy hstack** enables you to combine arrays horizontally."
   ]
  },
  {
   "cell_type": "code",
   "execution_count": null,
   "metadata": {
    "id": "AmqMnq192FQJ",
    "outputId": "f4d62da5-e490-491c-baf8-69ead3a4b6dd"
   },
   "outputs": [
    {
     "data": {
      "text/plain": [
       "array([[1, 2, 3, 1, 2, 3],\n",
       "       [4, 5, 6, 4, 5, 6]])"
      ]
     },
     "execution_count": 68,
     "metadata": {},
     "output_type": "execute_result"
    }
   ],
   "source": [
    "# stack arrays in sequence horizontally (column wise)\n",
    "array_hstack = np.hstack((num_array_1, num_array_1))\n",
    "array_hstack"
   ]
  },
  {
   "cell_type": "markdown",
   "metadata": {
    "id": "6r-NRyEc2FQJ"
   },
   "source": [
    "**Numpy vstack** enables you to combine arrays vertically."
   ]
  },
  {
   "cell_type": "markdown",
   "metadata": {
    "id": "GH5t2zu-2FQJ"
   },
   "source": [
    "<table align=\"center\">\n",
    "    <td width = '250'>\n",
    "            <img src=\"Vstack.png\">\n",
    "        </td>\n",
    "</table>"
   ]
  },
  {
   "cell_type": "code",
   "execution_count": null,
   "metadata": {
    "id": "2OXYzMwF2FQJ",
    "outputId": "323cc84b-75fe-4041-8faf-d0d4d3c08973"
   },
   "outputs": [
    {
     "data": {
      "text/plain": [
       "array([[ 1,  2,  3],\n",
       "       [ 4,  5,  6],\n",
       "       [ 7,  8,  9],\n",
       "       [10, 11, 12]])"
      ]
     },
     "execution_count": 69,
     "metadata": {},
     "output_type": "execute_result"
    }
   ],
   "source": [
    "# stack arrays in sequence vertically (row wise)\n",
    "array_vstack = np.vstack([num_array_1, num_array_2])\n",
    "array_vstack"
   ]
  },
  {
   "cell_type": "markdown",
   "metadata": {
    "id": "n6KaqmbK2FQJ"
   },
   "source": [
    "**Numpy dstack** will stack arrays along the third axis. It converts each array as the column of the modified array."
   ]
  },
  {
   "cell_type": "code",
   "execution_count": null,
   "metadata": {
    "id": "bvDO9_PP2FQK",
    "outputId": "8dde0bdb-24ac-4639-e831-d669ec820c7a"
   },
   "outputs": [
    {
     "data": {
      "text/plain": [
       "array([[[1, 1],\n",
       "        [2, 2],\n",
       "        [3, 3]],\n",
       "\n",
       "       [[4, 4],\n",
       "        [5, 5],\n",
       "        [6, 6]]])"
      ]
     },
     "execution_count": 70,
     "metadata": {},
     "output_type": "execute_result"
    }
   ],
   "source": [
    "# stack arrays in sequence depth wise (along the third axis)\n",
    "array_dstack = np.dstack((num_array_1, num_array_1))\n",
    "array_dstack"
   ]
  },
  {
   "cell_type": "markdown",
   "metadata": {
    "id": "2WVAyYFQ2FQK"
   },
   "source": [
    "**Numpy column_stack** enables you to stack 1D array as 2D array."
   ]
  },
  {
   "cell_type": "code",
   "execution_count": null,
   "metadata": {
    "id": "CV4H44cO2FQK",
    "outputId": "55bf3764-8299-4496-ce7a-aae58843589e"
   },
   "outputs": [
    {
     "data": {
      "text/plain": [
       "array([[1, 2],\n",
       "       [4, 5],\n",
       "       [8, 7]])"
      ]
     },
     "execution_count": 71,
     "metadata": {},
     "output_type": "execute_result"
    }
   ],
   "source": [
    "# create two 1D array\n",
    "num_array_1 = np.array([1,4,8])\n",
    "num_array_2 = np.array([2,5,7])\n",
    "\n",
    "# stack arrays as 2D array\n",
    "array_vstack = np.column_stack([num_array_1, num_array_2])\n",
    "array_vstack"
   ]
  },
  {
   "cell_type": "code",
   "execution_count": null,
   "metadata": {
    "id": "Iii4SK9u2FQK",
    "outputId": "ab99612f-1d6d-4bd3-92e1-c143163fc75d"
   },
   "outputs": [
    {
     "data": {
      "text/plain": [
       "2"
      ]
     },
     "execution_count": 72,
     "metadata": {},
     "output_type": "execute_result"
    }
   ],
   "source": [
    "# check the dimension of stacked array\n",
    "np.ndim(array_vstack)"
   ]
  },
  {
   "cell_type": "markdown",
   "metadata": {
    "id": "Y5T0PsyV2FQK"
   },
   "source": [
    "**block()** is used to assemble array from a nested list of blocks"
   ]
  },
  {
   "cell_type": "code",
   "execution_count": null,
   "metadata": {
    "id": "v5y__Rbd2FQK",
    "outputId": "e94ece06-8843-4fa4-ddfb-53caeb092a0b"
   },
   "outputs": [
    {
     "data": {
      "text/plain": [
       "array([[4, 7],\n",
       "       [6, 3]])"
      ]
     },
     "execution_count": 73,
     "metadata": {},
     "output_type": "execute_result"
    }
   ],
   "source": [
    "# create a block matrix using 1D array\n",
    "\n",
    "m1 = np.array([4])\n",
    "m2 = np.array([7])\n",
    "m3 = np.array([6])\n",
    "m4 = np.array([3])\n",
    "\n",
    "# 2D matrix using block()\n",
    "np.block([[m1, m2],\n",
    "        [m3,m4]])"
   ]
  },
  {
   "cell_type": "markdown",
   "metadata": {
    "id": "Z7xxPkTG2FQK"
   },
   "source": [
    "<a id=\"splitting\"> </a>\n",
    "### 11. Splitting of Array"
   ]
  },
  {
   "cell_type": "markdown",
   "metadata": {
    "id": "omlMzuqe2FQL"
   },
   "source": [
    "Splitting is used to split the array into multiple sub-arrays. It is the opposite of concatenation, which is implemented by functions like split(), hsplit(), and so on."
   ]
  },
  {
   "cell_type": "markdown",
   "metadata": {
    "id": "lrrZ03gJ2FQL"
   },
   "source": [
    "<table align=\"center\">\n",
    "    <td width = '300'>\n",
    "            <img src=\"Split.png\">\n",
    "</table>"
   ]
  },
  {
   "cell_type": "markdown",
   "metadata": {
    "id": "tiJ9lPfy2FQL"
   },
   "source": [
    "**split():**"
   ]
  },
  {
   "cell_type": "code",
   "execution_count": null,
   "metadata": {
    "id": "WDJ_ATi42FQL",
    "outputId": "274ff3c1-17c7-417d-e3ab-4bd3eb0ccfe6"
   },
   "outputs": [
    {
     "data": {
      "text/plain": [
       "[array([0, 1, 2, 3]), array([4, 5, 6, 7])]"
      ]
     },
     "execution_count": 74,
     "metadata": {},
     "output_type": "execute_result"
    }
   ],
   "source": [
    "# declare an array\n",
    "array_x = np.arange(8) \n",
    "\n",
    "# split the array into sub-arrays\n",
    "np.split(array_x, 2)"
   ]
  },
  {
   "cell_type": "markdown",
   "metadata": {
    "id": "70g-01ET2FQL"
   },
   "source": [
    "**Split the 1D array at positions indicated**"
   ]
  },
  {
   "cell_type": "code",
   "execution_count": null,
   "metadata": {
    "id": "UZ3LhJOR2FQL",
    "outputId": "eea9e90e-bf72-420a-c2ce-e62f4fde85fd"
   },
   "outputs": [
    {
     "name": "stdout",
     "output_type": "stream",
     "text": [
      "[array([0, 1, 2, 3, 4]), array([5, 6]), array([7])]\n"
     ]
    }
   ],
   "source": [
    "# the split occurs at 5th and 7th indices\n",
    "array_y = np.split(array_x,[5,7])\n",
    "\n",
    "# print array\n",
    "print(array_y)"
   ]
  },
  {
   "cell_type": "code",
   "execution_count": null,
   "metadata": {
    "id": "So2BXlwX2FQM",
    "outputId": "19c600be-fcb5-42e0-c9cf-3e9525489a92"
   },
   "outputs": [
    {
     "ename": "ValueError",
     "evalue": "array split does not result in an equal division",
     "output_type": "error",
     "traceback": [
      "\u001b[0;31m---------------------------------------------------------------------------\u001b[0m",
      "\u001b[0;31mTypeError\u001b[0m                                 Traceback (most recent call last)",
      "\u001b[0;32m/opt/anaconda3/lib/python3.7/site-packages/numpy/lib/shape_base.py\u001b[0m in \u001b[0;36msplit\u001b[0;34m(ary, indices_or_sections, axis)\u001b[0m\n\u001b[1;32m    849\u001b[0m     \u001b[0;32mtry\u001b[0m\u001b[0;34m:\u001b[0m\u001b[0;34m\u001b[0m\u001b[0;34m\u001b[0m\u001b[0m\n\u001b[0;32m--> 850\u001b[0;31m         \u001b[0mlen\u001b[0m\u001b[0;34m(\u001b[0m\u001b[0mindices_or_sections\u001b[0m\u001b[0;34m)\u001b[0m\u001b[0;34m\u001b[0m\u001b[0;34m\u001b[0m\u001b[0m\n\u001b[0m\u001b[1;32m    851\u001b[0m     \u001b[0;32mexcept\u001b[0m \u001b[0mTypeError\u001b[0m\u001b[0;34m:\u001b[0m\u001b[0;34m\u001b[0m\u001b[0;34m\u001b[0m\u001b[0m\n",
      "\u001b[0;31mTypeError\u001b[0m: object of type 'int' has no len()",
      "\nDuring handling of the above exception, another exception occurred:\n",
      "\u001b[0;31mValueError\u001b[0m                                Traceback (most recent call last)",
      "\u001b[0;32m<ipython-input-76-8d5829b274b4>\u001b[0m in \u001b[0;36m<module>\u001b[0;34m\u001b[0m\n\u001b[1;32m      1\u001b[0m \u001b[0;31m# split 'array_x' into 3 sub-arrays\u001b[0m\u001b[0;34m\u001b[0m\u001b[0;34m\u001b[0m\u001b[0;34m\u001b[0m\u001b[0m\n\u001b[0;32m----> 2\u001b[0;31m \u001b[0mnp\u001b[0m\u001b[0;34m.\u001b[0m\u001b[0msplit\u001b[0m\u001b[0;34m(\u001b[0m\u001b[0marray_x\u001b[0m\u001b[0;34m,\u001b[0m \u001b[0;36m3\u001b[0m\u001b[0;34m)\u001b[0m\u001b[0;34m\u001b[0m\u001b[0;34m\u001b[0m\u001b[0m\n\u001b[0m",
      "\u001b[0;32m<__array_function__ internals>\u001b[0m in \u001b[0;36msplit\u001b[0;34m(*args, **kwargs)\u001b[0m\n",
      "\u001b[0;32m/opt/anaconda3/lib/python3.7/site-packages/numpy/lib/shape_base.py\u001b[0m in \u001b[0;36msplit\u001b[0;34m(ary, indices_or_sections, axis)\u001b[0m\n\u001b[1;32m    854\u001b[0m         \u001b[0;32mif\u001b[0m \u001b[0mN\u001b[0m \u001b[0;34m%\u001b[0m \u001b[0msections\u001b[0m\u001b[0;34m:\u001b[0m\u001b[0;34m\u001b[0m\u001b[0;34m\u001b[0m\u001b[0m\n\u001b[1;32m    855\u001b[0m             raise ValueError(\n\u001b[0;32m--> 856\u001b[0;31m                 'array split does not result in an equal division')\n\u001b[0m\u001b[1;32m    857\u001b[0m     \u001b[0mres\u001b[0m \u001b[0;34m=\u001b[0m \u001b[0marray_split\u001b[0m\u001b[0;34m(\u001b[0m\u001b[0mary\u001b[0m\u001b[0;34m,\u001b[0m \u001b[0mindices_or_sections\u001b[0m\u001b[0;34m,\u001b[0m \u001b[0maxis\u001b[0m\u001b[0;34m)\u001b[0m\u001b[0;34m\u001b[0m\u001b[0;34m\u001b[0m\u001b[0m\n\u001b[1;32m    858\u001b[0m     \u001b[0;32mreturn\u001b[0m \u001b[0mres\u001b[0m\u001b[0;34m\u001b[0m\u001b[0;34m\u001b[0m\u001b[0m\n",
      "\u001b[0;31mValueError\u001b[0m: array split does not result in an equal division"
     ]
    }
   ],
   "source": [
    "# split 'array_x' into 3 sub-arrays\n",
    "np.split(array_x, 3)"
   ]
  },
  {
   "cell_type": "markdown",
   "metadata": {
    "id": "X7tGxaq22FQM"
   },
   "source": [
    "**Remark:** The split() function does not allow the integer (N) as the number of splits if N does not divide the array into sub-arrays of equal length \n",
    "                    "
   ]
  },
  {
   "cell_type": "markdown",
   "metadata": {
    "id": "pYTeUVcJ2FQM"
   },
   "source": [
    "**array_split():** It is used to split the array into sub-arrays. It takes the integer 'N' as the input for the number of splits, even if 'N' does not divide the array into sub-arrays of equal length.<br>"
   ]
  },
  {
   "cell_type": "code",
   "execution_count": null,
   "metadata": {
    "id": "2Z-F9KFi2FQM",
    "outputId": "2bfd6feb-76c3-4619-86c3-bf87c6cd3776"
   },
   "outputs": [
    {
     "data": {
      "text/plain": [
       "[array([0, 1, 2]), array([3, 4, 5]), array([6, 7])]"
      ]
     },
     "execution_count": 77,
     "metadata": {},
     "output_type": "execute_result"
    }
   ],
   "source": [
    "# split 'array_x' into 3 sub-arrays using 'array_split'\n",
    "np.array_split(array_x, 3)"
   ]
  },
  {
   "cell_type": "markdown",
   "metadata": {
    "id": "b2LCWMWo2FQM"
   },
   "source": [
    "We split the array of length 8 into 3 sub-arrays; the function 'array_split()' returns <i>8 % 3 (=2)</i> sub-arrays of size <i>8//3 + 1 (=3)</i> and the rest (i.e. one sub-array) of size <i>8//3 (=2)</i>."
   ]
  },
  {
   "cell_type": "markdown",
   "metadata": {
    "id": "z3eXgXyj2FQM"
   },
   "source": [
    "**vsplit():**<br>\n",
    "The vsplit() function is used to split an array into multiple sub-arrays vertically (row-wise)."
   ]
  },
  {
   "cell_type": "markdown",
   "metadata": {
    "id": "kW8AhXB52FQM"
   },
   "source": [
    "<table align=\"center\">\n",
    "        <td height=\"100\", width = '600'>\n",
    "            <img src=\"Vsplit.png\">\n",
    "        </td>\n",
    "</table>"
   ]
  },
  {
   "cell_type": "code",
   "execution_count": null,
   "metadata": {
    "id": "VQDSLhiC2FQM",
    "outputId": "0fa0c174-ac9a-4028-c404-934c40c5e2c1"
   },
   "outputs": [
    {
     "name": "stdout",
     "output_type": "stream",
     "text": [
      "The array is:\n",
      " [ 0.  1.  2.  3.  4.  5.  6.  7.  8.  9. 10. 11. 12. 13. 14. 15. 16. 17.\n",
      " 18. 19.]\n",
      "The reshaped array is:\n",
      " [[ 0.  1.  2.  3.  4.]\n",
      " [ 5.  6.  7.  8.  9.]\n",
      " [10. 11. 12. 13. 14.]\n",
      " [15. 16. 17. 18. 19.]]\n"
     ]
    }
   ],
   "source": [
    "# declare an array\n",
    "my_array = np.arange(20.0)\n",
    "print(\"The array is:\\n\",my_array)\n",
    "\n",
    "# reshape the array in 4 rows and 5 columns\n",
    "my_reshaped_array = my_array.reshape(4,5)\n",
    "\n",
    "# print the array\n",
    "print(\"The reshaped array is:\\n\",my_reshaped_array)"
   ]
  },
  {
   "cell_type": "code",
   "execution_count": null,
   "metadata": {
    "id": "bfFudGeR2FQN",
    "outputId": "acd48f0b-27f5-4f06-d8b9-2a567cee13b7"
   },
   "outputs": [
    {
     "data": {
      "text/plain": [
       "[array([[0., 1., 2., 3., 4.],\n",
       "        [5., 6., 7., 8., 9.]]), array([[10., 11., 12., 13., 14.],\n",
       "        [15., 16., 17., 18., 19.]])]"
      ]
     },
     "execution_count": 79,
     "metadata": {},
     "output_type": "execute_result"
    }
   ],
   "source": [
    "# split the array vertically\n",
    "np.vsplit(my_reshaped_array , 2)"
   ]
  },
  {
   "cell_type": "markdown",
   "metadata": {
    "collapsed": true,
    "id": "-lCwWHLm2FQN"
   },
   "source": [
    "**hsplit():**<br>\n",
    "The hsplit() function is used to split an array into multiple sub-arrays horizontally (column-wise)."
   ]
  },
  {
   "cell_type": "markdown",
   "metadata": {
    "id": "r3wq7Px32FQN"
   },
   "source": [
    "<table align=\"center\">\n",
    "    <td width = '200'>\n",
    "            <img src=\"Hsplit.png\">\n",
    "        </td>\n",
    "</table>"
   ]
  },
  {
   "cell_type": "code",
   "execution_count": null,
   "metadata": {
    "id": "SAtUf4wM2FQN",
    "outputId": "1a1ebfab-235e-4599-cc52-d9db2ec50461"
   },
   "outputs": [
    {
     "data": {
      "text/plain": [
       "array([[ 0.,  1.,  2.,  3.],\n",
       "       [ 4.,  5.,  6.,  7.],\n",
       "       [ 8.,  9., 10., 11.],\n",
       "       [12., 13., 14., 15.]])"
      ]
     },
     "execution_count": 80,
     "metadata": {},
     "output_type": "execute_result"
    }
   ],
   "source": [
    "# declare an array\n",
    "my_array = np.arange(16.0).reshape(4,4)\n",
    "\n",
    "# print an array\n",
    "my_array"
   ]
  },
  {
   "cell_type": "code",
   "execution_count": null,
   "metadata": {
    "id": "f_gFU7B12FQN",
    "outputId": "2e274c96-6883-4784-f3f7-964ae5524140"
   },
   "outputs": [
    {
     "data": {
      "text/plain": [
       "[array([[ 0.,  1.],\n",
       "        [ 4.,  5.],\n",
       "        [ 8.,  9.],\n",
       "        [12., 13.]]), array([[ 2.,  3.],\n",
       "        [ 6.,  7.],\n",
       "        [10., 11.],\n",
       "        [14., 15.]])]"
      ]
     },
     "execution_count": 81,
     "metadata": {},
     "output_type": "execute_result"
    }
   ],
   "source": [
    "# split the array horizontally\n",
    "np.hsplit(my_array, 2)"
   ]
  },
  {
   "cell_type": "markdown",
   "metadata": {
    "collapsed": true,
    "id": "IiZ5DgoZ2FQO"
   },
   "source": [
    "**dsplit():**<br>\n",
    "The dsplit() function is used to split an array into multiple sub-arrays."
   ]
  },
  {
   "cell_type": "code",
   "execution_count": null,
   "metadata": {
    "id": "uDswkWjf2FQO",
    "outputId": "de466223-7d65-4bca-e6a3-271d9c5552ba"
   },
   "outputs": [
    {
     "data": {
      "text/plain": [
       "array([[[ 0.,  1.,  2.],\n",
       "        [ 3.,  4.,  5.]],\n",
       "\n",
       "       [[ 6.,  7.,  8.],\n",
       "        [ 9., 10., 11.]]])"
      ]
     },
     "execution_count": 82,
     "metadata": {},
     "output_type": "execute_result"
    }
   ],
   "source": [
    "# declare an array\n",
    "my_array = np.arange(12.0).reshape (2,2,3)\n",
    "\n",
    "# print it\n",
    "my_array"
   ]
  },
  {
   "cell_type": "code",
   "execution_count": null,
   "metadata": {
    "id": "qENRMbBg2FQO",
    "outputId": "1b5a6798-d819-4d44-b5d7-b470e91cb9d5"
   },
   "outputs": [
    {
     "data": {
      "text/plain": [
       "[array([[[0.],\n",
       "         [3.]],\n",
       " \n",
       "        [[6.],\n",
       "         [9.]]]), array([[[ 1.],\n",
       "         [ 4.]],\n",
       " \n",
       "        [[ 7.],\n",
       "         [10.]]]), array([[[ 2.],\n",
       "         [ 5.]],\n",
       " \n",
       "        [[ 8.],\n",
       "         [11.]]])]"
      ]
     },
     "execution_count": 83,
     "metadata": {},
     "output_type": "execute_result"
    }
   ],
   "source": [
    "# split the array along the depth in 3 subgroups\n",
    "np.dsplit(my_array,3)"
   ]
  },
  {
   "cell_type": "markdown",
   "metadata": {
    "id": "rw-S8GG32FQO"
   },
   "source": [
    "<a id=\"Iterating\"> </a>\n",
    "### 12. Iterating Numpy Array"
   ]
  },
  {
   "cell_type": "markdown",
   "metadata": {
    "id": "wnyHT1E52FQO"
   },
   "source": [
    "**Iterating a One-dimensional Array**<br>\n",
    "Iterating a one-dimensional array with the use of 'for loop'."
   ]
  },
  {
   "cell_type": "code",
   "execution_count": null,
   "metadata": {
    "id": "uPzlUIqd2FQO",
    "outputId": "fa695a1c-bd40-4908-f534-2663b36a7e27"
   },
   "outputs": [
    {
     "name": "stdout",
     "output_type": "stream",
     "text": [
      "10\n",
      "11\n",
      "12\n",
      "13\n",
      "14\n",
      "15\n",
      "16\n",
      "17\n",
      "18\n",
      "19\n",
      "20\n",
      "21\n"
     ]
    }
   ],
   "source": [
    "# create 1D array\n",
    "num_array = np.arange(12)\n",
    "\n",
    "# add 10 to each element \n",
    "# use a for loop to add 10 to each element\n",
    "for i in num_array:\n",
    "    print(i+10)"
   ]
  },
  {
   "cell_type": "markdown",
   "metadata": {
    "id": "JqzZZ0P12FQO"
   },
   "source": [
    "**Iterating a Two-dimensional Array**<br>\n",
    "If we use the same syntax to iterate a two-dimensional array, we will only be able to iterate a row."
   ]
  },
  {
   "cell_type": "code",
   "execution_count": null,
   "metadata": {
    "id": "7ml_3YBT2FQS",
    "outputId": "3cd5a6d8-08da-4969-a341-1d8616e822bb"
   },
   "outputs": [
    {
     "name": "stdout",
     "output_type": "stream",
     "text": [
      "The declared array is:\n",
      " [[ 0  1  2]\n",
      " [ 3  4  5]\n",
      " [ 6  7  8]\n",
      " [ 9 10 11]]\n",
      "\n",
      " The modified array is:\n",
      "\n",
      "[11 12 13]\n",
      "[14 15 16]\n",
      "[17 18 19]\n",
      "[20 21 22]\n"
     ]
    }
   ],
   "source": [
    "# create a 2D array\n",
    "my_array = np.arange(12).reshape(4,3)\n",
    "# print the array\n",
    "# \\n : print on newline\n",
    "print(\"The declared array is:\\n\",my_array)\n",
    "\n",
    "\n",
    "# add 11 to each element\n",
    "print(\"\\n The modified array is:\\n\")\n",
    "# use a for loop to add 11 to each element\n",
    "for i in my_array:\n",
    "    print(i+11)"
   ]
  },
  {
   "cell_type": "markdown",
   "metadata": {
    "id": "lrINv_Sa2FQS"
   },
   "source": [
    "**To iterate each element in the two-dimensional array, use the nested for loop.**"
   ]
  },
  {
   "cell_type": "code",
   "execution_count": null,
   "metadata": {
    "id": "1RjPU8wb2FQT",
    "outputId": "654307b0-16fe-4d00-d47a-fe2b1b661f11"
   },
   "outputs": [
    {
     "name": "stdout",
     "output_type": "stream",
     "text": [
      "11\n",
      "12\n",
      "13\n",
      "14\n",
      "15\n",
      "16\n",
      "17\n",
      "18\n",
      "19\n",
      "20\n",
      "21\n",
      "22\n"
     ]
    }
   ],
   "source": [
    "# use a for loop to add 11 to each element\n",
    "for i in my_array:              # for every row\n",
    "    for j in i:                 # for an element in a row\n",
    "        print(j+11)             # add 11 to it and print it"
   ]
  },
  {
   "cell_type": "markdown",
   "metadata": {
    "id": "wUb5OIVm2FQT"
   },
   "source": [
    "**nditer() object**<br>\n",
    "NumPy provides a multi-dimensional iterator object called nditer() to iterate the elements of an array."
   ]
  },
  {
   "cell_type": "code",
   "execution_count": null,
   "metadata": {
    "id": "wk8H-KbT2FQT",
    "outputId": "3464c07a-3ce6-4ab5-947b-b0dfe18cb854"
   },
   "outputs": [
    {
     "name": "stdout",
     "output_type": "stream",
     "text": [
      "0\n",
      "5\n",
      "10\n",
      "15\n",
      "20\n",
      "25\n",
      "30\n",
      "35\n",
      "40\n",
      "45\n",
      "50\n",
      "55\n"
     ]
    }
   ],
   "source": [
    "# multiply each element in the 2D array by 5\n",
    "# nditer(): efficiently iterating through arrays over multidimensional object \n",
    "for i in np.nditer(my_array):\n",
    "    print(i*5)"
   ]
  }
 ],
 "metadata": {
  "colab": {
   "collapsed_sections": [
    "W2RMfuR22FP7",
    "OXOVrCjc2FP8",
    "xX16KwfR2FQA",
    "qHaIiI8i2FQC",
    "ccLUMxB02FQE",
    "mO8TF2Vb2FQG",
    "NehDCuIt2FQI",
    "Z7xxPkTG2FQK",
    "rw-S8GG32FQO"
   ],
   "name": "NPV - Faculty Notebook Day 1.ipynb",
   "provenance": []
  },
  "kernelspec": {
   "display_name": "Python 3 (ipykernel)",
   "language": "python",
   "name": "python3"
  },
  "language_info": {
   "codemirror_mode": {
    "name": "ipython",
    "version": 3
   },
   "file_extension": ".py",
   "mimetype": "text/x-python",
   "name": "python",
   "nbconvert_exporter": "python",
   "pygments_lexer": "ipython3",
   "version": "3.9.12"
  }
 },
 "nbformat": 4,
 "nbformat_minor": 1
}
