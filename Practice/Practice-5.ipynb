{
 "cells": [
  {
   "cell_type": "markdown",
   "metadata": {
    "id": "kMWFDhZQ_TeI"
   },
   "source": [
    "<table align=\"center\" width=100%>\n",
    "    <tr>\n",
    "        <td width=\"20%\">\n",
    "            <img src=\"GL-2.png\">\n",
    "        </td>\n",
    "        <td>\n",
    "            <div align=\"center\">\n",
    "                <font color=\"#21618C\" size=8px>\n",
    "                    <b> Take-Home <br>(Day 1)\n",
    "                    </b>\n",
    "                </font>\n",
    "            </div>\n",
    "        </td>\n",
    "    </tr>\n",
    "</table>"
   ]
  },
  {
   "cell_type": "markdown",
   "metadata": {
    "id": "0EEKWg3D_TeN"
   },
   "source": [
    "### Let's begin with some hands-on practice exercises"
   ]
  },
  {
   "cell_type": "markdown",
   "metadata": {
    "collapsed": true,
    "id": "nkOF3Rox_TeO"
   },
   "source": [
    "<table align=\"left\">\n",
    "    <tr>\n",
    "        <td width=\"6%\">\n",
    "            <img src=\"question_icon.png\">\n",
    "        </td>\n",
    "        <td>\n",
    "            <div align=\"left\", style=\"font-size:120%\">\n",
    "                <font color=\"#21618C\">\n",
    "                    <b>1. Create an array of integers from 20 to 2 with a step of -2\n",
    "</b>\n",
    "                </font>\n",
    "            </div>\n",
    "        </td>\n",
    "    </tr>\n",
    "</table>"
   ]
  },
  {
   "cell_type": "code",
   "execution_count": 1,
   "metadata": {
    "id": "50s6Z7Pe_TeP"
   },
   "outputs": [
    {
     "data": {
      "text/plain": [
       "array([20, 18, 16, 14, 12, 10,  8,  6,  4,  2])"
      ]
     },
     "execution_count": 1,
     "metadata": {},
     "output_type": "execute_result"
    }
   ],
   "source": [
    "import numpy as np\n",
    "arr1=np.arange(20,1,-2)\n",
    "arr1"
   ]
  },
  {
   "cell_type": "markdown",
   "metadata": {
    "collapsed": true,
    "id": "K5l_YOIv_TeP"
   },
   "source": [
    "<table align=\"left\">\n",
    "    <tr>\n",
    "        <td width=\"6%\">\n",
    "            <img src=\"question_icon.png\">\n",
    "        </td>\n",
    "        <td>\n",
    "            <div align=\"left\", style=\"font-size:120%\">\n",
    "                <font color=\"#21618C\">\n",
    "                    <b>2. Find the minimum value along each of the rows\n",
    "</b>\n",
    "                </font>\n",
    "            </div>\n",
    "        </td>\n",
    "    </tr>\n",
    "</table>"
   ]
  },
  {
   "cell_type": "markdown",
   "metadata": {
    "id": "twE8L2eW_TeQ"
   },
   "source": [
    "#### Create a 2D Numpy array from list of lists\n",
    "\n",
    "    num_array = np.array([[110, 102, 183],\n",
    "                     [140, 175, 106],\n",
    "                     [170, 195, 117],\n",
    "                     [192, 140, 195]])"
   ]
  },
  {
   "cell_type": "code",
   "execution_count": 2,
   "metadata": {
    "id": "aEDEhiTx_TeQ"
   },
   "outputs": [
    {
     "name": "stdout",
     "output_type": "stream",
     "text": [
      "[102 106 117 140]\n"
     ]
    }
   ],
   "source": [
    "num_array = np.array([[110, 102, 183],\n",
    "                     [140, 175, 106],\n",
    "                     [170, 195, 117],\n",
    "                     [192, 140, 195]])\n",
    "print(np.min(num_array,axis=1))"
   ]
  },
  {
   "cell_type": "markdown",
   "metadata": {
    "collapsed": true,
    "id": "BP4sh8l6_TeR"
   },
   "source": [
    "<table align=\"left\">\n",
    "    <tr>\n",
    "        <td width=\"6%\">\n",
    "            <img src=\"question_icon.png\">\n",
    "        </td>\n",
    "        <td>\n",
    "            <div align=\"left\", style=\"font-size:120%\">\n",
    "                <font color=\"#21618C\">\n",
    "                    <b>3. Replace all odd numbers in the array with -2\n",
    "</b>\n",
    "                </font>\n",
    "            </div>\n",
    "        </td>\n",
    "    </tr>\n",
    "</table>"
   ]
  },
  {
   "cell_type": "markdown",
   "metadata": {
    "id": "2fPASQW2_TeR"
   },
   "source": [
    "**Use the array given below**<br>\n",
    "    \n",
    "       num_array = np.array([0, 31, 42, 43, 34, 45, 26, 27, 38, 94, 65, 78, 76])"
   ]
  },
  {
   "cell_type": "code",
   "execution_count": 3,
   "metadata": {
    "id": "5jVdmOFU_TeS"
   },
   "outputs": [
    {
     "data": {
      "text/plain": [
       "array([ 0, -2, 42, -2, 34, -2, 26, -2, 38, 94, -2, 78, 76])"
      ]
     },
     "execution_count": 3,
     "metadata": {},
     "output_type": "execute_result"
    }
   ],
   "source": [
    "num_array = np.array([0, 31, 42, 43, 34, 45, 26, 27, 38, 94, 65, 78, 76])\n",
    "num_array1=np.array([-2 if i%2!=0 else i for i in num_array])\n",
    "num_array1"
   ]
  },
  {
   "cell_type": "markdown",
   "metadata": {
    "collapsed": true,
    "id": "2ZrhTMdX_TeT"
   },
   "source": [
    "<table align=\"left\">\n",
    "    <tr>\n",
    "        <td width=\"6%\">\n",
    "            <img src=\"question_icon.png\">\n",
    "        </td>\n",
    "        <td>\n",
    "            <div align=\"left\", style=\"font-size:120%\">\n",
    "                <font color=\"#21618C\">\n",
    "                    <b>4. Replace all odd numbers in the array 'num_array' with -2 without changing the original array\n",
    "</b>\n",
    "                </font>\n",
    "            </div>\n",
    "        </td>\n",
    "    </tr>\n",
    "</table>"
   ]
  },
  {
   "cell_type": "markdown",
   "metadata": {
    "id": "ej66z9w__TeT"
   },
   "source": [
    "**Use the array given below**<br>\n",
    "\n",
    "    num_array = np.array([0, 31, 42, 43, 34, 45, 26, 27, 38, 94, 65, 78, 76])"
   ]
  },
  {
   "cell_type": "code",
   "execution_count": 4,
   "metadata": {
    "id": "bIlXg6z5_TeU"
   },
   "outputs": [
    {
     "data": {
      "text/plain": [
       "array([ 0, -2, 42, -2, 34, -2, 26, -2, 38, 94, -2, 78, 76])"
      ]
     },
     "execution_count": 4,
     "metadata": {},
     "output_type": "execute_result"
    }
   ],
   "source": [
    "num_array = np.array([0, 31, 42, 43, 34, 45, 26, 27, 38, 94, 65, 78, 76])\n",
    "num_array1=np.array(np.where(num_array%2!=0,-2,num_array))\n",
    "num_array1"
   ]
  },
  {
   "cell_type": "markdown",
   "metadata": {
    "collapsed": true,
    "id": "IkXEeI9E_TeU"
   },
   "source": [
    "<table align=\"left\">\n",
    "    <tr>\n",
    "        <td width=\"6%\">\n",
    "            <img src=\"question_icon.png\">\n",
    "        </td>\n",
    "        <td>\n",
    "            <div align=\"left\", style=\"font-size:120%\">\n",
    "                <font color=\"#21618C\">\n",
    "                    <b>5. Stack two arrays vertically\n",
    "</b>\n",
    "                </font>\n",
    "            </div>\n",
    "        </td>\n",
    "    </tr>\n",
    "</table>"
   ]
  },
  {
   "cell_type": "markdown",
   "metadata": {
    "id": "5kPFblN6_TeU"
   },
   "source": [
    "**Use the array given below:**<br>\n",
    "\n",
    "    quantity1 = np.arange(10).reshape(2,-1)\n",
    "    quantity2 = np.repeat(1, 10).reshape(2,-1)"
   ]
  },
  {
   "cell_type": "code",
   "execution_count": 5,
   "metadata": {
    "id": "l81TlqBH_TeU"
   },
   "outputs": [
    {
     "data": {
      "text/plain": [
       "array([[0, 1, 2, 3, 4],\n",
       "       [5, 6, 7, 8, 9],\n",
       "       [1, 1, 1, 1, 1],\n",
       "       [1, 1, 1, 1, 1]])"
      ]
     },
     "execution_count": 5,
     "metadata": {},
     "output_type": "execute_result"
    }
   ],
   "source": [
    "quantity1 = np.arange(10).reshape(2,-1)\n",
    "quantity2 = np.repeat(1, 10).reshape(2,-1)\n",
    "np.vstack((quantity1,quantity2))"
   ]
  },
  {
   "cell_type": "markdown",
   "metadata": {
    "collapsed": true,
    "id": "kLQcqk9r_TeV"
   },
   "source": [
    "<table align=\"left\">\n",
    "    <tr>\n",
    "        <td width=\"6%\">\n",
    "            <img src=\"question_icon.png\">\n",
    "        </td>\n",
    "        <td>\n",
    "            <div align=\"left\", style=\"font-size:120%\">\n",
    "                <font color=\"#21618C\">\n",
    "                    <b>6. Get common elements from the two arrays\n",
    "</b>\n",
    "                </font>\n",
    "            </div>\n",
    "        </td>\n",
    "    </tr>\n",
    "</table>"
   ]
  },
  {
   "cell_type": "markdown",
   "metadata": {
    "id": "qkRKiQgB_TeV"
   },
   "source": [
    "**Use the array given below:**<br>\n",
    "\n",
    "    age_a = np.array([11,12,13,22,23,44,43,24,45,36])\n",
    "    age_b = np.array([17,22,13,22,47,34,39,44,29,28])"
   ]
  },
  {
   "cell_type": "code",
   "execution_count": 6,
   "metadata": {
    "id": "7ls6zwX-_TeV"
   },
   "outputs": [
    {
     "data": {
      "text/plain": [
       "array([13, 22, 44])"
      ]
     },
     "execution_count": 6,
     "metadata": {},
     "output_type": "execute_result"
    }
   ],
   "source": [
    "age_a = np.array([11,12,13,22,23,44,43,24,45,36])\n",
    "age_b = np.array([17,22,13,22,47,34,39,44,29,28])\n",
    "np.intersect1d(age_a,age_b)"
   ]
  },
  {
   "cell_type": "markdown",
   "metadata": {
    "collapsed": true,
    "id": "P3UHNi-2_TeV"
   },
   "source": [
    "<table align=\"left\">\n",
    "    <tr>\n",
    "        <td width=\"6%\">\n",
    "            <img src=\"question_icon.png\">\n",
    "        </td>\n",
    "        <td>\n",
    "            <div align=\"left\", style=\"font-size:120%\">\n",
    "                <font color=\"#21618C\">\n",
    "                    <b>7. Remove all the elements from num_array1 that are present in num_array2\n",
    "</b>\n",
    "                </font>\n",
    "            </div>\n",
    "        </td>\n",
    "    </tr>\n",
    "</table>"
   ]
  },
  {
   "cell_type": "markdown",
   "metadata": {
    "id": "F5kGknCo_TeV"
   },
   "source": [
    "**Use the array given below:**<br>\n",
    "\n",
    "    num_array1 = np.array([1,2,3,4,5])\n",
    "    num_array2 = np.array([5,6,7,8,9])"
   ]
  },
  {
   "cell_type": "code",
   "execution_count": 35,
   "metadata": {
    "id": "XyRlQOEx_TeW"
   },
   "outputs": [
    {
     "data": {
      "text/plain": [
       "array([1, 2, 3, 4])"
      ]
     },
     "execution_count": 35,
     "metadata": {},
     "output_type": "execute_result"
    }
   ],
   "source": [
    "num_array1 = np.array([1,2,3,4,5])\n",
    "num_array2 = np.array([5,6,7,8,9])\n",
    "np.setdiff1d(num_array1,num_array2) "
   ]
  },
  {
   "cell_type": "markdown",
   "metadata": {
    "collapsed": true,
    "id": "qjCOvYVB_TeW"
   },
   "source": [
    "<table align=\"left\">\n",
    "    <tr>\n",
    "        <td width=\"6%\">\n",
    "            <img src=\"question_icon.png\">\n",
    "        </td>\n",
    "        <td>\n",
    "            <div align=\"left\", style=\"font-size:120%\">\n",
    "                <font color=\"#21618C\">\n",
    "                    <b>8. Get the positions where elements of two arrays match\n",
    "</b>\n",
    "                </font>\n",
    "            </div>\n",
    "        </td>\n",
    "    </tr>\n",
    "</table>"
   ]
  },
  {
   "cell_type": "markdown",
   "metadata": {
    "id": "VkH8AiVR_TeW"
   },
   "source": [
    "**Use the array given below:**<br>\n",
    "\n",
    "    num_array1 = np.array([1,2,3,2,3,4,3,4,5,6])\n",
    "    num_array2 = np.array([7,2,10,2,7,4,9,4,9,8])"
   ]
  },
  {
   "cell_type": "code",
   "execution_count": 37,
   "metadata": {
    "id": "6fueF6uj_TeW"
   },
   "outputs": [
    {
     "data": {
      "text/plain": [
       "(array([1, 3, 5, 7]),)"
      ]
     },
     "execution_count": 37,
     "metadata": {},
     "output_type": "execute_result"
    }
   ],
   "source": [
    "num_array1 = np.array([1,2,3,2,3,4,3,4,5,6])\n",
    "num_array2 = np.array([7,2,10,2,7,4,9,4,9,8])\n",
    "np.where(num_array1==num_array2)"
   ]
  },
  {
   "cell_type": "markdown",
   "metadata": {
    "collapsed": true,
    "id": "TD-x2VAe_TeW"
   },
   "source": [
    "<table align=\"left\">\n",
    "    <tr>\n",
    "        <td width=\"6%\">\n",
    "            <img src=\"question_icon.png\">\n",
    "        </td>\n",
    "        <td>\n",
    "            <div align=\"left\", style=\"font-size:120%\">\n",
    "                <font color=\"#21618C\">\n",
    "                    <b>9. Reverse each of the rows of the 2D array\n",
    "</b>\n",
    "                </font>\n",
    "            </div>\n",
    "        </td>\n",
    "    </tr>\n",
    "</table>"
   ]
  },
  {
   "cell_type": "markdown",
   "metadata": {
    "id": "5unFrCmm_TeX"
   },
   "source": [
    "**Use the array given below:**<br>\n",
    "\n",
    "    num_array1 = np.arange(16).reshape(4,4)"
   ]
  },
  {
   "cell_type": "code",
   "execution_count": 41,
   "metadata": {
    "id": "ybJiAPzY_TeX"
   },
   "outputs": [
    {
     "name": "stdout",
     "output_type": "stream",
     "text": [
      "[[ 0  1  2  3]\n",
      " [ 4  5  6  7]\n",
      " [ 8  9 10 11]\n",
      " [12 13 14 15]]\n"
     ]
    },
    {
     "data": {
      "text/plain": [
       "array([[ 3,  2,  1,  0],\n",
       "       [ 7,  6,  5,  4],\n",
       "       [11, 10,  9,  8],\n",
       "       [15, 14, 13, 12]])"
      ]
     },
     "execution_count": 41,
     "metadata": {},
     "output_type": "execute_result"
    }
   ],
   "source": [
    "num_array1 = np.arange(16).reshape(4,4)\n",
    "print(num_array1)\n",
    "rev=np.flip(num_array1,axis=1)\n",
    "rev"
   ]
  },
  {
   "cell_type": "markdown",
   "metadata": {
    "collapsed": true,
    "id": "XjprM1kC_TeX"
   },
   "source": [
    "<table align=\"left\">\n",
    "    <tr>\n",
    "        <td width=\"6%\">\n",
    "            <img src=\"question_icon.png\">\n",
    "        </td>\n",
    "        <td>\n",
    "            <div align=\"left\", style=\"font-size:120%\">\n",
    "                <font color=\"#21618C\">\n",
    "                    <b>10. Swap row 1 and row 2 in the given array\n",
    "</b>\n",
    "                </font>\n",
    "            </div>\n",
    "        </td>\n",
    "    </tr>\n",
    "</table>"
   ]
  },
  {
   "cell_type": "markdown",
   "metadata": {
    "id": "hQXRnNCm_TeX"
   },
   "source": [
    "**Use the array given below:**<br>\n",
    "   \n",
    "       num_array1 = np.arange(9).reshape(3,3)"
   ]
  },
  {
   "cell_type": "code",
   "execution_count": 43,
   "metadata": {
    "id": "M0lIwelu_TeX"
   },
   "outputs": [
    {
     "name": "stdout",
     "output_type": "stream",
     "text": [
      "[[0 1 2]\n",
      " [3 4 5]\n",
      " [6 7 8]]\n"
     ]
    },
    {
     "data": {
      "text/plain": [
       "array([[3, 4, 5],\n",
       "       [0, 1, 2],\n",
       "       [6, 7, 8]])"
      ]
     },
     "execution_count": 43,
     "metadata": {},
     "output_type": "execute_result"
    }
   ],
   "source": [
    "num_array1 = np.arange(9).reshape(3,3)\n",
    "print(num_array1)\n",
    "num_array1[[0,1],:]=num_array1[[1,0],:]\n",
    "num_array1"
   ]
  },
  {
   "cell_type": "code",
   "execution_count": null,
   "metadata": {},
   "outputs": [],
   "source": []
  }
 ],
 "metadata": {
  "colab": {
   "collapsed_sections": [],
   "name": "NPV-Day 1_TH Exercise.ipynb",
   "provenance": []
  },
  "kernelspec": {
   "display_name": "Python 3 (ipykernel)",
   "language": "python",
   "name": "python3"
  },
  "language_info": {
   "codemirror_mode": {
    "name": "ipython",
    "version": 3
   },
   "file_extension": ".py",
   "mimetype": "text/x-python",
   "name": "python",
   "nbconvert_exporter": "python",
   "pygments_lexer": "ipython3",
   "version": "3.9.12"
  }
 },
 "nbformat": 4,
 "nbformat_minor": 1
}
