{
 "cells": [
  {
   "cell_type": "markdown",
   "metadata": {
    "id": "Tq7YTvad23f4"
   },
   "source": [
    "## Table of Content\n",
    "1. **[Concatenate](#Concatenate)**\n",
    "2. **[Merging and Joining](#Merging)**\n",
    "3. **[Reshaping](#Reshaping)**\n",
    "4. **[Pivot Table](#Pivote)**\n",
    "5. **[Cross Table](#crosst)**\n",
    "6. **[Duplicate](#Duplicate)**\n",
    "7. **[Dropping Rows and Columns](#drop)**\n",
    "8. **[Map and Replace](#Map)**\n",
    "9. **[Groupby in Pandas](#Groupby)**\n",
    "10. **[Summary Statistics](#Summary_Statistics)**"
   ]
  },
  {
   "cell_type": "markdown",
   "metadata": {
    "id": "52Api17j23f5"
   },
   "source": [
    "<a id=\"Concatenate\"> </a>\n",
    "### 1. Concatenate\n",
    "\n",
    "Concatenation is a process of joining objects along a particular axis, with set logic applied along the other axes, if any (a series does not have any other axes)<br>\n",
    "                   The main parameters involved in pandas concatenation are - object, axis, handling of other axes, and keys."
   ]
  },
  {
   "cell_type": "markdown",
   "metadata": {
    "id": "vyY42-Fo23f5"
   },
   "source": [
    "**Concatenate pandas Series**"
   ]
  },
  {
   "cell_type": "code",
   "execution_count": 2,
   "metadata": {
    "id": "SyAvHvlM23f6"
   },
   "outputs": [],
   "source": [
    "# import the library pandas as pd\n",
    "import pandas as pd\n",
    "\n",
    "# import the library NumPy as np\n",
    "import numpy as np"
   ]
  },
  {
   "cell_type": "code",
   "execution_count": 3,
   "metadata": {
    "id": "F9F61h4L23f7"
   },
   "outputs": [],
   "source": [
    "# create a series from list\n",
    "sales_a = pd.Series([101,102,103,104,105,106])\n",
    "\n",
    "# create another series from list\n",
    "sales_b = pd.Series([107,108,109,110,111,112])"
   ]
  },
  {
   "cell_type": "code",
   "execution_count": null,
   "metadata": {
    "id": "s3qpMxul23f7",
    "outputId": "53531d4a-8884-44fb-ea12-ba07f2396eb0"
   },
   "outputs": [
    {
     "data": {
      "text/plain": [
       "0    101\n",
       "1    102\n",
       "2    103\n",
       "3    104\n",
       "4    105\n",
       "5    106\n",
       "0    107\n",
       "1    108\n",
       "2    109\n",
       "3    110\n",
       "4    111\n",
       "5    112\n",
       "dtype: int64"
      ]
     },
     "execution_count": 3,
     "metadata": {},
     "output_type": "execute_result"
    }
   ],
   "source": [
    "# concatenate the pandas series\n",
    "pd.concat([sales_a,sales_b])"
   ]
  },
  {
   "cell_type": "markdown",
   "metadata": {
    "id": "ICwwHkSP23f8"
   },
   "source": [
    "**Add a hierarchical index to a pandas Series**"
   ]
  },
  {
   "cell_type": "code",
   "execution_count": null,
   "metadata": {
    "id": "gqtSgxYJ23f9",
    "outputId": "47874d3e-30ee-4609-f919-c4bb42d29962"
   },
   "outputs": [
    {
     "data": {
      "text/plain": [
       "a  0    101\n",
       "   1    102\n",
       "   2    103\n",
       "   3    104\n",
       "   4    105\n",
       "   5    106\n",
       "b  0    107\n",
       "   1    108\n",
       "   2    109\n",
       "   3    110\n",
       "   4    111\n",
       "   5    112\n",
       "dtype: int64"
      ]
     },
     "execution_count": 4,
     "metadata": {},
     "output_type": "execute_result"
    }
   ],
   "source": [
    "# concatenate the series \n",
    "# keys adds hierarchical indexes\n",
    "pd.concat([sales_a,sales_b], keys = ['a', 'b'])"
   ]
  },
  {
   "cell_type": "markdown",
   "metadata": {
    "id": "IK5J1JGO23f9"
   },
   "source": [
    "**Label the index**"
   ]
  },
  {
   "cell_type": "code",
   "execution_count": null,
   "metadata": {
    "id": "SkPX9Yw-23f9",
    "outputId": "fd90b8ac-0531-40a0-9a0b-799b4d18e19e"
   },
   "outputs": [
    {
     "data": {
      "text/plain": [
       "Series  Row ID\n",
       "a       0         101\n",
       "        1         102\n",
       "        2         103\n",
       "        3         104\n",
       "        4         105\n",
       "        5         106\n",
       "b       0         107\n",
       "        1         108\n",
       "        2         109\n",
       "        3         110\n",
       "        4         111\n",
       "        5         112\n",
       "dtype: int64"
      ]
     },
     "execution_count": 5,
     "metadata": {},
     "output_type": "execute_result"
    }
   ],
   "source": [
    "# 'names' parameter assigns labels to 'keys' and 'indexes'\n",
    "pd.concat([sales_a, sales_b], keys=['a', 'b'], names=['Series', 'Row ID'])"
   ]
  },
  {
   "cell_type": "markdown",
   "metadata": {
    "id": "RkOwlqIl23f-"
   },
   "source": [
    "**Concatenating DataFrames**\n",
    "\n",
    "To concatenate DataFrames, let us first create three DataFrame\n",
    "1. df_prof_info_A: professional information on employees of company A\n",
    "2. df_prof_info_B: professional information on employees of company B\n",
    "3. df_pers_info_A: personal information on employees of company A\n"
   ]
  },
  {
   "cell_type": "code",
   "execution_count": 3,
   "metadata": {
    "id": "0b-07nXr23f-",
    "outputId": "b571896b-fa43-4147-ff89-2fade4c6c755"
   },
   "outputs": [
    {
     "name": "stdout",
     "output_type": "stream",
     "text": [
      "The first DataFrame is : \n",
      "      Emp_ID     Name Gender  Company  Salary\n",
      "101    1001     Alex      M    Apple   67000\n",
      "102    1002      Amy      F  Walmart   90000\n",
      "103    1003    Allen      M    Intel   87000\n",
      "104    1004    Alice      F  Cummins   69000\n",
      "105    1005  Stephan      M     Ford   78000\n",
      "\n",
      "\n",
      "\n",
      "The second DataFrame is : \n",
      "      Emp_ID   Name Gender    Company  Salary\n",
      "106    1006  Billy      M  Cognizant   89000\n",
      "107    1007  Brian      M      Apple   80000\n",
      "108    1008   Bran      M      Intel   79000\n",
      "109    1009  Bryce      F    Cummins   97000\n",
      "110    1010  Betty      F    Walmart   88000\n",
      "111    1011  James      M      Intel   89000\n",
      "\n",
      "\n",
      "\n",
      "The third DataFrame is : \n",
      "      Emp_ID       Hometown Gender   Marital  Dependents\n",
      "101    1001       New York      M   Married           1\n",
      "102    1002         London      F  Divorsed           1\n",
      "103    1003  San Francisco      M    Single           3\n",
      "104    1004        Seattle      F   Married           2\n",
      "105    1005         Madrid      M    Single           1\n",
      "\n",
      "\n",
      "\n",
      "The fourth DataFrame is : \n",
      "      Emp_ID       Hometown   Marital  Dependents\n",
      "101    1006          Paris   Married           1\n",
      "102    1007         Boston  Divorsed           1\n",
      "103    1009  San Francisco    Single           3\n",
      "104    1010        Seattle   Married           2\n",
      "105    1011         London    Single           1\n",
      "106    1012         London    Single           2\n"
     ]
    }
   ],
   "source": [
    "# create a DataFrame from a dictionary\n",
    "df_prof_info_A = pd.DataFrame({\n",
    "   'Emp_ID': [1001,1002,1003,1004,1005],\n",
    "   'Name': ['Alex', 'Amy', 'Allen', 'Alice', 'Stephan'],\n",
    "   'Gender':['M', 'F', 'M', 'F', 'M'],\n",
    "   'Company':['Apple','Walmart','Intel','Cummins','Ford'],\n",
    "   'Salary':[67000,90000,87000,69000,78000]},\n",
    "   index=[101,102,103,104,105])\n",
    "\n",
    "# print the DataFrame\n",
    "print(\"The first DataFrame is : \\n\",df_prof_info_A)\n",
    "\n",
    "print(\"\\n\\n\")\n",
    "\n",
    "# create a DataFrame from a dictionary\n",
    "df_prof_info_B = pd.DataFrame({\n",
    "    'Emp_ID': [1006,1007,1008,1009,1010,1011],\n",
    "   'Name': ['Billy', 'Brian', 'Bran', 'Bryce', 'Betty','James'],\n",
    "    'Gender':['M', 'M', 'M', 'F', 'F','M'],\n",
    "   'Company':['Cognizant','Apple','Intel','Cummins','Walmart','Intel'],\n",
    "   'Salary':[89000,80000,79000,97000,88000,89000]},\n",
    "   index=[106,107,108,109,110,111])\n",
    "\n",
    "# print the DataFrame\n",
    "print(\"The second DataFrame is : \\n\",df_prof_info_B)\n",
    "\n",
    "print(\"\\n\\n\")\n",
    "\n",
    "# create a DataFrame from a dictionary\n",
    "df_pers_info_A = pd.DataFrame({\n",
    "     'Emp_ID': [1001,1002,1003,1004,1005],\n",
    "   'Hometown': ['New York', 'London', 'San Francisco', 'Seattle', 'Madrid'],\n",
    "     'Gender':['M', 'F', 'M', 'F', 'M'],\n",
    "    'Marital':['Married','Divorsed','Single','Married','Single'],\n",
    "   'Dependents':[1,1,3,2,1]},\n",
    "   index=[101,102,103,104,105])\n",
    "\n",
    "# print the DataFrame\n",
    "print(\"The third DataFrame is : \\n\",df_pers_info_A)\n",
    "\n",
    "print(\"\\n\\n\")\n",
    "\n",
    "# create a DataFrame from a dictionary\n",
    "df_pers_info_B = pd.DataFrame({\n",
    "     'Emp_ID': [1006,1007,1009,1010,1011,1012],\n",
    "   'Hometown': ['Paris', 'Boston', 'San Francisco', 'Seattle', 'London','London'],\n",
    "    'Marital':['Married','Divorsed','Single','Married','Single','Single'],\n",
    "   'Dependents':[1,1,3,2,1,2]},\n",
    "   index=[101,102,103,104,105,106])\n",
    "\n",
    "# print the DataFrame\n",
    "print(\"The fourth DataFrame is : \\n\",df_pers_info_B)"
   ]
  },
  {
   "cell_type": "markdown",
   "metadata": {
    "id": "me97Wv6n23f_"
   },
   "source": [
    "**Concatenating pandas DataFrames using `.concat()`**"
   ]
  },
  {
   "cell_type": "markdown",
   "metadata": {
    "id": "eP-Gjy2D23f_"
   },
   "source": [
    "**Combine DataFrames vertically**"
   ]
  },
  {
   "cell_type": "code",
   "execution_count": 4,
   "metadata": {
    "id": "HYg3ndNx23f_",
    "outputId": "0c8dbc26-ffaf-4b90-f93e-e23453ce750e"
   },
   "outputs": [
    {
     "name": "stdout",
     "output_type": "stream",
     "text": [
      "     Emp_ID     Name Gender    Company  Salary\n",
      "101    1001     Alex      M      Apple   67000\n",
      "102    1002      Amy      F    Walmart   90000\n",
      "103    1003    Allen      M      Intel   87000\n",
      "104    1004    Alice      F    Cummins   69000\n",
      "105    1005  Stephan      M       Ford   78000\n",
      "106    1006    Billy      M  Cognizant   89000\n",
      "107    1007    Brian      M      Apple   80000\n",
      "108    1008     Bran      M      Intel   79000\n",
      "109    1009    Bryce      F    Cummins   97000\n",
      "110    1010    Betty      F    Walmart   88000\n",
      "111    1011    James      M      Intel   89000\n"
     ]
    }
   ],
   "source": [
    "# concatenate the data frame\n",
    "print(pd.concat([df_prof_info_A,df_prof_info_B]))"
   ]
  },
  {
   "cell_type": "markdown",
   "metadata": {
    "id": "MUqkDFPH23f_"
   },
   "source": [
    "**Combine DataFrames horizontally**"
   ]
  },
  {
   "cell_type": "code",
   "execution_count": 9,
   "metadata": {
    "id": "j7N77ooO23gA",
    "outputId": "0d004356-0939-4c55-b0d3-58a691d0adc6",
    "scrolled": true
   },
   "outputs": [
    {
     "data": {
      "text/html": [
       "<div>\n",
       "<style scoped>\n",
       "    .dataframe tbody tr th:only-of-type {\n",
       "        vertical-align: middle;\n",
       "    }\n",
       "\n",
       "    .dataframe tbody tr th {\n",
       "        vertical-align: top;\n",
       "    }\n",
       "\n",
       "    .dataframe thead th {\n",
       "        text-align: right;\n",
       "    }\n",
       "</style>\n",
       "<table border=\"1\" class=\"dataframe\">\n",
       "  <thead>\n",
       "    <tr style=\"text-align: right;\">\n",
       "      <th></th>\n",
       "      <th>Emp_ID</th>\n",
       "      <th>Name</th>\n",
       "      <th>Gender</th>\n",
       "      <th>Company</th>\n",
       "      <th>Salary</th>\n",
       "      <th>Emp_ID</th>\n",
       "      <th>Hometown</th>\n",
       "      <th>Gender</th>\n",
       "      <th>Marital</th>\n",
       "      <th>Dependents</th>\n",
       "    </tr>\n",
       "  </thead>\n",
       "  <tbody>\n",
       "    <tr>\n",
       "      <th>101</th>\n",
       "      <td>1001</td>\n",
       "      <td>Alex</td>\n",
       "      <td>M</td>\n",
       "      <td>Apple</td>\n",
       "      <td>67000</td>\n",
       "      <td>1001</td>\n",
       "      <td>New York</td>\n",
       "      <td>M</td>\n",
       "      <td>Married</td>\n",
       "      <td>1</td>\n",
       "    </tr>\n",
       "    <tr>\n",
       "      <th>102</th>\n",
       "      <td>1002</td>\n",
       "      <td>Amy</td>\n",
       "      <td>F</td>\n",
       "      <td>Walmart</td>\n",
       "      <td>90000</td>\n",
       "      <td>1002</td>\n",
       "      <td>London</td>\n",
       "      <td>F</td>\n",
       "      <td>Divorsed</td>\n",
       "      <td>1</td>\n",
       "    </tr>\n",
       "    <tr>\n",
       "      <th>103</th>\n",
       "      <td>1003</td>\n",
       "      <td>Allen</td>\n",
       "      <td>M</td>\n",
       "      <td>Intel</td>\n",
       "      <td>87000</td>\n",
       "      <td>1003</td>\n",
       "      <td>San Francisco</td>\n",
       "      <td>M</td>\n",
       "      <td>Single</td>\n",
       "      <td>3</td>\n",
       "    </tr>\n",
       "    <tr>\n",
       "      <th>104</th>\n",
       "      <td>1004</td>\n",
       "      <td>Alice</td>\n",
       "      <td>F</td>\n",
       "      <td>Cummins</td>\n",
       "      <td>69000</td>\n",
       "      <td>1004</td>\n",
       "      <td>Seattle</td>\n",
       "      <td>F</td>\n",
       "      <td>Married</td>\n",
       "      <td>2</td>\n",
       "    </tr>\n",
       "    <tr>\n",
       "      <th>105</th>\n",
       "      <td>1005</td>\n",
       "      <td>Stephan</td>\n",
       "      <td>M</td>\n",
       "      <td>Ford</td>\n",
       "      <td>78000</td>\n",
       "      <td>1005</td>\n",
       "      <td>Madrid</td>\n",
       "      <td>M</td>\n",
       "      <td>Single</td>\n",
       "      <td>1</td>\n",
       "    </tr>\n",
       "  </tbody>\n",
       "</table>\n",
       "</div>"
      ],
      "text/plain": [
       "     Emp_ID     Name Gender  Company  Salary  Emp_ID       Hometown Gender  \\\n",
       "101    1001     Alex      M    Apple   67000    1001       New York      M   \n",
       "102    1002      Amy      F  Walmart   90000    1002         London      F   \n",
       "103    1003    Allen      M    Intel   87000    1003  San Francisco      M   \n",
       "104    1004    Alice      F  Cummins   69000    1004        Seattle      F   \n",
       "105    1005  Stephan      M     Ford   78000    1005         Madrid      M   \n",
       "\n",
       "      Marital  Dependents  \n",
       "101   Married           1  \n",
       "102  Divorsed           1  \n",
       "103    Single           3  \n",
       "104   Married           2  \n",
       "105    Single           1  "
      ]
     },
     "execution_count": 9,
     "metadata": {},
     "output_type": "execute_result"
    }
   ],
   "source": [
    "# combine Pandas Dataframes horizontally\n",
    "# axis specifies the axis to concatenate along, here 1 indicates columns\n",
    "pd.concat([df_prof_info_A, df_pers_info_A], axis=1)"
   ]
  },
  {
   "cell_type": "markdown",
   "metadata": {
    "id": "bn3QZM0C23gA"
   },
   "source": [
    "Combining DataFrames horizontally with duplicate columns removed."
   ]
  },
  {
   "cell_type": "code",
   "execution_count": 6,
   "metadata": {
    "id": "s4GP4cpe23gA",
    "outputId": "b06162f1-d2d5-4a84-c156-2e9cbd300d45"
   },
   "outputs": [
    {
     "data": {
      "text/html": [
       "<div>\n",
       "<style scoped>\n",
       "    .dataframe tbody tr th:only-of-type {\n",
       "        vertical-align: middle;\n",
       "    }\n",
       "\n",
       "    .dataframe tbody tr th {\n",
       "        vertical-align: top;\n",
       "    }\n",
       "\n",
       "    .dataframe thead th {\n",
       "        text-align: right;\n",
       "    }\n",
       "</style>\n",
       "<table border=\"1\" class=\"dataframe\">\n",
       "  <thead>\n",
       "    <tr style=\"text-align: right;\">\n",
       "      <th></th>\n",
       "      <th>Emp_ID</th>\n",
       "      <th>Name</th>\n",
       "      <th>Gender</th>\n",
       "      <th>Company</th>\n",
       "      <th>Salary</th>\n",
       "      <th>Hometown</th>\n",
       "      <th>Marital</th>\n",
       "      <th>Dependents</th>\n",
       "    </tr>\n",
       "  </thead>\n",
       "  <tbody>\n",
       "    <tr>\n",
       "      <th>101</th>\n",
       "      <td>1001</td>\n",
       "      <td>Alex</td>\n",
       "      <td>M</td>\n",
       "      <td>Apple</td>\n",
       "      <td>67000</td>\n",
       "      <td>New York</td>\n",
       "      <td>Married</td>\n",
       "      <td>1</td>\n",
       "    </tr>\n",
       "    <tr>\n",
       "      <th>102</th>\n",
       "      <td>1002</td>\n",
       "      <td>Amy</td>\n",
       "      <td>F</td>\n",
       "      <td>Walmart</td>\n",
       "      <td>90000</td>\n",
       "      <td>London</td>\n",
       "      <td>Divorsed</td>\n",
       "      <td>1</td>\n",
       "    </tr>\n",
       "    <tr>\n",
       "      <th>103</th>\n",
       "      <td>1003</td>\n",
       "      <td>Allen</td>\n",
       "      <td>M</td>\n",
       "      <td>Intel</td>\n",
       "      <td>87000</td>\n",
       "      <td>San Francisco</td>\n",
       "      <td>Single</td>\n",
       "      <td>3</td>\n",
       "    </tr>\n",
       "    <tr>\n",
       "      <th>104</th>\n",
       "      <td>1004</td>\n",
       "      <td>Alice</td>\n",
       "      <td>F</td>\n",
       "      <td>Cummins</td>\n",
       "      <td>69000</td>\n",
       "      <td>Seattle</td>\n",
       "      <td>Married</td>\n",
       "      <td>2</td>\n",
       "    </tr>\n",
       "    <tr>\n",
       "      <th>105</th>\n",
       "      <td>1005</td>\n",
       "      <td>Stephan</td>\n",
       "      <td>M</td>\n",
       "      <td>Ford</td>\n",
       "      <td>78000</td>\n",
       "      <td>Madrid</td>\n",
       "      <td>Single</td>\n",
       "      <td>1</td>\n",
       "    </tr>\n",
       "  </tbody>\n",
       "</table>\n",
       "</div>"
      ],
      "text/plain": [
       "    Emp_ID     Name Gender  Company Salary       Hometown   Marital Dependents\n",
       "101   1001     Alex      M    Apple  67000       New York   Married          1\n",
       "102   1002      Amy      F  Walmart  90000         London  Divorsed          1\n",
       "103   1003    Allen      M    Intel  87000  San Francisco    Single          3\n",
       "104   1004    Alice      F  Cummins  69000        Seattle   Married          2\n",
       "105   1005  Stephan      M     Ford  78000         Madrid    Single          1"
      ]
     },
     "execution_count": 6,
     "metadata": {},
     "output_type": "execute_result"
    }
   ],
   "source": [
    "# combine DataFrame with duplicate columns removed\n",
    "# T: transposes the DataFrame\n",
    "# drop_duplicates(): drops the duplicate rows in a DataFrame\n",
    "pd.concat([df_prof_info_A, df_pers_info_A], axis=1).T.drop_duplicates().T"
   ]
  },
  {
   "cell_type": "markdown",
   "metadata": {
    "id": "dSKzC27P23gA"
   },
   "source": [
    "**Concatenating data frames ignoring index values**"
   ]
  },
  {
   "cell_type": "code",
   "execution_count": null,
   "metadata": {
    "id": "2ELRwOim23gB",
    "outputId": "e764b1da-e9de-4dd0-fc30-6c0243d876e6",
    "scrolled": true
   },
   "outputs": [
    {
     "data": {
      "text/html": [
       "<div>\n",
       "<style scoped>\n",
       "    .dataframe tbody tr th:only-of-type {\n",
       "        vertical-align: middle;\n",
       "    }\n",
       "\n",
       "    .dataframe tbody tr th {\n",
       "        vertical-align: top;\n",
       "    }\n",
       "\n",
       "    .dataframe thead th {\n",
       "        text-align: right;\n",
       "    }\n",
       "</style>\n",
       "<table border=\"1\" class=\"dataframe\">\n",
       "  <thead>\n",
       "    <tr style=\"text-align: right;\">\n",
       "      <th></th>\n",
       "      <th>Emp_ID</th>\n",
       "      <th>Name</th>\n",
       "      <th>Gender</th>\n",
       "      <th>Company</th>\n",
       "      <th>Salary</th>\n",
       "    </tr>\n",
       "  </thead>\n",
       "  <tbody>\n",
       "    <tr>\n",
       "      <td>0</td>\n",
       "      <td>1001</td>\n",
       "      <td>Alex</td>\n",
       "      <td>M</td>\n",
       "      <td>Apple</td>\n",
       "      <td>67000</td>\n",
       "    </tr>\n",
       "    <tr>\n",
       "      <td>1</td>\n",
       "      <td>1002</td>\n",
       "      <td>Amy</td>\n",
       "      <td>F</td>\n",
       "      <td>Walmart</td>\n",
       "      <td>90000</td>\n",
       "    </tr>\n",
       "    <tr>\n",
       "      <td>2</td>\n",
       "      <td>1003</td>\n",
       "      <td>Allen</td>\n",
       "      <td>M</td>\n",
       "      <td>Intel</td>\n",
       "      <td>87000</td>\n",
       "    </tr>\n",
       "    <tr>\n",
       "      <td>3</td>\n",
       "      <td>1004</td>\n",
       "      <td>Alice</td>\n",
       "      <td>F</td>\n",
       "      <td>Cummins</td>\n",
       "      <td>69000</td>\n",
       "    </tr>\n",
       "    <tr>\n",
       "      <td>4</td>\n",
       "      <td>1005</td>\n",
       "      <td>Stephan</td>\n",
       "      <td>M</td>\n",
       "      <td>Ford</td>\n",
       "      <td>78000</td>\n",
       "    </tr>\n",
       "    <tr>\n",
       "      <td>5</td>\n",
       "      <td>1006</td>\n",
       "      <td>Billy</td>\n",
       "      <td>M</td>\n",
       "      <td>Cognizant</td>\n",
       "      <td>89000</td>\n",
       "    </tr>\n",
       "    <tr>\n",
       "      <td>6</td>\n",
       "      <td>1007</td>\n",
       "      <td>Brian</td>\n",
       "      <td>M</td>\n",
       "      <td>Apple</td>\n",
       "      <td>80000</td>\n",
       "    </tr>\n",
       "    <tr>\n",
       "      <td>7</td>\n",
       "      <td>1008</td>\n",
       "      <td>Bran</td>\n",
       "      <td>M</td>\n",
       "      <td>Intel</td>\n",
       "      <td>79000</td>\n",
       "    </tr>\n",
       "    <tr>\n",
       "      <td>8</td>\n",
       "      <td>1009</td>\n",
       "      <td>Bryce</td>\n",
       "      <td>F</td>\n",
       "      <td>Cummins</td>\n",
       "      <td>97000</td>\n",
       "    </tr>\n",
       "    <tr>\n",
       "      <td>9</td>\n",
       "      <td>1010</td>\n",
       "      <td>Betty</td>\n",
       "      <td>F</td>\n",
       "      <td>Walmart</td>\n",
       "      <td>88000</td>\n",
       "    </tr>\n",
       "    <tr>\n",
       "      <td>10</td>\n",
       "      <td>1011</td>\n",
       "      <td>James</td>\n",
       "      <td>M</td>\n",
       "      <td>Intel</td>\n",
       "      <td>89000</td>\n",
       "    </tr>\n",
       "  </tbody>\n",
       "</table>\n",
       "</div>"
      ],
      "text/plain": [
       "    Emp_ID     Name Gender    Company  Salary\n",
       "0     1001     Alex      M      Apple   67000\n",
       "1     1002      Amy      F    Walmart   90000\n",
       "2     1003    Allen      M      Intel   87000\n",
       "3     1004    Alice      F    Cummins   69000\n",
       "4     1005  Stephan      M       Ford   78000\n",
       "5     1006    Billy      M  Cognizant   89000\n",
       "6     1007    Brian      M      Apple   80000\n",
       "7     1008     Bran      M      Intel   79000\n",
       "8     1009    Bryce      F    Cummins   97000\n",
       "9     1010    Betty      F    Walmart   88000\n",
       "10    1011    James      M      Intel   89000"
      ]
     },
     "execution_count": 10,
     "metadata": {},
     "output_type": "execute_result"
    }
   ],
   "source": [
    "# concatenate DataFrames\n",
    "# ignore_index if True, assigns index values begining with zero\n",
    "pd.concat([df_prof_info_A, df_prof_info_B], ignore_index=True)"
   ]
  },
  {
   "cell_type": "markdown",
   "metadata": {
    "id": "H9tpUqAG23gB"
   },
   "source": [
    "**Concatenating Pandas Dataframes using `.append()`**"
   ]
  },
  {
   "cell_type": "code",
   "execution_count": null,
   "metadata": {
    "id": "Uy87eA4423gB",
    "outputId": "5a82a004-17d4-422b-aa77-9a088d87903c"
   },
   "outputs": [
    {
     "data": {
      "text/html": [
       "<div>\n",
       "<style scoped>\n",
       "    .dataframe tbody tr th:only-of-type {\n",
       "        vertical-align: middle;\n",
       "    }\n",
       "\n",
       "    .dataframe tbody tr th {\n",
       "        vertical-align: top;\n",
       "    }\n",
       "\n",
       "    .dataframe thead th {\n",
       "        text-align: right;\n",
       "    }\n",
       "</style>\n",
       "<table border=\"1\" class=\"dataframe\">\n",
       "  <thead>\n",
       "    <tr style=\"text-align: right;\">\n",
       "      <th></th>\n",
       "      <th>Emp_ID</th>\n",
       "      <th>Name</th>\n",
       "      <th>Gender</th>\n",
       "      <th>Company</th>\n",
       "      <th>Salary</th>\n",
       "    </tr>\n",
       "  </thead>\n",
       "  <tbody>\n",
       "    <tr>\n",
       "      <td>101</td>\n",
       "      <td>1001</td>\n",
       "      <td>Alex</td>\n",
       "      <td>M</td>\n",
       "      <td>Apple</td>\n",
       "      <td>67000</td>\n",
       "    </tr>\n",
       "    <tr>\n",
       "      <td>102</td>\n",
       "      <td>1002</td>\n",
       "      <td>Amy</td>\n",
       "      <td>F</td>\n",
       "      <td>Walmart</td>\n",
       "      <td>90000</td>\n",
       "    </tr>\n",
       "    <tr>\n",
       "      <td>103</td>\n",
       "      <td>1003</td>\n",
       "      <td>Allen</td>\n",
       "      <td>M</td>\n",
       "      <td>Intel</td>\n",
       "      <td>87000</td>\n",
       "    </tr>\n",
       "    <tr>\n",
       "      <td>104</td>\n",
       "      <td>1004</td>\n",
       "      <td>Alice</td>\n",
       "      <td>F</td>\n",
       "      <td>Cummins</td>\n",
       "      <td>69000</td>\n",
       "    </tr>\n",
       "    <tr>\n",
       "      <td>105</td>\n",
       "      <td>1005</td>\n",
       "      <td>Stephan</td>\n",
       "      <td>M</td>\n",
       "      <td>Ford</td>\n",
       "      <td>78000</td>\n",
       "    </tr>\n",
       "    <tr>\n",
       "      <td>106</td>\n",
       "      <td>1006</td>\n",
       "      <td>Billy</td>\n",
       "      <td>M</td>\n",
       "      <td>Cognizant</td>\n",
       "      <td>89000</td>\n",
       "    </tr>\n",
       "    <tr>\n",
       "      <td>107</td>\n",
       "      <td>1007</td>\n",
       "      <td>Brian</td>\n",
       "      <td>M</td>\n",
       "      <td>Apple</td>\n",
       "      <td>80000</td>\n",
       "    </tr>\n",
       "    <tr>\n",
       "      <td>108</td>\n",
       "      <td>1008</td>\n",
       "      <td>Bran</td>\n",
       "      <td>M</td>\n",
       "      <td>Intel</td>\n",
       "      <td>79000</td>\n",
       "    </tr>\n",
       "    <tr>\n",
       "      <td>109</td>\n",
       "      <td>1009</td>\n",
       "      <td>Bryce</td>\n",
       "      <td>F</td>\n",
       "      <td>Cummins</td>\n",
       "      <td>97000</td>\n",
       "    </tr>\n",
       "    <tr>\n",
       "      <td>110</td>\n",
       "      <td>1010</td>\n",
       "      <td>Betty</td>\n",
       "      <td>F</td>\n",
       "      <td>Walmart</td>\n",
       "      <td>88000</td>\n",
       "    </tr>\n",
       "    <tr>\n",
       "      <td>111</td>\n",
       "      <td>1011</td>\n",
       "      <td>James</td>\n",
       "      <td>M</td>\n",
       "      <td>Intel</td>\n",
       "      <td>89000</td>\n",
       "    </tr>\n",
       "  </tbody>\n",
       "</table>\n",
       "</div>"
      ],
      "text/plain": [
       "     Emp_ID     Name Gender    Company  Salary\n",
       "101    1001     Alex      M      Apple   67000\n",
       "102    1002      Amy      F    Walmart   90000\n",
       "103    1003    Allen      M      Intel   87000\n",
       "104    1004    Alice      F    Cummins   69000\n",
       "105    1005  Stephan      M       Ford   78000\n",
       "106    1006    Billy      M  Cognizant   89000\n",
       "107    1007    Brian      M      Apple   80000\n",
       "108    1008     Bran      M      Intel   79000\n",
       "109    1009    Bryce      F    Cummins   97000\n",
       "110    1010    Betty      F    Walmart   88000\n",
       "111    1011    James      M      Intel   89000"
      ]
     },
     "execution_count": 11,
     "metadata": {},
     "output_type": "execute_result"
    }
   ],
   "source": [
    "# append DataFrame df_company_B to df_company_A\n",
    "df_prof_info_A.append(df_prof_info_B)"
   ]
  },
  {
   "cell_type": "markdown",
   "metadata": {
    "id": "syCrcCrU23gB"
   },
   "source": [
    "<a id=\"Merging\"> </a>\n",
    "### 2. Merging and Joining\n",
    "\n",
    "Merging two datasets is a process of bringing two datasets to form one, by aligning the rows from both the datasets based on common attributes or columns"
   ]
  },
  {
   "cell_type": "markdown",
   "metadata": {
    "id": "q1_of_k023gB"
   },
   "source": [
    "### Concatenate using `.merge()`"
   ]
  },
  {
   "cell_type": "markdown",
   "metadata": {
    "id": "1V9zFBju23gC"
   },
   "source": [
    "Concatenate the personal and professional information on employees in company A."
   ]
  },
  {
   "cell_type": "code",
   "execution_count": 6,
   "metadata": {
    "id": "YMasN7TG23gC",
    "outputId": "ffce26fd-47ec-4bf8-d3a3-d94a9f9e243c"
   },
   "outputs": [
    {
     "data": {
      "text/html": [
       "<div>\n",
       "<style scoped>\n",
       "    .dataframe tbody tr th:only-of-type {\n",
       "        vertical-align: middle;\n",
       "    }\n",
       "\n",
       "    .dataframe tbody tr th {\n",
       "        vertical-align: top;\n",
       "    }\n",
       "\n",
       "    .dataframe thead th {\n",
       "        text-align: right;\n",
       "    }\n",
       "</style>\n",
       "<table border=\"1\" class=\"dataframe\">\n",
       "  <thead>\n",
       "    <tr style=\"text-align: right;\">\n",
       "      <th></th>\n",
       "      <th>Emp_ID</th>\n",
       "      <th>Name</th>\n",
       "      <th>Gender</th>\n",
       "      <th>Company</th>\n",
       "      <th>Salary</th>\n",
       "      <th>Hometown</th>\n",
       "      <th>Marital</th>\n",
       "      <th>Dependents</th>\n",
       "    </tr>\n",
       "  </thead>\n",
       "  <tbody>\n",
       "    <tr>\n",
       "      <th>0</th>\n",
       "      <td>1001</td>\n",
       "      <td>Alex</td>\n",
       "      <td>M</td>\n",
       "      <td>Apple</td>\n",
       "      <td>67000</td>\n",
       "      <td>New York</td>\n",
       "      <td>Married</td>\n",
       "      <td>1</td>\n",
       "    </tr>\n",
       "    <tr>\n",
       "      <th>1</th>\n",
       "      <td>1002</td>\n",
       "      <td>Amy</td>\n",
       "      <td>F</td>\n",
       "      <td>Walmart</td>\n",
       "      <td>90000</td>\n",
       "      <td>London</td>\n",
       "      <td>Divorsed</td>\n",
       "      <td>1</td>\n",
       "    </tr>\n",
       "    <tr>\n",
       "      <th>2</th>\n",
       "      <td>1003</td>\n",
       "      <td>Allen</td>\n",
       "      <td>M</td>\n",
       "      <td>Intel</td>\n",
       "      <td>87000</td>\n",
       "      <td>San Francisco</td>\n",
       "      <td>Single</td>\n",
       "      <td>3</td>\n",
       "    </tr>\n",
       "    <tr>\n",
       "      <th>3</th>\n",
       "      <td>1004</td>\n",
       "      <td>Alice</td>\n",
       "      <td>F</td>\n",
       "      <td>Cummins</td>\n",
       "      <td>69000</td>\n",
       "      <td>Seattle</td>\n",
       "      <td>Married</td>\n",
       "      <td>2</td>\n",
       "    </tr>\n",
       "    <tr>\n",
       "      <th>4</th>\n",
       "      <td>1005</td>\n",
       "      <td>Stephan</td>\n",
       "      <td>M</td>\n",
       "      <td>Ford</td>\n",
       "      <td>78000</td>\n",
       "      <td>Madrid</td>\n",
       "      <td>Single</td>\n",
       "      <td>1</td>\n",
       "    </tr>\n",
       "  </tbody>\n",
       "</table>\n",
       "</div>"
      ],
      "text/plain": [
       "  Emp_ID     Name Gender   Company Salary       Hometown   Marital Dependents\n",
       "0   1001     Alex       M    Apple  67000       New York   Married          1\n",
       "1   1002      Amy       F  Walmart  90000         London  Divorsed          1\n",
       "2   1003    Allen       M    Intel  87000  San Francisco    Single          3\n",
       "3   1004    Alice       F  Cummins  69000        Seattle   Married          2\n",
       "4   1005  Stephan       M     Ford  78000         Madrid    Single          1"
      ]
     },
     "execution_count": 6,
     "metadata": {},
     "output_type": "execute_result"
    }
   ],
   "source": [
    "# concatenate the DataFrames \n",
    "# 'on' specifies the column(s) based on which to join the DataFrames \n",
    "# suffixes: specifies the suffix for duplicate columns\n",
    "# the (' ',' ') indicates there are no suffixes given\n",
    "# T: transposes the DataFrame\n",
    "# drop_duplicates(): drops the duplicate rows in a DataFrame\n",
    "pd.merge(df_prof_info_A, df_pers_info_A, on='Emp_ID',suffixes=(' ',' ') ).T.drop_duplicates().T"
   ]
  },
  {
   "cell_type": "markdown",
   "metadata": {
    "id": "vLlE5Hp_23gC"
   },
   "source": [
    "The rows having common employee ID's are merged to give the resultant DataFrame."
   ]
  },
  {
   "cell_type": "markdown",
   "metadata": {
    "id": "MjQznGv223gC"
   },
   "source": [
    "**Merging using multiple keys**"
   ]
  },
  {
   "cell_type": "markdown",
   "metadata": {
    "id": "SUhPMh7b23gC"
   },
   "source": [
    "Now, let us Concatenate the personal and professional information on employees in company A. "
   ]
  },
  {
   "cell_type": "code",
   "execution_count": null,
   "metadata": {
    "id": "4clFERHf23gC",
    "outputId": "21dd00b7-8a02-4f86-f9a0-16e89a0f9e71"
   },
   "outputs": [
    {
     "data": {
      "text/html": [
       "<div>\n",
       "<style scoped>\n",
       "    .dataframe tbody tr th:only-of-type {\n",
       "        vertical-align: middle;\n",
       "    }\n",
       "\n",
       "    .dataframe tbody tr th {\n",
       "        vertical-align: top;\n",
       "    }\n",
       "\n",
       "    .dataframe thead th {\n",
       "        text-align: right;\n",
       "    }\n",
       "</style>\n",
       "<table border=\"1\" class=\"dataframe\">\n",
       "  <thead>\n",
       "    <tr style=\"text-align: right;\">\n",
       "      <th></th>\n",
       "      <th>Emp_ID</th>\n",
       "      <th>Name</th>\n",
       "      <th>Gender</th>\n",
       "      <th>Company</th>\n",
       "      <th>Salary</th>\n",
       "      <th>Hometown</th>\n",
       "      <th>Marital</th>\n",
       "      <th>Dependents</th>\n",
       "    </tr>\n",
       "  </thead>\n",
       "  <tbody>\n",
       "    <tr>\n",
       "      <td>0</td>\n",
       "      <td>1001</td>\n",
       "      <td>Alex</td>\n",
       "      <td>M</td>\n",
       "      <td>Apple</td>\n",
       "      <td>67000</td>\n",
       "      <td>New York</td>\n",
       "      <td>Married</td>\n",
       "      <td>1</td>\n",
       "    </tr>\n",
       "    <tr>\n",
       "      <td>1</td>\n",
       "      <td>1002</td>\n",
       "      <td>Amy</td>\n",
       "      <td>F</td>\n",
       "      <td>Walmart</td>\n",
       "      <td>90000</td>\n",
       "      <td>London</td>\n",
       "      <td>Divorsed</td>\n",
       "      <td>1</td>\n",
       "    </tr>\n",
       "    <tr>\n",
       "      <td>2</td>\n",
       "      <td>1003</td>\n",
       "      <td>Allen</td>\n",
       "      <td>M</td>\n",
       "      <td>Intel</td>\n",
       "      <td>87000</td>\n",
       "      <td>San Francisco</td>\n",
       "      <td>Single</td>\n",
       "      <td>3</td>\n",
       "    </tr>\n",
       "    <tr>\n",
       "      <td>3</td>\n",
       "      <td>1004</td>\n",
       "      <td>Alice</td>\n",
       "      <td>F</td>\n",
       "      <td>Cummins</td>\n",
       "      <td>69000</td>\n",
       "      <td>Seattle</td>\n",
       "      <td>Married</td>\n",
       "      <td>2</td>\n",
       "    </tr>\n",
       "    <tr>\n",
       "      <td>4</td>\n",
       "      <td>1005</td>\n",
       "      <td>Stephan</td>\n",
       "      <td>M</td>\n",
       "      <td>Ford</td>\n",
       "      <td>78000</td>\n",
       "      <td>Madrid</td>\n",
       "      <td>Single</td>\n",
       "      <td>1</td>\n",
       "    </tr>\n",
       "  </tbody>\n",
       "</table>\n",
       "</div>"
      ],
      "text/plain": [
       "   Emp_ID     Name Gender  Company  Salary       Hometown   Marital  \\\n",
       "0    1001     Alex      M    Apple   67000       New York   Married   \n",
       "1    1002      Amy      F  Walmart   90000         London  Divorsed   \n",
       "2    1003    Allen      M    Intel   87000  San Francisco    Single   \n",
       "3    1004    Alice      F  Cummins   69000        Seattle   Married   \n",
       "4    1005  Stephan      M     Ford   78000         Madrid    Single   \n",
       "\n",
       "   Dependents  \n",
       "0           1  \n",
       "1           1  \n",
       "2           3  \n",
       "3           2  \n",
       "4           1  "
      ]
     },
     "execution_count": 13,
     "metadata": {},
     "output_type": "execute_result"
    }
   ],
   "source": [
    "# concatenate the DataFrames \n",
    "# 'on' specifies the column(s) based on which to join the DataFrames \n",
    "pd.merge(df_prof_info_A, df_pers_info_A, on=[\"Emp_ID\",\"Gender\"])"
   ]
  },
  {
   "cell_type": "markdown",
   "metadata": {
    "id": "cgssVMfc23gC"
   },
   "source": [
    "The rows having common employee ID and gender are merged to give the resultant DataFrame."
   ]
  },
  {
   "cell_type": "markdown",
   "metadata": {
    "id": "yeGWjEEI23gD"
   },
   "source": [
    "**Merging on the Basis of Index**"
   ]
  },
  {
   "cell_type": "markdown",
   "metadata": {
    "id": "m54kqWPn23gD"
   },
   "source": [
    "This function helps to merge two DataFrames, based on their index."
   ]
  },
  {
   "cell_type": "code",
   "execution_count": null,
   "metadata": {
    "id": "ZGuHJ6xZ23gD",
    "outputId": "f21959d4-f9af-4665-8efb-df8441ef5d4c"
   },
   "outputs": [
    {
     "data": {
      "text/html": [
       "<div>\n",
       "<style scoped>\n",
       "    .dataframe tbody tr th:only-of-type {\n",
       "        vertical-align: middle;\n",
       "    }\n",
       "\n",
       "    .dataframe tbody tr th {\n",
       "        vertical-align: top;\n",
       "    }\n",
       "\n",
       "    .dataframe thead th {\n",
       "        text-align: right;\n",
       "    }\n",
       "</style>\n",
       "<table border=\"1\" class=\"dataframe\">\n",
       "  <thead>\n",
       "    <tr style=\"text-align: right;\">\n",
       "      <th></th>\n",
       "      <th>Emp_ID</th>\n",
       "      <th>Name</th>\n",
       "      <th>Gender</th>\n",
       "      <th>Company</th>\n",
       "      <th>Salary</th>\n",
       "      <th>Hometown</th>\n",
       "      <th>Marital</th>\n",
       "      <th>Dependents</th>\n",
       "    </tr>\n",
       "  </thead>\n",
       "  <tbody>\n",
       "    <tr>\n",
       "      <td>101</td>\n",
       "      <td>1001</td>\n",
       "      <td>Alex</td>\n",
       "      <td>M</td>\n",
       "      <td>Apple</td>\n",
       "      <td>67000</td>\n",
       "      <td>New York</td>\n",
       "      <td>Married</td>\n",
       "      <td>1</td>\n",
       "    </tr>\n",
       "    <tr>\n",
       "      <td>102</td>\n",
       "      <td>1002</td>\n",
       "      <td>Amy</td>\n",
       "      <td>F</td>\n",
       "      <td>Walmart</td>\n",
       "      <td>90000</td>\n",
       "      <td>London</td>\n",
       "      <td>Divorsed</td>\n",
       "      <td>1</td>\n",
       "    </tr>\n",
       "    <tr>\n",
       "      <td>103</td>\n",
       "      <td>1003</td>\n",
       "      <td>Allen</td>\n",
       "      <td>M</td>\n",
       "      <td>Intel</td>\n",
       "      <td>87000</td>\n",
       "      <td>San Francisco</td>\n",
       "      <td>Single</td>\n",
       "      <td>3</td>\n",
       "    </tr>\n",
       "    <tr>\n",
       "      <td>104</td>\n",
       "      <td>1004</td>\n",
       "      <td>Alice</td>\n",
       "      <td>F</td>\n",
       "      <td>Cummins</td>\n",
       "      <td>69000</td>\n",
       "      <td>Seattle</td>\n",
       "      <td>Married</td>\n",
       "      <td>2</td>\n",
       "    </tr>\n",
       "    <tr>\n",
       "      <td>105</td>\n",
       "      <td>1005</td>\n",
       "      <td>Stephan</td>\n",
       "      <td>M</td>\n",
       "      <td>Ford</td>\n",
       "      <td>78000</td>\n",
       "      <td>Madrid</td>\n",
       "      <td>Single</td>\n",
       "      <td>1</td>\n",
       "    </tr>\n",
       "  </tbody>\n",
       "</table>\n",
       "</div>"
      ],
      "text/plain": [
       "    Emp_ID     Name Gender   Company Salary       Hometown   Marital  \\\n",
       "101   1001     Alex       M    Apple  67000       New York   Married   \n",
       "102   1002      Amy       F  Walmart  90000         London  Divorsed   \n",
       "103   1003    Allen       M    Intel  87000  San Francisco    Single   \n",
       "104   1004    Alice       F  Cummins  69000        Seattle   Married   \n",
       "105   1005  Stephan       M     Ford  78000         Madrid    Single   \n",
       "\n",
       "    Dependents  \n",
       "101          1  \n",
       "102          1  \n",
       "103          3  \n",
       "104          2  \n",
       "105          1  "
      ]
     },
     "execution_count": 14,
     "metadata": {},
     "output_type": "execute_result"
    }
   ],
   "source": [
    "# merge the DataFrames based on their index\n",
    "# 'left_index' considers index of left DataFrame to merge, here it is set to True, so it is considered\n",
    "# 'right_index' considers index of right DataFrame to merge, here it is set to False, so it is not considered\n",
    "# 'on' specifies the column(s) based on which to join the DataFrames \n",
    "# suffixes: specifies the suffix for duplicate columns\n",
    "# the (' ',' ') indicates there are no suffixes given\n",
    "# T: transposes the DataFrame\n",
    "# drop_duplicates(): drops the duplicate rows in a DataFrame\n",
    "pd.merge(df_prof_info_A, df_pers_info_A,  right_index = False, left_index = True, on='Emp_ID', suffixes =(' ',' ')\n",
    "        ).T.drop_duplicates().T"
   ]
  },
  {
   "cell_type": "markdown",
   "metadata": {
    "id": "Jt9AAhIH23gE"
   },
   "source": [
    "Note the resultant DataFrame takes the index of the DataFrame to the left. "
   ]
  },
  {
   "cell_type": "markdown",
   "metadata": {
    "id": "MifxnZ9e23gE"
   },
   "source": [
    "**`merge()` allows you to perform natural join, left join, right join, and full outer join in pandas.**"
   ]
  },
  {
   "cell_type": "markdown",
   "metadata": {
    "id": "sL9TLU6y23gE"
   },
   "source": [
    "**Understanding the Different Types of Merge:**\n",
    "\n",
    "Left outer join: includes all the rows of your DataFrame x and only those from y that match. (how=‘left’).\n",
    "\n",
    "Right outer join: includes all the rows of your DataFrame y and only those from x that match. (how=‘right’).\n",
    "\n",
    "Inner join: includes those rows that are common to both the DataFrames. (how=‘inner’).\n",
    "\n",
    "Full outer join: includes all rows from both DataFrames. (how=‘outer’)."
   ]
  },
  {
   "cell_type": "markdown",
   "metadata": {
    "id": "SjEjQ7QY23gF"
   },
   "source": [
    "**Inner Join:**<br>\n",
    "It returns only the rows in which the left table has matching keys in the right table."
   ]
  },
  {
   "cell_type": "code",
   "execution_count": null,
   "metadata": {
    "id": "Oslmh-qk23gF",
    "outputId": "c2ad6ddc-648f-46b3-8773-06c3ef102ff7"
   },
   "outputs": [
    {
     "data": {
      "text/html": [
       "<div>\n",
       "<style scoped>\n",
       "    .dataframe tbody tr th:only-of-type {\n",
       "        vertical-align: middle;\n",
       "    }\n",
       "\n",
       "    .dataframe tbody tr th {\n",
       "        vertical-align: top;\n",
       "    }\n",
       "\n",
       "    .dataframe thead th {\n",
       "        text-align: right;\n",
       "    }\n",
       "</style>\n",
       "<table border=\"1\" class=\"dataframe\">\n",
       "  <thead>\n",
       "    <tr style=\"text-align: right;\">\n",
       "      <th></th>\n",
       "      <th>Emp_ID</th>\n",
       "      <th>Name</th>\n",
       "      <th>Gender</th>\n",
       "      <th>Company</th>\n",
       "      <th>Salary</th>\n",
       "      <th>Hometown</th>\n",
       "      <th>Marital</th>\n",
       "      <th>Dependents</th>\n",
       "    </tr>\n",
       "  </thead>\n",
       "  <tbody>\n",
       "    <tr>\n",
       "      <td>0</td>\n",
       "      <td>1006</td>\n",
       "      <td>Billy</td>\n",
       "      <td>M</td>\n",
       "      <td>Cognizant</td>\n",
       "      <td>89000</td>\n",
       "      <td>Paris</td>\n",
       "      <td>Married</td>\n",
       "      <td>1</td>\n",
       "    </tr>\n",
       "    <tr>\n",
       "      <td>1</td>\n",
       "      <td>1007</td>\n",
       "      <td>Brian</td>\n",
       "      <td>M</td>\n",
       "      <td>Apple</td>\n",
       "      <td>80000</td>\n",
       "      <td>Boston</td>\n",
       "      <td>Divorsed</td>\n",
       "      <td>1</td>\n",
       "    </tr>\n",
       "    <tr>\n",
       "      <td>2</td>\n",
       "      <td>1009</td>\n",
       "      <td>Bryce</td>\n",
       "      <td>F</td>\n",
       "      <td>Cummins</td>\n",
       "      <td>97000</td>\n",
       "      <td>San Francisco</td>\n",
       "      <td>Single</td>\n",
       "      <td>3</td>\n",
       "    </tr>\n",
       "    <tr>\n",
       "      <td>3</td>\n",
       "      <td>1010</td>\n",
       "      <td>Betty</td>\n",
       "      <td>F</td>\n",
       "      <td>Walmart</td>\n",
       "      <td>88000</td>\n",
       "      <td>Seattle</td>\n",
       "      <td>Married</td>\n",
       "      <td>2</td>\n",
       "    </tr>\n",
       "    <tr>\n",
       "      <td>4</td>\n",
       "      <td>1011</td>\n",
       "      <td>James</td>\n",
       "      <td>M</td>\n",
       "      <td>Intel</td>\n",
       "      <td>89000</td>\n",
       "      <td>London</td>\n",
       "      <td>Single</td>\n",
       "      <td>1</td>\n",
       "    </tr>\n",
       "  </tbody>\n",
       "</table>\n",
       "</div>"
      ],
      "text/plain": [
       "   Emp_ID   Name Gender    Company  Salary       Hometown   Marital  \\\n",
       "0    1006  Billy      M  Cognizant   89000          Paris   Married   \n",
       "1    1007  Brian      M      Apple   80000         Boston  Divorsed   \n",
       "2    1009  Bryce      F    Cummins   97000  San Francisco    Single   \n",
       "3    1010  Betty      F    Walmart   88000        Seattle   Married   \n",
       "4    1011  James      M      Intel   89000         London    Single   \n",
       "\n",
       "   Dependents  \n",
       "0           1  \n",
       "1           1  \n",
       "2           3  \n",
       "3           2  \n",
       "4           1  "
      ]
     },
     "execution_count": 15,
     "metadata": {},
     "output_type": "execute_result"
    }
   ],
   "source": [
    "# print the inner join of the DataFrames\n",
    "# on specifies the column(s) based on which to join the DataFrames \n",
    "# how specifies the type of join\n",
    "pd.merge(df_prof_info_B, df_pers_info_B, on='Emp_ID', how='inner')"
   ]
  },
  {
   "cell_type": "markdown",
   "metadata": {
    "id": "3i21t7SK23gF"
   },
   "source": [
    "In professional info B we have employee ID's as 1006,1007,1008,1009,1010,1011 and we have personal info B for employee ID's 1006,1007,1009,1010,1011,1012. Because of the inner join, we notice that 1008 from the first DataFrame (professinal info) and 1012 from second DataFrame (personal info) are not part to the resultant outcome. In other words, inner join will include those rows that are common to both the DataFrames."
   ]
  },
  {
   "cell_type": "markdown",
   "metadata": {
    "id": "GTeUqvZZ23gF"
   },
   "source": [
    "**Outer Join:**<br>\n",
    "It returns all rows from both tables, joining records from the left, which has matching keys in the right table."
   ]
  },
  {
   "cell_type": "code",
   "execution_count": null,
   "metadata": {
    "id": "cNQK3W0O23gF",
    "outputId": "9bf09766-4575-40c7-ba16-81f417f356cb"
   },
   "outputs": [
    {
     "data": {
      "text/html": [
       "<div>\n",
       "<style scoped>\n",
       "    .dataframe tbody tr th:only-of-type {\n",
       "        vertical-align: middle;\n",
       "    }\n",
       "\n",
       "    .dataframe tbody tr th {\n",
       "        vertical-align: top;\n",
       "    }\n",
       "\n",
       "    .dataframe thead th {\n",
       "        text-align: right;\n",
       "    }\n",
       "</style>\n",
       "<table border=\"1\" class=\"dataframe\">\n",
       "  <thead>\n",
       "    <tr style=\"text-align: right;\">\n",
       "      <th></th>\n",
       "      <th>Emp_ID</th>\n",
       "      <th>Name</th>\n",
       "      <th>Gender</th>\n",
       "      <th>Company</th>\n",
       "      <th>Salary</th>\n",
       "      <th>Hometown</th>\n",
       "      <th>Marital</th>\n",
       "      <th>Dependents</th>\n",
       "    </tr>\n",
       "  </thead>\n",
       "  <tbody>\n",
       "    <tr>\n",
       "      <td>0</td>\n",
       "      <td>1006</td>\n",
       "      <td>Billy</td>\n",
       "      <td>M</td>\n",
       "      <td>Cognizant</td>\n",
       "      <td>89000.0</td>\n",
       "      <td>Paris</td>\n",
       "      <td>Married</td>\n",
       "      <td>1.0</td>\n",
       "    </tr>\n",
       "    <tr>\n",
       "      <td>1</td>\n",
       "      <td>1007</td>\n",
       "      <td>Brian</td>\n",
       "      <td>M</td>\n",
       "      <td>Apple</td>\n",
       "      <td>80000.0</td>\n",
       "      <td>Boston</td>\n",
       "      <td>Divorsed</td>\n",
       "      <td>1.0</td>\n",
       "    </tr>\n",
       "    <tr>\n",
       "      <td>2</td>\n",
       "      <td>1008</td>\n",
       "      <td>Bran</td>\n",
       "      <td>M</td>\n",
       "      <td>Intel</td>\n",
       "      <td>79000.0</td>\n",
       "      <td>NaN</td>\n",
       "      <td>NaN</td>\n",
       "      <td>NaN</td>\n",
       "    </tr>\n",
       "    <tr>\n",
       "      <td>3</td>\n",
       "      <td>1009</td>\n",
       "      <td>Bryce</td>\n",
       "      <td>F</td>\n",
       "      <td>Cummins</td>\n",
       "      <td>97000.0</td>\n",
       "      <td>San Francisco</td>\n",
       "      <td>Single</td>\n",
       "      <td>3.0</td>\n",
       "    </tr>\n",
       "    <tr>\n",
       "      <td>4</td>\n",
       "      <td>1010</td>\n",
       "      <td>Betty</td>\n",
       "      <td>F</td>\n",
       "      <td>Walmart</td>\n",
       "      <td>88000.0</td>\n",
       "      <td>Seattle</td>\n",
       "      <td>Married</td>\n",
       "      <td>2.0</td>\n",
       "    </tr>\n",
       "    <tr>\n",
       "      <td>5</td>\n",
       "      <td>1011</td>\n",
       "      <td>James</td>\n",
       "      <td>M</td>\n",
       "      <td>Intel</td>\n",
       "      <td>89000.0</td>\n",
       "      <td>London</td>\n",
       "      <td>Single</td>\n",
       "      <td>1.0</td>\n",
       "    </tr>\n",
       "    <tr>\n",
       "      <td>6</td>\n",
       "      <td>1012</td>\n",
       "      <td>NaN</td>\n",
       "      <td>NaN</td>\n",
       "      <td>NaN</td>\n",
       "      <td>NaN</td>\n",
       "      <td>London</td>\n",
       "      <td>Single</td>\n",
       "      <td>2.0</td>\n",
       "    </tr>\n",
       "  </tbody>\n",
       "</table>\n",
       "</div>"
      ],
      "text/plain": [
       "   Emp_ID   Name Gender    Company   Salary       Hometown   Marital  \\\n",
       "0    1006  Billy      M  Cognizant  89000.0          Paris   Married   \n",
       "1    1007  Brian      M      Apple  80000.0         Boston  Divorsed   \n",
       "2    1008   Bran      M      Intel  79000.0            NaN       NaN   \n",
       "3    1009  Bryce      F    Cummins  97000.0  San Francisco    Single   \n",
       "4    1010  Betty      F    Walmart  88000.0        Seattle   Married   \n",
       "5    1011  James      M      Intel  89000.0         London    Single   \n",
       "6    1012    NaN    NaN        NaN      NaN         London    Single   \n",
       "\n",
       "   Dependents  \n",
       "0         1.0  \n",
       "1         1.0  \n",
       "2         NaN  \n",
       "3         3.0  \n",
       "4         2.0  \n",
       "5         1.0  \n",
       "6         2.0  "
      ]
     },
     "execution_count": 16,
     "metadata": {},
     "output_type": "execute_result"
    }
   ],
   "source": [
    "# print the outer join of the DataFrames\n",
    "# on specifies the column(s) based on which to join the DataFrames \n",
    "# how specifies the type of join\n",
    "pd.merge(df_prof_info_B, df_pers_info_B, on='Emp_ID', how='outer')"
   ]
  },
  {
   "cell_type": "markdown",
   "metadata": {
    "id": "u8NRLU_g23gF"
   },
   "source": [
    "In professional info B we have employee ID's as 1006,1007,1008,1009,1010,1011 and we have personal info B for employee ID's 1006,1007,1009,1010,1011,1012. <br>The employee Id 1008 has no personal information available and the employee ID 1012 has no professional information available. <br>So, the outer join merged all the observations from both the DataFrames and all the missing values are marked with `NaN`."
   ]
  },
  {
   "cell_type": "markdown",
   "metadata": {
    "id": "MV_X3qFD23gF"
   },
   "source": [
    "**Left Outer Join:**<br>\n",
    "It returns all rows from the left table and any rows with matching keys from the right table."
   ]
  },
  {
   "cell_type": "code",
   "execution_count": null,
   "metadata": {
    "id": "cmCIdAe923gF",
    "outputId": "34a24e7d-e3bf-4708-a7f1-5685f88f0ac4"
   },
   "outputs": [
    {
     "data": {
      "text/html": [
       "<div>\n",
       "<style scoped>\n",
       "    .dataframe tbody tr th:only-of-type {\n",
       "        vertical-align: middle;\n",
       "    }\n",
       "\n",
       "    .dataframe tbody tr th {\n",
       "        vertical-align: top;\n",
       "    }\n",
       "\n",
       "    .dataframe thead th {\n",
       "        text-align: right;\n",
       "    }\n",
       "</style>\n",
       "<table border=\"1\" class=\"dataframe\">\n",
       "  <thead>\n",
       "    <tr style=\"text-align: right;\">\n",
       "      <th></th>\n",
       "      <th>Emp_ID</th>\n",
       "      <th>Name</th>\n",
       "      <th>Gender</th>\n",
       "      <th>Company</th>\n",
       "      <th>Salary</th>\n",
       "      <th>Hometown</th>\n",
       "      <th>Marital</th>\n",
       "      <th>Dependents</th>\n",
       "    </tr>\n",
       "  </thead>\n",
       "  <tbody>\n",
       "    <tr>\n",
       "      <td>0</td>\n",
       "      <td>1006</td>\n",
       "      <td>Billy</td>\n",
       "      <td>M</td>\n",
       "      <td>Cognizant</td>\n",
       "      <td>89000</td>\n",
       "      <td>Paris</td>\n",
       "      <td>Married</td>\n",
       "      <td>1.0</td>\n",
       "    </tr>\n",
       "    <tr>\n",
       "      <td>1</td>\n",
       "      <td>1007</td>\n",
       "      <td>Brian</td>\n",
       "      <td>M</td>\n",
       "      <td>Apple</td>\n",
       "      <td>80000</td>\n",
       "      <td>Boston</td>\n",
       "      <td>Divorsed</td>\n",
       "      <td>1.0</td>\n",
       "    </tr>\n",
       "    <tr>\n",
       "      <td>2</td>\n",
       "      <td>1008</td>\n",
       "      <td>Bran</td>\n",
       "      <td>M</td>\n",
       "      <td>Intel</td>\n",
       "      <td>79000</td>\n",
       "      <td>NaN</td>\n",
       "      <td>NaN</td>\n",
       "      <td>NaN</td>\n",
       "    </tr>\n",
       "    <tr>\n",
       "      <td>3</td>\n",
       "      <td>1009</td>\n",
       "      <td>Bryce</td>\n",
       "      <td>F</td>\n",
       "      <td>Cummins</td>\n",
       "      <td>97000</td>\n",
       "      <td>San Francisco</td>\n",
       "      <td>Single</td>\n",
       "      <td>3.0</td>\n",
       "    </tr>\n",
       "    <tr>\n",
       "      <td>4</td>\n",
       "      <td>1010</td>\n",
       "      <td>Betty</td>\n",
       "      <td>F</td>\n",
       "      <td>Walmart</td>\n",
       "      <td>88000</td>\n",
       "      <td>Seattle</td>\n",
       "      <td>Married</td>\n",
       "      <td>2.0</td>\n",
       "    </tr>\n",
       "    <tr>\n",
       "      <td>5</td>\n",
       "      <td>1011</td>\n",
       "      <td>James</td>\n",
       "      <td>M</td>\n",
       "      <td>Intel</td>\n",
       "      <td>89000</td>\n",
       "      <td>London</td>\n",
       "      <td>Single</td>\n",
       "      <td>1.0</td>\n",
       "    </tr>\n",
       "  </tbody>\n",
       "</table>\n",
       "</div>"
      ],
      "text/plain": [
       "   Emp_ID   Name Gender    Company  Salary       Hometown   Marital  \\\n",
       "0    1006  Billy      M  Cognizant   89000          Paris   Married   \n",
       "1    1007  Brian      M      Apple   80000         Boston  Divorsed   \n",
       "2    1008   Bran      M      Intel   79000            NaN       NaN   \n",
       "3    1009  Bryce      F    Cummins   97000  San Francisco    Single   \n",
       "4    1010  Betty      F    Walmart   88000        Seattle   Married   \n",
       "5    1011  James      M      Intel   89000         London    Single   \n",
       "\n",
       "   Dependents  \n",
       "0         1.0  \n",
       "1         1.0  \n",
       "2         NaN  \n",
       "3         3.0  \n",
       "4         2.0  \n",
       "5         1.0  "
      ]
     },
     "execution_count": 17,
     "metadata": {},
     "output_type": "execute_result"
    }
   ],
   "source": [
    "# print the left join of the DataFrames\n",
    "# on specifies the column(s) based on which to join the DataFrames \n",
    "# how specifies the type of join\n",
    "pd.merge(df_prof_info_B, df_pers_info_B, on = 'Emp_ID', how ='left')"
   ]
  },
  {
   "cell_type": "markdown",
   "metadata": {
    "id": "oIsKaeXh23gG"
   },
   "source": [
    "We notice that employee ID 1008 is present in left DataFrame but not present in the right DataFrame.\n",
    "\n",
    "Whereas employee ID 1012 is present in right DataFrame but not present in the left DataFrame.\n",
    "\n",
    "Because of `how = 'left'`, it took all the observations from the left DataFrame (professional info) but it took only those observations from the right DataFrame (personal info) which are present in the left DataFrame and all the missing values are marked with `NaN`."
   ]
  },
  {
   "cell_type": "markdown",
   "metadata": {
    "id": "KHrVQSHh23gG"
   },
   "source": [
    "**Right Outer Join:**<br>\n",
    "It returns all rows from the right table and any rows with matching keys from the left table."
   ]
  },
  {
   "cell_type": "code",
   "execution_count": null,
   "metadata": {
    "id": "UbJhYlq123gG",
    "outputId": "2779e559-c017-4dee-febc-efa5ca2e8fe9"
   },
   "outputs": [
    {
     "data": {
      "text/html": [
       "<div>\n",
       "<style scoped>\n",
       "    .dataframe tbody tr th:only-of-type {\n",
       "        vertical-align: middle;\n",
       "    }\n",
       "\n",
       "    .dataframe tbody tr th {\n",
       "        vertical-align: top;\n",
       "    }\n",
       "\n",
       "    .dataframe thead th {\n",
       "        text-align: right;\n",
       "    }\n",
       "</style>\n",
       "<table border=\"1\" class=\"dataframe\">\n",
       "  <thead>\n",
       "    <tr style=\"text-align: right;\">\n",
       "      <th></th>\n",
       "      <th>Emp_ID</th>\n",
       "      <th>Name</th>\n",
       "      <th>Gender</th>\n",
       "      <th>Company</th>\n",
       "      <th>Salary</th>\n",
       "      <th>Hometown</th>\n",
       "      <th>Marital</th>\n",
       "      <th>Dependents</th>\n",
       "    </tr>\n",
       "  </thead>\n",
       "  <tbody>\n",
       "    <tr>\n",
       "      <td>0</td>\n",
       "      <td>1006</td>\n",
       "      <td>Billy</td>\n",
       "      <td>M</td>\n",
       "      <td>Cognizant</td>\n",
       "      <td>89000.0</td>\n",
       "      <td>Paris</td>\n",
       "      <td>Married</td>\n",
       "      <td>1</td>\n",
       "    </tr>\n",
       "    <tr>\n",
       "      <td>1</td>\n",
       "      <td>1007</td>\n",
       "      <td>Brian</td>\n",
       "      <td>M</td>\n",
       "      <td>Apple</td>\n",
       "      <td>80000.0</td>\n",
       "      <td>Boston</td>\n",
       "      <td>Divorsed</td>\n",
       "      <td>1</td>\n",
       "    </tr>\n",
       "    <tr>\n",
       "      <td>2</td>\n",
       "      <td>1009</td>\n",
       "      <td>Bryce</td>\n",
       "      <td>F</td>\n",
       "      <td>Cummins</td>\n",
       "      <td>97000.0</td>\n",
       "      <td>San Francisco</td>\n",
       "      <td>Single</td>\n",
       "      <td>3</td>\n",
       "    </tr>\n",
       "    <tr>\n",
       "      <td>3</td>\n",
       "      <td>1010</td>\n",
       "      <td>Betty</td>\n",
       "      <td>F</td>\n",
       "      <td>Walmart</td>\n",
       "      <td>88000.0</td>\n",
       "      <td>Seattle</td>\n",
       "      <td>Married</td>\n",
       "      <td>2</td>\n",
       "    </tr>\n",
       "    <tr>\n",
       "      <td>4</td>\n",
       "      <td>1011</td>\n",
       "      <td>James</td>\n",
       "      <td>M</td>\n",
       "      <td>Intel</td>\n",
       "      <td>89000.0</td>\n",
       "      <td>London</td>\n",
       "      <td>Single</td>\n",
       "      <td>1</td>\n",
       "    </tr>\n",
       "    <tr>\n",
       "      <td>5</td>\n",
       "      <td>1012</td>\n",
       "      <td>NaN</td>\n",
       "      <td>NaN</td>\n",
       "      <td>NaN</td>\n",
       "      <td>NaN</td>\n",
       "      <td>London</td>\n",
       "      <td>Single</td>\n",
       "      <td>2</td>\n",
       "    </tr>\n",
       "  </tbody>\n",
       "</table>\n",
       "</div>"
      ],
      "text/plain": [
       "   Emp_ID   Name Gender    Company   Salary       Hometown   Marital  \\\n",
       "0    1006  Billy      M  Cognizant  89000.0          Paris   Married   \n",
       "1    1007  Brian      M      Apple  80000.0         Boston  Divorsed   \n",
       "2    1009  Bryce      F    Cummins  97000.0  San Francisco    Single   \n",
       "3    1010  Betty      F    Walmart  88000.0        Seattle   Married   \n",
       "4    1011  James      M      Intel  89000.0         London    Single   \n",
       "5    1012    NaN    NaN        NaN      NaN         London    Single   \n",
       "\n",
       "   Dependents  \n",
       "0           1  \n",
       "1           1  \n",
       "2           3  \n",
       "3           2  \n",
       "4           1  \n",
       "5           2  "
      ]
     },
     "execution_count": 18,
     "metadata": {},
     "output_type": "execute_result"
    }
   ],
   "source": [
    "# print the right join of the DataFrames\n",
    "# on specifies the column(s) based on which to join the DataFrames \n",
    "# how specifies the type of join\n",
    "pd.merge(df_prof_info_B, df_pers_info_B, on='Emp_ID', how='right')"
   ]
  },
  {
   "cell_type": "markdown",
   "metadata": {
    "id": "icLRYIne23gG"
   },
   "source": [
    "We notice that employee ID 1012 is present in right DataFrame but not present in the left DataFrame.\n",
    "\n",
    "Whereas employee ID 1008 is present in left DataFrame but not present in the right DataFrame.\n",
    "\n",
    "Because of `how = 'right'`, it took all the observations from the right DataFrame (personal info) but it took only those observations from the left DataFrame (professional info) which are present in the right DataFrame and all the missing values are marked with `NaN`."
   ]
  },
  {
   "cell_type": "markdown",
   "metadata": {
    "collapsed": true,
    "id": "S4yUV_dS23gG"
   },
   "source": [
    "<a id=\"Reshaping\"> </a>\n",
    "### 3. Reshaping"
   ]
  },
  {
   "cell_type": "markdown",
   "metadata": {
    "collapsed": true,
    "id": "1ov0bvsZ23gG"
   },
   "source": [
    "**`.stack()` and `.unstack()` in Pandas:**<br>\n",
    " \n",
    "Unstacking can be used to rearrange the series with hierarchical index in a DataFrame.\n",
    "\n",
    "Stack is the inverse operation of unstack"
   ]
  },
  {
   "cell_type": "markdown",
   "metadata": {
    "id": "vzDeDvvD23gG"
   },
   "source": [
    "### Methods of Multi-Index Creation"
   ]
  },
  {
   "cell_type": "code",
   "execution_count": null,
   "metadata": {
    "id": "D7ppP1sh23gG",
    "outputId": "754c6fa8-d6d9-488d-c81b-0f0a56e0a47a"
   },
   "outputs": [
    {
     "data": {
      "text/html": [
       "<div>\n",
       "<style scoped>\n",
       "    .dataframe tbody tr th:only-of-type {\n",
       "        vertical-align: middle;\n",
       "    }\n",
       "\n",
       "    .dataframe tbody tr th {\n",
       "        vertical-align: top;\n",
       "    }\n",
       "\n",
       "    .dataframe thead tr th {\n",
       "        text-align: left;\n",
       "    }\n",
       "</style>\n",
       "<table border=\"1\" class=\"dataframe\">\n",
       "  <thead>\n",
       "    <tr>\n",
       "      <th></th>\n",
       "      <th>Before Course</th>\n",
       "      <th>After Course</th>\n",
       "    </tr>\n",
       "    <tr>\n",
       "      <th></th>\n",
       "      <th>Marks</th>\n",
       "      <th>Marks</th>\n",
       "    </tr>\n",
       "  </thead>\n",
       "  <tbody>\n",
       "    <tr>\n",
       "      <td>Alisa</td>\n",
       "      <td>82</td>\n",
       "      <td>95</td>\n",
       "    </tr>\n",
       "    <tr>\n",
       "      <td>Bobby</td>\n",
       "      <td>78</td>\n",
       "      <td>89</td>\n",
       "    </tr>\n",
       "    <tr>\n",
       "      <td>Cathrine</td>\n",
       "      <td>78</td>\n",
       "      <td>87</td>\n",
       "    </tr>\n",
       "    <tr>\n",
       "      <td>Jack</td>\n",
       "      <td>76</td>\n",
       "      <td>89</td>\n",
       "    </tr>\n",
       "    <tr>\n",
       "      <td>Mia</td>\n",
       "      <td>66</td>\n",
       "      <td>89</td>\n",
       "    </tr>\n",
       "  </tbody>\n",
       "</table>\n",
       "</div>"
      ],
      "text/plain": [
       "         Before Course After Course\n",
       "                 Marks        Marks\n",
       "Alisa               82           95\n",
       "Bobby               78           89\n",
       "Cathrine            78           87\n",
       "Jack                76           89\n",
       "Mia                 66           89"
      ]
     },
     "execution_count": 19,
     "metadata": {},
     "output_type": "execute_result"
    }
   ],
   "source": [
    "# create the column names of the DataFrame\n",
    "labels = pd.MultiIndex.from_product([['Before Course','After Course'],['Marks']])\n",
    "\n",
    "# create the list of values \n",
    "marks = [[82,95],[78,89],[78,87],[76,89],[66,89]]\n",
    "\n",
    "# create the DataFrame\n",
    "# data is the values used to create the DataFrame\n",
    "# index are the index name of the DataFrame\n",
    "# columns are the column name of the DataFrame\n",
    "df_marks = pd.DataFrame(data = marks, index = ['Alisa','Bobby','Cathrine','Jack','Mia'], columns = labels)\n",
    "\n",
    "# print the DataFrame\n",
    "df_marks"
   ]
  },
  {
   "cell_type": "markdown",
   "metadata": {
    "id": "y7Q2mCun23gH"
   },
   "source": [
    "We shall use the above the DataFrame henceforth."
   ]
  },
  {
   "cell_type": "markdown",
   "metadata": {
    "id": "RWBc6Frd23gH"
   },
   "source": [
    "Stack the DataFrame"
   ]
  },
  {
   "cell_type": "code",
   "execution_count": null,
   "metadata": {
    "id": "YtVaSEER23gH",
    "outputId": "a794fe4a-837e-4aef-e0ee-37bd44e464e6"
   },
   "outputs": [
    {
     "name": "stdout",
     "output_type": "stream",
     "text": [
      "                After Course  Before Course\n",
      "Alisa    Marks            95             82\n",
      "Bobby    Marks            89             78\n",
      "Cathrine Marks            87             78\n",
      "Jack     Marks            89             76\n",
      "Mia      Marks            89             66\n"
     ]
    }
   ],
   "source": [
    "# stack the DataFrame\n",
    "df_stacked = df_marks.stack()\n",
    "\n",
    "# print the stacked DataFrame\n",
    "print(df_stacked)"
   ]
  },
  {
   "cell_type": "markdown",
   "metadata": {
    "id": "FeSg1QZ023gH"
   },
   "source": [
    "Notice this creates two levels of indexes; the first level is the name of students, and the second level is 'Marks'. There are two indexes and is called a multi-index. \n",
    "\n",
    "We can convert back to a full table by unstacking, recreating a single index for each line of data."
   ]
  },
  {
   "cell_type": "code",
   "execution_count": null,
   "metadata": {
    "id": "TlHk8jVN23gH",
    "outputId": "08f3f9f9-07ab-42e5-a386-d8b51eccb7fb"
   },
   "outputs": [
    {
     "name": "stdout",
     "output_type": "stream",
     "text": [
      "         After Course Before Course\n",
      "                Marks         Marks\n",
      "Alisa              95            82\n",
      "Bobby              89            78\n",
      "Cathrine           87            78\n",
      "Jack               89            76\n",
      "Mia                89            66\n"
     ]
    }
   ],
   "source": [
    "# unstack the DataFrame\n",
    "df_unstacked = df_stacked.unstack()\n",
    "\n",
    "# print the unstacked DataFrame\n",
    "print (df_unstacked)"
   ]
  },
  {
   "cell_type": "markdown",
   "metadata": {
    "id": "US6gn8XV23gH"
   },
   "source": [
    "Let us introduce the parameter `level`  in `.stack()`.  The argument `level = 0`  stacks the column marks as 'after course' and 'before course'."
   ]
  },
  {
   "cell_type": "code",
   "execution_count": null,
   "metadata": {
    "id": "MiKSl-1J23gH",
    "outputId": "168d3498-e7a5-494e-a4db-3776a6e206a5"
   },
   "outputs": [
    {
     "data": {
      "text/html": [
       "<div>\n",
       "<style scoped>\n",
       "    .dataframe tbody tr th:only-of-type {\n",
       "        vertical-align: middle;\n",
       "    }\n",
       "\n",
       "    .dataframe tbody tr th {\n",
       "        vertical-align: top;\n",
       "    }\n",
       "\n",
       "    .dataframe thead th {\n",
       "        text-align: right;\n",
       "    }\n",
       "</style>\n",
       "<table border=\"1\" class=\"dataframe\">\n",
       "  <thead>\n",
       "    <tr style=\"text-align: right;\">\n",
       "      <th></th>\n",
       "      <th></th>\n",
       "      <th>Marks</th>\n",
       "    </tr>\n",
       "  </thead>\n",
       "  <tbody>\n",
       "    <tr>\n",
       "      <td rowspan=\"2\" valign=\"top\">Alisa</td>\n",
       "      <td>After Course</td>\n",
       "      <td>95</td>\n",
       "    </tr>\n",
       "    <tr>\n",
       "      <td>Before Course</td>\n",
       "      <td>82</td>\n",
       "    </tr>\n",
       "    <tr>\n",
       "      <td rowspan=\"2\" valign=\"top\">Bobby</td>\n",
       "      <td>After Course</td>\n",
       "      <td>89</td>\n",
       "    </tr>\n",
       "    <tr>\n",
       "      <td>Before Course</td>\n",
       "      <td>78</td>\n",
       "    </tr>\n",
       "    <tr>\n",
       "      <td rowspan=\"2\" valign=\"top\">Cathrine</td>\n",
       "      <td>After Course</td>\n",
       "      <td>87</td>\n",
       "    </tr>\n",
       "    <tr>\n",
       "      <td>Before Course</td>\n",
       "      <td>78</td>\n",
       "    </tr>\n",
       "    <tr>\n",
       "      <td rowspan=\"2\" valign=\"top\">Jack</td>\n",
       "      <td>After Course</td>\n",
       "      <td>89</td>\n",
       "    </tr>\n",
       "    <tr>\n",
       "      <td>Before Course</td>\n",
       "      <td>76</td>\n",
       "    </tr>\n",
       "    <tr>\n",
       "      <td rowspan=\"2\" valign=\"top\">Mia</td>\n",
       "      <td>After Course</td>\n",
       "      <td>89</td>\n",
       "    </tr>\n",
       "    <tr>\n",
       "      <td>Before Course</td>\n",
       "      <td>66</td>\n",
       "    </tr>\n",
       "  </tbody>\n",
       "</table>\n",
       "</div>"
      ],
      "text/plain": [
       "                        Marks\n",
       "Alisa    After Course      95\n",
       "         Before Course     82\n",
       "Bobby    After Course      89\n",
       "         Before Course     78\n",
       "Cathrine After Course      87\n",
       "         Before Course     78\n",
       "Jack     After Course      89\n",
       "         Before Course     76\n",
       "Mia      After Course      89\n",
       "         Before Course     66"
      ]
     },
     "execution_count": 22,
     "metadata": {},
     "output_type": "execute_result"
    }
   ],
   "source": [
    "# stack the DataFrame\n",
    "df_stacked_level = df_marks.stack(level = 0)\n",
    "\n",
    "# print the stacked DataFrame\n",
    "df_stacked_level"
   ]
  },
  {
   "cell_type": "markdown",
   "metadata": {
    "id": "yVLoDyjE23gH"
   },
   "source": [
    "Now put `level = 1`."
   ]
  },
  {
   "cell_type": "code",
   "execution_count": null,
   "metadata": {
    "id": "HDz43KsB23gH",
    "outputId": "66242ff5-e897-4ca7-dbed-8e2986c879ff"
   },
   "outputs": [
    {
     "data": {
      "text/html": [
       "<div>\n",
       "<style scoped>\n",
       "    .dataframe tbody tr th:only-of-type {\n",
       "        vertical-align: middle;\n",
       "    }\n",
       "\n",
       "    .dataframe tbody tr th {\n",
       "        vertical-align: top;\n",
       "    }\n",
       "\n",
       "    .dataframe thead th {\n",
       "        text-align: right;\n",
       "    }\n",
       "</style>\n",
       "<table border=\"1\" class=\"dataframe\">\n",
       "  <thead>\n",
       "    <tr style=\"text-align: right;\">\n",
       "      <th></th>\n",
       "      <th></th>\n",
       "      <th>After Course</th>\n",
       "      <th>Before Course</th>\n",
       "    </tr>\n",
       "  </thead>\n",
       "  <tbody>\n",
       "    <tr>\n",
       "      <td>Alisa</td>\n",
       "      <td>Marks</td>\n",
       "      <td>95</td>\n",
       "      <td>82</td>\n",
       "    </tr>\n",
       "    <tr>\n",
       "      <td>Bobby</td>\n",
       "      <td>Marks</td>\n",
       "      <td>89</td>\n",
       "      <td>78</td>\n",
       "    </tr>\n",
       "    <tr>\n",
       "      <td>Cathrine</td>\n",
       "      <td>Marks</td>\n",
       "      <td>87</td>\n",
       "      <td>78</td>\n",
       "    </tr>\n",
       "    <tr>\n",
       "      <td>Jack</td>\n",
       "      <td>Marks</td>\n",
       "      <td>89</td>\n",
       "      <td>76</td>\n",
       "    </tr>\n",
       "    <tr>\n",
       "      <td>Mia</td>\n",
       "      <td>Marks</td>\n",
       "      <td>89</td>\n",
       "      <td>66</td>\n",
       "    </tr>\n",
       "  </tbody>\n",
       "</table>\n",
       "</div>"
      ],
      "text/plain": [
       "                After Course  Before Course\n",
       "Alisa    Marks            95             82\n",
       "Bobby    Marks            89             78\n",
       "Cathrine Marks            87             78\n",
       "Jack     Marks            89             76\n",
       "Mia      Marks            89             66"
      ]
     },
     "execution_count": 23,
     "metadata": {},
     "output_type": "execute_result"
    }
   ],
   "source": [
    "# stack the DataFrame\n",
    "df_stacked_level = df_marks.stack(level = 1)\n",
    "\n",
    "# print the stacked DataFrame\n",
    "df_stacked_level"
   ]
  },
  {
   "cell_type": "markdown",
   "metadata": {
    "id": "aROvFpJF23gI"
   },
   "source": [
    "**Using `.melt()` method:**<br>\n",
    "`.melt()` in pandas reshape dataframe from wide format to long format. It uses the `id_vars[‘col_names’]` to melt the dataframe by column names."
   ]
  },
  {
   "cell_type": "code",
   "execution_count": null,
   "metadata": {
    "id": "GcebPw4923gI",
    "outputId": "d7708c9c-d686-4a47-d863-f523128bc992"
   },
   "outputs": [
    {
     "data": {
      "text/html": [
       "<div>\n",
       "<style scoped>\n",
       "    .dataframe tbody tr th:only-of-type {\n",
       "        vertical-align: middle;\n",
       "    }\n",
       "\n",
       "    .dataframe tbody tr th {\n",
       "        vertical-align: top;\n",
       "    }\n",
       "\n",
       "    .dataframe thead th {\n",
       "        text-align: right;\n",
       "    }\n",
       "</style>\n",
       "<table border=\"1\" class=\"dataframe\">\n",
       "  <thead>\n",
       "    <tr style=\"text-align: right;\">\n",
       "      <th></th>\n",
       "      <th>Emp_ID</th>\n",
       "      <th>Name</th>\n",
       "      <th>Gender</th>\n",
       "      <th>Company</th>\n",
       "      <th>Salary</th>\n",
       "    </tr>\n",
       "  </thead>\n",
       "  <tbody>\n",
       "    <tr>\n",
       "      <td>101</td>\n",
       "      <td>1001</td>\n",
       "      <td>Alex</td>\n",
       "      <td>M</td>\n",
       "      <td>Apple</td>\n",
       "      <td>67000</td>\n",
       "    </tr>\n",
       "    <tr>\n",
       "      <td>102</td>\n",
       "      <td>1002</td>\n",
       "      <td>Amy</td>\n",
       "      <td>F</td>\n",
       "      <td>Walmart</td>\n",
       "      <td>90000</td>\n",
       "    </tr>\n",
       "    <tr>\n",
       "      <td>103</td>\n",
       "      <td>1003</td>\n",
       "      <td>Allen</td>\n",
       "      <td>M</td>\n",
       "      <td>Intel</td>\n",
       "      <td>87000</td>\n",
       "    </tr>\n",
       "    <tr>\n",
       "      <td>104</td>\n",
       "      <td>1004</td>\n",
       "      <td>Alice</td>\n",
       "      <td>F</td>\n",
       "      <td>Cummins</td>\n",
       "      <td>69000</td>\n",
       "    </tr>\n",
       "    <tr>\n",
       "      <td>105</td>\n",
       "      <td>1005</td>\n",
       "      <td>Stephan</td>\n",
       "      <td>M</td>\n",
       "      <td>Ford</td>\n",
       "      <td>78000</td>\n",
       "    </tr>\n",
       "  </tbody>\n",
       "</table>\n",
       "</div>"
      ],
      "text/plain": [
       "     Emp_ID     Name Gender  Company  Salary\n",
       "101    1001     Alex      M    Apple   67000\n",
       "102    1002      Amy      F  Walmart   90000\n",
       "103    1003    Allen      M    Intel   87000\n",
       "104    1004    Alice      F  Cummins   69000\n",
       "105    1005  Stephan      M     Ford   78000"
      ]
     },
     "execution_count": 24,
     "metadata": {},
     "output_type": "execute_result"
    }
   ],
   "source": [
    "# display DataFrame\n",
    "df_prof_info_A"
   ]
  },
  {
   "cell_type": "code",
   "execution_count": 9,
   "metadata": {
    "id": "ogBf6D4J23gI",
    "outputId": "fc9e1b80-4f9f-4637-a04f-e7fc99b6b484"
   },
   "outputs": [
    {
     "name": "stdout",
     "output_type": "stream",
     "text": [
      "   Company variable    value\n",
      "0    Apple   Emp_ID     1001\n",
      "1  Walmart   Emp_ID     1002\n",
      "2    Intel   Emp_ID     1003\n",
      "3  Cummins   Emp_ID     1004\n",
      "4     Ford   Emp_ID     1005\n",
      "5    Apple     Name     Alex\n",
      "6  Walmart     Name      Amy\n",
      "7    Intel     Name    Allen\n",
      "8  Cummins     Name    Alice\n",
      "9     Ford     Name  Stephan\n"
     ]
    }
   ],
   "source": [
    "# reshape the DataFrame using melt()\n",
    "df_melt = df_prof_info_A.melt(id_vars =['Company'])  \n",
    "print(df_melt.head(10)) "
   ]
  },
  {
   "cell_type": "code",
   "execution_count": 10,
   "metadata": {},
   "outputs": [
    {
     "name": "stdout",
     "output_type": "stream",
     "text": [
      "   Company    info Numerical\n",
      "0    Apple  Emp_ID      1001\n",
      "1  Walmart  Emp_ID      1002\n",
      "2    Intel  Emp_ID      1003\n",
      "3  Cummins  Emp_ID      1004\n",
      "4     Ford  Emp_ID      1005\n",
      "5    Apple    Name      Alex\n",
      "6  Walmart    Name       Amy\n",
      "7    Intel    Name     Allen\n",
      "8  Cummins    Name     Alice\n",
      "9     Ford    Name   Stephan\n"
     ]
    }
   ],
   "source": [
    "df_melt = df_prof_info_A.melt(id_vars =['Company'],var_name='info',value_name='Numerical')    # just renaming\n",
    "print(df_melt.head(10)) "
   ]
  },
  {
   "cell_type": "markdown",
   "metadata": {
    "id": "wjZLEdIM23gI"
   },
   "source": [
    "The column ‘variable’ contains all the columns except the identifiers, and ‘value’ contains the values of the corresponding column."
   ]
  },
  {
   "cell_type": "markdown",
   "metadata": {
    "id": "qFzLb_4x23gI"
   },
   "source": [
    "<a id=\"Pivote\"> </a>\n",
    "### 4. Pivot Table\n",
    "\n",
    "\n",
    "The pivot_table() is used to create a new table for the given index. Pivot has three arguments - index, columns, and values."
   ]
  },
  {
   "cell_type": "code",
   "execution_count": null,
   "metadata": {
    "id": "Pojlfl3z23gI",
    "outputId": "7c04048d-1030-494f-a911-fd38f6a57aee"
   },
   "outputs": [
    {
     "data": {
      "text/html": [
       "<div>\n",
       "<style scoped>\n",
       "    .dataframe tbody tr th:only-of-type {\n",
       "        vertical-align: middle;\n",
       "    }\n",
       "\n",
       "    .dataframe tbody tr th {\n",
       "        vertical-align: top;\n",
       "    }\n",
       "\n",
       "    .dataframe thead th {\n",
       "        text-align: right;\n",
       "    }\n",
       "</style>\n",
       "<table border=\"1\" class=\"dataframe\">\n",
       "  <thead>\n",
       "    <tr style=\"text-align: right;\">\n",
       "      <th></th>\n",
       "      <th>Months</th>\n",
       "      <th>Sales</th>\n",
       "      <th>Seasons</th>\n",
       "    </tr>\n",
       "  </thead>\n",
       "  <tbody>\n",
       "    <tr>\n",
       "      <td>0</td>\n",
       "      <td>Jan</td>\n",
       "      <td>22000</td>\n",
       "      <td>Winter</td>\n",
       "    </tr>\n",
       "    <tr>\n",
       "      <td>1</td>\n",
       "      <td>Feb</td>\n",
       "      <td>27000</td>\n",
       "      <td>Winter</td>\n",
       "    </tr>\n",
       "    <tr>\n",
       "      <td>2</td>\n",
       "      <td>Mar</td>\n",
       "      <td>25000</td>\n",
       "      <td>Spring</td>\n",
       "    </tr>\n",
       "    <tr>\n",
       "      <td>3</td>\n",
       "      <td>Apr</td>\n",
       "      <td>29000</td>\n",
       "      <td>Spring</td>\n",
       "    </tr>\n",
       "    <tr>\n",
       "      <td>4</td>\n",
       "      <td>May</td>\n",
       "      <td>35000</td>\n",
       "      <td>Spring</td>\n",
       "    </tr>\n",
       "    <tr>\n",
       "      <td>5</td>\n",
       "      <td>June</td>\n",
       "      <td>67000</td>\n",
       "      <td>Summer</td>\n",
       "    </tr>\n",
       "    <tr>\n",
       "      <td>6</td>\n",
       "      <td>July</td>\n",
       "      <td>78000</td>\n",
       "      <td>Summer</td>\n",
       "    </tr>\n",
       "    <tr>\n",
       "      <td>7</td>\n",
       "      <td>Aug</td>\n",
       "      <td>67000</td>\n",
       "      <td>Summer</td>\n",
       "    </tr>\n",
       "    <tr>\n",
       "      <td>8</td>\n",
       "      <td>Sep</td>\n",
       "      <td>56000</td>\n",
       "      <td>Fall</td>\n",
       "    </tr>\n",
       "    <tr>\n",
       "      <td>9</td>\n",
       "      <td>Oct</td>\n",
       "      <td>56000</td>\n",
       "      <td>Fall</td>\n",
       "    </tr>\n",
       "    <tr>\n",
       "      <td>10</td>\n",
       "      <td>Nov</td>\n",
       "      <td>89000</td>\n",
       "      <td>Fall</td>\n",
       "    </tr>\n",
       "    <tr>\n",
       "      <td>11</td>\n",
       "      <td>Dec</td>\n",
       "      <td>60000</td>\n",
       "      <td>Winter</td>\n",
       "    </tr>\n",
       "  </tbody>\n",
       "</table>\n",
       "</div>"
      ],
      "text/plain": [
       "   Months  Sales Seasons\n",
       "0     Jan  22000  Winter\n",
       "1     Feb  27000  Winter\n",
       "2     Mar  25000  Spring\n",
       "3     Apr  29000  Spring\n",
       "4     May  35000  Spring\n",
       "5    June  67000  Summer\n",
       "6    July  78000  Summer\n",
       "7     Aug  67000  Summer\n",
       "8     Sep  56000    Fall\n",
       "9     Oct  56000    Fall\n",
       "10    Nov  89000    Fall\n",
       "11    Dec  60000  Winter"
      ]
     },
     "execution_count": 26,
     "metadata": {},
     "output_type": "execute_result"
    }
   ],
   "source": [
    "# create a dictionary\n",
    "sales = {'Months': ['Jan','Feb','Mar','Apr','May','June','July','Aug','Sep','Oct','Nov','Dec'],\n",
    "        'Sales': [22000,27000,25000,29000,35000,67000,78000,67000,56000,56000,89000,60000],\n",
    "         'Seasons': ['Winter','Winter','Spring','Spring','Spring','Summer','Summer','Summer','Fall','Fall','Fall','Winter']\n",
    "        }\n",
    "\n",
    "# create a DataFrame\n",
    "df_sales = pd.DataFrame(sales, columns= ['Months', 'Sales','Seasons'])\n",
    "\n",
    "# print the DataFrame\n",
    "df_sales"
   ]
  },
  {
   "cell_type": "markdown",
   "metadata": {
    "id": "p7YEUaXF23gI"
   },
   "source": [
    "The simplest pivot table must have a dataframe and an index . In this case, let us use the 'Months' as our index."
   ]
  },
  {
   "cell_type": "code",
   "execution_count": null,
   "metadata": {
    "id": "3fwqZ9-P23gI",
    "outputId": "eb90b1a5-66df-4488-abf0-459cec9a4884"
   },
   "outputs": [
    {
     "data": {
      "text/html": [
       "<div>\n",
       "<style scoped>\n",
       "    .dataframe tbody tr th:only-of-type {\n",
       "        vertical-align: middle;\n",
       "    }\n",
       "\n",
       "    .dataframe tbody tr th {\n",
       "        vertical-align: top;\n",
       "    }\n",
       "\n",
       "    .dataframe thead th {\n",
       "        text-align: right;\n",
       "    }\n",
       "</style>\n",
       "<table border=\"1\" class=\"dataframe\">\n",
       "  <thead>\n",
       "    <tr style=\"text-align: right;\">\n",
       "      <th></th>\n",
       "      <th>Sales</th>\n",
       "    </tr>\n",
       "    <tr>\n",
       "      <th>Months</th>\n",
       "      <th></th>\n",
       "    </tr>\n",
       "  </thead>\n",
       "  <tbody>\n",
       "    <tr>\n",
       "      <td>Apr</td>\n",
       "      <td>29000</td>\n",
       "    </tr>\n",
       "    <tr>\n",
       "      <td>Aug</td>\n",
       "      <td>67000</td>\n",
       "    </tr>\n",
       "    <tr>\n",
       "      <td>Dec</td>\n",
       "      <td>60000</td>\n",
       "    </tr>\n",
       "    <tr>\n",
       "      <td>Feb</td>\n",
       "      <td>27000</td>\n",
       "    </tr>\n",
       "    <tr>\n",
       "      <td>Jan</td>\n",
       "      <td>22000</td>\n",
       "    </tr>\n",
       "    <tr>\n",
       "      <td>July</td>\n",
       "      <td>78000</td>\n",
       "    </tr>\n",
       "    <tr>\n",
       "      <td>June</td>\n",
       "      <td>67000</td>\n",
       "    </tr>\n",
       "    <tr>\n",
       "      <td>Mar</td>\n",
       "      <td>25000</td>\n",
       "    </tr>\n",
       "    <tr>\n",
       "      <td>May</td>\n",
       "      <td>35000</td>\n",
       "    </tr>\n",
       "    <tr>\n",
       "      <td>Nov</td>\n",
       "      <td>89000</td>\n",
       "    </tr>\n",
       "    <tr>\n",
       "      <td>Oct</td>\n",
       "      <td>56000</td>\n",
       "    </tr>\n",
       "    <tr>\n",
       "      <td>Sep</td>\n",
       "      <td>56000</td>\n",
       "    </tr>\n",
       "  </tbody>\n",
       "</table>\n",
       "</div>"
      ],
      "text/plain": [
       "        Sales\n",
       "Months       \n",
       "Apr     29000\n",
       "Aug     67000\n",
       "Dec     60000\n",
       "Feb     27000\n",
       "Jan     22000\n",
       "July    78000\n",
       "June    67000\n",
       "Mar     25000\n",
       "May     35000\n",
       "Nov     89000\n",
       "Oct     56000\n",
       "Sep     56000"
      ]
     },
     "execution_count": 27,
     "metadata": {},
     "output_type": "execute_result"
    }
   ],
   "source": [
    "# create a pivot table where indexes are months\n",
    "pd.pivot_table(df_sales,index=[\"Months\"])"
   ]
  },
  {
   "cell_type": "markdown",
   "metadata": {
    "id": "zmoFl0CH23gJ"
   },
   "source": [
    "It is possible to create pivot tables over multiple indexes. "
   ]
  },
  {
   "cell_type": "code",
   "execution_count": null,
   "metadata": {
    "id": "lpuPez3323gJ",
    "outputId": "63a3aa81-a6f5-4fdf-f7c0-2507339582f5"
   },
   "outputs": [
    {
     "data": {
      "text/html": [
       "<div>\n",
       "<style scoped>\n",
       "    .dataframe tbody tr th:only-of-type {\n",
       "        vertical-align: middle;\n",
       "    }\n",
       "\n",
       "    .dataframe tbody tr th {\n",
       "        vertical-align: top;\n",
       "    }\n",
       "\n",
       "    .dataframe thead th {\n",
       "        text-align: right;\n",
       "    }\n",
       "</style>\n",
       "<table border=\"1\" class=\"dataframe\">\n",
       "  <thead>\n",
       "    <tr style=\"text-align: right;\">\n",
       "      <th></th>\n",
       "      <th></th>\n",
       "      <th>Sales</th>\n",
       "    </tr>\n",
       "    <tr>\n",
       "      <th>Months</th>\n",
       "      <th>Seasons</th>\n",
       "      <th></th>\n",
       "    </tr>\n",
       "  </thead>\n",
       "  <tbody>\n",
       "    <tr>\n",
       "      <td>Apr</td>\n",
       "      <td>Spring</td>\n",
       "      <td>29000</td>\n",
       "    </tr>\n",
       "    <tr>\n",
       "      <td>Aug</td>\n",
       "      <td>Summer</td>\n",
       "      <td>67000</td>\n",
       "    </tr>\n",
       "    <tr>\n",
       "      <td>Dec</td>\n",
       "      <td>Winter</td>\n",
       "      <td>60000</td>\n",
       "    </tr>\n",
       "    <tr>\n",
       "      <td>Feb</td>\n",
       "      <td>Winter</td>\n",
       "      <td>27000</td>\n",
       "    </tr>\n",
       "    <tr>\n",
       "      <td>Jan</td>\n",
       "      <td>Winter</td>\n",
       "      <td>22000</td>\n",
       "    </tr>\n",
       "    <tr>\n",
       "      <td>July</td>\n",
       "      <td>Summer</td>\n",
       "      <td>78000</td>\n",
       "    </tr>\n",
       "    <tr>\n",
       "      <td>June</td>\n",
       "      <td>Summer</td>\n",
       "      <td>67000</td>\n",
       "    </tr>\n",
       "    <tr>\n",
       "      <td>Mar</td>\n",
       "      <td>Spring</td>\n",
       "      <td>25000</td>\n",
       "    </tr>\n",
       "    <tr>\n",
       "      <td>May</td>\n",
       "      <td>Spring</td>\n",
       "      <td>35000</td>\n",
       "    </tr>\n",
       "    <tr>\n",
       "      <td>Nov</td>\n",
       "      <td>Fall</td>\n",
       "      <td>89000</td>\n",
       "    </tr>\n",
       "    <tr>\n",
       "      <td>Oct</td>\n",
       "      <td>Fall</td>\n",
       "      <td>56000</td>\n",
       "    </tr>\n",
       "    <tr>\n",
       "      <td>Sep</td>\n",
       "      <td>Fall</td>\n",
       "      <td>56000</td>\n",
       "    </tr>\n",
       "  </tbody>\n",
       "</table>\n",
       "</div>"
      ],
      "text/plain": [
       "                Sales\n",
       "Months Seasons       \n",
       "Apr    Spring   29000\n",
       "Aug    Summer   67000\n",
       "Dec    Winter   60000\n",
       "Feb    Winter   27000\n",
       "Jan    Winter   22000\n",
       "July   Summer   78000\n",
       "June   Summer   67000\n",
       "Mar    Spring   25000\n",
       "May    Spring   35000\n",
       "Nov    Fall     89000\n",
       "Oct    Fall     56000\n",
       "Sep    Fall     56000"
      ]
     },
     "execution_count": 28,
     "metadata": {},
     "output_type": "execute_result"
    }
   ],
   "source": [
    "# to create pivot table having multiple indexes\n",
    "# index is a list of column names to be considered as indexes\n",
    "pd.pivot_table(df_sales,index=[\"Months\", \"Seasons\"])"
   ]
  },
  {
   "cell_type": "markdown",
   "metadata": {
    "id": "0YmX1k8B23gJ"
   },
   "source": [
    "To create a pivot table for with the index as 'Seasons'. Also, set the values to be 'Sales'."
   ]
  },
  {
   "cell_type": "code",
   "execution_count": null,
   "metadata": {
    "id": "GpLTE5AQ23gJ",
    "outputId": "ea4eec3f-e01d-473a-98e2-d265283105dd"
   },
   "outputs": [
    {
     "data": {
      "text/html": [
       "<div>\n",
       "<style scoped>\n",
       "    .dataframe tbody tr th:only-of-type {\n",
       "        vertical-align: middle;\n",
       "    }\n",
       "\n",
       "    .dataframe tbody tr th {\n",
       "        vertical-align: top;\n",
       "    }\n",
       "\n",
       "    .dataframe thead th {\n",
       "        text-align: right;\n",
       "    }\n",
       "</style>\n",
       "<table border=\"1\" class=\"dataframe\">\n",
       "  <thead>\n",
       "    <tr style=\"text-align: right;\">\n",
       "      <th></th>\n",
       "      <th>Sales</th>\n",
       "    </tr>\n",
       "    <tr>\n",
       "      <th>Seasons</th>\n",
       "      <th></th>\n",
       "    </tr>\n",
       "  </thead>\n",
       "  <tbody>\n",
       "    <tr>\n",
       "      <td>Fall</td>\n",
       "      <td>67000.000000</td>\n",
       "    </tr>\n",
       "    <tr>\n",
       "      <td>Spring</td>\n",
       "      <td>29666.666667</td>\n",
       "    </tr>\n",
       "    <tr>\n",
       "      <td>Summer</td>\n",
       "      <td>70666.666667</td>\n",
       "    </tr>\n",
       "    <tr>\n",
       "      <td>Winter</td>\n",
       "      <td>36333.333333</td>\n",
       "    </tr>\n",
       "  </tbody>\n",
       "</table>\n",
       "</div>"
      ],
      "text/plain": [
       "                Sales\n",
       "Seasons              \n",
       "Fall     67000.000000\n",
       "Spring   29666.666667\n",
       "Summer   70666.666667\n",
       "Winter   36333.333333"
      ]
     },
     "execution_count": 29,
     "metadata": {},
     "output_type": "execute_result"
    }
   ],
   "source": [
    "# create a pivot table for with the index as 'Seasons' and values as 'Sales'\n",
    "# index is a list of column names to be considered as indexes\n",
    "# values represent the numeric data\n",
    "pd.pivot_table(df_sales,index=[\"Seasons\"],values=[\"Sales\"])"
   ]
  },
  {
   "cell_type": "markdown",
   "metadata": {
    "id": "ShUgtHHE23gJ"
   },
   "source": [
    "The output gives the average sale in each season. The argument `aggfunc` by default will find the average of all values for an index. For example, for the index `Fall`, the average of all the observation having index 'Fall' is given\n",
    "\n",
    "However, if one is not interested in the average, it is also possible to find the count or the sum of the observations."
   ]
  },
  {
   "cell_type": "markdown",
   "metadata": {
    "id": "3FNLAn2u23gJ"
   },
   "source": [
    "Let us find the sum of sales in each season."
   ]
  },
  {
   "cell_type": "code",
   "execution_count": null,
   "metadata": {
    "id": "xkUihnh_23gJ",
    "outputId": "d8d1558d-c339-4641-884e-16448f2794bb"
   },
   "outputs": [
    {
     "data": {
      "text/html": [
       "<div>\n",
       "<style scoped>\n",
       "    .dataframe tbody tr th:only-of-type {\n",
       "        vertical-align: middle;\n",
       "    }\n",
       "\n",
       "    .dataframe tbody tr th {\n",
       "        vertical-align: top;\n",
       "    }\n",
       "\n",
       "    .dataframe thead th {\n",
       "        text-align: right;\n",
       "    }\n",
       "</style>\n",
       "<table border=\"1\" class=\"dataframe\">\n",
       "  <thead>\n",
       "    <tr style=\"text-align: right;\">\n",
       "      <th></th>\n",
       "      <th>Sales</th>\n",
       "    </tr>\n",
       "    <tr>\n",
       "      <th>Seasons</th>\n",
       "      <th></th>\n",
       "    </tr>\n",
       "  </thead>\n",
       "  <tbody>\n",
       "    <tr>\n",
       "      <td>Fall</td>\n",
       "      <td>201000</td>\n",
       "    </tr>\n",
       "    <tr>\n",
       "      <td>Spring</td>\n",
       "      <td>89000</td>\n",
       "    </tr>\n",
       "    <tr>\n",
       "      <td>Summer</td>\n",
       "      <td>212000</td>\n",
       "    </tr>\n",
       "    <tr>\n",
       "      <td>Winter</td>\n",
       "      <td>109000</td>\n",
       "    </tr>\n",
       "  </tbody>\n",
       "</table>\n",
       "</div>"
      ],
      "text/plain": [
       "          Sales\n",
       "Seasons        \n",
       "Fall     201000\n",
       "Spring    89000\n",
       "Summer   212000\n",
       "Winter   109000"
      ]
     },
     "execution_count": 30,
     "metadata": {},
     "output_type": "execute_result"
    }
   ],
   "source": [
    "# to create a pivot table for with the index as 'Seasons' and values as 'Sales'\n",
    "# index is a list of column names to be considered as indexes\n",
    "# values represent the numeric data\n",
    "# aggfunc specifies the function \n",
    "pd.pivot_table(df_sales,index=[\"Seasons\"],values=[\"Sales\"], aggfunc=np.sum)"
   ]
  },
  {
   "cell_type": "markdown",
   "metadata": {
    "id": "_CBZG7e823gJ"
   },
   "source": [
    "The `aggfunc` can take a list of functions. "
   ]
  },
  {
   "cell_type": "code",
   "execution_count": null,
   "metadata": {
    "id": "7vYuET8l23gJ",
    "outputId": "0c53179e-4479-488f-962d-01bc7e8ef871"
   },
   "outputs": [
    {
     "data": {
      "text/html": [
       "<div>\n",
       "<style scoped>\n",
       "    .dataframe tbody tr th:only-of-type {\n",
       "        vertical-align: middle;\n",
       "    }\n",
       "\n",
       "    .dataframe tbody tr th {\n",
       "        vertical-align: top;\n",
       "    }\n",
       "\n",
       "    .dataframe thead tr th {\n",
       "        text-align: left;\n",
       "    }\n",
       "\n",
       "    .dataframe thead tr:last-of-type th {\n",
       "        text-align: right;\n",
       "    }\n",
       "</style>\n",
       "<table border=\"1\" class=\"dataframe\">\n",
       "  <thead>\n",
       "    <tr>\n",
       "      <th></th>\n",
       "      <th>mean</th>\n",
       "      <th>len</th>\n",
       "    </tr>\n",
       "    <tr>\n",
       "      <th></th>\n",
       "      <th>Sales</th>\n",
       "      <th>Sales</th>\n",
       "    </tr>\n",
       "    <tr>\n",
       "      <th>Seasons</th>\n",
       "      <th></th>\n",
       "      <th></th>\n",
       "    </tr>\n",
       "  </thead>\n",
       "  <tbody>\n",
       "    <tr>\n",
       "      <td>Fall</td>\n",
       "      <td>67000.000000</td>\n",
       "      <td>3</td>\n",
       "    </tr>\n",
       "    <tr>\n",
       "      <td>Spring</td>\n",
       "      <td>29666.666667</td>\n",
       "      <td>3</td>\n",
       "    </tr>\n",
       "    <tr>\n",
       "      <td>Summer</td>\n",
       "      <td>70666.666667</td>\n",
       "      <td>3</td>\n",
       "    </tr>\n",
       "    <tr>\n",
       "      <td>Winter</td>\n",
       "      <td>36333.333333</td>\n",
       "      <td>3</td>\n",
       "    </tr>\n",
       "  </tbody>\n",
       "</table>\n",
       "</div>"
      ],
      "text/plain": [
       "                 mean   len\n",
       "                Sales Sales\n",
       "Seasons                    \n",
       "Fall     67000.000000     3\n",
       "Spring   29666.666667     3\n",
       "Summer   70666.666667     3\n",
       "Winter   36333.333333     3"
      ]
     },
     "execution_count": 31,
     "metadata": {},
     "output_type": "execute_result"
    }
   ],
   "source": [
    "# to create a pivot table for with the index as 'Seasons' and values as 'Sales'\n",
    "# index is a list of column names to be considered as indexes\n",
    "# values represent the numeric data\n",
    "# aggfunc specifies the function \n",
    "# find the average and count of observations for each season\n",
    "pd.pivot_table(df_sales,index=[\"Seasons\"],values=[\"Sales\"], aggfunc=[np.mean,len])"
   ]
  },
  {
   "cell_type": "markdown",
   "metadata": {
    "id": "rOXDcLod23gK"
   },
   "source": [
    "The output gives the function used above the column name. We see that the mean and count of observations are given."
   ]
  },
  {
   "cell_type": "markdown",
   "metadata": {
    "id": "vZtMwmqt23gK"
   },
   "source": [
    "It is possible to create two-dimensional pivot_tables."
   ]
  },
  {
   "cell_type": "code",
   "execution_count": null,
   "metadata": {
    "id": "pain3OpR23gK",
    "outputId": "2a4a078f-de9b-419c-c191-159f5c47b65c"
   },
   "outputs": [
    {
     "data": {
      "text/html": [
       "<div>\n",
       "<style scoped>\n",
       "    .dataframe tbody tr th:only-of-type {\n",
       "        vertical-align: middle;\n",
       "    }\n",
       "\n",
       "    .dataframe tbody tr th {\n",
       "        vertical-align: top;\n",
       "    }\n",
       "\n",
       "    .dataframe thead tr th {\n",
       "        text-align: left;\n",
       "    }\n",
       "\n",
       "    .dataframe thead tr:last-of-type th {\n",
       "        text-align: right;\n",
       "    }\n",
       "</style>\n",
       "<table border=\"1\" class=\"dataframe\">\n",
       "  <thead>\n",
       "    <tr>\n",
       "      <th></th>\n",
       "      <th colspan=\"4\" halign=\"left\">sum</th>\n",
       "    </tr>\n",
       "    <tr>\n",
       "      <th></th>\n",
       "      <th colspan=\"4\" halign=\"left\">Sales</th>\n",
       "    </tr>\n",
       "    <tr>\n",
       "      <th>Seasons</th>\n",
       "      <th>Fall</th>\n",
       "      <th>Spring</th>\n",
       "      <th>Summer</th>\n",
       "      <th>Winter</th>\n",
       "    </tr>\n",
       "    <tr>\n",
       "      <th>Months</th>\n",
       "      <th></th>\n",
       "      <th></th>\n",
       "      <th></th>\n",
       "      <th></th>\n",
       "    </tr>\n",
       "  </thead>\n",
       "  <tbody>\n",
       "    <tr>\n",
       "      <td>Apr</td>\n",
       "      <td>NaN</td>\n",
       "      <td>29000.0</td>\n",
       "      <td>NaN</td>\n",
       "      <td>NaN</td>\n",
       "    </tr>\n",
       "    <tr>\n",
       "      <td>Aug</td>\n",
       "      <td>NaN</td>\n",
       "      <td>NaN</td>\n",
       "      <td>67000.0</td>\n",
       "      <td>NaN</td>\n",
       "    </tr>\n",
       "    <tr>\n",
       "      <td>Dec</td>\n",
       "      <td>NaN</td>\n",
       "      <td>NaN</td>\n",
       "      <td>NaN</td>\n",
       "      <td>60000.0</td>\n",
       "    </tr>\n",
       "    <tr>\n",
       "      <td>Feb</td>\n",
       "      <td>NaN</td>\n",
       "      <td>NaN</td>\n",
       "      <td>NaN</td>\n",
       "      <td>27000.0</td>\n",
       "    </tr>\n",
       "    <tr>\n",
       "      <td>Jan</td>\n",
       "      <td>NaN</td>\n",
       "      <td>NaN</td>\n",
       "      <td>NaN</td>\n",
       "      <td>22000.0</td>\n",
       "    </tr>\n",
       "    <tr>\n",
       "      <td>July</td>\n",
       "      <td>NaN</td>\n",
       "      <td>NaN</td>\n",
       "      <td>78000.0</td>\n",
       "      <td>NaN</td>\n",
       "    </tr>\n",
       "    <tr>\n",
       "      <td>June</td>\n",
       "      <td>NaN</td>\n",
       "      <td>NaN</td>\n",
       "      <td>67000.0</td>\n",
       "      <td>NaN</td>\n",
       "    </tr>\n",
       "    <tr>\n",
       "      <td>Mar</td>\n",
       "      <td>NaN</td>\n",
       "      <td>25000.0</td>\n",
       "      <td>NaN</td>\n",
       "      <td>NaN</td>\n",
       "    </tr>\n",
       "    <tr>\n",
       "      <td>May</td>\n",
       "      <td>NaN</td>\n",
       "      <td>35000.0</td>\n",
       "      <td>NaN</td>\n",
       "      <td>NaN</td>\n",
       "    </tr>\n",
       "    <tr>\n",
       "      <td>Nov</td>\n",
       "      <td>89000.0</td>\n",
       "      <td>NaN</td>\n",
       "      <td>NaN</td>\n",
       "      <td>NaN</td>\n",
       "    </tr>\n",
       "    <tr>\n",
       "      <td>Oct</td>\n",
       "      <td>56000.0</td>\n",
       "      <td>NaN</td>\n",
       "      <td>NaN</td>\n",
       "      <td>NaN</td>\n",
       "    </tr>\n",
       "    <tr>\n",
       "      <td>Sep</td>\n",
       "      <td>56000.0</td>\n",
       "      <td>NaN</td>\n",
       "      <td>NaN</td>\n",
       "      <td>NaN</td>\n",
       "    </tr>\n",
       "  </tbody>\n",
       "</table>\n",
       "</div>"
      ],
      "text/plain": [
       "             sum                           \n",
       "           Sales                           \n",
       "Seasons     Fall   Spring   Summer   Winter\n",
       "Months                                     \n",
       "Apr          NaN  29000.0      NaN      NaN\n",
       "Aug          NaN      NaN  67000.0      NaN\n",
       "Dec          NaN      NaN      NaN  60000.0\n",
       "Feb          NaN      NaN      NaN  27000.0\n",
       "Jan          NaN      NaN      NaN  22000.0\n",
       "July         NaN      NaN  78000.0      NaN\n",
       "June         NaN      NaN  67000.0      NaN\n",
       "Mar          NaN  25000.0      NaN      NaN\n",
       "May          NaN  35000.0      NaN      NaN\n",
       "Nov      89000.0      NaN      NaN      NaN\n",
       "Oct      56000.0      NaN      NaN      NaN\n",
       "Sep      56000.0      NaN      NaN      NaN"
      ]
     },
     "execution_count": 32,
     "metadata": {},
     "output_type": "execute_result"
    }
   ],
   "source": [
    "# create a pivot table for with the index as 'Months', values as 'Sales' and columns as 'Seasons'\n",
    "# index is a list of column names to be considered as indexes\n",
    "# values represent the numeric data\n",
    "# columns is categorical variable(s) whose categories form the columns of the pivot table\n",
    "# aggfunc specifies the function \n",
    "# find the sum observations for each season and month\n",
    "pd.pivot_table(df_sales, index = [\"Months\"], values = [\"Sales\"], columns = [\"Seasons\"], aggfunc = [np.sum])"
   ]
  },
  {
   "cell_type": "markdown",
   "metadata": {
    "id": "4k9388-L23gK"
   },
   "source": [
    "The above table is a bit gaudy to look. Let us replace the NaN's with 0's."
   ]
  },
  {
   "cell_type": "code",
   "execution_count": null,
   "metadata": {
    "id": "C4hZWgEr23gK",
    "outputId": "105fb678-be37-492e-8ad5-bc53ff333e23"
   },
   "outputs": [
    {
     "data": {
      "text/html": [
       "<div>\n",
       "<style scoped>\n",
       "    .dataframe tbody tr th:only-of-type {\n",
       "        vertical-align: middle;\n",
       "    }\n",
       "\n",
       "    .dataframe tbody tr th {\n",
       "        vertical-align: top;\n",
       "    }\n",
       "\n",
       "    .dataframe thead tr th {\n",
       "        text-align: left;\n",
       "    }\n",
       "\n",
       "    .dataframe thead tr:last-of-type th {\n",
       "        text-align: right;\n",
       "    }\n",
       "</style>\n",
       "<table border=\"1\" class=\"dataframe\">\n",
       "  <thead>\n",
       "    <tr>\n",
       "      <th></th>\n",
       "      <th colspan=\"4\" halign=\"left\">sum</th>\n",
       "    </tr>\n",
       "    <tr>\n",
       "      <th></th>\n",
       "      <th colspan=\"4\" halign=\"left\">Sales</th>\n",
       "    </tr>\n",
       "    <tr>\n",
       "      <th>Seasons</th>\n",
       "      <th>Fall</th>\n",
       "      <th>Spring</th>\n",
       "      <th>Summer</th>\n",
       "      <th>Winter</th>\n",
       "    </tr>\n",
       "    <tr>\n",
       "      <th>Months</th>\n",
       "      <th></th>\n",
       "      <th></th>\n",
       "      <th></th>\n",
       "      <th></th>\n",
       "    </tr>\n",
       "  </thead>\n",
       "  <tbody>\n",
       "    <tr>\n",
       "      <td>Apr</td>\n",
       "      <td>0</td>\n",
       "      <td>29000</td>\n",
       "      <td>0</td>\n",
       "      <td>0</td>\n",
       "    </tr>\n",
       "    <tr>\n",
       "      <td>Aug</td>\n",
       "      <td>0</td>\n",
       "      <td>0</td>\n",
       "      <td>67000</td>\n",
       "      <td>0</td>\n",
       "    </tr>\n",
       "    <tr>\n",
       "      <td>Dec</td>\n",
       "      <td>0</td>\n",
       "      <td>0</td>\n",
       "      <td>0</td>\n",
       "      <td>60000</td>\n",
       "    </tr>\n",
       "    <tr>\n",
       "      <td>Feb</td>\n",
       "      <td>0</td>\n",
       "      <td>0</td>\n",
       "      <td>0</td>\n",
       "      <td>27000</td>\n",
       "    </tr>\n",
       "    <tr>\n",
       "      <td>Jan</td>\n",
       "      <td>0</td>\n",
       "      <td>0</td>\n",
       "      <td>0</td>\n",
       "      <td>22000</td>\n",
       "    </tr>\n",
       "    <tr>\n",
       "      <td>July</td>\n",
       "      <td>0</td>\n",
       "      <td>0</td>\n",
       "      <td>78000</td>\n",
       "      <td>0</td>\n",
       "    </tr>\n",
       "    <tr>\n",
       "      <td>June</td>\n",
       "      <td>0</td>\n",
       "      <td>0</td>\n",
       "      <td>67000</td>\n",
       "      <td>0</td>\n",
       "    </tr>\n",
       "    <tr>\n",
       "      <td>Mar</td>\n",
       "      <td>0</td>\n",
       "      <td>25000</td>\n",
       "      <td>0</td>\n",
       "      <td>0</td>\n",
       "    </tr>\n",
       "    <tr>\n",
       "      <td>May</td>\n",
       "      <td>0</td>\n",
       "      <td>35000</td>\n",
       "      <td>0</td>\n",
       "      <td>0</td>\n",
       "    </tr>\n",
       "    <tr>\n",
       "      <td>Nov</td>\n",
       "      <td>89000</td>\n",
       "      <td>0</td>\n",
       "      <td>0</td>\n",
       "      <td>0</td>\n",
       "    </tr>\n",
       "    <tr>\n",
       "      <td>Oct</td>\n",
       "      <td>56000</td>\n",
       "      <td>0</td>\n",
       "      <td>0</td>\n",
       "      <td>0</td>\n",
       "    </tr>\n",
       "    <tr>\n",
       "      <td>Sep</td>\n",
       "      <td>56000</td>\n",
       "      <td>0</td>\n",
       "      <td>0</td>\n",
       "      <td>0</td>\n",
       "    </tr>\n",
       "  </tbody>\n",
       "</table>\n",
       "</div>"
      ],
      "text/plain": [
       "           sum                     \n",
       "         Sales                     \n",
       "Seasons   Fall Spring Summer Winter\n",
       "Months                             \n",
       "Apr          0  29000      0      0\n",
       "Aug          0      0  67000      0\n",
       "Dec          0      0      0  60000\n",
       "Feb          0      0      0  27000\n",
       "Jan          0      0      0  22000\n",
       "July         0      0  78000      0\n",
       "June         0      0  67000      0\n",
       "Mar          0  25000      0      0\n",
       "May          0  35000      0      0\n",
       "Nov      89000      0      0      0\n",
       "Oct      56000      0      0      0\n",
       "Sep      56000      0      0      0"
      ]
     },
     "execution_count": 33,
     "metadata": {},
     "output_type": "execute_result"
    }
   ],
   "source": [
    "# create a pivot table for with the index as 'Months', values as 'Sales' and columns as 'Seasons'\n",
    "# index is a list of column names to be considered as indexes\n",
    "# values represent the numeric data\n",
    "# columns is categorical variable(s) whose categories form the columns of the pivot table\n",
    "# aggfunc specifies the function \n",
    "# find the sum observations for each season and month\n",
    "# use fill_value to replace all NaN's as 0's\n",
    "pd.pivot_table(df_sales, index = [\"Months\"], values = [\"Sales\"], columns = [\"Seasons\"],\n",
    "               aggfunc = [np.sum], fill_value = 0)"
   ]
  },
  {
   "cell_type": "markdown",
   "metadata": {
    "id": "KH7eqSgm23gK"
   },
   "source": [
    "The indexes of the pivot table are the months and the columns are the seasons. "
   ]
  },
  {
   "cell_type": "markdown",
   "metadata": {
    "id": "DaiGpb6R23gK"
   },
   "source": [
    "<a id=\"crosst\"> </a>\n",
    "### 5. Cross Table"
   ]
  },
  {
   "cell_type": "markdown",
   "metadata": {
    "id": "OjWWrILs23gK"
   },
   "source": [
    "Crosstables are similar to pivot tables. They represent the frequency of occurrence of certain groups in the data.\n",
    "\n",
    "Let us first the read the peoples data."
   ]
  },
  {
   "cell_type": "code",
   "execution_count": 4,
   "metadata": {
    "id": "d6eCv62i23gK",
    "outputId": "5c497461-5977-4d20-b6d2-a68cfb55ce86"
   },
   "outputs": [
    {
     "data": {
      "text/html": [
       "<div>\n",
       "<style scoped>\n",
       "    .dataframe tbody tr th:only-of-type {\n",
       "        vertical-align: middle;\n",
       "    }\n",
       "\n",
       "    .dataframe tbody tr th {\n",
       "        vertical-align: top;\n",
       "    }\n",
       "\n",
       "    .dataframe thead th {\n",
       "        text-align: right;\n",
       "    }\n",
       "</style>\n",
       "<table border=\"1\" class=\"dataframe\">\n",
       "  <thead>\n",
       "    <tr style=\"text-align: right;\">\n",
       "      <th></th>\n",
       "      <th>Age</th>\n",
       "      <th>Gender</th>\n",
       "      <th>Hometown</th>\n",
       "      <th>Height</th>\n",
       "      <th>Qualification</th>\n",
       "      <th>Smoker</th>\n",
       "    </tr>\n",
       "  </thead>\n",
       "  <tbody>\n",
       "    <tr>\n",
       "      <th>0</th>\n",
       "      <td>45</td>\n",
       "      <td>Male</td>\n",
       "      <td>Mumbai</td>\n",
       "      <td>167</td>\n",
       "      <td>Graduate</td>\n",
       "      <td>Yes</td>\n",
       "    </tr>\n",
       "    <tr>\n",
       "      <th>1</th>\n",
       "      <td>23</td>\n",
       "      <td>Female</td>\n",
       "      <td>Mumbai</td>\n",
       "      <td>170</td>\n",
       "      <td>Graduate</td>\n",
       "      <td>No</td>\n",
       "    </tr>\n",
       "    <tr>\n",
       "      <th>2</th>\n",
       "      <td>27</td>\n",
       "      <td>Male</td>\n",
       "      <td>Mumbai</td>\n",
       "      <td>175</td>\n",
       "      <td>Post-graduate</td>\n",
       "      <td>No</td>\n",
       "    </tr>\n",
       "    <tr>\n",
       "      <th>3</th>\n",
       "      <td>34</td>\n",
       "      <td>Male</td>\n",
       "      <td>Delhi</td>\n",
       "      <td>155</td>\n",
       "      <td>Graduate</td>\n",
       "      <td>No</td>\n",
       "    </tr>\n",
       "    <tr>\n",
       "      <th>4</th>\n",
       "      <td>43</td>\n",
       "      <td>Female</td>\n",
       "      <td>Mumbai</td>\n",
       "      <td>157</td>\n",
       "      <td>Post-graduate</td>\n",
       "      <td>Yes</td>\n",
       "    </tr>\n",
       "  </tbody>\n",
       "</table>\n",
       "</div>"
      ],
      "text/plain": [
       "   Age  Gender Hometown  Height  Qualification Smoker\n",
       "0   45    Male   Mumbai     167       Graduate    Yes\n",
       "1   23  Female   Mumbai     170       Graduate     No\n",
       "2   27    Male   Mumbai     175  Post-graduate     No\n",
       "3   34    Male    Delhi     155       Graduate     No\n",
       "4   43  Female   Mumbai     157  Post-graduate    Yes"
      ]
     },
     "execution_count": 4,
     "metadata": {},
     "output_type": "execute_result"
    }
   ],
   "source": [
    "# read the csv file \n",
    "df_people = pd.read_csv('people.csv')\n",
    "\n",
    "# print head of the data\n",
    "df_people.head()"
   ]
  },
  {
   "cell_type": "code",
   "execution_count": null,
   "metadata": {
    "id": "Ewt2atXh23gK",
    "outputId": "046cdc6d-a22f-47af-bdc0-4a05dec23219"
   },
   "outputs": [
    {
     "data": {
      "text/html": [
       "<div>\n",
       "<style scoped>\n",
       "    .dataframe tbody tr th:only-of-type {\n",
       "        vertical-align: middle;\n",
       "    }\n",
       "\n",
       "    .dataframe tbody tr th {\n",
       "        vertical-align: top;\n",
       "    }\n",
       "\n",
       "    .dataframe thead th {\n",
       "        text-align: right;\n",
       "    }\n",
       "</style>\n",
       "<table border=\"1\" class=\"dataframe\">\n",
       "  <thead>\n",
       "    <tr style=\"text-align: right;\">\n",
       "      <th>Hometown</th>\n",
       "      <th>Bangalore</th>\n",
       "      <th>Delhi</th>\n",
       "      <th>Mumbai</th>\n",
       "    </tr>\n",
       "    <tr>\n",
       "      <th>Qualification</th>\n",
       "      <th></th>\n",
       "      <th></th>\n",
       "      <th></th>\n",
       "    </tr>\n",
       "  </thead>\n",
       "  <tbody>\n",
       "    <tr>\n",
       "      <td>Diploma</td>\n",
       "      <td>2</td>\n",
       "      <td>3</td>\n",
       "      <td>1</td>\n",
       "    </tr>\n",
       "    <tr>\n",
       "      <td>Graduate</td>\n",
       "      <td>1</td>\n",
       "      <td>2</td>\n",
       "      <td>5</td>\n",
       "    </tr>\n",
       "    <tr>\n",
       "      <td>Post-graduate</td>\n",
       "      <td>3</td>\n",
       "      <td>1</td>\n",
       "      <td>3</td>\n",
       "    </tr>\n",
       "  </tbody>\n",
       "</table>\n",
       "</div>"
      ],
      "text/plain": [
       "Hometown       Bangalore  Delhi  Mumbai\n",
       "Qualification                          \n",
       "Diploma                2      3       1\n",
       "Graduate               1      2       5\n",
       "Post-graduate          3      1       3"
      ]
     },
     "execution_count": 35,
     "metadata": {},
     "output_type": "execute_result"
    }
   ],
   "source": [
    "# find the count of of qualifications people have from each city\n",
    "pd.crosstab(df_people.Qualification, df_people.Hometown)"
   ]
  },
  {
   "cell_type": "markdown",
   "metadata": {
    "id": "Wh3AdeTP23gL"
   },
   "source": [
    "We see there are more post-graduates from Mumbai and Banglore than in Delhi.\n",
    "\n",
    "It is possible to rename the column and row names. We use the parameters `rownames` and `columnames` for rows and columns, respectively."
   ]
  },
  {
   "cell_type": "code",
   "execution_count": null,
   "metadata": {
    "id": "KGUfx1S223gL",
    "outputId": "094edd57-e65c-43bc-cdab-138d6d87cfb8"
   },
   "outputs": [
    {
     "data": {
      "text/html": [
       "<div>\n",
       "<style scoped>\n",
       "    .dataframe tbody tr th:only-of-type {\n",
       "        vertical-align: middle;\n",
       "    }\n",
       "\n",
       "    .dataframe tbody tr th {\n",
       "        vertical-align: top;\n",
       "    }\n",
       "\n",
       "    .dataframe thead th {\n",
       "        text-align: right;\n",
       "    }\n",
       "</style>\n",
       "<table border=\"1\" class=\"dataframe\">\n",
       "  <thead>\n",
       "    <tr style=\"text-align: right;\">\n",
       "      <th>City</th>\n",
       "      <th>Bangalore</th>\n",
       "      <th>Delhi</th>\n",
       "      <th>Mumbai</th>\n",
       "    </tr>\n",
       "    <tr>\n",
       "      <th>Highest Qualification</th>\n",
       "      <th></th>\n",
       "      <th></th>\n",
       "      <th></th>\n",
       "    </tr>\n",
       "  </thead>\n",
       "  <tbody>\n",
       "    <tr>\n",
       "      <td>Diploma</td>\n",
       "      <td>2</td>\n",
       "      <td>3</td>\n",
       "      <td>1</td>\n",
       "    </tr>\n",
       "    <tr>\n",
       "      <td>Graduate</td>\n",
       "      <td>1</td>\n",
       "      <td>2</td>\n",
       "      <td>5</td>\n",
       "    </tr>\n",
       "    <tr>\n",
       "      <td>Post-graduate</td>\n",
       "      <td>3</td>\n",
       "      <td>1</td>\n",
       "      <td>3</td>\n",
       "    </tr>\n",
       "  </tbody>\n",
       "</table>\n",
       "</div>"
      ],
      "text/plain": [
       "City                   Bangalore  Delhi  Mumbai\n",
       "Highest Qualification                          \n",
       "Diploma                        2      3       1\n",
       "Graduate                       1      2       5\n",
       "Post-graduate                  3      1       3"
      ]
     },
     "execution_count": 36,
     "metadata": {},
     "output_type": "execute_result"
    }
   ],
   "source": [
    "# find the count of qualifications people have from each city\n",
    "# rownames are the categories of a variable which form the indexes\n",
    "# columnames are the categories of a variable which form the indexes\n",
    "pd.crosstab(df_people.Qualification, df_people.Hometown, rownames = ['Highest Qualification'], colnames=['City'])"
   ]
  },
  {
   "cell_type": "markdown",
   "metadata": {
    "id": "yo0vmOe_23gL"
   },
   "source": [
    "Lets us now see the average age of smokers based on their city of residence"
   ]
  },
  {
   "cell_type": "code",
   "execution_count": 5,
   "metadata": {
    "id": "qQtbXpUs23gL",
    "outputId": "199b702a-0137-40e3-8cfd-feea5c40f2a1"
   },
   "outputs": [
    {
     "data": {
      "text/html": [
       "<div>\n",
       "<style scoped>\n",
       "    .dataframe tbody tr th:only-of-type {\n",
       "        vertical-align: middle;\n",
       "    }\n",
       "\n",
       "    .dataframe tbody tr th {\n",
       "        vertical-align: top;\n",
       "    }\n",
       "\n",
       "    .dataframe thead th {\n",
       "        text-align: right;\n",
       "    }\n",
       "</style>\n",
       "<table border=\"1\" class=\"dataframe\">\n",
       "  <thead>\n",
       "    <tr style=\"text-align: right;\">\n",
       "      <th>Smoker</th>\n",
       "      <th>No</th>\n",
       "      <th>Yes</th>\n",
       "    </tr>\n",
       "    <tr>\n",
       "      <th>Hometown</th>\n",
       "      <th></th>\n",
       "      <th></th>\n",
       "    </tr>\n",
       "  </thead>\n",
       "  <tbody>\n",
       "    <tr>\n",
       "      <th>Bangalore</th>\n",
       "      <td>32.333333</td>\n",
       "      <td>52.0</td>\n",
       "    </tr>\n",
       "    <tr>\n",
       "      <th>Delhi</th>\n",
       "      <td>34.000000</td>\n",
       "      <td>50.0</td>\n",
       "    </tr>\n",
       "    <tr>\n",
       "      <th>Mumbai</th>\n",
       "      <td>39.333333</td>\n",
       "      <td>44.0</td>\n",
       "    </tr>\n",
       "  </tbody>\n",
       "</table>\n",
       "</div>"
      ],
      "text/plain": [
       "Smoker            No   Yes\n",
       "Hometown                  \n",
       "Bangalore  32.333333  52.0\n",
       "Delhi      34.000000  50.0\n",
       "Mumbai     39.333333  44.0"
      ]
     },
     "execution_count": 5,
     "metadata": {},
     "output_type": "execute_result"
    }
   ],
   "source": [
    "# find the average age of smokers based on their city of residence\n",
    "# values represent the numeric data\n",
    "# aggfunc specifies the function\n",
    "pd.crosstab(df_people.Hometown, df_people.Smoker, values = df_people.Age, aggfunc = np.mean)"
   ]
  },
  {
   "cell_type": "markdown",
   "metadata": {
    "id": "eM-YPaAp23gL"
   },
   "source": [
    "The output gives the average age of each of smoker and non-smoker in each city."
   ]
  },
  {
   "cell_type": "markdown",
   "metadata": {
    "id": "SwwE0HF523gL"
   },
   "source": [
    "<a id=\"Duplicate\"> </a>\n",
    "### 6. Duplicate"
   ]
  },
  {
   "cell_type": "code",
   "execution_count": null,
   "metadata": {
    "id": "gpq5pxyD23gL",
    "outputId": "08d841d2-4160-42c2-dd28-dd1e0567f575"
   },
   "outputs": [
    {
     "data": {
      "text/html": [
       "<div>\n",
       "<style scoped>\n",
       "    .dataframe tbody tr th:only-of-type {\n",
       "        vertical-align: middle;\n",
       "    }\n",
       "\n",
       "    .dataframe tbody tr th {\n",
       "        vertical-align: top;\n",
       "    }\n",
       "\n",
       "    .dataframe thead th {\n",
       "        text-align: right;\n",
       "    }\n",
       "</style>\n",
       "<table border=\"1\" class=\"dataframe\">\n",
       "  <thead>\n",
       "    <tr style=\"text-align: right;\">\n",
       "      <th></th>\n",
       "      <th>Name</th>\n",
       "      <th>Company</th>\n",
       "      <th>Salary</th>\n",
       "    </tr>\n",
       "  </thead>\n",
       "  <tbody>\n",
       "    <tr>\n",
       "      <td>0</td>\n",
       "      <td>Anne</td>\n",
       "      <td>Apple</td>\n",
       "      <td>8500</td>\n",
       "    </tr>\n",
       "    <tr>\n",
       "      <td>1</td>\n",
       "      <td>Bobby</td>\n",
       "      <td>Walmart</td>\n",
       "      <td>6300</td>\n",
       "    </tr>\n",
       "    <tr>\n",
       "      <td>2</td>\n",
       "      <td>James</td>\n",
       "      <td>Walmart</td>\n",
       "      <td>5500</td>\n",
       "    </tr>\n",
       "    <tr>\n",
       "      <td>3</td>\n",
       "      <td>Lewis</td>\n",
       "      <td>Intel</td>\n",
       "      <td>7400</td>\n",
       "    </tr>\n",
       "    <tr>\n",
       "      <td>4</td>\n",
       "      <td>Ross</td>\n",
       "      <td>Apple</td>\n",
       "      <td>3100</td>\n",
       "    </tr>\n",
       "    <tr>\n",
       "      <td>5</td>\n",
       "      <td>Cathrine</td>\n",
       "      <td>Walmart</td>\n",
       "      <td>7700</td>\n",
       "    </tr>\n",
       "    <tr>\n",
       "      <td>6</td>\n",
       "      <td>Anne</td>\n",
       "      <td>Apple</td>\n",
       "      <td>8500</td>\n",
       "    </tr>\n",
       "    <tr>\n",
       "      <td>7</td>\n",
       "      <td>Bobby</td>\n",
       "      <td>Cognizant</td>\n",
       "      <td>6300</td>\n",
       "    </tr>\n",
       "    <tr>\n",
       "      <td>8</td>\n",
       "      <td>Jack</td>\n",
       "      <td>Apple</td>\n",
       "      <td>4200</td>\n",
       "    </tr>\n",
       "    <tr>\n",
       "      <td>9</td>\n",
       "      <td>Alisa</td>\n",
       "      <td>Apple</td>\n",
       "      <td>6200</td>\n",
       "    </tr>\n",
       "    <tr>\n",
       "      <td>10</td>\n",
       "      <td>Alex</td>\n",
       "      <td>Cognizant</td>\n",
       "      <td>8900</td>\n",
       "    </tr>\n",
       "    <tr>\n",
       "      <td>11</td>\n",
       "      <td>Cathrine</td>\n",
       "      <td>Walmart</td>\n",
       "      <td>7700</td>\n",
       "    </tr>\n",
       "  </tbody>\n",
       "</table>\n",
       "</div>"
      ],
      "text/plain": [
       "        Name    Company  Salary\n",
       "0       Anne      Apple    8500\n",
       "1      Bobby    Walmart    6300\n",
       "2      James    Walmart    5500\n",
       "3      Lewis      Intel    7400\n",
       "4       Ross      Apple    3100\n",
       "5   Cathrine    Walmart    7700\n",
       "6       Anne      Apple    8500\n",
       "7      Bobby  Cognizant    6300\n",
       "8       Jack      Apple    4200\n",
       "9      Alisa      Apple    6200\n",
       "10      Alex  Cognizant    8900\n",
       "11  Cathrine    Walmart    7700"
      ]
     },
     "execution_count": 38,
     "metadata": {},
     "output_type": "execute_result"
    }
   ],
   "source": [
    "# create a dictionary\n",
    "data = { 'Name':['Anne','Bobby','James','Lewis','Ross','Cathrine',\n",
    "            'Anne','Bobby','Jack','Alisa','Alex','Cathrine'],\n",
    "    'Company':['Apple','Walmart','Walmart','Intel','Apple','Walmart','Apple',\n",
    "               'Cognizant','Apple','Apple','Cognizant','Walmart'],\n",
    "    'Salary':[8500, 6300, 5500, 7400, 3100, 7700, 8500, 6300, 4200, 6200, 8900, 7700]}\n",
    "\n",
    "# create a DataFrame\n",
    "df_employee = pd.DataFrame(data, columns=['Name','Company','Salary'])\n",
    "df_employee"
   ]
  },
  {
   "cell_type": "markdown",
   "metadata": {
    "id": "jxj91K7S23gL"
   },
   "source": [
    "**Duplicate Rows Based on All Columns**"
   ]
  },
  {
   "cell_type": "code",
   "execution_count": null,
   "metadata": {
    "id": "gTmON6kR23gM",
    "outputId": "53f34495-977a-4c75-fab1-74e150603e3c"
   },
   "outputs": [
    {
     "name": "stdout",
     "output_type": "stream",
     "text": [
      "Duplicate Rows except first occurrence based on all columns are :\n",
      "        Name  Company  Salary\n",
      "6       Anne    Apple    8500\n",
      "11  Cathrine  Walmart    7700\n"
     ]
    }
   ],
   "source": [
    "# Select duplicate rows except first occurrence based on all columns\n",
    "duplicate_df = df_employee[df_employee.duplicated()]\n",
    "\n",
    "# print the duplicate rows\n",
    "print(\"Duplicate Rows except first occurrence based on all columns are :\")\n",
    "print(duplicate_df)"
   ]
  },
  {
   "cell_type": "markdown",
   "metadata": {
    "id": "9047PqmW23gM"
   },
   "source": [
    "**Duplicate Rows Based on Selected Columns**"
   ]
  },
  {
   "cell_type": "markdown",
   "metadata": {
    "id": "Qb9dHsu323gM"
   },
   "source": [
    "Let’s find and select rows based on a single column"
   ]
  },
  {
   "cell_type": "code",
   "execution_count": null,
   "metadata": {
    "id": "a00IIfrh23gM",
    "outputId": "5b4f70a9-2f55-4190-bc51-5d63e2039394"
   },
   "outputs": [
    {
     "name": "stdout",
     "output_type": "stream",
     "text": [
      "        Name    Company  Salary\n",
      "6       Anne      Apple    8500\n",
      "7      Bobby  Cognizant    6300\n",
      "11  Cathrine    Walmart    7700\n"
     ]
    }
   ],
   "source": [
    "# find and select rows based on the column 'Name'\n",
    "df_duplicate = df_employee[df_employee.duplicated('Name')]\n",
    "\n",
    "# print the duplicates\n",
    "print(df_duplicate)"
   ]
  },
  {
   "cell_type": "markdown",
   "metadata": {
    "id": "gyr4xTC123gM"
   },
   "source": [
    "Find and select rows based on two column names."
   ]
  },
  {
   "cell_type": "code",
   "execution_count": null,
   "metadata": {
    "id": "aCusCE1h23gM",
    "outputId": "1db5fe77-d1e7-401f-a5f0-e871b5b2f59e"
   },
   "outputs": [
    {
     "name": "stdout",
     "output_type": "stream",
     "text": [
      "        Name  Company  Salary\n",
      "6       Anne    Apple    8500\n",
      "11  Cathrine  Walmart    7700\n"
     ]
    }
   ],
   "source": [
    "# find and select rows based on the columns 'Name' and 'Company'\n",
    "df_duplicate = df_employee[df_employee.duplicated(['Name', 'Company'])]\n",
    "\n",
    "# print the duplicates\n",
    "print(df_duplicate)"
   ]
  },
  {
   "cell_type": "markdown",
   "metadata": {
    "id": "DLiOjnGg23gM"
   },
   "source": [
    "**Drop the Duplicate Rows**"
   ]
  },
  {
   "cell_type": "code",
   "execution_count": null,
   "metadata": {
    "id": "HGdyjXCa23gM",
    "outputId": "9fc91dc7-2aa7-49dc-d8be-854d62f56c76"
   },
   "outputs": [
    {
     "data": {
      "text/html": [
       "<div>\n",
       "<style scoped>\n",
       "    .dataframe tbody tr th:only-of-type {\n",
       "        vertical-align: middle;\n",
       "    }\n",
       "\n",
       "    .dataframe tbody tr th {\n",
       "        vertical-align: top;\n",
       "    }\n",
       "\n",
       "    .dataframe thead th {\n",
       "        text-align: right;\n",
       "    }\n",
       "</style>\n",
       "<table border=\"1\" class=\"dataframe\">\n",
       "  <thead>\n",
       "    <tr style=\"text-align: right;\">\n",
       "      <th></th>\n",
       "      <th>Name</th>\n",
       "      <th>Company</th>\n",
       "      <th>Salary</th>\n",
       "    </tr>\n",
       "  </thead>\n",
       "  <tbody>\n",
       "    <tr>\n",
       "      <td>0</td>\n",
       "      <td>Anne</td>\n",
       "      <td>Apple</td>\n",
       "      <td>8500</td>\n",
       "    </tr>\n",
       "    <tr>\n",
       "      <td>1</td>\n",
       "      <td>Bobby</td>\n",
       "      <td>Walmart</td>\n",
       "      <td>6300</td>\n",
       "    </tr>\n",
       "    <tr>\n",
       "      <td>2</td>\n",
       "      <td>James</td>\n",
       "      <td>Walmart</td>\n",
       "      <td>5500</td>\n",
       "    </tr>\n",
       "    <tr>\n",
       "      <td>3</td>\n",
       "      <td>Lewis</td>\n",
       "      <td>Intel</td>\n",
       "      <td>7400</td>\n",
       "    </tr>\n",
       "    <tr>\n",
       "      <td>4</td>\n",
       "      <td>Ross</td>\n",
       "      <td>Apple</td>\n",
       "      <td>3100</td>\n",
       "    </tr>\n",
       "    <tr>\n",
       "      <td>5</td>\n",
       "      <td>Cathrine</td>\n",
       "      <td>Walmart</td>\n",
       "      <td>7700</td>\n",
       "    </tr>\n",
       "    <tr>\n",
       "      <td>7</td>\n",
       "      <td>Bobby</td>\n",
       "      <td>Cognizant</td>\n",
       "      <td>6300</td>\n",
       "    </tr>\n",
       "    <tr>\n",
       "      <td>8</td>\n",
       "      <td>Jack</td>\n",
       "      <td>Apple</td>\n",
       "      <td>4200</td>\n",
       "    </tr>\n",
       "    <tr>\n",
       "      <td>9</td>\n",
       "      <td>Alisa</td>\n",
       "      <td>Apple</td>\n",
       "      <td>6200</td>\n",
       "    </tr>\n",
       "    <tr>\n",
       "      <td>10</td>\n",
       "      <td>Alex</td>\n",
       "      <td>Cognizant</td>\n",
       "      <td>8900</td>\n",
       "    </tr>\n",
       "  </tbody>\n",
       "</table>\n",
       "</div>"
      ],
      "text/plain": [
       "        Name    Company  Salary\n",
       "0       Anne      Apple    8500\n",
       "1      Bobby    Walmart    6300\n",
       "2      James    Walmart    5500\n",
       "3      Lewis      Intel    7400\n",
       "4       Ross      Apple    3100\n",
       "5   Cathrine    Walmart    7700\n",
       "7      Bobby  Cognizant    6300\n",
       "8       Jack      Apple    4200\n",
       "9      Alisa      Apple    6200\n",
       "10      Alex  Cognizant    8900"
      ]
     },
     "execution_count": 42,
     "metadata": {},
     "output_type": "execute_result"
    }
   ],
   "source": [
    "# drop the duplicates values using drop_duplicates()\n",
    "df_employee.drop_duplicates()"
   ]
  },
  {
   "cell_type": "markdown",
   "metadata": {
    "id": "m8DR5OF-23gN"
   },
   "source": [
    "<a id=\"drop\"> </a>\n",
    "### 7. Dropping Rows and Columns"
   ]
  },
  {
   "cell_type": "markdown",
   "metadata": {
    "id": "a4LKlC4w23gN"
   },
   "source": [
    "**1. To drop rows** \n",
    "\n",
    "We shall use the DataFrame `df`."
   ]
  },
  {
   "cell_type": "code",
   "execution_count": null,
   "metadata": {
    "id": "0adUY1A523gN",
    "outputId": "6ff3c05d-e81b-459a-d8b8-e447bdcf1f62"
   },
   "outputs": [
    {
     "data": {
      "text/html": [
       "<div>\n",
       "<style scoped>\n",
       "    .dataframe tbody tr th:only-of-type {\n",
       "        vertical-align: middle;\n",
       "    }\n",
       "\n",
       "    .dataframe tbody tr th {\n",
       "        vertical-align: top;\n",
       "    }\n",
       "\n",
       "    .dataframe thead th {\n",
       "        text-align: right;\n",
       "    }\n",
       "</style>\n",
       "<table border=\"1\" class=\"dataframe\">\n",
       "  <thead>\n",
       "    <tr style=\"text-align: right;\">\n",
       "      <th></th>\n",
       "      <th>Name</th>\n",
       "      <th>Company</th>\n",
       "      <th>Salary</th>\n",
       "    </tr>\n",
       "  </thead>\n",
       "  <tbody>\n",
       "    <tr>\n",
       "      <td>0</td>\n",
       "      <td>Anne</td>\n",
       "      <td>Apple</td>\n",
       "      <td>8500</td>\n",
       "    </tr>\n",
       "    <tr>\n",
       "      <td>2</td>\n",
       "      <td>James</td>\n",
       "      <td>Walmart</td>\n",
       "      <td>5500</td>\n",
       "    </tr>\n",
       "    <tr>\n",
       "      <td>4</td>\n",
       "      <td>Ross</td>\n",
       "      <td>Apple</td>\n",
       "      <td>3100</td>\n",
       "    </tr>\n",
       "    <tr>\n",
       "      <td>6</td>\n",
       "      <td>Anne</td>\n",
       "      <td>Apple</td>\n",
       "      <td>8500</td>\n",
       "    </tr>\n",
       "    <tr>\n",
       "      <td>7</td>\n",
       "      <td>Bobby</td>\n",
       "      <td>Cognizant</td>\n",
       "      <td>6300</td>\n",
       "    </tr>\n",
       "    <tr>\n",
       "      <td>10</td>\n",
       "      <td>Alex</td>\n",
       "      <td>Cognizant</td>\n",
       "      <td>8900</td>\n",
       "    </tr>\n",
       "    <tr>\n",
       "      <td>11</td>\n",
       "      <td>Cathrine</td>\n",
       "      <td>Walmart</td>\n",
       "      <td>7700</td>\n",
       "    </tr>\n",
       "  </tbody>\n",
       "</table>\n",
       "</div>"
      ],
      "text/plain": [
       "        Name    Company  Salary\n",
       "0       Anne      Apple    8500\n",
       "2      James    Walmart    5500\n",
       "4       Ross      Apple    3100\n",
       "6       Anne      Apple    8500\n",
       "7      Bobby  Cognizant    6300\n",
       "10      Alex  Cognizant    8900\n",
       "11  Cathrine    Walmart    7700"
      ]
     },
     "execution_count": 43,
     "metadata": {},
     "output_type": "execute_result"
    }
   ],
   "source": [
    "# drop rows using drop()\n",
    "# index specify the indexes (row names)\n",
    "df_employee.drop(index = [1,9,5,3,8])"
   ]
  },
  {
   "cell_type": "markdown",
   "metadata": {
    "id": "QKjd3geC23gN"
   },
   "source": [
    "We see that the index numbers specified have been removed. "
   ]
  },
  {
   "cell_type": "markdown",
   "metadata": {
    "id": "mnpGOiGM23gN"
   },
   "source": [
    "Similarly, we can drop columns."
   ]
  },
  {
   "cell_type": "markdown",
   "metadata": {
    "id": "pE5wzvM823gN"
   },
   "source": [
    "**2. To drop columns** \n",
    "\n",
    "We shall use the DataFrame `df` and drop the columns Qualification and Height."
   ]
  },
  {
   "cell_type": "code",
   "execution_count": null,
   "metadata": {
    "id": "hw3uhw-R23gN",
    "outputId": "543d347f-190b-4b94-a84b-45d77d1d5ecf"
   },
   "outputs": [
    {
     "data": {
      "text/html": [
       "<div>\n",
       "<style scoped>\n",
       "    .dataframe tbody tr th:only-of-type {\n",
       "        vertical-align: middle;\n",
       "    }\n",
       "\n",
       "    .dataframe tbody tr th {\n",
       "        vertical-align: top;\n",
       "    }\n",
       "\n",
       "    .dataframe thead th {\n",
       "        text-align: right;\n",
       "    }\n",
       "</style>\n",
       "<table border=\"1\" class=\"dataframe\">\n",
       "  <thead>\n",
       "    <tr style=\"text-align: right;\">\n",
       "      <th></th>\n",
       "      <th>Company</th>\n",
       "    </tr>\n",
       "  </thead>\n",
       "  <tbody>\n",
       "    <tr>\n",
       "      <td>0</td>\n",
       "      <td>Apple</td>\n",
       "    </tr>\n",
       "    <tr>\n",
       "      <td>1</td>\n",
       "      <td>Walmart</td>\n",
       "    </tr>\n",
       "    <tr>\n",
       "      <td>2</td>\n",
       "      <td>Walmart</td>\n",
       "    </tr>\n",
       "    <tr>\n",
       "      <td>3</td>\n",
       "      <td>Intel</td>\n",
       "    </tr>\n",
       "    <tr>\n",
       "      <td>4</td>\n",
       "      <td>Apple</td>\n",
       "    </tr>\n",
       "    <tr>\n",
       "      <td>5</td>\n",
       "      <td>Walmart</td>\n",
       "    </tr>\n",
       "    <tr>\n",
       "      <td>6</td>\n",
       "      <td>Apple</td>\n",
       "    </tr>\n",
       "    <tr>\n",
       "      <td>7</td>\n",
       "      <td>Cognizant</td>\n",
       "    </tr>\n",
       "    <tr>\n",
       "      <td>8</td>\n",
       "      <td>Apple</td>\n",
       "    </tr>\n",
       "    <tr>\n",
       "      <td>9</td>\n",
       "      <td>Apple</td>\n",
       "    </tr>\n",
       "    <tr>\n",
       "      <td>10</td>\n",
       "      <td>Cognizant</td>\n",
       "    </tr>\n",
       "    <tr>\n",
       "      <td>11</td>\n",
       "      <td>Walmart</td>\n",
       "    </tr>\n",
       "  </tbody>\n",
       "</table>\n",
       "</div>"
      ],
      "text/plain": [
       "      Company\n",
       "0       Apple\n",
       "1     Walmart\n",
       "2     Walmart\n",
       "3       Intel\n",
       "4       Apple\n",
       "5     Walmart\n",
       "6       Apple\n",
       "7   Cognizant\n",
       "8       Apple\n",
       "9       Apple\n",
       "10  Cognizant\n",
       "11    Walmart"
      ]
     },
     "execution_count": 44,
     "metadata": {},
     "output_type": "execute_result"
    }
   ],
   "source": [
    "# drop rows using drop()\n",
    "# columns specify the column names\n",
    "df_employee.drop(columns = ['Name', 'Salary'])"
   ]
  },
  {
   "cell_type": "markdown",
   "metadata": {
    "id": "5Uz1-vUN23gN"
   },
   "source": [
    "We see that the two specifies columns have been dropped."
   ]
  },
  {
   "cell_type": "markdown",
   "metadata": {
    "id": "-M36AB-Y23gO"
   },
   "source": [
    "Now let us print the DataFrame df_employee."
   ]
  },
  {
   "cell_type": "code",
   "execution_count": null,
   "metadata": {
    "id": "yUsVvOuP23gO",
    "outputId": "f232f803-1707-4f55-bc8a-1836c9d4c15a"
   },
   "outputs": [
    {
     "data": {
      "text/html": [
       "<div>\n",
       "<style scoped>\n",
       "    .dataframe tbody tr th:only-of-type {\n",
       "        vertical-align: middle;\n",
       "    }\n",
       "\n",
       "    .dataframe tbody tr th {\n",
       "        vertical-align: top;\n",
       "    }\n",
       "\n",
       "    .dataframe thead th {\n",
       "        text-align: right;\n",
       "    }\n",
       "</style>\n",
       "<table border=\"1\" class=\"dataframe\">\n",
       "  <thead>\n",
       "    <tr style=\"text-align: right;\">\n",
       "      <th></th>\n",
       "      <th>Name</th>\n",
       "      <th>Company</th>\n",
       "      <th>Salary</th>\n",
       "    </tr>\n",
       "  </thead>\n",
       "  <tbody>\n",
       "    <tr>\n",
       "      <td>0</td>\n",
       "      <td>Anne</td>\n",
       "      <td>Apple</td>\n",
       "      <td>8500</td>\n",
       "    </tr>\n",
       "    <tr>\n",
       "      <td>1</td>\n",
       "      <td>Bobby</td>\n",
       "      <td>Walmart</td>\n",
       "      <td>6300</td>\n",
       "    </tr>\n",
       "    <tr>\n",
       "      <td>2</td>\n",
       "      <td>James</td>\n",
       "      <td>Walmart</td>\n",
       "      <td>5500</td>\n",
       "    </tr>\n",
       "    <tr>\n",
       "      <td>3</td>\n",
       "      <td>Lewis</td>\n",
       "      <td>Intel</td>\n",
       "      <td>7400</td>\n",
       "    </tr>\n",
       "    <tr>\n",
       "      <td>4</td>\n",
       "      <td>Ross</td>\n",
       "      <td>Apple</td>\n",
       "      <td>3100</td>\n",
       "    </tr>\n",
       "    <tr>\n",
       "      <td>5</td>\n",
       "      <td>Cathrine</td>\n",
       "      <td>Walmart</td>\n",
       "      <td>7700</td>\n",
       "    </tr>\n",
       "    <tr>\n",
       "      <td>6</td>\n",
       "      <td>Anne</td>\n",
       "      <td>Apple</td>\n",
       "      <td>8500</td>\n",
       "    </tr>\n",
       "    <tr>\n",
       "      <td>7</td>\n",
       "      <td>Bobby</td>\n",
       "      <td>Cognizant</td>\n",
       "      <td>6300</td>\n",
       "    </tr>\n",
       "    <tr>\n",
       "      <td>8</td>\n",
       "      <td>Jack</td>\n",
       "      <td>Apple</td>\n",
       "      <td>4200</td>\n",
       "    </tr>\n",
       "    <tr>\n",
       "      <td>9</td>\n",
       "      <td>Alisa</td>\n",
       "      <td>Apple</td>\n",
       "      <td>6200</td>\n",
       "    </tr>\n",
       "    <tr>\n",
       "      <td>10</td>\n",
       "      <td>Alex</td>\n",
       "      <td>Cognizant</td>\n",
       "      <td>8900</td>\n",
       "    </tr>\n",
       "    <tr>\n",
       "      <td>11</td>\n",
       "      <td>Cathrine</td>\n",
       "      <td>Walmart</td>\n",
       "      <td>7700</td>\n",
       "    </tr>\n",
       "  </tbody>\n",
       "</table>\n",
       "</div>"
      ],
      "text/plain": [
       "        Name    Company  Salary\n",
       "0       Anne      Apple    8500\n",
       "1      Bobby    Walmart    6300\n",
       "2      James    Walmart    5500\n",
       "3      Lewis      Intel    7400\n",
       "4       Ross      Apple    3100\n",
       "5   Cathrine    Walmart    7700\n",
       "6       Anne      Apple    8500\n",
       "7      Bobby  Cognizant    6300\n",
       "8       Jack      Apple    4200\n",
       "9      Alisa      Apple    6200\n",
       "10      Alex  Cognizant    8900\n",
       "11  Cathrine    Walmart    7700"
      ]
     },
     "execution_count": 45,
     "metadata": {},
     "output_type": "execute_result"
    }
   ],
   "source": [
    "# print the DataFrame df_employee\n",
    "df_employee"
   ]
  },
  {
   "cell_type": "markdown",
   "metadata": {
    "id": "AeHDGZtl23gO"
   },
   "source": [
    "We see the original DataFrame is retained. \n",
    "\n",
    "If we wish to make a permanent change in the DataFrame, we use `inplace`."
   ]
  },
  {
   "cell_type": "markdown",
   "metadata": {
    "id": "BIztuZ6-23gO"
   },
   "source": [
    "**Usage of inplace** <br><br>\n",
    "`inplace` is used when we want to make a permanent to the data. This does not change the data at the source but the data which is read initially.<br>\n",
    "\n",
    "Let us drop the fourth row from the data and use `inplace` to make a permanent change."
   ]
  },
  {
   "cell_type": "code",
   "execution_count": null,
   "metadata": {
    "id": "zTTz4cN123gO"
   },
   "outputs": [],
   "source": [
    "# drop the fourth row\n",
    "df_employee.drop(index = [3], inplace = True)"
   ]
  },
  {
   "cell_type": "code",
   "execution_count": null,
   "metadata": {
    "id": "WfBG5K9f23gO",
    "outputId": "a0d04605-57f6-49c8-bd11-c849c33132ea"
   },
   "outputs": [
    {
     "data": {
      "text/html": [
       "<div>\n",
       "<style scoped>\n",
       "    .dataframe tbody tr th:only-of-type {\n",
       "        vertical-align: middle;\n",
       "    }\n",
       "\n",
       "    .dataframe tbody tr th {\n",
       "        vertical-align: top;\n",
       "    }\n",
       "\n",
       "    .dataframe thead th {\n",
       "        text-align: right;\n",
       "    }\n",
       "</style>\n",
       "<table border=\"1\" class=\"dataframe\">\n",
       "  <thead>\n",
       "    <tr style=\"text-align: right;\">\n",
       "      <th></th>\n",
       "      <th>Name</th>\n",
       "      <th>Company</th>\n",
       "      <th>Salary</th>\n",
       "    </tr>\n",
       "  </thead>\n",
       "  <tbody>\n",
       "    <tr>\n",
       "      <td>0</td>\n",
       "      <td>Anne</td>\n",
       "      <td>Apple</td>\n",
       "      <td>8500</td>\n",
       "    </tr>\n",
       "    <tr>\n",
       "      <td>1</td>\n",
       "      <td>Bobby</td>\n",
       "      <td>Walmart</td>\n",
       "      <td>6300</td>\n",
       "    </tr>\n",
       "    <tr>\n",
       "      <td>2</td>\n",
       "      <td>James</td>\n",
       "      <td>Walmart</td>\n",
       "      <td>5500</td>\n",
       "    </tr>\n",
       "    <tr>\n",
       "      <td>4</td>\n",
       "      <td>Ross</td>\n",
       "      <td>Apple</td>\n",
       "      <td>3100</td>\n",
       "    </tr>\n",
       "    <tr>\n",
       "      <td>5</td>\n",
       "      <td>Cathrine</td>\n",
       "      <td>Walmart</td>\n",
       "      <td>7700</td>\n",
       "    </tr>\n",
       "    <tr>\n",
       "      <td>6</td>\n",
       "      <td>Anne</td>\n",
       "      <td>Apple</td>\n",
       "      <td>8500</td>\n",
       "    </tr>\n",
       "    <tr>\n",
       "      <td>7</td>\n",
       "      <td>Bobby</td>\n",
       "      <td>Cognizant</td>\n",
       "      <td>6300</td>\n",
       "    </tr>\n",
       "    <tr>\n",
       "      <td>8</td>\n",
       "      <td>Jack</td>\n",
       "      <td>Apple</td>\n",
       "      <td>4200</td>\n",
       "    </tr>\n",
       "    <tr>\n",
       "      <td>9</td>\n",
       "      <td>Alisa</td>\n",
       "      <td>Apple</td>\n",
       "      <td>6200</td>\n",
       "    </tr>\n",
       "    <tr>\n",
       "      <td>10</td>\n",
       "      <td>Alex</td>\n",
       "      <td>Cognizant</td>\n",
       "      <td>8900</td>\n",
       "    </tr>\n",
       "    <tr>\n",
       "      <td>11</td>\n",
       "      <td>Cathrine</td>\n",
       "      <td>Walmart</td>\n",
       "      <td>7700</td>\n",
       "    </tr>\n",
       "  </tbody>\n",
       "</table>\n",
       "</div>"
      ],
      "text/plain": [
       "        Name    Company  Salary\n",
       "0       Anne      Apple    8500\n",
       "1      Bobby    Walmart    6300\n",
       "2      James    Walmart    5500\n",
       "4       Ross      Apple    3100\n",
       "5   Cathrine    Walmart    7700\n",
       "6       Anne      Apple    8500\n",
       "7      Bobby  Cognizant    6300\n",
       "8       Jack      Apple    4200\n",
       "9      Alisa      Apple    6200\n",
       "10      Alex  Cognizant    8900\n",
       "11  Cathrine    Walmart    7700"
      ]
     },
     "execution_count": 47,
     "metadata": {},
     "output_type": "execute_result"
    }
   ],
   "source": [
    "# print df_employee\n",
    "df_employee"
   ]
  },
  {
   "cell_type": "markdown",
   "metadata": {
    "id": "L1JDXTSq23gO"
   },
   "source": [
    "It is apparent the fourth row indexed as 3 is dropped. "
   ]
  },
  {
   "cell_type": "markdown",
   "metadata": {
    "id": "sa_B2QBD23gO"
   },
   "source": [
    "<a id=\"Map\"> </a>\n",
    "### 8. Map and Replace"
   ]
  },
  {
   "cell_type": "markdown",
   "metadata": {
    "id": "IAFJbcta23gO"
   },
   "source": [
    "**`.map()`:**<br>\n",
    "`.map()` function is used to create a new column by mapping the dataframe column values with the dictionary Key"
   ]
  },
  {
   "cell_type": "code",
   "execution_count": null,
   "metadata": {
    "id": "PuDXWT7G23gO",
    "outputId": "31167dc0-3db8-4c8a-d222-e600e38b53b9"
   },
   "outputs": [
    {
     "data": {
      "text/html": [
       "<div>\n",
       "<style scoped>\n",
       "    .dataframe tbody tr th:only-of-type {\n",
       "        vertical-align: middle;\n",
       "    }\n",
       "\n",
       "    .dataframe tbody tr th {\n",
       "        vertical-align: top;\n",
       "    }\n",
       "\n",
       "    .dataframe thead th {\n",
       "        text-align: right;\n",
       "    }\n",
       "</style>\n",
       "<table border=\"1\" class=\"dataframe\">\n",
       "  <thead>\n",
       "    <tr style=\"text-align: right;\">\n",
       "      <th></th>\n",
       "      <th>Country</th>\n",
       "      <th>Population</th>\n",
       "    </tr>\n",
       "  </thead>\n",
       "  <tbody>\n",
       "    <tr>\n",
       "      <td>0</td>\n",
       "      <td>China</td>\n",
       "      <td>1403500365</td>\n",
       "    </tr>\n",
       "    <tr>\n",
       "      <td>1</td>\n",
       "      <td>India</td>\n",
       "      <td>1324171354</td>\n",
       "    </tr>\n",
       "    <tr>\n",
       "      <td>2</td>\n",
       "      <td>USA</td>\n",
       "      <td>322179605</td>\n",
       "    </tr>\n",
       "    <tr>\n",
       "      <td>3</td>\n",
       "      <td>Indonesia</td>\n",
       "      <td>261115456</td>\n",
       "    </tr>\n",
       "    <tr>\n",
       "      <td>4</td>\n",
       "      <td>Brazil</td>\n",
       "      <td>207652865</td>\n",
       "    </tr>\n",
       "  </tbody>\n",
       "</table>\n",
       "</div>"
      ],
      "text/plain": [
       "     Country  Population\n",
       "0      China  1403500365\n",
       "1      India  1324171354\n",
       "2        USA   322179605\n",
       "3  Indonesia   261115456\n",
       "4     Brazil   207652865"
      ]
     },
     "execution_count": 48,
     "metadata": {},
     "output_type": "execute_result"
    }
   ],
   "source": [
    "# create a DataFrame from a dictionary\n",
    "df_demography = pd.DataFrame({'Country':['China','India','USA','Indonesia','Brazil'],\n",
    "                  'Population':[1403500365,1324171354,322179605,261115456,207652865]})\n",
    "\n",
    "# print the DataFrame\n",
    "df_demography"
   ]
  },
  {
   "cell_type": "code",
   "execution_count": null,
   "metadata": {
    "id": "eWDWMlWK23gP"
   },
   "outputs": [],
   "source": [
    "# create a dictionary\n",
    "capital = {\n",
    "'Germany':'Berlin',\n",
    "'Brazil':'Brasília',\n",
    "'Hungary':'Budapest',\n",
    "'China':'Beijing',\n",
    "'India':'New Delhi',\n",
    "'Norway':'Oslo',\n",
    "'France':'Paris',\n",
    "'Indonesia': 'Jakarta',\n",
    "'USA':'Washington'\n",
    "}"
   ]
  },
  {
   "cell_type": "markdown",
   "metadata": {
    "id": "w6c1zXsZ23gP"
   },
   "source": [
    "Create a new column - Capital in the DataFrame such that it matches the key-value pair from the country column."
   ]
  },
  {
   "cell_type": "code",
   "execution_count": null,
   "metadata": {
    "id": "Xzx46BlB23gP",
    "outputId": "67f67fd3-683f-4e81-e180-f737951a9faa"
   },
   "outputs": [
    {
     "data": {
      "text/html": [
       "<div>\n",
       "<style scoped>\n",
       "    .dataframe tbody tr th:only-of-type {\n",
       "        vertical-align: middle;\n",
       "    }\n",
       "\n",
       "    .dataframe tbody tr th {\n",
       "        vertical-align: top;\n",
       "    }\n",
       "\n",
       "    .dataframe thead th {\n",
       "        text-align: right;\n",
       "    }\n",
       "</style>\n",
       "<table border=\"1\" class=\"dataframe\">\n",
       "  <thead>\n",
       "    <tr style=\"text-align: right;\">\n",
       "      <th></th>\n",
       "      <th>Country</th>\n",
       "      <th>Population</th>\n",
       "      <th>Capital</th>\n",
       "    </tr>\n",
       "  </thead>\n",
       "  <tbody>\n",
       "    <tr>\n",
       "      <td>0</td>\n",
       "      <td>China</td>\n",
       "      <td>1403500365</td>\n",
       "      <td>Beijing</td>\n",
       "    </tr>\n",
       "    <tr>\n",
       "      <td>1</td>\n",
       "      <td>India</td>\n",
       "      <td>1324171354</td>\n",
       "      <td>New Delhi</td>\n",
       "    </tr>\n",
       "    <tr>\n",
       "      <td>2</td>\n",
       "      <td>USA</td>\n",
       "      <td>322179605</td>\n",
       "      <td>Washington</td>\n",
       "    </tr>\n",
       "    <tr>\n",
       "      <td>3</td>\n",
       "      <td>Indonesia</td>\n",
       "      <td>261115456</td>\n",
       "      <td>Jakarta</td>\n",
       "    </tr>\n",
       "    <tr>\n",
       "      <td>4</td>\n",
       "      <td>Brazil</td>\n",
       "      <td>207652865</td>\n",
       "      <td>Brasília</td>\n",
       "    </tr>\n",
       "  </tbody>\n",
       "</table>\n",
       "</div>"
      ],
      "text/plain": [
       "     Country  Population     Capital\n",
       "0      China  1403500365     Beijing\n",
       "1      India  1324171354   New Delhi\n",
       "2        USA   322179605  Washington\n",
       "3  Indonesia   261115456     Jakarta\n",
       "4     Brazil   207652865    Brasília"
      ]
     },
     "execution_count": 50,
     "metadata": {},
     "output_type": "execute_result"
    }
   ],
   "source": [
    "# create a new column in the DataFrame\n",
    "df_demography['Capital'] = df_demography['Country'].map(capital)\n",
    "\n",
    "# print the DataFrame\n",
    "df_demography"
   ]
  },
  {
   "cell_type": "markdown",
   "metadata": {
    "id": "2kb4s1-F23gP"
   },
   "source": [
    "**replace():**<br>\n",
    "It is used to replace any value in the dataframe."
   ]
  },
  {
   "cell_type": "code",
   "execution_count": null,
   "metadata": {
    "id": "6QGHBM7623gP",
    "outputId": "4c308eb8-a09d-4e1e-b53a-869b9f8b4808"
   },
   "outputs": [
    {
     "data": {
      "text/html": [
       "<div>\n",
       "<style scoped>\n",
       "    .dataframe tbody tr th:only-of-type {\n",
       "        vertical-align: middle;\n",
       "    }\n",
       "\n",
       "    .dataframe tbody tr th {\n",
       "        vertical-align: top;\n",
       "    }\n",
       "\n",
       "    .dataframe thead th {\n",
       "        text-align: right;\n",
       "    }\n",
       "</style>\n",
       "<table border=\"1\" class=\"dataframe\">\n",
       "  <thead>\n",
       "    <tr style=\"text-align: right;\">\n",
       "      <th></th>\n",
       "      <th>Country</th>\n",
       "      <th>Population</th>\n",
       "      <th>Capital</th>\n",
       "    </tr>\n",
       "  </thead>\n",
       "  <tbody>\n",
       "    <tr>\n",
       "      <td>0</td>\n",
       "      <td>China</td>\n",
       "      <td>1403500365</td>\n",
       "      <td>Beijing</td>\n",
       "    </tr>\n",
       "    <tr>\n",
       "      <td>1</td>\n",
       "      <td>India</td>\n",
       "      <td>1324171354</td>\n",
       "      <td>New Delhi</td>\n",
       "    </tr>\n",
       "    <tr>\n",
       "      <td>2</td>\n",
       "      <td>USA</td>\n",
       "      <td>322179605</td>\n",
       "      <td>Washington</td>\n",
       "    </tr>\n",
       "    <tr>\n",
       "      <td>3</td>\n",
       "      <td>Indonesia</td>\n",
       "      <td>261115456</td>\n",
       "      <td>Jakarta</td>\n",
       "    </tr>\n",
       "    <tr>\n",
       "      <td>4</td>\n",
       "      <td>Brazil</td>\n",
       "      <td>207652865</td>\n",
       "      <td>Brasília</td>\n",
       "    </tr>\n",
       "  </tbody>\n",
       "</table>\n",
       "</div>"
      ],
      "text/plain": [
       "     Country  Population     Capital\n",
       "0      China  1403500365     Beijing\n",
       "1      India  1324171354   New Delhi\n",
       "2        USA   322179605  Washington\n",
       "3  Indonesia   261115456     Jakarta\n",
       "4     Brazil   207652865    Brasília"
      ]
     },
     "execution_count": 51,
     "metadata": {},
     "output_type": "execute_result"
    }
   ],
   "source": [
    "# print the DataFrame\n",
    "df_demography"
   ]
  },
  {
   "cell_type": "code",
   "execution_count": null,
   "metadata": {
    "id": "OlI_7JzR23gP",
    "outputId": "33debed2-51d9-47a4-9528-9aff63c3394f"
   },
   "outputs": [
    {
     "name": "stdout",
     "output_type": "stream",
     "text": [
      "     Country  Population     Capital\n",
      "0      China  1403500365     Beijing\n",
      "1      India  1324171354   New Delhi\n",
      "2        USA         NaN  Washington\n",
      "3  Indonesia   261115456     Jakarta\n",
      "4     Brazil          --    Brasília\n"
     ]
    }
   ],
   "source": [
    "dictionary = {322179605: \"NaN\", 207652865: \"--\"}\n",
    "\n",
    "# values 322179605 and 207652865 are replaced by 'NaN' and '--'\n",
    "df_demography['Population'].replace(dictionary, inplace = True)\n",
    "\n",
    "print(df_demography)"
   ]
  },
  {
   "cell_type": "markdown",
   "metadata": {
    "id": "gbynEArW23gQ"
   },
   "source": [
    "<a id=\"Groupby\"> </a>\n",
    "### 9. Groupby in Pandas"
   ]
  },
  {
   "cell_type": "code",
   "execution_count": 2,
   "metadata": {
    "id": "_GB6PldJ23gQ",
    "outputId": "cfcd9c56-5f49-4837-b9af-ee85b690bad9"
   },
   "outputs": [
    {
     "name": "stdout",
     "output_type": "stream",
     "text": [
      "   Product_ID Food_Product           Brand  Sales  Profit\n",
      "0         101        Cakes  Baskin Robbins   5000   55000\n",
      "1         102     Biscuits     Blue Riband   8000   67000\n",
      "2         103        Fruit           Peach   7600   89000\n",
      "3         104    Beverages        Horlicks   5500   78000\n",
      "4         105        Cakes     Mars Muffin   6500   55000\n",
      "5         106    Beverages         Mirinda   9000   90000\n"
     ]
    }
   ],
   "source": [
    "# create a DataFrame\n",
    "df_products = pd.DataFrame({ 'Product_ID':[101,102,103,104,105,106],\n",
    " 'Food_Product':['Cakes','Biscuits','Fruit','Beverages','Cakes','Beverages'],\n",
    " 'Brand':['Baskin Robbins','Blue Riband','Peach','Horlicks','Mars Muffin','Mirinda'],\n",
    " 'Sales': [5000, 8000, 7600, 5500, 6500, 9000],\n",
    " 'Profit': [55000, 67000, 89000, 78000, 55000, 90000] })\n",
    "\n",
    "# print the DataFrame\n",
    "print(df_products)"
   ]
  },
  {
   "cell_type": "markdown",
   "metadata": {
    "id": "uWgRSqYv23gQ"
   },
   "source": [
    "**Number of unique values in each column**"
   ]
  },
  {
   "cell_type": "code",
   "execution_count": 4,
   "metadata": {
    "id": "HHQXDaqZ23gQ"
   },
   "outputs": [
    {
     "data": {
      "text/plain": [
       "<pandas.core.groupby.generic.DataFrameGroupBy object at 0x1099edbb0>"
      ]
     },
     "execution_count": 4,
     "metadata": {},
     "output_type": "execute_result"
    }
   ],
   "source": [
    "df_products_grouped = df_products.groupby(\"Food_Product\")\n",
    "df_products_grouped "
   ]
  },
  {
   "cell_type": "code",
   "execution_count": null,
   "metadata": {
    "id": "ELloYfpM23gQ",
    "outputId": "378bea01-718e-48a7-fc77-211414ea685e"
   },
   "outputs": [
    {
     "data": {
      "text/plain": [
       "pandas.core.groupby.generic.DataFrameGroupBy"
      ]
     },
     "execution_count": 55,
     "metadata": {},
     "output_type": "execute_result"
    }
   ],
   "source": [
    "type(df_products_grouped)"
   ]
  },
  {
   "cell_type": "markdown",
   "metadata": {
    "id": "FJGtR0Np23gR"
   },
   "source": [
    "**Note:** The groupby() applied on a pandas DataFrame returns a `DataFrameGroupBy` object"
   ]
  },
  {
   "cell_type": "code",
   "execution_count": null,
   "metadata": {
    "id": "EJSI54fY23gR",
    "outputId": "0f1ab34e-5b24-4a04-dbb1-d5572371dba1"
   },
   "outputs": [
    {
     "data": {
      "text/html": [
       "<div>\n",
       "<style scoped>\n",
       "    .dataframe tbody tr th:only-of-type {\n",
       "        vertical-align: middle;\n",
       "    }\n",
       "\n",
       "    .dataframe tbody tr th {\n",
       "        vertical-align: top;\n",
       "    }\n",
       "\n",
       "    .dataframe thead th {\n",
       "        text-align: right;\n",
       "    }\n",
       "</style>\n",
       "<table border=\"1\" class=\"dataframe\">\n",
       "  <thead>\n",
       "    <tr style=\"text-align: right;\">\n",
       "      <th></th>\n",
       "      <th>Brand</th>\n",
       "    </tr>\n",
       "    <tr>\n",
       "      <th>Food_Product</th>\n",
       "      <th></th>\n",
       "    </tr>\n",
       "  </thead>\n",
       "  <tbody>\n",
       "    <tr>\n",
       "      <td>Beverages</td>\n",
       "      <td>2</td>\n",
       "    </tr>\n",
       "    <tr>\n",
       "      <td>Biscuits</td>\n",
       "      <td>1</td>\n",
       "    </tr>\n",
       "    <tr>\n",
       "      <td>Cakes</td>\n",
       "      <td>2</td>\n",
       "    </tr>\n",
       "    <tr>\n",
       "      <td>Fruit</td>\n",
       "      <td>1</td>\n",
       "    </tr>\n",
       "  </tbody>\n",
       "</table>\n",
       "</div>"
      ],
      "text/plain": [
       "              Brand\n",
       "Food_Product       \n",
       "Beverages         2\n",
       "Biscuits          1\n",
       "Cakes             2\n",
       "Fruit             1"
      ]
     },
     "execution_count": 56,
     "metadata": {},
     "output_type": "execute_result"
    }
   ],
   "source": [
    "# use the nunique() to find the number of unique values in each column\n",
    "# to_frame converts the data to a DataFrame\n",
    "df_products.groupby(\"Food_Product\")[\"Brand\"].nunique().to_frame()"
   ]
  },
  {
   "cell_type": "markdown",
   "metadata": {
    "id": "aO3HfInA23gR"
   },
   "source": [
    "**Sort groupby results**"
   ]
  },
  {
   "cell_type": "markdown",
   "metadata": {
    "id": "-qOEELn323gR"
   },
   "source": [
    "Turn the groupby object into a regular dataframe by calling `.to_frame()`. It is then possible to re-index with `reset_index()`."
   ]
  },
  {
   "cell_type": "code",
   "execution_count": null,
   "metadata": {
    "id": "URQZOGht23gR",
    "outputId": "8adb3183-8a72-44ff-8a3e-acf9003f1299"
   },
   "outputs": [
    {
     "data": {
      "text/html": [
       "<div>\n",
       "<style scoped>\n",
       "    .dataframe tbody tr th:only-of-type {\n",
       "        vertical-align: middle;\n",
       "    }\n",
       "\n",
       "    .dataframe tbody tr th {\n",
       "        vertical-align: top;\n",
       "    }\n",
       "\n",
       "    .dataframe thead th {\n",
       "        text-align: right;\n",
       "    }\n",
       "</style>\n",
       "<table border=\"1\" class=\"dataframe\">\n",
       "  <thead>\n",
       "    <tr style=\"text-align: right;\">\n",
       "      <th></th>\n",
       "      <th>Food_Product</th>\n",
       "      <th>Sales</th>\n",
       "    </tr>\n",
       "  </thead>\n",
       "  <tbody>\n",
       "    <tr>\n",
       "      <td>0</td>\n",
       "      <td>Beverages</td>\n",
       "      <td>14500</td>\n",
       "    </tr>\n",
       "    <tr>\n",
       "      <td>1</td>\n",
       "      <td>Biscuits</td>\n",
       "      <td>8000</td>\n",
       "    </tr>\n",
       "    <tr>\n",
       "      <td>2</td>\n",
       "      <td>Cakes</td>\n",
       "      <td>11500</td>\n",
       "    </tr>\n",
       "    <tr>\n",
       "      <td>3</td>\n",
       "      <td>Fruit</td>\n",
       "      <td>7600</td>\n",
       "    </tr>\n",
       "  </tbody>\n",
       "</table>\n",
       "</div>"
      ],
      "text/plain": [
       "  Food_Product  Sales\n",
       "0    Beverages  14500\n",
       "1     Biscuits   8000\n",
       "2        Cakes  11500\n",
       "3        Fruit   7600"
      ]
     },
     "execution_count": 57,
     "metadata": {},
     "output_type": "execute_result"
    }
   ],
   "source": [
    "# use the nunique() to find number of unique values in each column\n",
    "# to_frame converts the data to a DataFrame\n",
    "# reset_index resets the index\n",
    "df_products.groupby('Food_Product')['Sales'].sum().to_frame().reset_index()"
   ]
  },
  {
   "cell_type": "markdown",
   "metadata": {
    "id": "Qv16O99723gR"
   },
   "source": [
    "Now, you call sort_values() to sort the values of the DataFrame."
   ]
  },
  {
   "cell_type": "code",
   "execution_count": null,
   "metadata": {
    "id": "K51FxH9P23gR",
    "outputId": "4618a84c-bb9b-4c0b-de42-94c7a7db5f43"
   },
   "outputs": [
    {
     "data": {
      "text/html": [
       "<div>\n",
       "<style scoped>\n",
       "    .dataframe tbody tr th:only-of-type {\n",
       "        vertical-align: middle;\n",
       "    }\n",
       "\n",
       "    .dataframe tbody tr th {\n",
       "        vertical-align: top;\n",
       "    }\n",
       "\n",
       "    .dataframe thead th {\n",
       "        text-align: right;\n",
       "    }\n",
       "</style>\n",
       "<table border=\"1\" class=\"dataframe\">\n",
       "  <thead>\n",
       "    <tr style=\"text-align: right;\">\n",
       "      <th></th>\n",
       "      <th>Food_Product</th>\n",
       "      <th>Sales</th>\n",
       "    </tr>\n",
       "  </thead>\n",
       "  <tbody>\n",
       "    <tr>\n",
       "      <td>3</td>\n",
       "      <td>Fruit</td>\n",
       "      <td>7600</td>\n",
       "    </tr>\n",
       "    <tr>\n",
       "      <td>1</td>\n",
       "      <td>Biscuits</td>\n",
       "      <td>8000</td>\n",
       "    </tr>\n",
       "    <tr>\n",
       "      <td>2</td>\n",
       "      <td>Cakes</td>\n",
       "      <td>11500</td>\n",
       "    </tr>\n",
       "    <tr>\n",
       "      <td>0</td>\n",
       "      <td>Beverages</td>\n",
       "      <td>14500</td>\n",
       "    </tr>\n",
       "  </tbody>\n",
       "</table>\n",
       "</div>"
      ],
      "text/plain": [
       "  Food_Product  Sales\n",
       "3        Fruit   7600\n",
       "1     Biscuits   8000\n",
       "2        Cakes  11500\n",
       "0    Beverages  14500"
      ]
     },
     "execution_count": 58,
     "metadata": {},
     "output_type": "execute_result"
    }
   ],
   "source": [
    "# use the nunique() to find number of unique values in each column\n",
    "# to_frame converts the data to a DataFrame\n",
    "# reset_index resets the index\n",
    "# sort_values sorts the values \n",
    "# here by='Sales', implies that the values are sort by this variable\n",
    "df_products.groupby('Food_Product')['Sales'].sum().to_frame().reset_index().sort_values(by='Sales')"
   ]
  }
 ],
 "metadata": {
  "colab": {
   "collapsed_sections": [
    "syCrcCrU23gB",
    "q1_of_k023gB",
    "S4yUV_dS23gG",
    "vzDeDvvD23gG",
    "qFzLb_4x23gI",
    "DaiGpb6R23gK",
    "SwwE0HF523gL",
    "m8DR5OF-23gN",
    "sa_B2QBD23gO",
    "gbynEArW23gQ"
   ],
   "name": "NPV - Faculty Notebook (Day 3) [v3.0 - 200320].ipynb",
   "provenance": []
  },
  "kernelspec": {
   "display_name": "Python 3 (ipykernel)",
   "language": "python",
   "name": "python3"
  },
  "language_info": {
   "codemirror_mode": {
    "name": "ipython",
    "version": 3
   },
   "file_extension": ".py",
   "mimetype": "text/x-python",
   "name": "python",
   "nbconvert_exporter": "python",
   "pygments_lexer": "ipython3",
   "version": "3.9.12"
  }
 },
 "nbformat": 4,
 "nbformat_minor": 1
}
